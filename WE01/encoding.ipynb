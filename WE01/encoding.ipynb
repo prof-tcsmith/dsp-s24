{
 "cells": [
  {
   "cell_type": "code",
   "execution_count": 17,
   "metadata": {},
   "outputs": [],
   "source": [
    "import numpy as np\n",
    "import pandas as pd\n",
    "\n",
    "# import ordinal encoder - this is used to encode ordinal input features\n",
    "from sklearn.preprocessing import OrdinalEncoder\n",
    "# import label encoder - this is used to encode ordinal target features\n",
    "from sklearn.preprocessing import LabelEncoder\n",
    "# import one hot encoder - used to encode nominal input features (this can also be used for dummy encoding)\n",
    "from sklearn.preprocessing import OneHotEncoder\n"
   ]
  },
  {
   "cell_type": "markdown",
   "metadata": {},
   "source": [
    "## Ordinal Encoding Examples"
   ]
  },
  {
   "cell_type": "code",
   "execution_count": 18,
   "metadata": {},
   "outputs": [
    {
     "name": "stdout",
     "output_type": "stream",
     "text": [
      "[[2. 1.]\n",
      " [1. 2.]\n",
      " [0. 0.]]\n"
     ]
    }
   ],
   "source": [
    "# create a list of lists to represent the input data\n",
    "data = [['red', 2], ['green', 3], ['blue', 1]]\n",
    "\n",
    "# create an instance of the ordinal encoder\n",
    "encoder = OrdinalEncoder()\n",
    "\n",
    "# fit the encoder to the data\n",
    "encoder.fit(data)\n",
    "\n",
    "# transform the data\n",
    "encoded_data = encoder.transform(data)\n",
    "\n",
    "# print the encoded data\n",
    "print(encoded_data)\n"
   ]
  },
  {
   "cell_type": "code",
   "execution_count": 19,
   "metadata": {},
   "outputs": [
    {
     "name": "stdout",
     "output_type": "stream",
     "text": [
      "[[2. 1.]\n",
      " [1. 2.]\n",
      " [0. 0.]]\n"
     ]
    }
   ],
   "source": [
    "# create a list of lists to represent the input data\n",
    "data = [['warm', 2], ['hot', 3], ['cold', 1]]\n",
    "\n",
    "# create an instance of the ordinal encoder\n",
    "encoder = OrdinalEncoder()\n",
    "\n",
    "# fit the encoder to the data\n",
    "encoder.fit(data)\n",
    "\n",
    "# transform the data\n",
    "encoded_data = encoder.transform(data)\n",
    "\n",
    "# print the encoded data\n",
    "print(encoded_data)\n"
   ]
  },
  {
   "cell_type": "code",
   "execution_count": 20,
   "metadata": {},
   "outputs": [
    {
     "name": "stdout",
     "output_type": "stream",
     "text": [
      "[[1. 1.]\n",
      " [2. 2.]\n",
      " [0. 0.]]\n"
     ]
    }
   ],
   "source": [
    "# create a list of lists to represent the input data\n",
    "data = [['warm', 2], ['hot', 3], ['cold', 1]]\n",
    "\n",
    "# create an instance of the ordinal encoder\n",
    "encoder = OrdinalEncoder(categories=[['cold', 'warm', 'hot'], [1, 2, 3]])\n",
    "\n",
    "# fit the encoder to the data\n",
    "encoder.fit(data)\n",
    "\n",
    "# transform the data\n",
    "encoded_data = encoder.transform(data)\n",
    "\n",
    "# print the encoded data\n",
    "print(encoded_data)\n"
   ]
  },
  {
   "cell_type": "markdown",
   "metadata": {},
   "source": [
    "## One Hot Encoding Examples"
   ]
  },
  {
   "cell_type": "code",
   "execution_count": 45,
   "metadata": {},
   "outputs": [
    {
     "data": {
      "text/html": [
       "<div>\n",
       "<style scoped>\n",
       "    .dataframe tbody tr th:only-of-type {\n",
       "        vertical-align: middle;\n",
       "    }\n",
       "\n",
       "    .dataframe tbody tr th {\n",
       "        vertical-align: top;\n",
       "    }\n",
       "\n",
       "    .dataframe thead th {\n",
       "        text-align: right;\n",
       "    }\n",
       "</style>\n",
       "<table border=\"1\" class=\"dataframe\">\n",
       "  <thead>\n",
       "    <tr style=\"text-align: right;\">\n",
       "      <th></th>\n",
       "      <th>age</th>\n",
       "      <th>a-cat</th>\n",
       "      <th>a-dog</th>\n",
       "      <th>a-horse</th>\n",
       "    </tr>\n",
       "  </thead>\n",
       "  <tbody>\n",
       "    <tr>\n",
       "      <th>0</th>\n",
       "      <td>2</td>\n",
       "      <td>False</td>\n",
       "      <td>True</td>\n",
       "      <td>False</td>\n",
       "    </tr>\n",
       "    <tr>\n",
       "      <th>1</th>\n",
       "      <td>3</td>\n",
       "      <td>True</td>\n",
       "      <td>False</td>\n",
       "      <td>False</td>\n",
       "    </tr>\n",
       "    <tr>\n",
       "      <th>2</th>\n",
       "      <td>1</td>\n",
       "      <td>False</td>\n",
       "      <td>False</td>\n",
       "      <td>True</td>\n",
       "    </tr>\n",
       "  </tbody>\n",
       "</table>\n",
       "</div>"
      ],
      "text/plain": [
       "   age  a-cat  a-dog  a-horse\n",
       "0    2  False   True    False\n",
       "1    3   True  False    False\n",
       "2    1  False  False     True"
      ]
     },
     "execution_count": 45,
     "metadata": {},
     "output_type": "execute_result"
    }
   ],
   "source": [
    "\n",
    "# create a list of lists to represent the input data\n",
    "data = [['dog', 2], ['cat', 3], ['horse', 1]]\n",
    "df = pd.DataFrame(data, columns=['animal', 'age'])\n",
    "\n",
    "df = pd.get_dummies(df, columns=['animal'], prefix='a', prefix_sep='-')\n",
    "\n",
    "df"
   ]
  },
  {
   "cell_type": "code",
   "execution_count": 51,
   "metadata": {},
   "outputs": [
    {
     "data": {
      "text/html": [
       "<div>\n",
       "<style scoped>\n",
       "    .dataframe tbody tr th:only-of-type {\n",
       "        vertical-align: middle;\n",
       "    }\n",
       "\n",
       "    .dataframe tbody tr th {\n",
       "        vertical-align: top;\n",
       "    }\n",
       "\n",
       "    .dataframe thead th {\n",
       "        text-align: right;\n",
       "    }\n",
       "</style>\n",
       "<table border=\"1\" class=\"dataframe\">\n",
       "  <thead>\n",
       "    <tr style=\"text-align: right;\">\n",
       "      <th></th>\n",
       "      <th>age</th>\n",
       "      <th>a-dog</th>\n",
       "      <th>a-horse</th>\n",
       "    </tr>\n",
       "  </thead>\n",
       "  <tbody>\n",
       "    <tr>\n",
       "      <th>0</th>\n",
       "      <td>2</td>\n",
       "      <td>1</td>\n",
       "      <td>False</td>\n",
       "    </tr>\n",
       "    <tr>\n",
       "      <th>1</th>\n",
       "      <td>3</td>\n",
       "      <td>0</td>\n",
       "      <td>False</td>\n",
       "    </tr>\n",
       "    <tr>\n",
       "      <th>2</th>\n",
       "      <td>1</td>\n",
       "      <td>0</td>\n",
       "      <td>True</td>\n",
       "    </tr>\n",
       "  </tbody>\n",
       "</table>\n",
       "</div>"
      ],
      "text/plain": [
       "   age  a-dog  a-horse\n",
       "0    2      1    False\n",
       "1    3      0    False\n",
       "2    1      0     True"
      ]
     },
     "execution_count": 51,
     "metadata": {},
     "output_type": "execute_result"
    }
   ],
   "source": [
    "\n",
    "# create a list of lists to represent the input data\n",
    "data = [['dog', 2], ['cat', 3], ['horse', 1]]\n",
    "df = pd.DataFrame(data, columns=['animal', 'age'])\n",
    "\n",
    "df = pd.get_dummies(df, columns=['animal'], prefix='a', prefix_sep='-', drop_first=True)\n",
    "\n",
    "df['a-dog'] = df['a-dog'].astype('int')\n",
    "df"
   ]
  },
  {
   "cell_type": "markdown",
   "metadata": {},
   "source": [
    "# Label Encoding"
   ]
  },
  {
   "cell_type": "code",
   "execution_count": 63,
   "metadata": {},
   "outputs": [
    {
     "name": "stdout",
     "output_type": "stream",
     "text": [
      "   num1  num2  animal\n",
      "0     1     2       1\n",
      "1     2     2       0\n",
      "2     3     1       2\n"
     ]
    }
   ],
   "source": [
    "# create a list of lists to represent the input data\n",
    "\n",
    "data = [[1,2,'dog'], [2,2,'cat'], [3,1,'horse']]\n",
    "df = pd.DataFrame(data, columns=['num1','num2','animal'])\n",
    "\n",
    "\n",
    "# create an instance of the label encoder\n",
    "encoder = LabelEncoder()\n",
    "\n",
    "# fit the encoder to the data\n",
    "df['animal'] = encoder.fit_transform(df['animal'])\n",
    "\n",
    "# print the encoded data\n",
    "print(df)"
   ]
  }
 ],
 "metadata": {
  "kernelspec": {
   "display_name": "dsp",
   "language": "python",
   "name": "python3"
  },
  "language_info": {
   "codemirror_mode": {
    "name": "ipython",
    "version": 3
   },
   "file_extension": ".py",
   "mimetype": "text/x-python",
   "name": "python",
   "nbconvert_exporter": "python",
   "pygments_lexer": "ipython3",
   "version": "3.11.7"
  }
 },
 "nbformat": 4,
 "nbformat_minor": 2
}
