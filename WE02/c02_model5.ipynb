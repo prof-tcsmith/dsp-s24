{
 "cells": [
  {
   "cell_type": "markdown",
   "id": "66d01c8a-f0cd-42af-aff9-8ba0bbd3c47e",
   "metadata": {
    "slideshow": {
     "slide_type": "slide"
    },
    "tags": []
   },
   "source": [
    "# Predictive Modeling Example"
   ]
  },
  {
   "cell_type": "markdown",
   "id": "049ea964-ba9d-46aa-af88-d13550f27638",
   "metadata": {
    "slideshow": {
     "slide_type": "slide"
    },
    "tags": []
   },
   "source": [
    "## Step 1: Import the libraries we will use in this notebook"
   ]
  },
  {
   "cell_type": "code",
   "execution_count": 19,
   "id": "cca96620-674f-43be-9633-3546127c263b",
   "metadata": {
    "slideshow": {
     "slide_type": "fragment"
    },
    "tags": []
   },
   "outputs": [],
   "source": [
    "import matplotlib.pyplot as plt\n",
    "import numpy as np\n",
    "import pandas as pd\n",
    "from sklearn.linear_model import LogisticRegression\n",
    "\n",
    "np.random.seed(1) # set this to ensure the results are repeatable. "
   ]
  },
  {
   "cell_type": "markdown",
   "id": "31b63237-2a6b-40be-a7c9-9fd854b52339",
   "metadata": {},
   "source": [
    "## Step 2: Load the given data that we will model"
   ]
  },
  {
   "cell_type": "code",
   "execution_count": 20,
   "id": "7815e222-9aae-4b39-999e-689dcea5aeb8",
   "metadata": {},
   "outputs": [
    {
     "data": {
      "text/html": [
       "<div>\n",
       "<style scoped>\n",
       "    .dataframe tbody tr th:only-of-type {\n",
       "        vertical-align: middle;\n",
       "    }\n",
       "\n",
       "    .dataframe tbody tr th {\n",
       "        vertical-align: top;\n",
       "    }\n",
       "\n",
       "    .dataframe thead th {\n",
       "        text-align: right;\n",
       "    }\n",
       "</style>\n",
       "<table border=\"1\" class=\"dataframe\">\n",
       "  <thead>\n",
       "    <tr style=\"text-align: right;\">\n",
       "      <th></th>\n",
       "      <th>Income</th>\n",
       "      <th>Lot_Size</th>\n",
       "      <th>Ownership</th>\n",
       "    </tr>\n",
       "  </thead>\n",
       "  <tbody>\n",
       "    <tr>\n",
       "      <th>0</th>\n",
       "      <td>60.0</td>\n",
       "      <td>18.4</td>\n",
       "      <td>Owner</td>\n",
       "    </tr>\n",
       "    <tr>\n",
       "      <th>1</th>\n",
       "      <td>85.5</td>\n",
       "      <td>16.8</td>\n",
       "      <td>Owner</td>\n",
       "    </tr>\n",
       "    <tr>\n",
       "      <th>2</th>\n",
       "      <td>64.8</td>\n",
       "      <td>21.6</td>\n",
       "      <td>Owner</td>\n",
       "    </tr>\n",
       "  </tbody>\n",
       "</table>\n",
       "</div>"
      ],
      "text/plain": [
       "   Income  Lot_Size Ownership\n",
       "0    60.0      18.4     Owner\n",
       "1    85.5      16.8     Owner\n",
       "2    64.8      21.6     Owner"
      ]
     },
     "execution_count": 20,
     "metadata": {},
     "output_type": "execute_result"
    }
   ],
   "source": [
    "df = pd.read_csv('./data/RidingMowers.csv')\n",
    "\n",
    "df.head(3)"
   ]
  },
  {
   "cell_type": "markdown",
   "id": "da72a683-7346-4719-a391-df74dc12e636",
   "metadata": {},
   "source": [
    "Seperate out the input m(X) and the target (y)"
   ]
  },
  {
   "cell_type": "code",
   "execution_count": 21,
   "id": "d684c6ea-96f6-49db-9f35-c4588d83033f",
   "metadata": {
    "slideshow": {
     "slide_type": "subslide"
    },
    "tags": []
   },
   "outputs": [],
   "source": [
    "X=df[['Income', 'Lot_Size']]\n",
    "y=df[['Ownership']]"
   ]
  },
  {
   "cell_type": "markdown",
   "id": "9659bd78-3ccf-4add-af07-ce79a5a197f1",
   "metadata": {},
   "source": [
    "For educational purposes, let's look at the first five values in X and y (note how X is an array of lists)"
   ]
  },
  {
   "cell_type": "markdown",
   "id": "2251b80d-af86-4eb1-87b3-4852081028c3",
   "metadata": {},
   "source": [
    "## Step 3: Explore the given data\n",
    "\n",
    "Often we will do much more than this, but at least look at things using a scatterplot"
   ]
  },
  {
   "cell_type": "code",
   "execution_count": 22,
   "id": "0d76e080",
   "metadata": {},
   "outputs": [
    {
     "data": {
      "text/plain": [
       "Text(0, 0.5, 'Lot Size (000s sqft)')"
      ]
     },
     "execution_count": 22,
     "metadata": {},
     "output_type": "execute_result"
    },
    {
     "data": {
      "image/png": "[encoded data removed]",
      "text/plain": [
       "<Figure size 640x480 with 1 Axes>"
      ]
     },
     "metadata": {},
     "output_type": "display_data"
    }
   ],
   "source": [
    "fig = plt.figure()\n",
    "ax = fig.add_subplot()\n",
    "ax.scatter(df.loc[df.Ownership=='Owner']['Income'], \n",
    "           df.loc[df.Ownership=='Owner']['Lot_Size'], \n",
    "           marker='o', \n",
    "           color='red')\n",
    "ax.scatter(df.loc[df.Ownership=='Nonowner']['Income'], \n",
    "           df.loc[df.Ownership=='Nonowner']['Lot_Size'], \n",
    "           marker='o', \n",
    "           color='blue')\n",
    "\n",
    "ax.legend([\"Owner\", \"Nonowner\"], framealpha=0.5)\n",
    "                                         \n",
    "ax.set_xlim(20, 120)\n",
    "ax.set_ylim(13, 25)\n",
    "ax.set_xlabel('Income ($000s)')\n",
    "ax.set_ylabel('Lot Size (000s sqft)')"
   ]
  },
  {
   "cell_type": "code",
   "execution_count": null,
   "id": "31545089",
   "metadata": {},
   "outputs": [],
   "source": []
  },
  {
   "cell_type": "markdown",
   "id": "6545c4b0-4a61-4343-b7cf-db7f746b5d3c",
   "metadata": {},
   "source": [
    "## Step 4: Fit the model\n",
    "\n",
    "Fit the linear regression model to the dataset"
   ]
  },
  {
   "cell_type": "code",
   "execution_count": 23,
   "id": "8f566ef6-b1b2-4091-b9fb-f33c27832c5f",
   "metadata": {},
   "outputs": [],
   "source": [
    "lin_reg=LogisticRegression()\n",
    "_ = lin_reg.fit(X,np.ravel(y))\n",
    "\n",
    "# OR, we could combine the two lines above to one as follows...\n",
    "#lin_reg = LinearRegression().fit(X,y)"
   ]
  },
  {
   "cell_type": "code",
   "execution_count": 24,
   "id": "30a9c3c2",
   "metadata": {},
   "outputs": [],
   "source": [
    "df['Prediction'] = lin_reg.predict(X)"
   ]
  },
  {
   "cell_type": "markdown",
   "id": "b45e77cb-607a-4ef4-87ae-8fde787ed7ad",
   "metadata": {},
   "source": [
    "## Step 5: Analyze the linear regression model's performance"
   ]
  },
  {
   "cell_type": "markdown",
   "id": "ce57d2bf-91cd-4a8b-9383-621f0b0d1f68",
   "metadata": {},
   "source": [
    "Visualize the linear regression model results"
   ]
  },
  {
   "cell_type": "code",
   "execution_count": 25,
   "id": "847d4c77-85d5-4d8e-a939-6724e34413de",
   "metadata": {},
   "outputs": [
    {
     "data": {
      "text/plain": [
       "<matplotlib.legend.Legend at 0x28a346be0>"
      ]
     },
     "execution_count": 25,
     "metadata": {},
     "output_type": "execute_result"
    },
    {
     "data": {
      "image/png": "[encoded data removed]",
      "text/plain": [
       "<Figure size 1500x500 with 2 Axes>"
      ]
     },
     "metadata": {},
     "output_type": "display_data"
    }
   ],
   "source": [
    "#fig, (ax1, ax2) = plt.subplots(2)\n",
    "#fig.suptitle('testing')\n",
    "#df.loc[df.Prediction=='Owner'].plot(x='Income', y='Lot_Size', style='o', \n",
    "#                                                   markerfacecolor='C0', markeredgecolor='C0',\n",
    "#                                                   ax=ax)\n",
    "#df.loc[df.Prediction=='Nonowner'].plot(x='Income', y='Lot_Size', style='o',\n",
    "#                                                      markerfacecolor='none', markeredgecolor='C1',\n",
    "#                                                      ax=ax)\n",
    "#ax.legend([\"Owner\", \"Nonowner\"], framealpha=0.5)\n",
    "#ax.set_xlim(20, 120)\n",
    "#ax.set_ylim(13, 25)\n",
    "#ax.set_xlabel('Income ($000s)')\n",
    "#ax.set_ylabel('Lot Size (000s sqft)')\n",
    "             \n",
    "             \n",
    "#plt.figure(figsize=(10,6))\n",
    "\n",
    "fig, (ax1, ax2) = plt.subplots(1,2, figsize=(15, 5), sharey=True)\n",
    "\n",
    "ax1.title.set_text('Original Data')\n",
    "ax1.scatter(df.loc[df.Ownership=='Owner']['Income'], \n",
    "           df.loc[df.Ownership=='Owner']['Lot_Size'], \n",
    "           marker='o', \n",
    "           color='red')\n",
    "ax1.scatter(df.loc[df.Ownership=='Nonowner']['Income'], \n",
    "           df.loc[df.Ownership=='Nonowner']['Lot_Size'], \n",
    "           marker='o', \n",
    "           color='blue')\n",
    "\n",
    "ax1.legend([\"Owner\", \"Nonowner\"], framealpha=0.5)\n",
    "\n",
    "ax2.title.set_text('Predictions using Model')\n",
    "ax2.scatter(df.loc[df.Prediction=='Owner']['Income'], \n",
    "           df.loc[df.Prediction=='Owner']['Lot_Size'], \n",
    "           marker='o', \n",
    "           color='red')\n",
    "ax2.scatter(df.loc[df.Prediction=='Nonowner']['Income'], \n",
    "           df.loc[df.Prediction=='Nonowner']['Lot_Size'], \n",
    "           marker='o', \n",
    "           color='blue')\n",
    "\n",
    "ax2.scatter(df.loc[df.Prediction!=df.Ownership]['Income'], \n",
    "           df.loc[df.Prediction!=df.Ownership]['Lot_Size'], \n",
    "           marker='*', \n",
    "           color='white',\n",
    "           alpha=0.9)\n",
    "ax2.legend([\"Owner\", \"Nonowner\"], framealpha=0.5)\n"
   ]
  },
  {
   "cell_type": "code",
   "execution_count": 26,
   "id": "0fbed7d8",
   "metadata": {},
   "outputs": [],
   "source": [
    "b0 = lin_reg.intercept_[0]\n",
    "b1 = lin_reg.coef_[0][0]\n",
    "b2 = lin_reg.coef_[0][1]\n",
    "r2 = lin_reg.score(X, y)"
   ]
  },
  {
   "cell_type": "markdown",
   "id": "3119300c-f6c4-41f9-87fd-99915f171fdb",
   "metadata": {},
   "source": [
    "... using fstring formatting, we can display these values as follows..."
   ]
  },
  {
   "cell_type": "code",
   "execution_count": 27,
   "id": "2af1b220-0199-40aa-adc3-aecd7a9bb36d",
   "metadata": {},
   "outputs": [
    {
     "name": "stdout",
     "output_type": "stream",
     "text": [
      "Y = -22.33 + 0.10x1 + 0.81x2\n",
      "R^2: 0.833\n"
     ]
    }
   ],
   "source": [
    "print(f\"Y = {b0:.2f} + {b1:.2f}x1 + {b2:.2f}x2\")\n",
    "print(f\"R^2: {lin_reg.score(X, y):.3f}\") \n",
    "# for more on fstrings see here...\n",
    "# https://www.freecodecamp.org/news/python-f-strings-tutorial-how-to-use-f-strings-for-string-formatting/"
   ]
  },
  {
   "cell_type": "markdown",
   "id": "d80c5481",
   "metadata": {},
   "source": [
    "## NOTE: R^2 is not a good measure of performance for a classifier!\n",
    "\n",
    "Later, we will introduce the confursion matrix. The confusion matrix (and measures derived from this matrix) are a much better means of evaluating the performance of a classifer."
   ]
  }
 ],
 "metadata": {
  "kernelspec": {
   "display_name": "Python 3 (ipykernel)",
   "language": "python",
   "name": "python3"
  },
  "language_info": {
   "codemirror_mode": {
    "name": "ipython",
    "version": 3
   },
   "file_extension": ".py",
   "mimetype": "text/x-python",
   "name": "python",
   "nbconvert_exporter": "python",
   "pygments_lexer": "ipython3",
   "version": "3.11.5"
  },
  "vscode": {
   "interpreter": {
    "hash": "b056086e24cb5602cbcb82122035cd3d6ee2ccbf5df29c16e348c108b0f83be3"
   }
  }
 },
 "nbformat": 4,
 "nbformat_minor": 5
}
