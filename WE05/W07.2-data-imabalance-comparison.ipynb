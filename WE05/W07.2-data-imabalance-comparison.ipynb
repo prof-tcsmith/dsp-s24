{
 "cells": [
  {
   "cell_type": "markdown",
   "metadata": {},
   "source": [
    "# Notebook Outline: Comparing Resampling Techniques for Imbalanced Data"
   ]
  },
  {
   "cell_type": "markdown",
   "metadata": {},
   "source": [
    "## Introduction\n",
    "\n",
    "* **Objective of the notebook**: \n",
    "    * Compare the performance of different resampling techniques for imbalanced data\n"
   ]
  },
  {
   "cell_type": "code",
   "execution_count": 300,
   "metadata": {},
   "outputs": [],
   "source": [
    "# Importing required libraries\n",
    "import numpy as np\n",
    "import pandas as pd\n",
    "import matplotlib.pyplot as plt\n",
    "from sklearn.datasets import make_classification\n",
    "from sklearn.model_selection import train_test_split\n",
    "from sklearn.linear_model import LogisticRegression\n",
    "from sklearn.neighbors import KNeighborsClassifier\n",
    "from sklearn.metrics import classification_report, confusion_matrix, roc_auc_score, accuracy_score, recall_score, precision_score, f1_score\n",
    "from imblearn.under_sampling import RandomUnderSampler\n",
    "from imblearn.over_sampling import RandomOverSampler, SMOTE, ADASYN"
   ]
  },
  {
   "cell_type": "markdown",
   "metadata": {},
   "source": [
    "## Section 1: Creating an Imbalanced Dataset"
   ]
  },
  {
   "cell_type": "code",
   "execution_count": 301,
   "metadata": {},
   "outputs": [],
   "source": [
    "# Creating imbalanced dataset\n",
    "X, y = make_classification(\n",
    "    n_classes=2, class_sep=1.5,\n",
    "    weights=[0.1, 0.9],\n",
    "    n_informative=3, n_redundant=0,\n",
    "    flip_y=0, n_features=20,\n",
    "    n_clusters_per_class=1, n_samples=1000, random_state=10\n",
    ")"
   ]
  },
  {
   "cell_type": "code",
   "execution_count": 302,
   "metadata": {},
   "outputs": [],
   "source": [
    "# Splitting the dataset\n",
    "X_train, X_test, y_train, y_test = train_test_split(X, y, test_size=0.2, random_state=42)"
   ]
  },
  {
   "cell_type": "markdown",
   "metadata": {},
   "source": [
    "## Section 2: Defining Evaluation Function"
   ]
  },
  {
   "cell_type": "code",
   "execution_count": 303,
   "metadata": {},
   "outputs": [],
   "source": [
    "def evaluate_classifier(desc, df, clf, X_test, y_test):\n",
    "    y_pred = clf.predict(X_test)\n",
    "    print(\"Accuracy:\", accuracy_score(y_test, clf.predict(X_test)))\n",
    "    print(\"Recall:\", recall_score(y_test, clf.predict(X_test)))\n",
    "    print(\"Precision:\", precision_score(y_test, clf.predict(X_test)))\n",
    "    print(\"f1-score:\", f1_score(y_test, clf.predict(X_test)))\n",
    "    df.loc[len(df.index)] = [desc,\n",
    "                             accuracy_score(y_test, clf.predict(X_test)),\n",
    "                             recall_score(y_test, clf.predict(X_test)),\n",
    "                             precision_score(y_test, clf.predict(X_test)),\n",
    "                             f1_score(y_test, clf.predict(X_test))]\n",
    "\n",
    "results = pd.DataFrame(columns=['Description', 'Accuracy', 'Recall', 'Precision', 'f1-score'])"
   ]
  },
  {
   "cell_type": "markdown",
   "metadata": {},
   "source": [
    "## Section 3: Applying Resampling Techniques and Classifiers"
   ]
  },
  {
   "cell_type": "markdown",
   "metadata": {},
   "source": [
    "## 3.0 No Resampling"
   ]
  },
  {
   "cell_type": "code",
   "execution_count": 304,
   "metadata": {},
   "outputs": [
    {
     "name": "stdout",
     "output_type": "stream",
     "text": [
      "Accuracy: 0.985\n",
      "Recall: 0.9945054945054945\n",
      "Precision: 0.9890710382513661\n",
      "f1-score: 0.9917808219178081\n"
     ]
    },
    {
     "data": {
      "text/html": [
       "<div>\n",
       "<style scoped>\n",
       "    .dataframe tbody tr th:only-of-type {\n",
       "        vertical-align: middle;\n",
       "    }\n",
       "\n",
       "    .dataframe tbody tr th {\n",
       "        vertical-align: top;\n",
       "    }\n",
       "\n",
       "    .dataframe thead th {\n",
       "        text-align: right;\n",
       "    }\n",
       "</style>\n",
       "<table border=\"1\" class=\"dataframe\">\n",
       "  <thead>\n",
       "    <tr style=\"text-align: right;\">\n",
       "      <th></th>\n",
       "      <th>Description</th>\n",
       "      <th>Accuracy</th>\n",
       "      <th>Recall</th>\n",
       "      <th>Precision</th>\n",
       "      <th>f1-score</th>\n",
       "    </tr>\n",
       "  </thead>\n",
       "  <tbody>\n",
       "    <tr>\n",
       "      <th>0</th>\n",
       "      <td>Logistic</td>\n",
       "      <td>0.985</td>\n",
       "      <td>0.994505</td>\n",
       "      <td>0.989071</td>\n",
       "      <td>0.991781</td>\n",
       "    </tr>\n",
       "  </tbody>\n",
       "</table>\n",
       "</div>"
      ],
      "text/plain": [
       "  Description  Accuracy    Recall  Precision  f1-score\n",
       "0    Logistic     0.985  0.994505   0.989071  0.991781"
      ]
     },
     "execution_count": 304,
     "metadata": {},
     "output_type": "execute_result"
    }
   ],
   "source": [
    "# Logistic Regression\n",
    "clf_lr = LogisticRegression()\n",
    "clf_lr.fit(X_train, y_train)\n",
    "evaluate_classifier(\"Logistic\", results, clf_lr, X_test, y_test)\n",
    "results"
   ]
  },
  {
   "cell_type": "code",
   "execution_count": 305,
   "metadata": {},
   "outputs": [
    {
     "name": "stdout",
     "output_type": "stream",
     "text": [
      "Accuracy: 0.975\n",
      "Recall: 1.0\n",
      "Precision: 0.9732620320855615\n",
      "f1-score: 0.986449864498645\n"
     ]
    },
    {
     "data": {
      "text/html": [
       "<div>\n",
       "<style scoped>\n",
       "    .dataframe tbody tr th:only-of-type {\n",
       "        vertical-align: middle;\n",
       "    }\n",
       "\n",
       "    .dataframe tbody tr th {\n",
       "        vertical-align: top;\n",
       "    }\n",
       "\n",
       "    .dataframe thead th {\n",
       "        text-align: right;\n",
       "    }\n",
       "</style>\n",
       "<table border=\"1\" class=\"dataframe\">\n",
       "  <thead>\n",
       "    <tr style=\"text-align: right;\">\n",
       "      <th></th>\n",
       "      <th>Description</th>\n",
       "      <th>Accuracy</th>\n",
       "      <th>Recall</th>\n",
       "      <th>Precision</th>\n",
       "      <th>f1-score</th>\n",
       "    </tr>\n",
       "  </thead>\n",
       "  <tbody>\n",
       "    <tr>\n",
       "      <th>0</th>\n",
       "      <td>Logistic</td>\n",
       "      <td>0.985</td>\n",
       "      <td>0.994505</td>\n",
       "      <td>0.989071</td>\n",
       "      <td>0.991781</td>\n",
       "    </tr>\n",
       "    <tr>\n",
       "      <th>1</th>\n",
       "      <td>KNN</td>\n",
       "      <td>0.975</td>\n",
       "      <td>1.000000</td>\n",
       "      <td>0.973262</td>\n",
       "      <td>0.986450</td>\n",
       "    </tr>\n",
       "  </tbody>\n",
       "</table>\n",
       "</div>"
      ],
      "text/plain": [
       "  Description  Accuracy    Recall  Precision  f1-score\n",
       "0    Logistic     0.985  0.994505   0.989071  0.991781\n",
       "1         KNN     0.975  1.000000   0.973262  0.986450"
      ]
     },
     "execution_count": 305,
     "metadata": {},
     "output_type": "execute_result"
    }
   ],
   "source": [
    "# KNN\n",
    "clf_knn = KNeighborsClassifier()\n",
    "clf_knn.fit(X_train, y_train)\n",
    "evaluate_classifier(\"KNN\", results, clf_knn, X_test, y_test)\n",
    "results"
   ]
  },
  {
   "cell_type": "markdown",
   "metadata": {},
   "source": [
    "### 3.1 Random Under-Sampling"
   ]
  },
  {
   "cell_type": "code",
   "execution_count": 306,
   "metadata": {},
   "outputs": [],
   "source": [
    "# Code to perform random under-sampling\n",
    "rus = RandomUnderSampler(random_state=42)\n",
    "X_res, y_res = rus.fit_resample(X_train, y_train)"
   ]
  },
  {
   "cell_type": "code",
   "execution_count": 307,
   "metadata": {},
   "outputs": [
    {
     "name": "stdout",
     "output_type": "stream",
     "text": [
      "Accuracy: 0.955\n",
      "Recall: 0.9505494505494505\n",
      "Precision: 1.0\n",
      "f1-score: 0.9746478873239436\n"
     ]
    },
    {
     "data": {
      "text/html": [
       "<div>\n",
       "<style scoped>\n",
       "    .dataframe tbody tr th:only-of-type {\n",
       "        vertical-align: middle;\n",
       "    }\n",
       "\n",
       "    .dataframe tbody tr th {\n",
       "        vertical-align: top;\n",
       "    }\n",
       "\n",
       "    .dataframe thead th {\n",
       "        text-align: right;\n",
       "    }\n",
       "</style>\n",
       "<table border=\"1\" class=\"dataframe\">\n",
       "  <thead>\n",
       "    <tr style=\"text-align: right;\">\n",
       "      <th></th>\n",
       "      <th>Description</th>\n",
       "      <th>Accuracy</th>\n",
       "      <th>Recall</th>\n",
       "      <th>Precision</th>\n",
       "      <th>f1-score</th>\n",
       "    </tr>\n",
       "  </thead>\n",
       "  <tbody>\n",
       "    <tr>\n",
       "      <th>0</th>\n",
       "      <td>Logistic</td>\n",
       "      <td>0.985</td>\n",
       "      <td>0.994505</td>\n",
       "      <td>0.989071</td>\n",
       "      <td>0.991781</td>\n",
       "    </tr>\n",
       "    <tr>\n",
       "      <th>1</th>\n",
       "      <td>KNN</td>\n",
       "      <td>0.975</td>\n",
       "      <td>1.000000</td>\n",
       "      <td>0.973262</td>\n",
       "      <td>0.986450</td>\n",
       "    </tr>\n",
       "    <tr>\n",
       "      <th>2</th>\n",
       "      <td>Logistic RUS</td>\n",
       "      <td>0.955</td>\n",
       "      <td>0.950549</td>\n",
       "      <td>1.000000</td>\n",
       "      <td>0.974648</td>\n",
       "    </tr>\n",
       "  </tbody>\n",
       "</table>\n",
       "</div>"
      ],
      "text/plain": [
       "    Description  Accuracy    Recall  Precision  f1-score\n",
       "0      Logistic     0.985  0.994505   0.989071  0.991781\n",
       "1           KNN     0.975  1.000000   0.973262  0.986450\n",
       "2  Logistic RUS     0.955  0.950549   1.000000  0.974648"
      ]
     },
     "execution_count": 307,
     "metadata": {},
     "output_type": "execute_result"
    }
   ],
   "source": [
    "# Logistic Regression\n",
    "clf_lr = LogisticRegression()\n",
    "clf_lr.fit(X_res, y_res)\n",
    "evaluate_classifier(\"Logistic RUS\", results, clf_lr, X_test, y_test)\n",
    "results"
   ]
  },
  {
   "cell_type": "code",
   "execution_count": 308,
   "metadata": {},
   "outputs": [
    {
     "name": "stdout",
     "output_type": "stream",
     "text": [
      "Accuracy: 0.955\n",
      "Recall: 0.9505494505494505\n",
      "Precision: 1.0\n",
      "f1-score: 0.9746478873239436\n"
     ]
    },
    {
     "data": {
      "text/html": [
       "<div>\n",
       "<style scoped>\n",
       "    .dataframe tbody tr th:only-of-type {\n",
       "        vertical-align: middle;\n",
       "    }\n",
       "\n",
       "    .dataframe tbody tr th {\n",
       "        vertical-align: top;\n",
       "    }\n",
       "\n",
       "    .dataframe thead th {\n",
       "        text-align: right;\n",
       "    }\n",
       "</style>\n",
       "<table border=\"1\" class=\"dataframe\">\n",
       "  <thead>\n",
       "    <tr style=\"text-align: right;\">\n",
       "      <th></th>\n",
       "      <th>Description</th>\n",
       "      <th>Accuracy</th>\n",
       "      <th>Recall</th>\n",
       "      <th>Precision</th>\n",
       "      <th>f1-score</th>\n",
       "    </tr>\n",
       "  </thead>\n",
       "  <tbody>\n",
       "    <tr>\n",
       "      <th>0</th>\n",
       "      <td>Logistic</td>\n",
       "      <td>0.985</td>\n",
       "      <td>0.994505</td>\n",
       "      <td>0.989071</td>\n",
       "      <td>0.991781</td>\n",
       "    </tr>\n",
       "    <tr>\n",
       "      <th>1</th>\n",
       "      <td>KNN</td>\n",
       "      <td>0.975</td>\n",
       "      <td>1.000000</td>\n",
       "      <td>0.973262</td>\n",
       "      <td>0.986450</td>\n",
       "    </tr>\n",
       "    <tr>\n",
       "      <th>2</th>\n",
       "      <td>Logistic RUS</td>\n",
       "      <td>0.955</td>\n",
       "      <td>0.950549</td>\n",
       "      <td>1.000000</td>\n",
       "      <td>0.974648</td>\n",
       "    </tr>\n",
       "    <tr>\n",
       "      <th>3</th>\n",
       "      <td>KNN RUS</td>\n",
       "      <td>0.955</td>\n",
       "      <td>0.950549</td>\n",
       "      <td>1.000000</td>\n",
       "      <td>0.974648</td>\n",
       "    </tr>\n",
       "  </tbody>\n",
       "</table>\n",
       "</div>"
      ],
      "text/plain": [
       "    Description  Accuracy    Recall  Precision  f1-score\n",
       "0      Logistic     0.985  0.994505   0.989071  0.991781\n",
       "1           KNN     0.975  1.000000   0.973262  0.986450\n",
       "2  Logistic RUS     0.955  0.950549   1.000000  0.974648\n",
       "3       KNN RUS     0.955  0.950549   1.000000  0.974648"
      ]
     },
     "execution_count": 308,
     "metadata": {},
     "output_type": "execute_result"
    }
   ],
   "source": [
    "# KNN Classifier\n",
    "clf_knn = KNeighborsClassifier()\n",
    "clf_knn.fit(X_res, y_res)\n",
    "evaluate_classifier(\"KNN RUS\", results, clf_lr, X_test, y_test)\n",
    "results"
   ]
  },
  {
   "cell_type": "markdown",
   "metadata": {},
   "source": [
    "### 3.2 Random Over-Sampling"
   ]
  },
  {
   "cell_type": "code",
   "execution_count": 309,
   "metadata": {},
   "outputs": [],
   "source": [
    "# Code to perform random over-sampling\n",
    "ros = RandomOverSampler(random_state=42)\n",
    "X_res, y_res = ros.fit_resample(X_train, y_train)"
   ]
  },
  {
   "cell_type": "code",
   "execution_count": 310,
   "metadata": {},
   "outputs": [
    {
     "name": "stdout",
     "output_type": "stream",
     "text": [
      "Accuracy: 0.97\n",
      "Recall: 0.967032967032967\n",
      "Precision: 1.0\n",
      "f1-score: 0.9832402234636871\n"
     ]
    },
    {
     "data": {
      "text/html": [
       "<div>\n",
       "<style scoped>\n",
       "    .dataframe tbody tr th:only-of-type {\n",
       "        vertical-align: middle;\n",
       "    }\n",
       "\n",
       "    .dataframe tbody tr th {\n",
       "        vertical-align: top;\n",
       "    }\n",
       "\n",
       "    .dataframe thead th {\n",
       "        text-align: right;\n",
       "    }\n",
       "</style>\n",
       "<table border=\"1\" class=\"dataframe\">\n",
       "  <thead>\n",
       "    <tr style=\"text-align: right;\">\n",
       "      <th></th>\n",
       "      <th>Description</th>\n",
       "      <th>Accuracy</th>\n",
       "      <th>Recall</th>\n",
       "      <th>Precision</th>\n",
       "      <th>f1-score</th>\n",
       "    </tr>\n",
       "  </thead>\n",
       "  <tbody>\n",
       "    <tr>\n",
       "      <th>0</th>\n",
       "      <td>Logistic</td>\n",
       "      <td>0.985</td>\n",
       "      <td>0.994505</td>\n",
       "      <td>0.989071</td>\n",
       "      <td>0.991781</td>\n",
       "    </tr>\n",
       "    <tr>\n",
       "      <th>1</th>\n",
       "      <td>KNN</td>\n",
       "      <td>0.975</td>\n",
       "      <td>1.000000</td>\n",
       "      <td>0.973262</td>\n",
       "      <td>0.986450</td>\n",
       "    </tr>\n",
       "    <tr>\n",
       "      <th>2</th>\n",
       "      <td>Logistic RUS</td>\n",
       "      <td>0.955</td>\n",
       "      <td>0.950549</td>\n",
       "      <td>1.000000</td>\n",
       "      <td>0.974648</td>\n",
       "    </tr>\n",
       "    <tr>\n",
       "      <th>3</th>\n",
       "      <td>KNN RUS</td>\n",
       "      <td>0.955</td>\n",
       "      <td>0.950549</td>\n",
       "      <td>1.000000</td>\n",
       "      <td>0.974648</td>\n",
       "    </tr>\n",
       "    <tr>\n",
       "      <th>4</th>\n",
       "      <td>Logistic ROS</td>\n",
       "      <td>0.970</td>\n",
       "      <td>0.967033</td>\n",
       "      <td>1.000000</td>\n",
       "      <td>0.983240</td>\n",
       "    </tr>\n",
       "  </tbody>\n",
       "</table>\n",
       "</div>"
      ],
      "text/plain": [
       "    Description  Accuracy    Recall  Precision  f1-score\n",
       "0      Logistic     0.985  0.994505   0.989071  0.991781\n",
       "1           KNN     0.975  1.000000   0.973262  0.986450\n",
       "2  Logistic RUS     0.955  0.950549   1.000000  0.974648\n",
       "3       KNN RUS     0.955  0.950549   1.000000  0.974648\n",
       "4  Logistic ROS     0.970  0.967033   1.000000  0.983240"
      ]
     },
     "execution_count": 310,
     "metadata": {},
     "output_type": "execute_result"
    }
   ],
   "source": [
    "# Logistic Regression\n",
    "clf_lr = LogisticRegression()\n",
    "clf_lr.fit(X_res, y_res)\n",
    "evaluate_classifier(\"Logistic ROS\", results, clf_lr, X_test, y_test)\n",
    "results"
   ]
  },
  {
   "cell_type": "code",
   "execution_count": 311,
   "metadata": {},
   "outputs": [
    {
     "name": "stdout",
     "output_type": "stream",
     "text": [
      "Accuracy: 0.97\n",
      "Recall: 0.967032967032967\n",
      "Precision: 1.0\n",
      "f1-score: 0.9832402234636871\n"
     ]
    },
    {
     "data": {
      "text/html": [
       "<div>\n",
       "<style scoped>\n",
       "    .dataframe tbody tr th:only-of-type {\n",
       "        vertical-align: middle;\n",
       "    }\n",
       "\n",
       "    .dataframe tbody tr th {\n",
       "        vertical-align: top;\n",
       "    }\n",
       "\n",
       "    .dataframe thead th {\n",
       "        text-align: right;\n",
       "    }\n",
       "</style>\n",
       "<table border=\"1\" class=\"dataframe\">\n",
       "  <thead>\n",
       "    <tr style=\"text-align: right;\">\n",
       "      <th></th>\n",
       "      <th>Description</th>\n",
       "      <th>Accuracy</th>\n",
       "      <th>Recall</th>\n",
       "      <th>Precision</th>\n",
       "      <th>f1-score</th>\n",
       "    </tr>\n",
       "  </thead>\n",
       "  <tbody>\n",
       "    <tr>\n",
       "      <th>0</th>\n",
       "      <td>Logistic</td>\n",
       "      <td>0.985</td>\n",
       "      <td>0.994505</td>\n",
       "      <td>0.989071</td>\n",
       "      <td>0.991781</td>\n",
       "    </tr>\n",
       "    <tr>\n",
       "      <th>1</th>\n",
       "      <td>KNN</td>\n",
       "      <td>0.975</td>\n",
       "      <td>1.000000</td>\n",
       "      <td>0.973262</td>\n",
       "      <td>0.986450</td>\n",
       "    </tr>\n",
       "    <tr>\n",
       "      <th>2</th>\n",
       "      <td>Logistic RUS</td>\n",
       "      <td>0.955</td>\n",
       "      <td>0.950549</td>\n",
       "      <td>1.000000</td>\n",
       "      <td>0.974648</td>\n",
       "    </tr>\n",
       "    <tr>\n",
       "      <th>3</th>\n",
       "      <td>KNN RUS</td>\n",
       "      <td>0.955</td>\n",
       "      <td>0.950549</td>\n",
       "      <td>1.000000</td>\n",
       "      <td>0.974648</td>\n",
       "    </tr>\n",
       "    <tr>\n",
       "      <th>4</th>\n",
       "      <td>Logistic ROS</td>\n",
       "      <td>0.970</td>\n",
       "      <td>0.967033</td>\n",
       "      <td>1.000000</td>\n",
       "      <td>0.983240</td>\n",
       "    </tr>\n",
       "    <tr>\n",
       "      <th>5</th>\n",
       "      <td>KNN ROS</td>\n",
       "      <td>0.970</td>\n",
       "      <td>0.967033</td>\n",
       "      <td>1.000000</td>\n",
       "      <td>0.983240</td>\n",
       "    </tr>\n",
       "  </tbody>\n",
       "</table>\n",
       "</div>"
      ],
      "text/plain": [
       "    Description  Accuracy    Recall  Precision  f1-score\n",
       "0      Logistic     0.985  0.994505   0.989071  0.991781\n",
       "1           KNN     0.975  1.000000   0.973262  0.986450\n",
       "2  Logistic RUS     0.955  0.950549   1.000000  0.974648\n",
       "3       KNN RUS     0.955  0.950549   1.000000  0.974648\n",
       "4  Logistic ROS     0.970  0.967033   1.000000  0.983240\n",
       "5       KNN ROS     0.970  0.967033   1.000000  0.983240"
      ]
     },
     "execution_count": 311,
     "metadata": {},
     "output_type": "execute_result"
    }
   ],
   "source": [
    "# KNN Classifier\n",
    "clf_knn = KNeighborsClassifier()\n",
    "clf_knn.fit(X_res, y_res)\n",
    "evaluate_classifier(\"KNN ROS\", results, clf_lr, X_test, y_test)\n",
    "results"
   ]
  },
  {
   "cell_type": "markdown",
   "metadata": {},
   "source": [
    "### 3.3 SMOTE"
   ]
  },
  {
   "cell_type": "code",
   "execution_count": 312,
   "metadata": {},
   "outputs": [],
   "source": [
    "# Code to perform SMOTE\n",
    "smote = SMOTE(random_state=42)\n",
    "X_res, y_res = smote.fit_resample(X_train, y_train)"
   ]
  },
  {
   "cell_type": "code",
   "execution_count": 313,
   "metadata": {},
   "outputs": [
    {
     "name": "stdout",
     "output_type": "stream",
     "text": [
      "Accuracy: 0.97\n",
      "Recall: 0.967032967032967\n",
      "Precision: 1.0\n",
      "f1-score: 0.9832402234636871\n"
     ]
    },
    {
     "data": {
      "text/html": [
       "<div>\n",
       "<style scoped>\n",
       "    .dataframe tbody tr th:only-of-type {\n",
       "        vertical-align: middle;\n",
       "    }\n",
       "\n",
       "    .dataframe tbody tr th {\n",
       "        vertical-align: top;\n",
       "    }\n",
       "\n",
       "    .dataframe thead th {\n",
       "        text-align: right;\n",
       "    }\n",
       "</style>\n",
       "<table border=\"1\" class=\"dataframe\">\n",
       "  <thead>\n",
       "    <tr style=\"text-align: right;\">\n",
       "      <th></th>\n",
       "      <th>Description</th>\n",
       "      <th>Accuracy</th>\n",
       "      <th>Recall</th>\n",
       "      <th>Precision</th>\n",
       "      <th>f1-score</th>\n",
       "    </tr>\n",
       "  </thead>\n",
       "  <tbody>\n",
       "    <tr>\n",
       "      <th>0</th>\n",
       "      <td>Logistic</td>\n",
       "      <td>0.985</td>\n",
       "      <td>0.994505</td>\n",
       "      <td>0.989071</td>\n",
       "      <td>0.991781</td>\n",
       "    </tr>\n",
       "    <tr>\n",
       "      <th>1</th>\n",
       "      <td>KNN</td>\n",
       "      <td>0.975</td>\n",
       "      <td>1.000000</td>\n",
       "      <td>0.973262</td>\n",
       "      <td>0.986450</td>\n",
       "    </tr>\n",
       "    <tr>\n",
       "      <th>2</th>\n",
       "      <td>Logistic RUS</td>\n",
       "      <td>0.955</td>\n",
       "      <td>0.950549</td>\n",
       "      <td>1.000000</td>\n",
       "      <td>0.974648</td>\n",
       "    </tr>\n",
       "    <tr>\n",
       "      <th>3</th>\n",
       "      <td>KNN RUS</td>\n",
       "      <td>0.955</td>\n",
       "      <td>0.950549</td>\n",
       "      <td>1.000000</td>\n",
       "      <td>0.974648</td>\n",
       "    </tr>\n",
       "    <tr>\n",
       "      <th>4</th>\n",
       "      <td>Logistic ROS</td>\n",
       "      <td>0.970</td>\n",
       "      <td>0.967033</td>\n",
       "      <td>1.000000</td>\n",
       "      <td>0.983240</td>\n",
       "    </tr>\n",
       "    <tr>\n",
       "      <th>5</th>\n",
       "      <td>KNN ROS</td>\n",
       "      <td>0.970</td>\n",
       "      <td>0.967033</td>\n",
       "      <td>1.000000</td>\n",
       "      <td>0.983240</td>\n",
       "    </tr>\n",
       "    <tr>\n",
       "      <th>6</th>\n",
       "      <td>Logistic SMOTE</td>\n",
       "      <td>0.970</td>\n",
       "      <td>0.967033</td>\n",
       "      <td>1.000000</td>\n",
       "      <td>0.983240</td>\n",
       "    </tr>\n",
       "  </tbody>\n",
       "</table>\n",
       "</div>"
      ],
      "text/plain": [
       "      Description  Accuracy    Recall  Precision  f1-score\n",
       "0        Logistic     0.985  0.994505   0.989071  0.991781\n",
       "1             KNN     0.975  1.000000   0.973262  0.986450\n",
       "2    Logistic RUS     0.955  0.950549   1.000000  0.974648\n",
       "3         KNN RUS     0.955  0.950549   1.000000  0.974648\n",
       "4    Logistic ROS     0.970  0.967033   1.000000  0.983240\n",
       "5         KNN ROS     0.970  0.967033   1.000000  0.983240\n",
       "6  Logistic SMOTE     0.970  0.967033   1.000000  0.983240"
      ]
     },
     "execution_count": 313,
     "metadata": {},
     "output_type": "execute_result"
    }
   ],
   "source": [
    "# Logistic Regression\n",
    "clf_lr = LogisticRegression()\n",
    "clf_lr.fit(X_res, y_res)\n",
    "evaluate_classifier(\"Logistic SMOTE\", results, clf_lr, X_test, y_test)\n",
    "results"
   ]
  },
  {
   "cell_type": "code",
   "execution_count": 314,
   "metadata": {},
   "outputs": [
    {
     "name": "stdout",
     "output_type": "stream",
     "text": [
      "Accuracy: 0.97\n",
      "Recall: 0.967032967032967\n",
      "Precision: 1.0\n",
      "f1-score: 0.9832402234636871\n"
     ]
    },
    {
     "data": {
      "text/html": [
       "<div>\n",
       "<style scoped>\n",
       "    .dataframe tbody tr th:only-of-type {\n",
       "        vertical-align: middle;\n",
       "    }\n",
       "\n",
       "    .dataframe tbody tr th {\n",
       "        vertical-align: top;\n",
       "    }\n",
       "\n",
       "    .dataframe thead th {\n",
       "        text-align: right;\n",
       "    }\n",
       "</style>\n",
       "<table border=\"1\" class=\"dataframe\">\n",
       "  <thead>\n",
       "    <tr style=\"text-align: right;\">\n",
       "      <th></th>\n",
       "      <th>Description</th>\n",
       "      <th>Accuracy</th>\n",
       "      <th>Recall</th>\n",
       "      <th>Precision</th>\n",
       "      <th>f1-score</th>\n",
       "    </tr>\n",
       "  </thead>\n",
       "  <tbody>\n",
       "    <tr>\n",
       "      <th>0</th>\n",
       "      <td>Logistic</td>\n",
       "      <td>0.985</td>\n",
       "      <td>0.994505</td>\n",
       "      <td>0.989071</td>\n",
       "      <td>0.991781</td>\n",
       "    </tr>\n",
       "    <tr>\n",
       "      <th>1</th>\n",
       "      <td>KNN</td>\n",
       "      <td>0.975</td>\n",
       "      <td>1.000000</td>\n",
       "      <td>0.973262</td>\n",
       "      <td>0.986450</td>\n",
       "    </tr>\n",
       "    <tr>\n",
       "      <th>2</th>\n",
       "      <td>Logistic RUS</td>\n",
       "      <td>0.955</td>\n",
       "      <td>0.950549</td>\n",
       "      <td>1.000000</td>\n",
       "      <td>0.974648</td>\n",
       "    </tr>\n",
       "    <tr>\n",
       "      <th>3</th>\n",
       "      <td>KNN RUS</td>\n",
       "      <td>0.955</td>\n",
       "      <td>0.950549</td>\n",
       "      <td>1.000000</td>\n",
       "      <td>0.974648</td>\n",
       "    </tr>\n",
       "    <tr>\n",
       "      <th>4</th>\n",
       "      <td>Logistic ROS</td>\n",
       "      <td>0.970</td>\n",
       "      <td>0.967033</td>\n",
       "      <td>1.000000</td>\n",
       "      <td>0.983240</td>\n",
       "    </tr>\n",
       "    <tr>\n",
       "      <th>5</th>\n",
       "      <td>KNN ROS</td>\n",
       "      <td>0.970</td>\n",
       "      <td>0.967033</td>\n",
       "      <td>1.000000</td>\n",
       "      <td>0.983240</td>\n",
       "    </tr>\n",
       "    <tr>\n",
       "      <th>6</th>\n",
       "      <td>Logistic SMOTE</td>\n",
       "      <td>0.970</td>\n",
       "      <td>0.967033</td>\n",
       "      <td>1.000000</td>\n",
       "      <td>0.983240</td>\n",
       "    </tr>\n",
       "    <tr>\n",
       "      <th>7</th>\n",
       "      <td>KNN SMOTE</td>\n",
       "      <td>0.970</td>\n",
       "      <td>0.967033</td>\n",
       "      <td>1.000000</td>\n",
       "      <td>0.983240</td>\n",
       "    </tr>\n",
       "  </tbody>\n",
       "</table>\n",
       "</div>"
      ],
      "text/plain": [
       "      Description  Accuracy    Recall  Precision  f1-score\n",
       "0        Logistic     0.985  0.994505   0.989071  0.991781\n",
       "1             KNN     0.975  1.000000   0.973262  0.986450\n",
       "2    Logistic RUS     0.955  0.950549   1.000000  0.974648\n",
       "3         KNN RUS     0.955  0.950549   1.000000  0.974648\n",
       "4    Logistic ROS     0.970  0.967033   1.000000  0.983240\n",
       "5         KNN ROS     0.970  0.967033   1.000000  0.983240\n",
       "6  Logistic SMOTE     0.970  0.967033   1.000000  0.983240\n",
       "7       KNN SMOTE     0.970  0.967033   1.000000  0.983240"
      ]
     },
     "execution_count": 314,
     "metadata": {},
     "output_type": "execute_result"
    }
   ],
   "source": [
    "# KNN Classifier\n",
    "clf_knn = KNeighborsClassifier()\n",
    "clf_knn.fit(X_res, y_res)\n",
    "evaluate_classifier(\"KNN SMOTE\", results, clf_lr, X_test, y_test)\n",
    "results"
   ]
  },
  {
   "cell_type": "markdown",
   "metadata": {},
   "source": [
    "### 3.4 ADASYN\n"
   ]
  },
  {
   "cell_type": "code",
   "execution_count": 315,
   "metadata": {},
   "outputs": [],
   "source": [
    "# Code to perform ADASYN\n",
    "adasyn = ADASYN(random_state=42)\n",
    "X_res, y_res = adasyn.fit_resample(X_train, y_train)"
   ]
  },
  {
   "cell_type": "code",
   "execution_count": 316,
   "metadata": {},
   "outputs": [
    {
     "name": "stdout",
     "output_type": "stream",
     "text": [
      "Accuracy: 0.965\n",
      "Recall: 0.9615384615384616\n",
      "Precision: 1.0\n",
      "f1-score: 0.9803921568627451\n"
     ]
    },
    {
     "data": {
      "text/html": [
       "<div>\n",
       "<style scoped>\n",
       "    .dataframe tbody tr th:only-of-type {\n",
       "        vertical-align: middle;\n",
       "    }\n",
       "\n",
       "    .dataframe tbody tr th {\n",
       "        vertical-align: top;\n",
       "    }\n",
       "\n",
       "    .dataframe thead th {\n",
       "        text-align: right;\n",
       "    }\n",
       "</style>\n",
       "<table border=\"1\" class=\"dataframe\">\n",
       "  <thead>\n",
       "    <tr style=\"text-align: right;\">\n",
       "      <th></th>\n",
       "      <th>Description</th>\n",
       "      <th>Accuracy</th>\n",
       "      <th>Recall</th>\n",
       "      <th>Precision</th>\n",
       "      <th>f1-score</th>\n",
       "    </tr>\n",
       "  </thead>\n",
       "  <tbody>\n",
       "    <tr>\n",
       "      <th>0</th>\n",
       "      <td>Logistic</td>\n",
       "      <td>0.985</td>\n",
       "      <td>0.994505</td>\n",
       "      <td>0.989071</td>\n",
       "      <td>0.991781</td>\n",
       "    </tr>\n",
       "    <tr>\n",
       "      <th>1</th>\n",
       "      <td>KNN</td>\n",
       "      <td>0.975</td>\n",
       "      <td>1.000000</td>\n",
       "      <td>0.973262</td>\n",
       "      <td>0.986450</td>\n",
       "    </tr>\n",
       "    <tr>\n",
       "      <th>2</th>\n",
       "      <td>Logistic RUS</td>\n",
       "      <td>0.955</td>\n",
       "      <td>0.950549</td>\n",
       "      <td>1.000000</td>\n",
       "      <td>0.974648</td>\n",
       "    </tr>\n",
       "    <tr>\n",
       "      <th>3</th>\n",
       "      <td>KNN RUS</td>\n",
       "      <td>0.955</td>\n",
       "      <td>0.950549</td>\n",
       "      <td>1.000000</td>\n",
       "      <td>0.974648</td>\n",
       "    </tr>\n",
       "    <tr>\n",
       "      <th>4</th>\n",
       "      <td>Logistic ROS</td>\n",
       "      <td>0.970</td>\n",
       "      <td>0.967033</td>\n",
       "      <td>1.000000</td>\n",
       "      <td>0.983240</td>\n",
       "    </tr>\n",
       "    <tr>\n",
       "      <th>5</th>\n",
       "      <td>KNN ROS</td>\n",
       "      <td>0.970</td>\n",
       "      <td>0.967033</td>\n",
       "      <td>1.000000</td>\n",
       "      <td>0.983240</td>\n",
       "    </tr>\n",
       "    <tr>\n",
       "      <th>6</th>\n",
       "      <td>Logistic SMOTE</td>\n",
       "      <td>0.970</td>\n",
       "      <td>0.967033</td>\n",
       "      <td>1.000000</td>\n",
       "      <td>0.983240</td>\n",
       "    </tr>\n",
       "    <tr>\n",
       "      <th>7</th>\n",
       "      <td>KNN SMOTE</td>\n",
       "      <td>0.970</td>\n",
       "      <td>0.967033</td>\n",
       "      <td>1.000000</td>\n",
       "      <td>0.983240</td>\n",
       "    </tr>\n",
       "    <tr>\n",
       "      <th>8</th>\n",
       "      <td>Logistic ADASYN</td>\n",
       "      <td>0.965</td>\n",
       "      <td>0.961538</td>\n",
       "      <td>1.000000</td>\n",
       "      <td>0.980392</td>\n",
       "    </tr>\n",
       "  </tbody>\n",
       "</table>\n",
       "</div>"
      ],
      "text/plain": [
       "       Description  Accuracy    Recall  Precision  f1-score\n",
       "0         Logistic     0.985  0.994505   0.989071  0.991781\n",
       "1              KNN     0.975  1.000000   0.973262  0.986450\n",
       "2     Logistic RUS     0.955  0.950549   1.000000  0.974648\n",
       "3          KNN RUS     0.955  0.950549   1.000000  0.974648\n",
       "4     Logistic ROS     0.970  0.967033   1.000000  0.983240\n",
       "5          KNN ROS     0.970  0.967033   1.000000  0.983240\n",
       "6   Logistic SMOTE     0.970  0.967033   1.000000  0.983240\n",
       "7        KNN SMOTE     0.970  0.967033   1.000000  0.983240\n",
       "8  Logistic ADASYN     0.965  0.961538   1.000000  0.980392"
      ]
     },
     "execution_count": 316,
     "metadata": {},
     "output_type": "execute_result"
    }
   ],
   "source": [
    "# Logistic Regression\n",
    "clf_lr = LogisticRegression()\n",
    "clf_lr.fit(X_res, y_res)\n",
    "evaluate_classifier(\"Logistic ADASYN\", results, clf_lr, X_test, y_test)\n",
    "results"
   ]
  },
  {
   "cell_type": "code",
   "execution_count": 317,
   "metadata": {},
   "outputs": [
    {
     "name": "stdout",
     "output_type": "stream",
     "text": [
      "Accuracy: 0.965\n",
      "Recall: 0.9615384615384616\n",
      "Precision: 1.0\n",
      "f1-score: 0.9803921568627451\n"
     ]
    },
    {
     "data": {
      "text/html": [
       "<div>\n",
       "<style scoped>\n",
       "    .dataframe tbody tr th:only-of-type {\n",
       "        vertical-align: middle;\n",
       "    }\n",
       "\n",
       "    .dataframe tbody tr th {\n",
       "        vertical-align: top;\n",
       "    }\n",
       "\n",
       "    .dataframe thead th {\n",
       "        text-align: right;\n",
       "    }\n",
       "</style>\n",
       "<table border=\"1\" class=\"dataframe\">\n",
       "  <thead>\n",
       "    <tr style=\"text-align: right;\">\n",
       "      <th></th>\n",
       "      <th>Description</th>\n",
       "      <th>Accuracy</th>\n",
       "      <th>Recall</th>\n",
       "      <th>Precision</th>\n",
       "      <th>f1-score</th>\n",
       "    </tr>\n",
       "  </thead>\n",
       "  <tbody>\n",
       "    <tr>\n",
       "      <th>0</th>\n",
       "      <td>Logistic</td>\n",
       "      <td>0.985</td>\n",
       "      <td>0.994505</td>\n",
       "      <td>0.989071</td>\n",
       "      <td>0.991781</td>\n",
       "    </tr>\n",
       "    <tr>\n",
       "      <th>1</th>\n",
       "      <td>KNN</td>\n",
       "      <td>0.975</td>\n",
       "      <td>1.000000</td>\n",
       "      <td>0.973262</td>\n",
       "      <td>0.986450</td>\n",
       "    </tr>\n",
       "    <tr>\n",
       "      <th>2</th>\n",
       "      <td>Logistic RUS</td>\n",
       "      <td>0.955</td>\n",
       "      <td>0.950549</td>\n",
       "      <td>1.000000</td>\n",
       "      <td>0.974648</td>\n",
       "    </tr>\n",
       "    <tr>\n",
       "      <th>3</th>\n",
       "      <td>KNN RUS</td>\n",
       "      <td>0.955</td>\n",
       "      <td>0.950549</td>\n",
       "      <td>1.000000</td>\n",
       "      <td>0.974648</td>\n",
       "    </tr>\n",
       "    <tr>\n",
       "      <th>4</th>\n",
       "      <td>Logistic ROS</td>\n",
       "      <td>0.970</td>\n",
       "      <td>0.967033</td>\n",
       "      <td>1.000000</td>\n",
       "      <td>0.983240</td>\n",
       "    </tr>\n",
       "    <tr>\n",
       "      <th>5</th>\n",
       "      <td>KNN ROS</td>\n",
       "      <td>0.970</td>\n",
       "      <td>0.967033</td>\n",
       "      <td>1.000000</td>\n",
       "      <td>0.983240</td>\n",
       "    </tr>\n",
       "    <tr>\n",
       "      <th>6</th>\n",
       "      <td>Logistic SMOTE</td>\n",
       "      <td>0.970</td>\n",
       "      <td>0.967033</td>\n",
       "      <td>1.000000</td>\n",
       "      <td>0.983240</td>\n",
       "    </tr>\n",
       "    <tr>\n",
       "      <th>7</th>\n",
       "      <td>KNN SMOTE</td>\n",
       "      <td>0.970</td>\n",
       "      <td>0.967033</td>\n",
       "      <td>1.000000</td>\n",
       "      <td>0.983240</td>\n",
       "    </tr>\n",
       "    <tr>\n",
       "      <th>8</th>\n",
       "      <td>Logistic ADASYN</td>\n",
       "      <td>0.965</td>\n",
       "      <td>0.961538</td>\n",
       "      <td>1.000000</td>\n",
       "      <td>0.980392</td>\n",
       "    </tr>\n",
       "    <tr>\n",
       "      <th>9</th>\n",
       "      <td>KNN ADASYN</td>\n",
       "      <td>0.965</td>\n",
       "      <td>0.961538</td>\n",
       "      <td>1.000000</td>\n",
       "      <td>0.980392</td>\n",
       "    </tr>\n",
       "  </tbody>\n",
       "</table>\n",
       "</div>"
      ],
      "text/plain": [
       "       Description  Accuracy    Recall  Precision  f1-score\n",
       "0         Logistic     0.985  0.994505   0.989071  0.991781\n",
       "1              KNN     0.975  1.000000   0.973262  0.986450\n",
       "2     Logistic RUS     0.955  0.950549   1.000000  0.974648\n",
       "3          KNN RUS     0.955  0.950549   1.000000  0.974648\n",
       "4     Logistic ROS     0.970  0.967033   1.000000  0.983240\n",
       "5          KNN ROS     0.970  0.967033   1.000000  0.983240\n",
       "6   Logistic SMOTE     0.970  0.967033   1.000000  0.983240\n",
       "7        KNN SMOTE     0.970  0.967033   1.000000  0.983240\n",
       "8  Logistic ADASYN     0.965  0.961538   1.000000  0.980392\n",
       "9       KNN ADASYN     0.965  0.961538   1.000000  0.980392"
      ]
     },
     "execution_count": 317,
     "metadata": {},
     "output_type": "execute_result"
    }
   ],
   "source": [
    "# KNN Classifier\n",
    "clf_knn = KNeighborsClassifier()\n",
    "clf_knn.fit(X_res, y_res)\n",
    "evaluate_classifier(\"KNN ADASYN\", results, clf_lr, X_test, y_test)\n",
    "results"
   ]
  },
  {
   "cell_type": "markdown",
   "metadata": {},
   "source": [
    "### Section 4: Comparative Analysis"
   ]
  },
  {
   "cell_type": "markdown",
   "metadata": {},
   "source": [
    "* Discuss the performance metrics for each combination\n",
    "* Pros and cons of each approach"
   ]
  },
  {
   "cell_type": "code",
   "execution_count": 318,
   "metadata": {},
   "outputs": [
    {
     "data": {
      "text/plain": [
       "<Axes: xlabel='Description'>"
      ]
     },
     "execution_count": 318,
     "metadata": {},
     "output_type": "execute_result"
    },
    {
     "data": {
      "image/png": "[encoded data removed]",
      "text/plain": [
       "<Figure size 1000x500 with 1 Axes>"
      ]
     },
     "metadata": {},
     "output_type": "display_data"
    }
   ],
   "source": [
    "results.plot(x='Description', y=['Accuracy', 'Recall', 'Precision', 'f1-score'], kind='bar', figsize=(10, 5), ylim=(.9, 1.0))"
   ]
  },
  {
   "cell_type": "markdown",
   "metadata": {},
   "source": [
    "## Conclusion"
   ]
  },
  {
   "cell_type": "markdown",
   "metadata": {},
   "source": [
    "We have explored different techniques for dealing with imbalanced class distributions in a dataset, and tested two machine learning algorithms (Logistic Regression and K-Nearest Neighbors) in conjunction with these techniques. Below is a summarization of the different methodologies we've employed, coupled with the metrics you provided (Accuracy, Recall, Precision, f1-score).\n",
    "\n",
    "### Key Metrics\n",
    "The performance of each algorithm under each sampling technique was evaluated using the following metrics:\n",
    "\n",
    "* Accuracy: Indicates the overall correctness of the model.\n",
    "* Recall: Highlights the model's ability to identify all relevant instances.\n",
    "* Precision: Shows the model's ability to not label a negative sample as positive.\n",
    "* F1-Score: The harmonic mean between precision and recall.\n",
    "\n",
    "\n",
    "### Observations\n",
    "\n",
    "#### No Rebalancing:\n",
    "\n",
    "* Logistic Regression and KNN both performed admirably across all metrics, although there may be a majority class bias.\n",
    "  * Logistic: Accuracy=98.5%, Recall=99.45%, Precision=98.9%, F1=99.17%\n",
    "  * KNN: Accuracy=97.5%, Recall=100%, Precision=97.3%, F1=98.64%\n",
    "\n",
    "\n",
    "#### Random Undersampling (RUS):\n",
    "\n",
    "* Both algorithms saw a decrease in accuracy and recall but maintained perfect precision.\n",
    "  * Logistic: Accuracy=95.5%, Recall=95.05%, Precision=100%, F1=97.46%\n",
    "  * KNN: Accuracy=95.5%, Recall=95.05%, Precision=100%, F1=97.46%\n",
    "\n",
    "\n",
    "#### Random Oversampling (ROS):\n",
    "\n",
    "* Both algorithms maintained high performance but with a slight reduction in accuracy and recall compared to the no-rebalancing scenario.\n",
    "  * Logistic: Accuracy=97%, Recall=96.7%, Precision=100%, F1=98.32%\n",
    "  * KNN: Accuracy=97%, Recall=96.7%, Precision=100%, F1=98.32%\n",
    "\n",
    "\n",
    "#### SMOTE:\n",
    "\n",
    "* Both algorithms performed almost identically to ROS.\n",
    "  * Logistic: Accuracy=97%, Recall=96.7%, Precision=100%, F1=98.32%\n",
    "  * KNN: Accuracy=97%, Recall=96.7%, Precision=100%, F1=98.32%\n",
    "\n",
    "\n",
    "#### ADASYN:\n",
    "\n",
    "* Slightly lower performance metrics compared to ROS and SMOTE for both algorithms.\n",
    "  * Logistic: Accuracy=96.5%, Recall=96.15%, Precision=100%, F1=98.03%\n",
    "  * KNN: Accuracy=96.5%, Recall=96.15%, Precision=100%, F1=98.03%\n",
    "\n",
    "\n",
    "#### Conclusions:\n",
    "\n",
    "* No Rebalancing: \n",
    "  * Highest performance but may have a majority class bias.\n",
    "* Random Undersampling (RUS): \n",
    "  * A bit lower in performance but with perfect precision. Suitable when computational resources are limited.\n",
    "* Random Oversampling (ROS) & SMOTE: \n",
    "  * High performance across metrics but a slight reduction compared to the no-rebalancing model.\n",
    "* ADASYN: \n",
    "  * A marginal decrease in performance metrics compared to ROS and SMOTE, but still maintains a perfect precision score."
   ]
  },
  {
   "cell_type": "markdown",
   "metadata": {},
   "source": [
    "### References\n",
    "\n",
    "* SMOTE: https://arxiv.org/pdf/1106.1813.pdf\n",
    "* ADASYN: https://ieeexplore.ieee.org/document/4633969\n"
   ]
  }
 ],
 "metadata": {
  "kernelspec": {
   "display_name": "dm",
   "language": "python",
   "name": "python3"
  },
  "language_info": {
   "codemirror_mode": {
    "name": "ipython",
    "version": 3
   },
   "file_extension": ".py",
   "mimetype": "text/x-python",
   "name": "python",
   "nbconvert_exporter": "python",
   "pygments_lexer": "ipython3",
   "version": "3.11.5"
  },
  "orig_nbformat": 4
 },
 "nbformat": 4,
 "nbformat_minor": 2
}
