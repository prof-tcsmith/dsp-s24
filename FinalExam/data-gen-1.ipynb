{
 "cells": [
  {
   "cell_type": "code",
   "execution_count": 2,
   "metadata": {},
   "outputs": [
    {
     "data": {
      "text/plain": [
       "'/mnt/data/SyntheticTransactionData.csv'"
      ]
     },
     "execution_count": 2,
     "metadata": {},
     "output_type": "execute_result"
    }
   ],
   "source": [
    "import pandas as pd\n",
    "import numpy as np\n",
    "\n",
    "# Seed for reproducibility\n",
    "np.random.seed(42)\n",
    "\n",
    "# Generate synthetic transaction data\n",
    "num_records = 10000\n",
    "num_features = 30\n",
    "\n",
    "# Simulate normal transactions (95% of the data)\n",
    "normal_data = np.random.normal(loc=0, scale=1, size=(int(num_records * 0.95), num_features))\n",
    "\n",
    "# Simulate anomalies (5% of the data)\n",
    "anomalies_data = np.random.normal(loc=0, scale=5, size=(int(num_records * 0.05), num_features))\n",
    "\n",
    "# Combine the data\n",
    "data = np.vstack((normal_data, anomalies_data))\n",
    "\n",
    "# Labels: 0 for normal, 1 for anomalies\n",
    "labels = np.array([0] * int(num_records * 0.95) + [1] * int(num_records * 0.05))\n",
    "\n",
    "# Shuffle the dataset to mix anomalies with normal data\n",
    "indices = np.arange(num_records)\n",
    "np.random.shuffle(indices)\n",
    "\n",
    "data = data[indices]\n",
    "labels = labels[indices]\n",
    "\n",
    "# Create a DataFrame\n",
    "df = pd.DataFrame(data, columns=[f'Feature_{i+1}' for i in range(num_features)])\n",
    "df['Class'] = labels\n",
    "\n",
    "# Save to CSV\n",
    "df.to_csv('autoencoder-q.csv', index=False)\n",
    "csv_path"
   ]
  }
 ],
 "metadata": {
  "kernelspec": {
   "display_name": "dsp",
   "language": "python",
   "name": "python3"
  },
  "language_info": {
   "codemirror_mode": {
    "name": "ipython",
    "version": 3
   },
   "file_extension": ".py",
   "mimetype": "text/x-python",
   "name": "python",
   "nbconvert_exporter": "python",
   "pygments_lexer": "ipython3",
   "version": "3.11.7"
  }
 },
 "nbformat": 4,
 "nbformat_minor": 2
}
