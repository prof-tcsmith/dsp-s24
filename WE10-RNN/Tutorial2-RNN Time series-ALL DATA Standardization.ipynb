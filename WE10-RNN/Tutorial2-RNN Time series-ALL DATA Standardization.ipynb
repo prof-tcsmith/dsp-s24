{
 "cells": [
  {
   "cell_type": "markdown",
   "metadata": {},
   "source": [
    "# Tutorial 2 - RNN Time Series\n",
    "\n",
    "In this notebook, we will predict the weather temperature. "
   ]
  },
  {
   "cell_type": "code",
   "execution_count": 1,
   "metadata": {},
   "outputs": [],
   "source": [
    "import tensorflow as tf\n",
    "from tensorflow import keras\n",
    "from sklearn.metrics import mean_squared_error\n",
    "\n",
    "epoch_num = 5 # number of epochs to use for training our models.\n",
    "\n",
    "# Common imports\n",
    "import numpy as np\n",
    "import os\n",
    "\n",
    "# to make this notebook's output stable across runs\n",
    "np.random.seed(42)\n",
    "\n",
    "# To plot pretty figures\n",
    "%matplotlib inline\n",
    "import matplotlib as mpl\n",
    "import matplotlib.pyplot as plt\n",
    "mpl.rc('axes', labelsize=14)\n",
    "mpl.rc('xtick', labelsize=12)\n",
    "mpl.rc('ytick', labelsize=12)"
   ]
  },
  {
   "cell_type": "markdown",
   "metadata": {},
   "source": [
    "# Read the Dataset"
   ]
  },
  {
   "cell_type": "code",
   "execution_count": 2,
   "metadata": {},
   "outputs": [
    {
     "data": {
      "text/html": [
       "<div>\n",
       "<style scoped>\n",
       "    .dataframe tbody tr th:only-of-type {\n",
       "        vertical-align: middle;\n",
       "    }\n",
       "\n",
       "    .dataframe tbody tr th {\n",
       "        vertical-align: top;\n",
       "    }\n",
       "\n",
       "    .dataframe thead th {\n",
       "        text-align: right;\n",
       "    }\n",
       "</style>\n",
       "<table border=\"1\" class=\"dataframe\">\n",
       "  <thead>\n",
       "    <tr style=\"text-align: right;\">\n",
       "      <th></th>\n",
       "      <th>date</th>\n",
       "      <th>hour</th>\n",
       "      <th>NO2</th>\n",
       "      <th>CO</th>\n",
       "      <th>O3</th>\n",
       "      <th>NO</th>\n",
       "      <th>PM2.5</th>\n",
       "      <th>PM10</th>\n",
       "      <th>Air Temp.</th>\n",
       "      <th>Air Hum.</th>\n",
       "      <th>Air Pres.</th>\n",
       "    </tr>\n",
       "  </thead>\n",
       "  <tbody>\n",
       "    <tr>\n",
       "      <th>0</th>\n",
       "      <td>4/25/2021</td>\n",
       "      <td>0</td>\n",
       "      <td>0.039817</td>\n",
       "      <td>0.080700</td>\n",
       "      <td>-0.000867</td>\n",
       "      <td>0.009800</td>\n",
       "      <td>0.2</td>\n",
       "      <td>5.040000</td>\n",
       "      <td>25.795000</td>\n",
       "      <td>99.9</td>\n",
       "      <td>1011.980000</td>\n",
       "    </tr>\n",
       "    <tr>\n",
       "      <th>1</th>\n",
       "      <td>4/25/2021</td>\n",
       "      <td>1</td>\n",
       "      <td>0.035900</td>\n",
       "      <td>0.092217</td>\n",
       "      <td>-0.000267</td>\n",
       "      <td>0.009833</td>\n",
       "      <td>0.2</td>\n",
       "      <td>6.293333</td>\n",
       "      <td>25.445000</td>\n",
       "      <td>99.9</td>\n",
       "      <td>1012.131667</td>\n",
       "    </tr>\n",
       "    <tr>\n",
       "      <th>2</th>\n",
       "      <td>4/25/2021</td>\n",
       "      <td>2</td>\n",
       "      <td>0.028083</td>\n",
       "      <td>0.062750</td>\n",
       "      <td>0.002517</td>\n",
       "      <td>0.012883</td>\n",
       "      <td>0.2</td>\n",
       "      <td>5.501667</td>\n",
       "      <td>25.223333</td>\n",
       "      <td>99.9</td>\n",
       "      <td>1012.365000</td>\n",
       "    </tr>\n",
       "    <tr>\n",
       "      <th>3</th>\n",
       "      <td>4/25/2021</td>\n",
       "      <td>3</td>\n",
       "      <td>0.025633</td>\n",
       "      <td>0.042300</td>\n",
       "      <td>0.004550</td>\n",
       "      <td>0.014233</td>\n",
       "      <td>0.2</td>\n",
       "      <td>4.201667</td>\n",
       "      <td>25.075000</td>\n",
       "      <td>99.9</td>\n",
       "      <td>1012.276667</td>\n",
       "    </tr>\n",
       "    <tr>\n",
       "      <th>4</th>\n",
       "      <td>4/25/2021</td>\n",
       "      <td>4</td>\n",
       "      <td>0.023717</td>\n",
       "      <td>0.036883</td>\n",
       "      <td>0.006267</td>\n",
       "      <td>0.015417</td>\n",
       "      <td>0.2</td>\n",
       "      <td>5.365000</td>\n",
       "      <td>24.928333</td>\n",
       "      <td>99.9</td>\n",
       "      <td>1012.030000</td>\n",
       "    </tr>\n",
       "  </tbody>\n",
       "</table>\n",
       "</div>"
      ],
      "text/plain": [
       "        date  hour       NO2        CO        O3        NO  PM2.5      PM10  \\\n",
       "0  4/25/2021     0  0.039817  0.080700 -0.000867  0.009800    0.2  5.040000   \n",
       "1  4/25/2021     1  0.035900  0.092217 -0.000267  0.009833    0.2  6.293333   \n",
       "2  4/25/2021     2  0.028083  0.062750  0.002517  0.012883    0.2  5.501667   \n",
       "3  4/25/2021     3  0.025633  0.042300  0.004550  0.014233    0.2  4.201667   \n",
       "4  4/25/2021     4  0.023717  0.036883  0.006267  0.015417    0.2  5.365000   \n",
       "\n",
       "   Air Temp.  Air Hum.    Air Pres.  \n",
       "0  25.795000      99.9  1011.980000  \n",
       "1  25.445000      99.9  1012.131667  \n",
       "2  25.223333      99.9  1012.365000  \n",
       "3  25.075000      99.9  1012.276667  \n",
       "4  24.928333      99.9  1012.030000  "
      ]
     },
     "execution_count": 2,
     "metadata": {},
     "output_type": "execute_result"
    }
   ],
   "source": [
    "import pandas as pd\n",
    "\n",
    "weather = pd.read_csv('https://raw.githubusercontent.com/prof-tcsmith/data/master/weather.csv')\n",
    "\n",
    "weather.head()"
   ]
  },
  {
   "cell_type": "code",
   "execution_count": 3,
   "metadata": {},
   "outputs": [],
   "source": [
    "# Convert the temp to Fahrenheit:\n",
    "\n",
    "weather['Air Temp F'] = weather['Air Temp.']*1.8 + 32"
   ]
  },
  {
   "cell_type": "code",
   "execution_count": 4,
   "metadata": {},
   "outputs": [
    {
     "data": {
      "text/html": [
       "<div>\n",
       "<style scoped>\n",
       "    .dataframe tbody tr th:only-of-type {\n",
       "        vertical-align: middle;\n",
       "    }\n",
       "\n",
       "    .dataframe tbody tr th {\n",
       "        vertical-align: top;\n",
       "    }\n",
       "\n",
       "    .dataframe thead th {\n",
       "        text-align: right;\n",
       "    }\n",
       "</style>\n",
       "<table border=\"1\" class=\"dataframe\">\n",
       "  <thead>\n",
       "    <tr style=\"text-align: right;\">\n",
       "      <th></th>\n",
       "      <th>date</th>\n",
       "      <th>hour</th>\n",
       "      <th>NO2</th>\n",
       "      <th>CO</th>\n",
       "      <th>O3</th>\n",
       "      <th>NO</th>\n",
       "      <th>PM2.5</th>\n",
       "      <th>PM10</th>\n",
       "      <th>Air Temp.</th>\n",
       "      <th>Air Hum.</th>\n",
       "      <th>Air Pres.</th>\n",
       "      <th>Air Temp F</th>\n",
       "    </tr>\n",
       "  </thead>\n",
       "  <tbody>\n",
       "    <tr>\n",
       "      <th>0</th>\n",
       "      <td>4/25/2021</td>\n",
       "      <td>0</td>\n",
       "      <td>0.039817</td>\n",
       "      <td>0.080700</td>\n",
       "      <td>-0.000867</td>\n",
       "      <td>0.009800</td>\n",
       "      <td>0.200</td>\n",
       "      <td>5.040000</td>\n",
       "      <td>25.795000</td>\n",
       "      <td>99.900</td>\n",
       "      <td>1011.980000</td>\n",
       "      <td>78.431</td>\n",
       "    </tr>\n",
       "    <tr>\n",
       "      <th>1</th>\n",
       "      <td>4/25/2021</td>\n",
       "      <td>1</td>\n",
       "      <td>0.035900</td>\n",
       "      <td>0.092217</td>\n",
       "      <td>-0.000267</td>\n",
       "      <td>0.009833</td>\n",
       "      <td>0.200</td>\n",
       "      <td>6.293333</td>\n",
       "      <td>25.445000</td>\n",
       "      <td>99.900</td>\n",
       "      <td>1012.131667</td>\n",
       "      <td>77.801</td>\n",
       "    </tr>\n",
       "    <tr>\n",
       "      <th>2</th>\n",
       "      <td>4/25/2021</td>\n",
       "      <td>2</td>\n",
       "      <td>0.028083</td>\n",
       "      <td>0.062750</td>\n",
       "      <td>0.002517</td>\n",
       "      <td>0.012883</td>\n",
       "      <td>0.200</td>\n",
       "      <td>5.501667</td>\n",
       "      <td>25.223333</td>\n",
       "      <td>99.900</td>\n",
       "      <td>1012.365000</td>\n",
       "      <td>77.402</td>\n",
       "    </tr>\n",
       "    <tr>\n",
       "      <th>3</th>\n",
       "      <td>4/25/2021</td>\n",
       "      <td>3</td>\n",
       "      <td>0.025633</td>\n",
       "      <td>0.042300</td>\n",
       "      <td>0.004550</td>\n",
       "      <td>0.014233</td>\n",
       "      <td>0.200</td>\n",
       "      <td>4.201667</td>\n",
       "      <td>25.075000</td>\n",
       "      <td>99.900</td>\n",
       "      <td>1012.276667</td>\n",
       "      <td>77.135</td>\n",
       "    </tr>\n",
       "    <tr>\n",
       "      <th>4</th>\n",
       "      <td>4/25/2021</td>\n",
       "      <td>4</td>\n",
       "      <td>0.023717</td>\n",
       "      <td>0.036883</td>\n",
       "      <td>0.006267</td>\n",
       "      <td>0.015417</td>\n",
       "      <td>0.200</td>\n",
       "      <td>5.365000</td>\n",
       "      <td>24.928333</td>\n",
       "      <td>99.900</td>\n",
       "      <td>1012.030000</td>\n",
       "      <td>76.871</td>\n",
       "    </tr>\n",
       "    <tr>\n",
       "      <th>...</th>\n",
       "      <td>...</td>\n",
       "      <td>...</td>\n",
       "      <td>...</td>\n",
       "      <td>...</td>\n",
       "      <td>...</td>\n",
       "      <td>...</td>\n",
       "      <td>...</td>\n",
       "      <td>...</td>\n",
       "      <td>...</td>\n",
       "      <td>...</td>\n",
       "      <td>...</td>\n",
       "      <td>...</td>\n",
       "    </tr>\n",
       "    <tr>\n",
       "      <th>7952</th>\n",
       "      <td>4/19/2022</td>\n",
       "      <td>19</td>\n",
       "      <td>0.007500</td>\n",
       "      <td>0.135750</td>\n",
       "      <td>0.035250</td>\n",
       "      <td>0.044000</td>\n",
       "      <td>2.150</td>\n",
       "      <td>9.275000</td>\n",
       "      <td>28.375000</td>\n",
       "      <td>39.175</td>\n",
       "      <td>1016.000000</td>\n",
       "      <td>83.075</td>\n",
       "    </tr>\n",
       "    <tr>\n",
       "      <th>7953</th>\n",
       "      <td>4/19/2022</td>\n",
       "      <td>20</td>\n",
       "      <td>0.024000</td>\n",
       "      <td>0.145750</td>\n",
       "      <td>0.025250</td>\n",
       "      <td>0.035000</td>\n",
       "      <td>2.525</td>\n",
       "      <td>16.100000</td>\n",
       "      <td>28.575000</td>\n",
       "      <td>37.275</td>\n",
       "      <td>1015.550000</td>\n",
       "      <td>83.435</td>\n",
       "    </tr>\n",
       "    <tr>\n",
       "      <th>7954</th>\n",
       "      <td>4/19/2022</td>\n",
       "      <td>21</td>\n",
       "      <td>0.013400</td>\n",
       "      <td>0.147200</td>\n",
       "      <td>0.038800</td>\n",
       "      <td>0.022200</td>\n",
       "      <td>2.260</td>\n",
       "      <td>12.980000</td>\n",
       "      <td>28.440000</td>\n",
       "      <td>32.740</td>\n",
       "      <td>1015.340000</td>\n",
       "      <td>83.192</td>\n",
       "    </tr>\n",
       "    <tr>\n",
       "      <th>7955</th>\n",
       "      <td>4/19/2022</td>\n",
       "      <td>22</td>\n",
       "      <td>0.023000</td>\n",
       "      <td>0.126000</td>\n",
       "      <td>0.039000</td>\n",
       "      <td>0.014000</td>\n",
       "      <td>2.350</td>\n",
       "      <td>11.375000</td>\n",
       "      <td>28.150000</td>\n",
       "      <td>33.250</td>\n",
       "      <td>1015.600000</td>\n",
       "      <td>82.670</td>\n",
       "    </tr>\n",
       "    <tr>\n",
       "      <th>7956</th>\n",
       "      <td>4/19/2022</td>\n",
       "      <td>23</td>\n",
       "      <td>0.032500</td>\n",
       "      <td>0.162250</td>\n",
       "      <td>0.041750</td>\n",
       "      <td>0.030500</td>\n",
       "      <td>1.975</td>\n",
       "      <td>10.675000</td>\n",
       "      <td>25.700000</td>\n",
       "      <td>41.725</td>\n",
       "      <td>1015.725000</td>\n",
       "      <td>78.260</td>\n",
       "    </tr>\n",
       "  </tbody>\n",
       "</table>\n",
       "<p>7957 rows × 12 columns</p>\n",
       "</div>"
      ],
      "text/plain": [
       "           date  hour       NO2        CO        O3        NO  PM2.5  \\\n",
       "0     4/25/2021     0  0.039817  0.080700 -0.000867  0.009800  0.200   \n",
       "1     4/25/2021     1  0.035900  0.092217 -0.000267  0.009833  0.200   \n",
       "2     4/25/2021     2  0.028083  0.062750  0.002517  0.012883  0.200   \n",
       "3     4/25/2021     3  0.025633  0.042300  0.004550  0.014233  0.200   \n",
       "4     4/25/2021     4  0.023717  0.036883  0.006267  0.015417  0.200   \n",
       "...         ...   ...       ...       ...       ...       ...    ...   \n",
       "7952  4/19/2022    19  0.007500  0.135750  0.035250  0.044000  2.150   \n",
       "7953  4/19/2022    20  0.024000  0.145750  0.025250  0.035000  2.525   \n",
       "7954  4/19/2022    21  0.013400  0.147200  0.038800  0.022200  2.260   \n",
       "7955  4/19/2022    22  0.023000  0.126000  0.039000  0.014000  2.350   \n",
       "7956  4/19/2022    23  0.032500  0.162250  0.041750  0.030500  1.975   \n",
       "\n",
       "           PM10  Air Temp.  Air Hum.    Air Pres.  Air Temp F  \n",
       "0      5.040000  25.795000    99.900  1011.980000      78.431  \n",
       "1      6.293333  25.445000    99.900  1012.131667      77.801  \n",
       "2      5.501667  25.223333    99.900  1012.365000      77.402  \n",
       "3      4.201667  25.075000    99.900  1012.276667      77.135  \n",
       "4      5.365000  24.928333    99.900  1012.030000      76.871  \n",
       "...         ...        ...       ...          ...         ...  \n",
       "7952   9.275000  28.375000    39.175  1016.000000      83.075  \n",
       "7953  16.100000  28.575000    37.275  1015.550000      83.435  \n",
       "7954  12.980000  28.440000    32.740  1015.340000      83.192  \n",
       "7955  11.375000  28.150000    33.250  1015.600000      82.670  \n",
       "7956  10.675000  25.700000    41.725  1015.725000      78.260  \n",
       "\n",
       "[7957 rows x 12 columns]"
      ]
     },
     "execution_count": 4,
     "metadata": {},
     "output_type": "execute_result"
    }
   ],
   "source": [
    "weather"
   ]
  },
  {
   "cell_type": "code",
   "execution_count": 5,
   "metadata": {},
   "outputs": [],
   "source": [
    "#Drop the columns we don't need\n",
    "\n",
    "weather = weather.drop(['NO2', 'CO', 'O3', 'NO', 'PM2.5', 'PM10', 'Air Temp.',\n",
    "              'Air Hum.', 'Air Pres.'], axis=1)"
   ]
  },
  {
   "cell_type": "code",
   "execution_count": 6,
   "metadata": {},
   "outputs": [
    {
     "data": {
      "text/html": [
       "<div>\n",
       "<style scoped>\n",
       "    .dataframe tbody tr th:only-of-type {\n",
       "        vertical-align: middle;\n",
       "    }\n",
       "\n",
       "    .dataframe tbody tr th {\n",
       "        vertical-align: top;\n",
       "    }\n",
       "\n",
       "    .dataframe thead th {\n",
       "        text-align: right;\n",
       "    }\n",
       "</style>\n",
       "<table border=\"1\" class=\"dataframe\">\n",
       "  <thead>\n",
       "    <tr style=\"text-align: right;\">\n",
       "      <th></th>\n",
       "      <th>date</th>\n",
       "      <th>hour</th>\n",
       "      <th>Air Temp F</th>\n",
       "    </tr>\n",
       "  </thead>\n",
       "  <tbody>\n",
       "    <tr>\n",
       "      <th>0</th>\n",
       "      <td>4/25/2021</td>\n",
       "      <td>0</td>\n",
       "      <td>78.431</td>\n",
       "    </tr>\n",
       "    <tr>\n",
       "      <th>1</th>\n",
       "      <td>4/25/2021</td>\n",
       "      <td>1</td>\n",
       "      <td>77.801</td>\n",
       "    </tr>\n",
       "    <tr>\n",
       "      <th>2</th>\n",
       "      <td>4/25/2021</td>\n",
       "      <td>2</td>\n",
       "      <td>77.402</td>\n",
       "    </tr>\n",
       "    <tr>\n",
       "      <th>3</th>\n",
       "      <td>4/25/2021</td>\n",
       "      <td>3</td>\n",
       "      <td>77.135</td>\n",
       "    </tr>\n",
       "    <tr>\n",
       "      <th>4</th>\n",
       "      <td>4/25/2021</td>\n",
       "      <td>4</td>\n",
       "      <td>76.871</td>\n",
       "    </tr>\n",
       "    <tr>\n",
       "      <th>...</th>\n",
       "      <td>...</td>\n",
       "      <td>...</td>\n",
       "      <td>...</td>\n",
       "    </tr>\n",
       "    <tr>\n",
       "      <th>7952</th>\n",
       "      <td>4/19/2022</td>\n",
       "      <td>19</td>\n",
       "      <td>83.075</td>\n",
       "    </tr>\n",
       "    <tr>\n",
       "      <th>7953</th>\n",
       "      <td>4/19/2022</td>\n",
       "      <td>20</td>\n",
       "      <td>83.435</td>\n",
       "    </tr>\n",
       "    <tr>\n",
       "      <th>7954</th>\n",
       "      <td>4/19/2022</td>\n",
       "      <td>21</td>\n",
       "      <td>83.192</td>\n",
       "    </tr>\n",
       "    <tr>\n",
       "      <th>7955</th>\n",
       "      <td>4/19/2022</td>\n",
       "      <td>22</td>\n",
       "      <td>82.670</td>\n",
       "    </tr>\n",
       "    <tr>\n",
       "      <th>7956</th>\n",
       "      <td>4/19/2022</td>\n",
       "      <td>23</td>\n",
       "      <td>78.260</td>\n",
       "    </tr>\n",
       "  </tbody>\n",
       "</table>\n",
       "<p>7957 rows × 3 columns</p>\n",
       "</div>"
      ],
      "text/plain": [
       "           date  hour  Air Temp F\n",
       "0     4/25/2021     0      78.431\n",
       "1     4/25/2021     1      77.801\n",
       "2     4/25/2021     2      77.402\n",
       "3     4/25/2021     3      77.135\n",
       "4     4/25/2021     4      76.871\n",
       "...         ...   ...         ...\n",
       "7952  4/19/2022    19      83.075\n",
       "7953  4/19/2022    20      83.435\n",
       "7954  4/19/2022    21      83.192\n",
       "7955  4/19/2022    22      82.670\n",
       "7956  4/19/2022    23      78.260\n",
       "\n",
       "[7957 rows x 3 columns]"
      ]
     },
     "execution_count": 6,
     "metadata": {},
     "output_type": "execute_result"
    }
   ],
   "source": [
    "weather"
   ]
  },
  {
   "cell_type": "code",
   "execution_count": 7,
   "metadata": {},
   "outputs": [
    {
     "data": {
      "image/png": "[encoded data removed]",
      "text/plain": [
       "<Figure size 640x480 with 1 Axes>"
      ]
     },
     "metadata": {},
     "output_type": "display_data"
    }
   ],
   "source": [
    "#Plot temp\n",
    "\n",
    "plt.plot(weather['Air Temp F'])\n",
    "plt.show()"
   ]
  },
  {
   "cell_type": "markdown",
   "metadata": {},
   "source": [
    "# Data Cleanup"
   ]
  },
  {
   "cell_type": "code",
   "execution_count": 8,
   "metadata": {},
   "outputs": [
    {
     "data": {
      "text/html": [
       "<div>\n",
       "<style scoped>\n",
       "    .dataframe tbody tr th:only-of-type {\n",
       "        vertical-align: middle;\n",
       "    }\n",
       "\n",
       "    .dataframe tbody tr th {\n",
       "        vertical-align: top;\n",
       "    }\n",
       "\n",
       "    .dataframe thead th {\n",
       "        text-align: right;\n",
       "    }\n",
       "</style>\n",
       "<table border=\"1\" class=\"dataframe\">\n",
       "  <thead>\n",
       "    <tr style=\"text-align: right;\">\n",
       "      <th></th>\n",
       "      <th>date</th>\n",
       "      <th>hour</th>\n",
       "      <th>Air Temp F</th>\n",
       "    </tr>\n",
       "  </thead>\n",
       "  <tbody>\n",
       "    <tr>\n",
       "      <th>1578</th>\n",
       "      <td>6/29/2021</td>\n",
       "      <td>21</td>\n",
       "      <td>124.865</td>\n",
       "    </tr>\n",
       "    <tr>\n",
       "      <th>1582</th>\n",
       "      <td>6/30/2021</td>\n",
       "      <td>1</td>\n",
       "      <td>108.674</td>\n",
       "    </tr>\n",
       "    <tr>\n",
       "      <th>1595</th>\n",
       "      <td>6/30/2021</td>\n",
       "      <td>14</td>\n",
       "      <td>112.001</td>\n",
       "    </tr>\n",
       "    <tr>\n",
       "      <th>1596</th>\n",
       "      <td>6/30/2021</td>\n",
       "      <td>15</td>\n",
       "      <td>131.294</td>\n",
       "    </tr>\n",
       "    <tr>\n",
       "      <th>1597</th>\n",
       "      <td>6/30/2021</td>\n",
       "      <td>16</td>\n",
       "      <td>128.849</td>\n",
       "    </tr>\n",
       "    <tr>\n",
       "      <th>...</th>\n",
       "      <td>...</td>\n",
       "      <td>...</td>\n",
       "      <td>...</td>\n",
       "    </tr>\n",
       "    <tr>\n",
       "      <th>1742</th>\n",
       "      <td>7/6/2021</td>\n",
       "      <td>17</td>\n",
       "      <td>256.820</td>\n",
       "    </tr>\n",
       "    <tr>\n",
       "      <th>1743</th>\n",
       "      <td>7/6/2021</td>\n",
       "      <td>18</td>\n",
       "      <td>256.820</td>\n",
       "    </tr>\n",
       "    <tr>\n",
       "      <th>1744</th>\n",
       "      <td>7/6/2021</td>\n",
       "      <td>19</td>\n",
       "      <td>251.894</td>\n",
       "    </tr>\n",
       "    <tr>\n",
       "      <th>1745</th>\n",
       "      <td>7/6/2021</td>\n",
       "      <td>20</td>\n",
       "      <td>256.820</td>\n",
       "    </tr>\n",
       "    <tr>\n",
       "      <th>1746</th>\n",
       "      <td>7/6/2021</td>\n",
       "      <td>21</td>\n",
       "      <td>246.926</td>\n",
       "    </tr>\n",
       "  </tbody>\n",
       "</table>\n",
       "<p>114 rows × 3 columns</p>\n",
       "</div>"
      ],
      "text/plain": [
       "           date  hour  Air Temp F\n",
       "1578  6/29/2021    21     124.865\n",
       "1582  6/30/2021     1     108.674\n",
       "1595  6/30/2021    14     112.001\n",
       "1596  6/30/2021    15     131.294\n",
       "1597  6/30/2021    16     128.849\n",
       "...         ...   ...         ...\n",
       "1742   7/6/2021    17     256.820\n",
       "1743   7/6/2021    18     256.820\n",
       "1744   7/6/2021    19     251.894\n",
       "1745   7/6/2021    20     256.820\n",
       "1746   7/6/2021    21     246.926\n",
       "\n",
       "[114 rows x 3 columns]"
      ]
     },
     "execution_count": 8,
     "metadata": {},
     "output_type": "execute_result"
    }
   ],
   "source": [
    "# Values higher than 100 degrees are probably incorrect readings\n",
    "\n",
    "weather[weather['Air Temp F']>100]"
   ]
  },
  {
   "cell_type": "code",
   "execution_count": 9,
   "metadata": {},
   "outputs": [],
   "source": [
    "# Convert all values higher than 100 degrees to null values\n",
    "\n",
    "weather['Air Temp F'] = np.where(weather['Air Temp F']>100, np.nan, weather['Air Temp F'])"
   ]
  },
  {
   "cell_type": "code",
   "execution_count": 10,
   "metadata": {},
   "outputs": [],
   "source": [
    "# Values lower than 30 degrees are probably incorrect readings. Convert them to null\n",
    "\n",
    "weather['Air Temp F'] = np.where(weather['Air Temp F']<30, np.nan, weather['Air Temp F'])"
   ]
  },
  {
   "cell_type": "code",
   "execution_count": 11,
   "metadata": {},
   "outputs": [
    {
     "data": {
      "image/png": "[encoded data removed]",
      "text/plain": [
       "<Figure size 640x480 with 1 Axes>"
      ]
     },
     "metadata": {},
     "output_type": "display_data"
    }
   ],
   "source": [
    "plt.plot(weather['Air Temp F'])\n",
    "plt.show()"
   ]
  },
  {
   "cell_type": "code",
   "execution_count": 12,
   "metadata": {},
   "outputs": [],
   "source": [
    "# Remove all null values\n",
    "\n",
    "weather = weather.dropna().reset_index(drop=True)"
   ]
  },
  {
   "cell_type": "code",
   "execution_count": 13,
   "metadata": {},
   "outputs": [
    {
     "data": {
      "image/png": "[encoded data removed]",
      "text/plain": [
       "<Figure size 640x480 with 1 Axes>"
      ]
     },
     "metadata": {},
     "output_type": "display_data"
    }
   ],
   "source": [
    "plt.plot(weather['Air Temp F'])\n",
    "plt.show()"
   ]
  },
  {
   "cell_type": "markdown",
   "metadata": {},
   "source": [
    "## RESHAPE the data set!"
   ]
  },
  {
   "cell_type": "code",
   "execution_count": 14,
   "metadata": {},
   "outputs": [
    {
     "data": {
      "text/plain": [
       "(7017, 3)"
      ]
     },
     "execution_count": 14,
     "metadata": {},
     "output_type": "execute_result"
    }
   ],
   "source": [
    "weather.shape"
   ]
  },
  {
   "cell_type": "code",
   "execution_count": 15,
   "metadata": {},
   "outputs": [
    {
     "data": {
      "text/plain": [
       "292.375"
      ]
     },
     "execution_count": 15,
     "metadata": {},
     "output_type": "execute_result"
    }
   ],
   "source": [
    "# Note that not all days have 24 readings. Some are missing.\n",
    "\n",
    "weather.shape[0]/24"
   ]
  },
  {
   "cell_type": "code",
   "execution_count": 16,
   "metadata": {},
   "outputs": [
    {
     "data": {
      "text/html": [
       "<div>\n",
       "<style scoped>\n",
       "    .dataframe tbody tr th:only-of-type {\n",
       "        vertical-align: middle;\n",
       "    }\n",
       "\n",
       "    .dataframe tbody tr th {\n",
       "        vertical-align: top;\n",
       "    }\n",
       "\n",
       "    .dataframe thead th {\n",
       "        text-align: right;\n",
       "    }\n",
       "</style>\n",
       "<table border=\"1\" class=\"dataframe\">\n",
       "  <thead>\n",
       "    <tr style=\"text-align: right;\">\n",
       "      <th></th>\n",
       "      <th>hour</th>\n",
       "      <th>Air Temp F</th>\n",
       "    </tr>\n",
       "    <tr>\n",
       "      <th>date</th>\n",
       "      <th></th>\n",
       "      <th></th>\n",
       "    </tr>\n",
       "  </thead>\n",
       "  <tbody>\n",
       "    <tr>\n",
       "      <th>1/1/2022</th>\n",
       "      <td>24</td>\n",
       "      <td>24</td>\n",
       "    </tr>\n",
       "    <tr>\n",
       "      <th>1/10/2022</th>\n",
       "      <td>24</td>\n",
       "      <td>24</td>\n",
       "    </tr>\n",
       "    <tr>\n",
       "      <th>1/11/2022</th>\n",
       "      <td>24</td>\n",
       "      <td>24</td>\n",
       "    </tr>\n",
       "    <tr>\n",
       "      <th>1/12/2022</th>\n",
       "      <td>24</td>\n",
       "      <td>24</td>\n",
       "    </tr>\n",
       "    <tr>\n",
       "      <th>1/13/2022</th>\n",
       "      <td>24</td>\n",
       "      <td>24</td>\n",
       "    </tr>\n",
       "    <tr>\n",
       "      <th>...</th>\n",
       "      <td>...</td>\n",
       "      <td>...</td>\n",
       "    </tr>\n",
       "    <tr>\n",
       "      <th>9/5/2021</th>\n",
       "      <td>24</td>\n",
       "      <td>24</td>\n",
       "    </tr>\n",
       "    <tr>\n",
       "      <th>9/6/2021</th>\n",
       "      <td>24</td>\n",
       "      <td>24</td>\n",
       "    </tr>\n",
       "    <tr>\n",
       "      <th>9/7/2021</th>\n",
       "      <td>24</td>\n",
       "      <td>24</td>\n",
       "    </tr>\n",
       "    <tr>\n",
       "      <th>9/8/2021</th>\n",
       "      <td>24</td>\n",
       "      <td>24</td>\n",
       "    </tr>\n",
       "    <tr>\n",
       "      <th>9/9/2021</th>\n",
       "      <td>24</td>\n",
       "      <td>24</td>\n",
       "    </tr>\n",
       "  </tbody>\n",
       "</table>\n",
       "<p>299 rows × 2 columns</p>\n",
       "</div>"
      ],
      "text/plain": [
       "           hour  Air Temp F\n",
       "date                       \n",
       "1/1/2022     24          24\n",
       "1/10/2022    24          24\n",
       "1/11/2022    24          24\n",
       "1/12/2022    24          24\n",
       "1/13/2022    24          24\n",
       "...         ...         ...\n",
       "9/5/2021     24          24\n",
       "9/6/2021     24          24\n",
       "9/7/2021     24          24\n",
       "9/8/2021     24          24\n",
       "9/9/2021     24          24\n",
       "\n",
       "[299 rows x 2 columns]"
      ]
     },
     "execution_count": 16,
     "metadata": {},
     "output_type": "execute_result"
    }
   ],
   "source": [
    "weather.groupby(['date']).count()"
   ]
  },
  {
   "cell_type": "code",
   "execution_count": 17,
   "metadata": {},
   "outputs": [
    {
     "data": {
      "text/html": [
       "<div>\n",
       "<style scoped>\n",
       "    .dataframe tbody tr th:only-of-type {\n",
       "        vertical-align: middle;\n",
       "    }\n",
       "\n",
       "    .dataframe tbody tr th {\n",
       "        vertical-align: top;\n",
       "    }\n",
       "\n",
       "    .dataframe thead th {\n",
       "        text-align: right;\n",
       "    }\n",
       "</style>\n",
       "<table border=\"1\" class=\"dataframe\">\n",
       "  <thead>\n",
       "    <tr style=\"text-align: right;\">\n",
       "      <th></th>\n",
       "      <th>hour</th>\n",
       "    </tr>\n",
       "    <tr>\n",
       "      <th>date</th>\n",
       "      <th></th>\n",
       "    </tr>\n",
       "  </thead>\n",
       "  <tbody>\n",
       "    <tr>\n",
       "      <th>1/1/2022</th>\n",
       "      <td>24</td>\n",
       "    </tr>\n",
       "    <tr>\n",
       "      <th>1/10/2022</th>\n",
       "      <td>24</td>\n",
       "    </tr>\n",
       "    <tr>\n",
       "      <th>1/11/2022</th>\n",
       "      <td>24</td>\n",
       "    </tr>\n",
       "    <tr>\n",
       "      <th>1/12/2022</th>\n",
       "      <td>24</td>\n",
       "    </tr>\n",
       "    <tr>\n",
       "      <th>1/13/2022</th>\n",
       "      <td>24</td>\n",
       "    </tr>\n",
       "    <tr>\n",
       "      <th>...</th>\n",
       "      <td>...</td>\n",
       "    </tr>\n",
       "    <tr>\n",
       "      <th>9/5/2021</th>\n",
       "      <td>24</td>\n",
       "    </tr>\n",
       "    <tr>\n",
       "      <th>9/6/2021</th>\n",
       "      <td>24</td>\n",
       "    </tr>\n",
       "    <tr>\n",
       "      <th>9/7/2021</th>\n",
       "      <td>24</td>\n",
       "    </tr>\n",
       "    <tr>\n",
       "      <th>9/8/2021</th>\n",
       "      <td>24</td>\n",
       "    </tr>\n",
       "    <tr>\n",
       "      <th>9/9/2021</th>\n",
       "      <td>24</td>\n",
       "    </tr>\n",
       "  </tbody>\n",
       "</table>\n",
       "<p>299 rows × 1 columns</p>\n",
       "</div>"
      ],
      "text/plain": [
       "           hour\n",
       "date           \n",
       "1/1/2022     24\n",
       "1/10/2022    24\n",
       "1/11/2022    24\n",
       "1/12/2022    24\n",
       "1/13/2022    24\n",
       "...         ...\n",
       "9/5/2021     24\n",
       "9/6/2021     24\n",
       "9/7/2021     24\n",
       "9/8/2021     24\n",
       "9/9/2021     24\n",
       "\n",
       "[299 rows x 1 columns]"
      ]
     },
     "execution_count": 17,
     "metadata": {},
     "output_type": "execute_result"
    }
   ],
   "source": [
    "# Find the reading count for each day\n",
    "\n",
    "hour_count = pd.DataFrame(weather.groupby(['date']).count()['hour'])\n",
    "\n",
    "hour_count"
   ]
  },
  {
   "cell_type": "code",
   "execution_count": 18,
   "metadata": {},
   "outputs": [
    {
     "data": {
      "text/html": [
       "<div>\n",
       "<style scoped>\n",
       "    .dataframe tbody tr th:only-of-type {\n",
       "        vertical-align: middle;\n",
       "    }\n",
       "\n",
       "    .dataframe tbody tr th {\n",
       "        vertical-align: top;\n",
       "    }\n",
       "\n",
       "    .dataframe thead th {\n",
       "        text-align: right;\n",
       "    }\n",
       "</style>\n",
       "<table border=\"1\" class=\"dataframe\">\n",
       "  <thead>\n",
       "    <tr style=\"text-align: right;\">\n",
       "      <th></th>\n",
       "      <th>hour</th>\n",
       "    </tr>\n",
       "    <tr>\n",
       "      <th>date</th>\n",
       "      <th></th>\n",
       "    </tr>\n",
       "  </thead>\n",
       "  <tbody>\n",
       "    <tr>\n",
       "      <th>3/18/2022</th>\n",
       "      <td>7</td>\n",
       "    </tr>\n",
       "    <tr>\n",
       "      <th>4/11/2022</th>\n",
       "      <td>9</td>\n",
       "    </tr>\n",
       "    <tr>\n",
       "      <th>4/14/2022</th>\n",
       "      <td>10</td>\n",
       "    </tr>\n",
       "    <tr>\n",
       "      <th>6/21/2021</th>\n",
       "      <td>21</td>\n",
       "    </tr>\n",
       "    <tr>\n",
       "      <th>6/29/2021</th>\n",
       "      <td>23</td>\n",
       "    </tr>\n",
       "    <tr>\n",
       "      <th>6/30/2021</th>\n",
       "      <td>16</td>\n",
       "    </tr>\n",
       "    <tr>\n",
       "      <th>7/1/2021</th>\n",
       "      <td>1</td>\n",
       "    </tr>\n",
       "    <tr>\n",
       "      <th>7/2/2021</th>\n",
       "      <td>3</td>\n",
       "    </tr>\n",
       "    <tr>\n",
       "      <th>7/3/2021</th>\n",
       "      <td>3</td>\n",
       "    </tr>\n",
       "    <tr>\n",
       "      <th>7/4/2021</th>\n",
       "      <td>3</td>\n",
       "    </tr>\n",
       "    <tr>\n",
       "      <th>8/10/2021</th>\n",
       "      <td>9</td>\n",
       "    </tr>\n",
       "  </tbody>\n",
       "</table>\n",
       "</div>"
      ],
      "text/plain": [
       "           hour\n",
       "date           \n",
       "3/18/2022     7\n",
       "4/11/2022     9\n",
       "4/14/2022    10\n",
       "6/21/2021    21\n",
       "6/29/2021    23\n",
       "6/30/2021    16\n",
       "7/1/2021      1\n",
       "7/2/2021      3\n",
       "7/3/2021      3\n",
       "7/4/2021      3\n",
       "8/10/2021     9"
      ]
     },
     "execution_count": 18,
     "metadata": {},
     "output_type": "execute_result"
    }
   ],
   "source": [
    "# Find the reading counts that are less than 24\n",
    "\n",
    "hour_count[hour_count['hour']<24]"
   ]
  },
  {
   "cell_type": "code",
   "execution_count": 19,
   "metadata": {},
   "outputs": [
    {
     "data": {
      "text/plain": [
       "array(['3/18/2022', '4/11/2022', '4/14/2022', '6/21/2021', '6/29/2021',\n",
       "       '6/30/2021', '7/1/2021', '7/2/2021', '7/3/2021', '7/4/2021',\n",
       "       '8/10/2021'], dtype=object)"
      ]
     },
     "execution_count": 19,
     "metadata": {},
     "output_type": "execute_result"
    }
   ],
   "source": [
    "# Identify the dates of these records\n",
    "\n",
    "hour_count[hour_count['hour']<24].index.values"
   ]
  },
  {
   "cell_type": "code",
   "execution_count": 20,
   "metadata": {},
   "outputs": [
    {
     "data": {
      "text/html": [
       "<div>\n",
       "<style scoped>\n",
       "    .dataframe tbody tr th:only-of-type {\n",
       "        vertical-align: middle;\n",
       "    }\n",
       "\n",
       "    .dataframe tbody tr th {\n",
       "        vertical-align: top;\n",
       "    }\n",
       "\n",
       "    .dataframe thead th {\n",
       "        text-align: right;\n",
       "    }\n",
       "</style>\n",
       "<table border=\"1\" class=\"dataframe\">\n",
       "  <thead>\n",
       "    <tr style=\"text-align: right;\">\n",
       "      <th></th>\n",
       "      <th>date</th>\n",
       "      <th>hour</th>\n",
       "      <th>Air Temp F</th>\n",
       "    </tr>\n",
       "  </thead>\n",
       "  <tbody>\n",
       "    <tr>\n",
       "      <th>1368</th>\n",
       "      <td>6/21/2021</td>\n",
       "      <td>0</td>\n",
       "      <td>84.386</td>\n",
       "    </tr>\n",
       "    <tr>\n",
       "      <th>1369</th>\n",
       "      <td>6/21/2021</td>\n",
       "      <td>1</td>\n",
       "      <td>84.137</td>\n",
       "    </tr>\n",
       "    <tr>\n",
       "      <th>1370</th>\n",
       "      <td>6/21/2021</td>\n",
       "      <td>2</td>\n",
       "      <td>83.993</td>\n",
       "    </tr>\n",
       "    <tr>\n",
       "      <th>1371</th>\n",
       "      <td>6/21/2021</td>\n",
       "      <td>3</td>\n",
       "      <td>83.549</td>\n",
       "    </tr>\n",
       "    <tr>\n",
       "      <th>1372</th>\n",
       "      <td>6/21/2021</td>\n",
       "      <td>4</td>\n",
       "      <td>83.210</td>\n",
       "    </tr>\n",
       "    <tr>\n",
       "      <th>...</th>\n",
       "      <td>...</td>\n",
       "      <td>...</td>\n",
       "      <td>...</td>\n",
       "    </tr>\n",
       "    <tr>\n",
       "      <th>6892</th>\n",
       "      <td>4/14/2022</td>\n",
       "      <td>19</td>\n",
       "      <td>83.732</td>\n",
       "    </tr>\n",
       "    <tr>\n",
       "      <th>6893</th>\n",
       "      <td>4/14/2022</td>\n",
       "      <td>20</td>\n",
       "      <td>82.715</td>\n",
       "    </tr>\n",
       "    <tr>\n",
       "      <th>6894</th>\n",
       "      <td>4/14/2022</td>\n",
       "      <td>21</td>\n",
       "      <td>81.590</td>\n",
       "    </tr>\n",
       "    <tr>\n",
       "      <th>6895</th>\n",
       "      <td>4/14/2022</td>\n",
       "      <td>22</td>\n",
       "      <td>82.085</td>\n",
       "    </tr>\n",
       "    <tr>\n",
       "      <th>6896</th>\n",
       "      <td>4/14/2022</td>\n",
       "      <td>23</td>\n",
       "      <td>78.620</td>\n",
       "    </tr>\n",
       "  </tbody>\n",
       "</table>\n",
       "<p>105 rows × 3 columns</p>\n",
       "</div>"
      ],
      "text/plain": [
       "           date  hour  Air Temp F\n",
       "1368  6/21/2021     0      84.386\n",
       "1369  6/21/2021     1      84.137\n",
       "1370  6/21/2021     2      83.993\n",
       "1371  6/21/2021     3      83.549\n",
       "1372  6/21/2021     4      83.210\n",
       "...         ...   ...         ...\n",
       "6892  4/14/2022    19      83.732\n",
       "6893  4/14/2022    20      82.715\n",
       "6894  4/14/2022    21      81.590\n",
       "6895  4/14/2022    22      82.085\n",
       "6896  4/14/2022    23      78.620\n",
       "\n",
       "[105 rows x 3 columns]"
      ]
     },
     "execution_count": 20,
     "metadata": {},
     "output_type": "execute_result"
    }
   ],
   "source": [
    "# Find the corresponding index values in the original data set\n",
    "\n",
    "indexes = weather[weather['date'].isin(hour_count[hour_count['hour']<24].index.values)]\n",
    "\n",
    "indexes"
   ]
  },
  {
   "cell_type": "code",
   "execution_count": 21,
   "metadata": {},
   "outputs": [
    {
     "data": {
      "text/plain": [
       "(6912, 3)"
      ]
     },
     "execution_count": 21,
     "metadata": {},
     "output_type": "execute_result"
    }
   ],
   "source": [
    "# Remove these rows from the data set.\n",
    "\n",
    "weather = weather.drop(indexes.index, axis=0).reset_index(drop=True)\n",
    "\n",
    "weather.shape"
   ]
  },
  {
   "cell_type": "code",
   "execution_count": 22,
   "metadata": {},
   "outputs": [
    {
     "data": {
      "text/html": [
       "<div>\n",
       "<style scoped>\n",
       "    .dataframe tbody tr th:only-of-type {\n",
       "        vertical-align: middle;\n",
       "    }\n",
       "\n",
       "    .dataframe tbody tr th {\n",
       "        vertical-align: top;\n",
       "    }\n",
       "\n",
       "    .dataframe thead th {\n",
       "        text-align: right;\n",
       "    }\n",
       "</style>\n",
       "<table border=\"1\" class=\"dataframe\">\n",
       "  <thead>\n",
       "    <tr style=\"text-align: right;\">\n",
       "      <th></th>\n",
       "      <th>date</th>\n",
       "      <th>hour</th>\n",
       "      <th>Air Temp F</th>\n",
       "    </tr>\n",
       "  </thead>\n",
       "  <tbody>\n",
       "    <tr>\n",
       "      <th>0</th>\n",
       "      <td>4/25/2021</td>\n",
       "      <td>0</td>\n",
       "      <td>78.431</td>\n",
       "    </tr>\n",
       "    <tr>\n",
       "      <th>1</th>\n",
       "      <td>4/25/2021</td>\n",
       "      <td>1</td>\n",
       "      <td>77.801</td>\n",
       "    </tr>\n",
       "    <tr>\n",
       "      <th>2</th>\n",
       "      <td>4/25/2021</td>\n",
       "      <td>2</td>\n",
       "      <td>77.402</td>\n",
       "    </tr>\n",
       "    <tr>\n",
       "      <th>3</th>\n",
       "      <td>4/25/2021</td>\n",
       "      <td>3</td>\n",
       "      <td>77.135</td>\n",
       "    </tr>\n",
       "    <tr>\n",
       "      <th>4</th>\n",
       "      <td>4/25/2021</td>\n",
       "      <td>4</td>\n",
       "      <td>76.871</td>\n",
       "    </tr>\n",
       "  </tbody>\n",
       "</table>\n",
       "</div>"
      ],
      "text/plain": [
       "        date  hour  Air Temp F\n",
       "0  4/25/2021     0      78.431\n",
       "1  4/25/2021     1      77.801\n",
       "2  4/25/2021     2      77.402\n",
       "3  4/25/2021     3      77.135\n",
       "4  4/25/2021     4      76.871"
      ]
     },
     "execution_count": 22,
     "metadata": {},
     "output_type": "execute_result"
    }
   ],
   "source": [
    "weather.head()"
   ]
  },
  {
   "cell_type": "code",
   "execution_count": 23,
   "metadata": {},
   "outputs": [
    {
     "data": {
      "text/plain": [
       "288.0"
      ]
     },
     "execution_count": 23,
     "metadata": {},
     "output_type": "execute_result"
    }
   ],
   "source": [
    "# All remaining days have 24 readings (for 24 hours)\n",
    "# There are a total of 288 days\n",
    "\n",
    "weather.shape[0]/24"
   ]
  },
  {
   "cell_type": "code",
   "execution_count": 24,
   "metadata": {},
   "outputs": [
    {
     "data": {
      "image/png": "[encoded data removed]",
      "text/plain": [
       "<Figure size 640x480 with 1 Axes>"
      ]
     },
     "metadata": {},
     "output_type": "display_data"
    }
   ],
   "source": [
    "plt.plot(weather['Air Temp F'])\n",
    "plt.show()"
   ]
  },
  {
   "cell_type": "code",
   "execution_count": 25,
   "metadata": {},
   "outputs": [
    {
     "data": {
      "text/plain": [
       "array([[78.431     , 77.801     , 77.40199999, ..., 82.54700001,\n",
       "        81.716     , 79.196     ],\n",
       "       [76.02200001, 73.121     , 71.68699999, ..., 84.82699999,\n",
       "        84.57499999, 82.52900001],\n",
       "       [80.843     , 78.87500001, 77.05099999, ..., 84.52700001,\n",
       "        83.99899999, 82.44199999],\n",
       "       ...,\n",
       "       [78.26      , 77.54      , 77.495     , ..., 83.98999999,\n",
       "        83.3       , 79.736     ],\n",
       "       [78.305     , 77.63      , 77.432     , ..., 84.245     ,\n",
       "        83.084     , 79.376     ],\n",
       "       [77.27      , 76.136     , 75.29      , ..., 83.192     ,\n",
       "        82.67      , 78.26      ]])"
      ]
     },
     "execution_count": 25,
     "metadata": {},
     "output_type": "execute_result"
    }
   ],
   "source": [
    "# Re-organize the data set by day and hours\n",
    "\n",
    "temp = np.array(weather['Air Temp F']).reshape(288,24)\n",
    "\n",
    "temp"
   ]
  },
  {
   "cell_type": "code",
   "execution_count": 26,
   "metadata": {},
   "outputs": [
    {
     "data": {
      "text/html": [
       "<div>\n",
       "<style scoped>\n",
       "    .dataframe tbody tr th:only-of-type {\n",
       "        vertical-align: middle;\n",
       "    }\n",
       "\n",
       "    .dataframe tbody tr th {\n",
       "        vertical-align: top;\n",
       "    }\n",
       "\n",
       "    .dataframe thead th {\n",
       "        text-align: right;\n",
       "    }\n",
       "</style>\n",
       "<table border=\"1\" class=\"dataframe\">\n",
       "  <thead>\n",
       "    <tr style=\"text-align: right;\">\n",
       "      <th></th>\n",
       "      <th>0</th>\n",
       "      <th>1</th>\n",
       "      <th>2</th>\n",
       "      <th>3</th>\n",
       "      <th>4</th>\n",
       "      <th>5</th>\n",
       "      <th>6</th>\n",
       "      <th>7</th>\n",
       "      <th>8</th>\n",
       "      <th>9</th>\n",
       "      <th>...</th>\n",
       "      <th>14</th>\n",
       "      <th>15</th>\n",
       "      <th>16</th>\n",
       "      <th>17</th>\n",
       "      <th>18</th>\n",
       "      <th>19</th>\n",
       "      <th>20</th>\n",
       "      <th>21</th>\n",
       "      <th>22</th>\n",
       "      <th>23</th>\n",
       "    </tr>\n",
       "  </thead>\n",
       "  <tbody>\n",
       "    <tr>\n",
       "      <th>0</th>\n",
       "      <td>78.431</td>\n",
       "      <td>77.801</td>\n",
       "      <td>77.402</td>\n",
       "      <td>77.135</td>\n",
       "      <td>76.871</td>\n",
       "      <td>76.814</td>\n",
       "      <td>76.892</td>\n",
       "      <td>76.925</td>\n",
       "      <td>76.580</td>\n",
       "      <td>76.343</td>\n",
       "      <td>...</td>\n",
       "      <td>81.584</td>\n",
       "      <td>81.575</td>\n",
       "      <td>82.445</td>\n",
       "      <td>84.731</td>\n",
       "      <td>84.272</td>\n",
       "      <td>83.252</td>\n",
       "      <td>83.447</td>\n",
       "      <td>82.547</td>\n",
       "      <td>81.716</td>\n",
       "      <td>79.196</td>\n",
       "    </tr>\n",
       "    <tr>\n",
       "      <th>1</th>\n",
       "      <td>76.022</td>\n",
       "      <td>73.121</td>\n",
       "      <td>71.687</td>\n",
       "      <td>70.664</td>\n",
       "      <td>69.560</td>\n",
       "      <td>68.864</td>\n",
       "      <td>68.603</td>\n",
       "      <td>68.360</td>\n",
       "      <td>68.360</td>\n",
       "      <td>68.267</td>\n",
       "      <td>...</td>\n",
       "      <td>75.500</td>\n",
       "      <td>77.594</td>\n",
       "      <td>79.691</td>\n",
       "      <td>81.458</td>\n",
       "      <td>83.012</td>\n",
       "      <td>84.080</td>\n",
       "      <td>84.323</td>\n",
       "      <td>84.827</td>\n",
       "      <td>84.575</td>\n",
       "      <td>82.529</td>\n",
       "    </tr>\n",
       "    <tr>\n",
       "      <th>2</th>\n",
       "      <td>80.843</td>\n",
       "      <td>78.875</td>\n",
       "      <td>77.051</td>\n",
       "      <td>74.675</td>\n",
       "      <td>73.499</td>\n",
       "      <td>72.950</td>\n",
       "      <td>72.221</td>\n",
       "      <td>71.330</td>\n",
       "      <td>71.048</td>\n",
       "      <td>70.766</td>\n",
       "      <td>...</td>\n",
       "      <td>77.222</td>\n",
       "      <td>79.241</td>\n",
       "      <td>80.933</td>\n",
       "      <td>81.602</td>\n",
       "      <td>82.478</td>\n",
       "      <td>83.795</td>\n",
       "      <td>84.146</td>\n",
       "      <td>84.527</td>\n",
       "      <td>83.999</td>\n",
       "      <td>82.442</td>\n",
       "    </tr>\n",
       "    <tr>\n",
       "      <th>3</th>\n",
       "      <td>80.576</td>\n",
       "      <td>78.731</td>\n",
       "      <td>76.739</td>\n",
       "      <td>74.819</td>\n",
       "      <td>73.829</td>\n",
       "      <td>73.052</td>\n",
       "      <td>72.575</td>\n",
       "      <td>71.876</td>\n",
       "      <td>71.306</td>\n",
       "      <td>70.793</td>\n",
       "      <td>...</td>\n",
       "      <td>77.657</td>\n",
       "      <td>79.562</td>\n",
       "      <td>81.014</td>\n",
       "      <td>81.848</td>\n",
       "      <td>82.955</td>\n",
       "      <td>83.813</td>\n",
       "      <td>83.996</td>\n",
       "      <td>84.437</td>\n",
       "      <td>82.913</td>\n",
       "      <td>80.210</td>\n",
       "    </tr>\n",
       "    <tr>\n",
       "      <th>4</th>\n",
       "      <td>78.632</td>\n",
       "      <td>77.618</td>\n",
       "      <td>76.040</td>\n",
       "      <td>75.278</td>\n",
       "      <td>74.918</td>\n",
       "      <td>74.561</td>\n",
       "      <td>73.859</td>\n",
       "      <td>73.127</td>\n",
       "      <td>72.785</td>\n",
       "      <td>72.575</td>\n",
       "      <td>...</td>\n",
       "      <td>79.859</td>\n",
       "      <td>82.376</td>\n",
       "      <td>85.808</td>\n",
       "      <td>86.831</td>\n",
       "      <td>86.108</td>\n",
       "      <td>86.459</td>\n",
       "      <td>86.003</td>\n",
       "      <td>84.902</td>\n",
       "      <td>84.413</td>\n",
       "      <td>81.434</td>\n",
       "    </tr>\n",
       "    <tr>\n",
       "      <th>...</th>\n",
       "      <td>...</td>\n",
       "      <td>...</td>\n",
       "      <td>...</td>\n",
       "      <td>...</td>\n",
       "      <td>...</td>\n",
       "      <td>...</td>\n",
       "      <td>...</td>\n",
       "      <td>...</td>\n",
       "      <td>...</td>\n",
       "      <td>...</td>\n",
       "      <td>...</td>\n",
       "      <td>...</td>\n",
       "      <td>...</td>\n",
       "      <td>...</td>\n",
       "      <td>...</td>\n",
       "      <td>...</td>\n",
       "      <td>...</td>\n",
       "      <td>...</td>\n",
       "      <td>...</td>\n",
       "      <td>...</td>\n",
       "      <td>...</td>\n",
       "    </tr>\n",
       "    <tr>\n",
       "      <th>283</th>\n",
       "      <td>76.910</td>\n",
       "      <td>76.145</td>\n",
       "      <td>75.590</td>\n",
       "      <td>75.380</td>\n",
       "      <td>75.245</td>\n",
       "      <td>74.525</td>\n",
       "      <td>74.750</td>\n",
       "      <td>74.300</td>\n",
       "      <td>74.030</td>\n",
       "      <td>73.040</td>\n",
       "      <td>...</td>\n",
       "      <td>83.300</td>\n",
       "      <td>84.920</td>\n",
       "      <td>81.428</td>\n",
       "      <td>83.210</td>\n",
       "      <td>83.750</td>\n",
       "      <td>85.400</td>\n",
       "      <td>86.225</td>\n",
       "      <td>87.980</td>\n",
       "      <td>86.540</td>\n",
       "      <td>76.784</td>\n",
       "    </tr>\n",
       "    <tr>\n",
       "      <th>284</th>\n",
       "      <td>75.200</td>\n",
       "      <td>77.585</td>\n",
       "      <td>77.060</td>\n",
       "      <td>76.055</td>\n",
       "      <td>74.948</td>\n",
       "      <td>74.030</td>\n",
       "      <td>73.400</td>\n",
       "      <td>72.500</td>\n",
       "      <td>71.915</td>\n",
       "      <td>71.600</td>\n",
       "      <td>...</td>\n",
       "      <td>77.108</td>\n",
       "      <td>79.916</td>\n",
       "      <td>83.012</td>\n",
       "      <td>83.930</td>\n",
       "      <td>83.948</td>\n",
       "      <td>86.000</td>\n",
       "      <td>87.215</td>\n",
       "      <td>87.800</td>\n",
       "      <td>86.540</td>\n",
       "      <td>80.168</td>\n",
       "    </tr>\n",
       "    <tr>\n",
       "      <th>285</th>\n",
       "      <td>78.260</td>\n",
       "      <td>77.540</td>\n",
       "      <td>77.495</td>\n",
       "      <td>77.540</td>\n",
       "      <td>77.540</td>\n",
       "      <td>76.730</td>\n",
       "      <td>75.920</td>\n",
       "      <td>75.245</td>\n",
       "      <td>74.525</td>\n",
       "      <td>73.400</td>\n",
       "      <td>...</td>\n",
       "      <td>80.330</td>\n",
       "      <td>82.625</td>\n",
       "      <td>84.695</td>\n",
       "      <td>85.640</td>\n",
       "      <td>85.460</td>\n",
       "      <td>84.992</td>\n",
       "      <td>84.470</td>\n",
       "      <td>83.990</td>\n",
       "      <td>83.300</td>\n",
       "      <td>79.736</td>\n",
       "    </tr>\n",
       "    <tr>\n",
       "      <th>286</th>\n",
       "      <td>78.305</td>\n",
       "      <td>77.630</td>\n",
       "      <td>77.432</td>\n",
       "      <td>77.135</td>\n",
       "      <td>77.360</td>\n",
       "      <td>76.640</td>\n",
       "      <td>76.505</td>\n",
       "      <td>75.980</td>\n",
       "      <td>75.065</td>\n",
       "      <td>74.120</td>\n",
       "      <td>...</td>\n",
       "      <td>80.810</td>\n",
       "      <td>83.444</td>\n",
       "      <td>84.155</td>\n",
       "      <td>83.435</td>\n",
       "      <td>80.510</td>\n",
       "      <td>86.585</td>\n",
       "      <td>85.235</td>\n",
       "      <td>84.245</td>\n",
       "      <td>83.084</td>\n",
       "      <td>79.376</td>\n",
       "    </tr>\n",
       "    <tr>\n",
       "      <th>287</th>\n",
       "      <td>77.270</td>\n",
       "      <td>76.136</td>\n",
       "      <td>75.290</td>\n",
       "      <td>74.948</td>\n",
       "      <td>74.570</td>\n",
       "      <td>74.210</td>\n",
       "      <td>74.030</td>\n",
       "      <td>74.300</td>\n",
       "      <td>74.060</td>\n",
       "      <td>72.230</td>\n",
       "      <td>...</td>\n",
       "      <td>73.976</td>\n",
       "      <td>74.930</td>\n",
       "      <td>78.485</td>\n",
       "      <td>79.916</td>\n",
       "      <td>81.635</td>\n",
       "      <td>83.075</td>\n",
       "      <td>83.435</td>\n",
       "      <td>83.192</td>\n",
       "      <td>82.670</td>\n",
       "      <td>78.260</td>\n",
       "    </tr>\n",
       "  </tbody>\n",
       "</table>\n",
       "<p>288 rows × 24 columns</p>\n",
       "</div>"
      ],
      "text/plain": [
       "         0       1       2       3       4       5       6       7       8   \\\n",
       "0    78.431  77.801  77.402  77.135  76.871  76.814  76.892  76.925  76.580   \n",
       "1    76.022  73.121  71.687  70.664  69.560  68.864  68.603  68.360  68.360   \n",
       "2    80.843  78.875  77.051  74.675  73.499  72.950  72.221  71.330  71.048   \n",
       "3    80.576  78.731  76.739  74.819  73.829  73.052  72.575  71.876  71.306   \n",
       "4    78.632  77.618  76.040  75.278  74.918  74.561  73.859  73.127  72.785   \n",
       "..      ...     ...     ...     ...     ...     ...     ...     ...     ...   \n",
       "283  76.910  76.145  75.590  75.380  75.245  74.525  74.750  74.300  74.030   \n",
       "284  75.200  77.585  77.060  76.055  74.948  74.030  73.400  72.500  71.915   \n",
       "285  78.260  77.540  77.495  77.540  77.540  76.730  75.920  75.245  74.525   \n",
       "286  78.305  77.630  77.432  77.135  77.360  76.640  76.505  75.980  75.065   \n",
       "287  77.270  76.136  75.290  74.948  74.570  74.210  74.030  74.300  74.060   \n",
       "\n",
       "         9   ...      14      15      16      17      18      19      20  \\\n",
       "0    76.343  ...  81.584  81.575  82.445  84.731  84.272  83.252  83.447   \n",
       "1    68.267  ...  75.500  77.594  79.691  81.458  83.012  84.080  84.323   \n",
       "2    70.766  ...  77.222  79.241  80.933  81.602  82.478  83.795  84.146   \n",
       "3    70.793  ...  77.657  79.562  81.014  81.848  82.955  83.813  83.996   \n",
       "4    72.575  ...  79.859  82.376  85.808  86.831  86.108  86.459  86.003   \n",
       "..      ...  ...     ...     ...     ...     ...     ...     ...     ...   \n",
       "283  73.040  ...  83.300  84.920  81.428  83.210  83.750  85.400  86.225   \n",
       "284  71.600  ...  77.108  79.916  83.012  83.930  83.948  86.000  87.215   \n",
       "285  73.400  ...  80.330  82.625  84.695  85.640  85.460  84.992  84.470   \n",
       "286  74.120  ...  80.810  83.444  84.155  83.435  80.510  86.585  85.235   \n",
       "287  72.230  ...  73.976  74.930  78.485  79.916  81.635  83.075  83.435   \n",
       "\n",
       "         21      22      23  \n",
       "0    82.547  81.716  79.196  \n",
       "1    84.827  84.575  82.529  \n",
       "2    84.527  83.999  82.442  \n",
       "3    84.437  82.913  80.210  \n",
       "4    84.902  84.413  81.434  \n",
       "..      ...     ...     ...  \n",
       "283  87.980  86.540  76.784  \n",
       "284  87.800  86.540  80.168  \n",
       "285  83.990  83.300  79.736  \n",
       "286  84.245  83.084  79.376  \n",
       "287  83.192  82.670  78.260  \n",
       "\n",
       "[288 rows x 24 columns]"
      ]
     },
     "execution_count": 26,
     "metadata": {},
     "output_type": "execute_result"
    }
   ],
   "source": [
    "# Convert to dataframe\n",
    "\n",
    "temp_df = pd.DataFrame(temp, columns=np.arange(0,24,1))\n",
    "\n",
    "temp_df"
   ]
  },
  {
   "cell_type": "markdown",
   "metadata": {},
   "source": [
    "# Reshape for Standardizing Data"
   ]
  },
  {
   "cell_type": "code",
   "execution_count": 27,
   "metadata": {},
   "outputs": [
    {
     "data": {
      "text/plain": [
       "(6912, 1)"
      ]
     },
     "execution_count": 27,
     "metadata": {},
     "output_type": "execute_result"
    }
   ],
   "source": [
    "# Let's create a single sequence (i.e., feature) for standardization\n",
    "\n",
    "temp_1feature = np.array(temp_df).ravel().reshape(-1,1)\n",
    "\n",
    "temp_1feature.shape"
   ]
  },
  {
   "cell_type": "code",
   "execution_count": 28,
   "metadata": {
    "scrolled": true
   },
   "outputs": [
    {
     "data": {
      "text/plain": [
       "array([[78.431     ],\n",
       "       [77.801     ],\n",
       "       [77.40199999],\n",
       "       ...,\n",
       "       [83.192     ],\n",
       "       [82.67      ],\n",
       "       [78.26      ]])"
      ]
     },
     "execution_count": 28,
     "metadata": {},
     "output_type": "execute_result"
    }
   ],
   "source": [
    "temp_1feature"
   ]
  },
  {
   "cell_type": "markdown",
   "metadata": {},
   "source": [
    "## Standardize the values"
   ]
  },
  {
   "cell_type": "code",
   "execution_count": 29,
   "metadata": {},
   "outputs": [],
   "source": [
    "# Next, standardize\n",
    "\n",
    "from sklearn.preprocessing import StandardScaler\n",
    "\n",
    "scaler = StandardScaler()\n",
    "\n",
    "temp_std = scaler.fit_transform(temp_1feature)"
   ]
  },
  {
   "cell_type": "markdown",
   "metadata": {},
   "source": [
    "## Reshape the data back to 24-hour format"
   ]
  },
  {
   "cell_type": "code",
   "execution_count": 30,
   "metadata": {},
   "outputs": [
    {
     "data": {
      "text/plain": [
       "(288, 24)"
      ]
     },
     "execution_count": 30,
     "metadata": {},
     "output_type": "execute_result"
    }
   ],
   "source": [
    "temp_reshaped = temp_std.reshape(288,24)\n",
    "\n",
    "temp_reshaped.shape"
   ]
  },
  {
   "cell_type": "code",
   "execution_count": 31,
   "metadata": {},
   "outputs": [
    {
     "data": {
      "text/html": [
       "<div>\n",
       "<style scoped>\n",
       "    .dataframe tbody tr th:only-of-type {\n",
       "        vertical-align: middle;\n",
       "    }\n",
       "\n",
       "    .dataframe tbody tr th {\n",
       "        vertical-align: top;\n",
       "    }\n",
       "\n",
       "    .dataframe thead th {\n",
       "        text-align: right;\n",
       "    }\n",
       "</style>\n",
       "<table border=\"1\" class=\"dataframe\">\n",
       "  <thead>\n",
       "    <tr style=\"text-align: right;\">\n",
       "      <th></th>\n",
       "      <th>0</th>\n",
       "      <th>1</th>\n",
       "      <th>2</th>\n",
       "      <th>3</th>\n",
       "      <th>4</th>\n",
       "      <th>5</th>\n",
       "      <th>6</th>\n",
       "      <th>7</th>\n",
       "      <th>8</th>\n",
       "      <th>9</th>\n",
       "      <th>...</th>\n",
       "      <th>14</th>\n",
       "      <th>15</th>\n",
       "      <th>16</th>\n",
       "      <th>17</th>\n",
       "      <th>18</th>\n",
       "      <th>19</th>\n",
       "      <th>20</th>\n",
       "      <th>21</th>\n",
       "      <th>22</th>\n",
       "      <th>23</th>\n",
       "    </tr>\n",
       "  </thead>\n",
       "  <tbody>\n",
       "    <tr>\n",
       "      <th>0</th>\n",
       "      <td>0.391232</td>\n",
       "      <td>0.325683</td>\n",
       "      <td>0.284169</td>\n",
       "      <td>0.256388</td>\n",
       "      <td>0.228920</td>\n",
       "      <td>0.222990</td>\n",
       "      <td>0.231105</td>\n",
       "      <td>0.234539</td>\n",
       "      <td>0.198643</td>\n",
       "      <td>0.173984</td>\n",
       "      <td>...</td>\n",
       "      <td>0.719288</td>\n",
       "      <td>0.718351</td>\n",
       "      <td>0.808871</td>\n",
       "      <td>1.046720</td>\n",
       "      <td>0.998963</td>\n",
       "      <td>0.892836</td>\n",
       "      <td>0.913125</td>\n",
       "      <td>0.819484</td>\n",
       "      <td>0.733022</td>\n",
       "      <td>0.470827</td>\n",
       "    </tr>\n",
       "    <tr>\n",
       "      <th>1</th>\n",
       "      <td>0.140586</td>\n",
       "      <td>-0.161251</td>\n",
       "      <td>-0.310453</td>\n",
       "      <td>-0.416891</td>\n",
       "      <td>-0.531758</td>\n",
       "      <td>-0.604174</td>\n",
       "      <td>-0.631330</td>\n",
       "      <td>-0.656613</td>\n",
       "      <td>-0.656613</td>\n",
       "      <td>-0.666289</td>\n",
       "      <td>...</td>\n",
       "      <td>0.086274</td>\n",
       "      <td>0.304145</td>\n",
       "      <td>0.522329</td>\n",
       "      <td>0.706178</td>\n",
       "      <td>0.867865</td>\n",
       "      <td>0.978986</td>\n",
       "      <td>1.004269</td>\n",
       "      <td>1.056708</td>\n",
       "      <td>1.030489</td>\n",
       "      <td>0.817611</td>\n",
       "    </tr>\n",
       "    <tr>\n",
       "      <th>2</th>\n",
       "      <td>0.642190</td>\n",
       "      <td>0.437428</td>\n",
       "      <td>0.247649</td>\n",
       "      <td>0.000436</td>\n",
       "      <td>-0.121922</td>\n",
       "      <td>-0.179043</td>\n",
       "      <td>-0.254892</td>\n",
       "      <td>-0.347597</td>\n",
       "      <td>-0.376938</td>\n",
       "      <td>-0.406279</td>\n",
       "      <td>...</td>\n",
       "      <td>0.265440</td>\n",
       "      <td>0.475509</td>\n",
       "      <td>0.651554</td>\n",
       "      <td>0.721161</td>\n",
       "      <td>0.812305</td>\n",
       "      <td>0.949333</td>\n",
       "      <td>0.985853</td>\n",
       "      <td>1.025494</td>\n",
       "      <td>0.970558</td>\n",
       "      <td>0.808559</td>\n",
       "    </tr>\n",
       "    <tr>\n",
       "      <th>3</th>\n",
       "      <td>0.614410</td>\n",
       "      <td>0.422445</td>\n",
       "      <td>0.215186</td>\n",
       "      <td>0.015419</td>\n",
       "      <td>-0.087587</td>\n",
       "      <td>-0.168430</td>\n",
       "      <td>-0.218060</td>\n",
       "      <td>-0.290788</td>\n",
       "      <td>-0.350094</td>\n",
       "      <td>-0.403470</td>\n",
       "      <td>...</td>\n",
       "      <td>0.310700</td>\n",
       "      <td>0.508907</td>\n",
       "      <td>0.659982</td>\n",
       "      <td>0.746756</td>\n",
       "      <td>0.861934</td>\n",
       "      <td>0.951206</td>\n",
       "      <td>0.970246</td>\n",
       "      <td>1.016130</td>\n",
       "      <td>0.857565</td>\n",
       "      <td>0.576329</td>\n",
       "    </tr>\n",
       "    <tr>\n",
       "      <th>4</th>\n",
       "      <td>0.412145</td>\n",
       "      <td>0.306642</td>\n",
       "      <td>0.142458</td>\n",
       "      <td>0.063175</td>\n",
       "      <td>0.025719</td>\n",
       "      <td>-0.011425</td>\n",
       "      <td>-0.084465</td>\n",
       "      <td>-0.160627</td>\n",
       "      <td>-0.196210</td>\n",
       "      <td>-0.218060</td>\n",
       "      <td>...</td>\n",
       "      <td>0.539809</td>\n",
       "      <td>0.801692</td>\n",
       "      <td>1.158777</td>\n",
       "      <td>1.265216</td>\n",
       "      <td>1.189991</td>\n",
       "      <td>1.226511</td>\n",
       "      <td>1.179066</td>\n",
       "      <td>1.064511</td>\n",
       "      <td>1.013633</td>\n",
       "      <td>0.703681</td>\n",
       "    </tr>\n",
       "    <tr>\n",
       "      <th>...</th>\n",
       "      <td>...</td>\n",
       "      <td>...</td>\n",
       "      <td>...</td>\n",
       "      <td>...</td>\n",
       "      <td>...</td>\n",
       "      <td>...</td>\n",
       "      <td>...</td>\n",
       "      <td>...</td>\n",
       "      <td>...</td>\n",
       "      <td>...</td>\n",
       "      <td>...</td>\n",
       "      <td>...</td>\n",
       "      <td>...</td>\n",
       "      <td>...</td>\n",
       "      <td>...</td>\n",
       "      <td>...</td>\n",
       "      <td>...</td>\n",
       "      <td>...</td>\n",
       "      <td>...</td>\n",
       "      <td>...</td>\n",
       "      <td>...</td>\n",
       "    </tr>\n",
       "    <tr>\n",
       "      <th>283</th>\n",
       "      <td>0.232978</td>\n",
       "      <td>0.153383</td>\n",
       "      <td>0.095638</td>\n",
       "      <td>0.073788</td>\n",
       "      <td>0.059742</td>\n",
       "      <td>-0.015171</td>\n",
       "      <td>0.008239</td>\n",
       "      <td>-0.038581</td>\n",
       "      <td>-0.066674</td>\n",
       "      <td>-0.169679</td>\n",
       "      <td>...</td>\n",
       "      <td>0.897830</td>\n",
       "      <td>1.066384</td>\n",
       "      <td>0.703057</td>\n",
       "      <td>0.888466</td>\n",
       "      <td>0.944651</td>\n",
       "      <td>1.116326</td>\n",
       "      <td>1.202164</td>\n",
       "      <td>1.384764</td>\n",
       "      <td>1.234938</td>\n",
       "      <td>0.219868</td>\n",
       "    </tr>\n",
       "    <tr>\n",
       "      <th>284</th>\n",
       "      <td>0.055060</td>\n",
       "      <td>0.303209</td>\n",
       "      <td>0.248585</td>\n",
       "      <td>0.144019</td>\n",
       "      <td>0.028840</td>\n",
       "      <td>-0.066674</td>\n",
       "      <td>-0.132222</td>\n",
       "      <td>-0.225864</td>\n",
       "      <td>-0.286730</td>\n",
       "      <td>-0.319505</td>\n",
       "      <td>...</td>\n",
       "      <td>0.253579</td>\n",
       "      <td>0.545740</td>\n",
       "      <td>0.867865</td>\n",
       "      <td>0.963379</td>\n",
       "      <td>0.965252</td>\n",
       "      <td>1.178754</td>\n",
       "      <td>1.305169</td>\n",
       "      <td>1.366036</td>\n",
       "      <td>1.234938</td>\n",
       "      <td>0.571959</td>\n",
       "    </tr>\n",
       "    <tr>\n",
       "      <th>285</th>\n",
       "      <td>0.373440</td>\n",
       "      <td>0.298527</td>\n",
       "      <td>0.293845</td>\n",
       "      <td>0.298527</td>\n",
       "      <td>0.298527</td>\n",
       "      <td>0.214250</td>\n",
       "      <td>0.129973</td>\n",
       "      <td>0.059742</td>\n",
       "      <td>-0.015171</td>\n",
       "      <td>-0.132222</td>\n",
       "      <td>...</td>\n",
       "      <td>0.588814</td>\n",
       "      <td>0.827599</td>\n",
       "      <td>1.042974</td>\n",
       "      <td>1.141297</td>\n",
       "      <td>1.122569</td>\n",
       "      <td>1.073876</td>\n",
       "      <td>1.019564</td>\n",
       "      <td>0.969622</td>\n",
       "      <td>0.897830</td>\n",
       "      <td>0.527011</td>\n",
       "    </tr>\n",
       "    <tr>\n",
       "      <th>286</th>\n",
       "      <td>0.378122</td>\n",
       "      <td>0.307891</td>\n",
       "      <td>0.287290</td>\n",
       "      <td>0.256388</td>\n",
       "      <td>0.279799</td>\n",
       "      <td>0.204886</td>\n",
       "      <td>0.190840</td>\n",
       "      <td>0.136216</td>\n",
       "      <td>0.041014</td>\n",
       "      <td>-0.057309</td>\n",
       "      <td>...</td>\n",
       "      <td>0.638756</td>\n",
       "      <td>0.912813</td>\n",
       "      <td>0.986789</td>\n",
       "      <td>0.911876</td>\n",
       "      <td>0.607543</td>\n",
       "      <td>1.239620</td>\n",
       "      <td>1.099159</td>\n",
       "      <td>0.996153</td>\n",
       "      <td>0.875356</td>\n",
       "      <td>0.489555</td>\n",
       "    </tr>\n",
       "    <tr>\n",
       "      <th>287</th>\n",
       "      <td>0.270435</td>\n",
       "      <td>0.152447</td>\n",
       "      <td>0.064424</td>\n",
       "      <td>0.028840</td>\n",
       "      <td>-0.010489</td>\n",
       "      <td>-0.047945</td>\n",
       "      <td>-0.066674</td>\n",
       "      <td>-0.038581</td>\n",
       "      <td>-0.063552</td>\n",
       "      <td>-0.253956</td>\n",
       "      <td>...</td>\n",
       "      <td>-0.072292</td>\n",
       "      <td>0.026968</td>\n",
       "      <td>0.396850</td>\n",
       "      <td>0.545740</td>\n",
       "      <td>0.724594</td>\n",
       "      <td>0.874420</td>\n",
       "      <td>0.911876</td>\n",
       "      <td>0.886593</td>\n",
       "      <td>0.832281</td>\n",
       "      <td>0.373440</td>\n",
       "    </tr>\n",
       "  </tbody>\n",
       "</table>\n",
       "<p>288 rows × 24 columns</p>\n",
       "</div>"
      ],
      "text/plain": [
       "           0         1         2         3         4         5         6   \\\n",
       "0    0.391232  0.325683  0.284169  0.256388  0.228920  0.222990  0.231105   \n",
       "1    0.140586 -0.161251 -0.310453 -0.416891 -0.531758 -0.604174 -0.631330   \n",
       "2    0.642190  0.437428  0.247649  0.000436 -0.121922 -0.179043 -0.254892   \n",
       "3    0.614410  0.422445  0.215186  0.015419 -0.087587 -0.168430 -0.218060   \n",
       "4    0.412145  0.306642  0.142458  0.063175  0.025719 -0.011425 -0.084465   \n",
       "..        ...       ...       ...       ...       ...       ...       ...   \n",
       "283  0.232978  0.153383  0.095638  0.073788  0.059742 -0.015171  0.008239   \n",
       "284  0.055060  0.303209  0.248585  0.144019  0.028840 -0.066674 -0.132222   \n",
       "285  0.373440  0.298527  0.293845  0.298527  0.298527  0.214250  0.129973   \n",
       "286  0.378122  0.307891  0.287290  0.256388  0.279799  0.204886  0.190840   \n",
       "287  0.270435  0.152447  0.064424  0.028840 -0.010489 -0.047945 -0.066674   \n",
       "\n",
       "           7         8         9   ...        14        15        16  \\\n",
       "0    0.234539  0.198643  0.173984  ...  0.719288  0.718351  0.808871   \n",
       "1   -0.656613 -0.656613 -0.666289  ...  0.086274  0.304145  0.522329   \n",
       "2   -0.347597 -0.376938 -0.406279  ...  0.265440  0.475509  0.651554   \n",
       "3   -0.290788 -0.350094 -0.403470  ...  0.310700  0.508907  0.659982   \n",
       "4   -0.160627 -0.196210 -0.218060  ...  0.539809  0.801692  1.158777   \n",
       "..        ...       ...       ...  ...       ...       ...       ...   \n",
       "283 -0.038581 -0.066674 -0.169679  ...  0.897830  1.066384  0.703057   \n",
       "284 -0.225864 -0.286730 -0.319505  ...  0.253579  0.545740  0.867865   \n",
       "285  0.059742 -0.015171 -0.132222  ...  0.588814  0.827599  1.042974   \n",
       "286  0.136216  0.041014 -0.057309  ...  0.638756  0.912813  0.986789   \n",
       "287 -0.038581 -0.063552 -0.253956  ... -0.072292  0.026968  0.396850   \n",
       "\n",
       "           17        18        19        20        21        22        23  \n",
       "0    1.046720  0.998963  0.892836  0.913125  0.819484  0.733022  0.470827  \n",
       "1    0.706178  0.867865  0.978986  1.004269  1.056708  1.030489  0.817611  \n",
       "2    0.721161  0.812305  0.949333  0.985853  1.025494  0.970558  0.808559  \n",
       "3    0.746756  0.861934  0.951206  0.970246  1.016130  0.857565  0.576329  \n",
       "4    1.265216  1.189991  1.226511  1.179066  1.064511  1.013633  0.703681  \n",
       "..        ...       ...       ...       ...       ...       ...       ...  \n",
       "283  0.888466  0.944651  1.116326  1.202164  1.384764  1.234938  0.219868  \n",
       "284  0.963379  0.965252  1.178754  1.305169  1.366036  1.234938  0.571959  \n",
       "285  1.141297  1.122569  1.073876  1.019564  0.969622  0.897830  0.527011  \n",
       "286  0.911876  0.607543  1.239620  1.099159  0.996153  0.875356  0.489555  \n",
       "287  0.545740  0.724594  0.874420  0.911876  0.886593  0.832281  0.373440  \n",
       "\n",
       "[288 rows x 24 columns]"
      ]
     },
     "execution_count": 31,
     "metadata": {},
     "output_type": "execute_result"
    }
   ],
   "source": [
    "#Pandas version of the reshaped data\n",
    "\n",
    "pd.DataFrame(temp_reshaped, columns=np.arange(0,24,1))"
   ]
  },
  {
   "attachments": {},
   "cell_type": "markdown",
   "metadata": {},
   "source": [
    "# Split the Data\n",
    "\n",
    "**In certain cases, we cannot use a random split. For example, if we are trying to predict the stock market, we cannot use a random split. We need to use a chronological split.**\n",
    "\n",
    "BUT, keep in mind if we have something like hourly readings of daily temperature, we can use a random split on days, but the sequence of the temperature within the day is important to remain sequential.\n",
    "\n",
    "In this case, we are using a random split because each day as an independent sample."
   ]
  },
  {
   "cell_type": "code",
   "execution_count": 32,
   "metadata": {},
   "outputs": [],
   "source": [
    "from sklearn.model_selection import train_test_split\n",
    "\n",
    "train, test = train_test_split(temp_reshaped, test_size=0.3)\n",
    "\n",
    "# if we neede to maintain the ordering of the data, we can use the following code to split the data\n",
    "#split_point = int(len(temp_reshaped)*0.7)\n",
    "#train, test = temp_reshaped[:split_point], temp_reshaped[split_point:]"
   ]
  },
  {
   "cell_type": "code",
   "execution_count": 33,
   "metadata": {},
   "outputs": [
    {
     "data": {
      "text/plain": [
       "(201, 24)"
      ]
     },
     "execution_count": 33,
     "metadata": {},
     "output_type": "execute_result"
    }
   ],
   "source": [
    "train.shape"
   ]
  },
  {
   "cell_type": "code",
   "execution_count": 34,
   "metadata": {},
   "outputs": [
    {
     "data": {
      "text/plain": [
       "array([[-1.98631703, -1.8364912 , -1.85053737, -1.75689623, -1.90672206,\n",
       "        -1.94886057, -1.92545029, -1.85521943, -1.79435268, -1.79435268,\n",
       "        -1.76157828, -1.7709424 , -1.81776297, -1.87394766, -1.84117326,\n",
       "        -1.82712708, -1.80839886, -1.74285005, -1.65857302, -1.55556776,\n",
       "        -1.49001896, -1.46192662, -1.45256251, -1.42447016],\n",
       "       [ 0.40153216,  0.44835273,  0.48580919,  0.47644508,  0.49985536,\n",
       "         0.51858359,  0.54199388,  0.52794771,  0.54199388,  0.54667593,\n",
       "         0.51858359,  0.57476828,  0.79014291,  0.60754268,  0.63095296,\n",
       "         0.41089627,  0.66372737,  0.99147137,  1.03829194,  1.34730772,\n",
       "         1.38944624,  1.29580509,  1.0757484 ,  1.01956372]])"
      ]
     },
     "execution_count": 34,
     "metadata": {},
     "output_type": "execute_result"
    }
   ],
   "source": [
    "train[:2]"
   ]
  },
  {
   "cell_type": "code",
   "execution_count": 35,
   "metadata": {},
   "outputs": [
    {
     "data": {
      "text/plain": [
       "(87, 24)"
      ]
     },
     "execution_count": 35,
     "metadata": {},
     "output_type": "execute_result"
    }
   ],
   "source": [
    "test.shape"
   ]
  },
  {
   "cell_type": "code",
   "execution_count": 36,
   "metadata": {},
   "outputs": [
    {
     "data": {
      "text/plain": [
       "array([[ 1.0236215 ,  0.4564683 ,  0.43274588,  0.54917303,  0.52014428,\n",
       "         0.53824823,  0.60847909,  0.52825984,  0.44179785,  0.32537069,\n",
       "         0.27043456,  0.38654958,  0.59536933,  0.77235109,  0.89096321,\n",
       "         0.95994552,  1.15908902,  1.29642937,  1.46498343,  1.47715677,\n",
       "         1.54613909,  1.49744569,  1.30329638,  1.18093862],\n",
       "       [ 0.12529078,  0.05037787, -0.04326328,  0.01760347, -0.09008385,\n",
       "        -0.17436088, -0.23522762, -0.19308911, -0.27268408, -0.38505346,\n",
       "        -0.40378168, -0.38973551, -0.38505346, -0.20245322, -0.05262739,\n",
       "         0.00355729,  0.07378815,  0.1674293 ,  0.20956781,  0.31257307,\n",
       "         0.34534747,  0.3968501 ,  0.24234221,  0.05974198]])"
      ]
     },
     "execution_count": 36,
     "metadata": {},
     "output_type": "execute_result"
    }
   ],
   "source": [
    "test[:2]"
   ]
  },
  {
   "cell_type": "markdown",
   "metadata": {},
   "source": [
    "# Create Input and Target values\n",
    "\n",
    "The first 23 hours will be input to predict the 24th hour reading (i.e., target)"
   ]
  },
  {
   "cell_type": "code",
   "execution_count": 37,
   "metadata": {},
   "outputs": [
    {
     "data": {
      "text/html": [
       "<div>\n",
       "<style scoped>\n",
       "    .dataframe tbody tr th:only-of-type {\n",
       "        vertical-align: middle;\n",
       "    }\n",
       "\n",
       "    .dataframe tbody tr th {\n",
       "        vertical-align: top;\n",
       "    }\n",
       "\n",
       "    .dataframe thead th {\n",
       "        text-align: right;\n",
       "    }\n",
       "</style>\n",
       "<table border=\"1\" class=\"dataframe\">\n",
       "  <thead>\n",
       "    <tr style=\"text-align: right;\">\n",
       "      <th></th>\n",
       "      <th>0</th>\n",
       "      <th>1</th>\n",
       "      <th>2</th>\n",
       "      <th>3</th>\n",
       "      <th>4</th>\n",
       "      <th>5</th>\n",
       "      <th>6</th>\n",
       "      <th>7</th>\n",
       "      <th>8</th>\n",
       "      <th>9</th>\n",
       "      <th>...</th>\n",
       "      <th>13</th>\n",
       "      <th>14</th>\n",
       "      <th>15</th>\n",
       "      <th>16</th>\n",
       "      <th>17</th>\n",
       "      <th>18</th>\n",
       "      <th>19</th>\n",
       "      <th>20</th>\n",
       "      <th>21</th>\n",
       "      <th>22</th>\n",
       "    </tr>\n",
       "  </thead>\n",
       "  <tbody>\n",
       "    <tr>\n",
       "      <th>0</th>\n",
       "      <td>-1.986317</td>\n",
       "      <td>-1.836491</td>\n",
       "      <td>-1.850537</td>\n",
       "      <td>-1.756896</td>\n",
       "      <td>-1.906722</td>\n",
       "      <td>-1.948861</td>\n",
       "      <td>-1.925450</td>\n",
       "      <td>-1.855219</td>\n",
       "      <td>-1.794353</td>\n",
       "      <td>-1.794353</td>\n",
       "      <td>...</td>\n",
       "      <td>-1.873948</td>\n",
       "      <td>-1.841173</td>\n",
       "      <td>-1.827127</td>\n",
       "      <td>-1.808399</td>\n",
       "      <td>-1.742850</td>\n",
       "      <td>-1.658573</td>\n",
       "      <td>-1.555568</td>\n",
       "      <td>-1.490019</td>\n",
       "      <td>-1.461927</td>\n",
       "      <td>-1.452563</td>\n",
       "    </tr>\n",
       "    <tr>\n",
       "      <th>1</th>\n",
       "      <td>0.401532</td>\n",
       "      <td>0.448353</td>\n",
       "      <td>0.485809</td>\n",
       "      <td>0.476445</td>\n",
       "      <td>0.499855</td>\n",
       "      <td>0.518584</td>\n",
       "      <td>0.541994</td>\n",
       "      <td>0.527948</td>\n",
       "      <td>0.541994</td>\n",
       "      <td>0.546676</td>\n",
       "      <td>...</td>\n",
       "      <td>0.607543</td>\n",
       "      <td>0.630953</td>\n",
       "      <td>0.410896</td>\n",
       "      <td>0.663727</td>\n",
       "      <td>0.991471</td>\n",
       "      <td>1.038292</td>\n",
       "      <td>1.347308</td>\n",
       "      <td>1.389446</td>\n",
       "      <td>1.295805</td>\n",
       "      <td>1.075748</td>\n",
       "    </tr>\n",
       "    <tr>\n",
       "      <th>2</th>\n",
       "      <td>-1.195049</td>\n",
       "      <td>-1.199731</td>\n",
       "      <td>-1.265280</td>\n",
       "      <td>-1.251234</td>\n",
       "      <td>-1.255916</td>\n",
       "      <td>-1.293373</td>\n",
       "      <td>-1.293373</td>\n",
       "      <td>-1.340193</td>\n",
       "      <td>-1.382332</td>\n",
       "      <td>-1.391696</td>\n",
       "      <td>...</td>\n",
       "      <td>-1.424470</td>\n",
       "      <td>-1.330829</td>\n",
       "      <td>-1.363603</td>\n",
       "      <td>-1.419788</td>\n",
       "      <td>-1.424470</td>\n",
       "      <td>-1.316783</td>\n",
       "      <td>-1.326147</td>\n",
       "      <td>-1.059270</td>\n",
       "      <td>-1.031177</td>\n",
       "      <td>-1.293373</td>\n",
       "    </tr>\n",
       "    <tr>\n",
       "      <th>3</th>\n",
       "      <td>-1.616435</td>\n",
       "      <td>-1.602388</td>\n",
       "      <td>-1.635163</td>\n",
       "      <td>-1.653891</td>\n",
       "      <td>-1.761578</td>\n",
       "      <td>-1.799035</td>\n",
       "      <td>-1.799035</td>\n",
       "      <td>-1.799035</td>\n",
       "      <td>-1.850537</td>\n",
       "      <td>-1.883312</td>\n",
       "      <td>...</td>\n",
       "      <td>-1.948861</td>\n",
       "      <td>-1.911404</td>\n",
       "      <td>-1.958225</td>\n",
       "      <td>-1.770942</td>\n",
       "      <td>-1.387014</td>\n",
       "      <td>-1.054588</td>\n",
       "      <td>-0.829849</td>\n",
       "      <td>-0.956264</td>\n",
       "      <td>-0.829849</td>\n",
       "      <td>-1.457245</td>\n",
       "    </tr>\n",
       "    <tr>\n",
       "      <th>4</th>\n",
       "      <td>0.982107</td>\n",
       "      <td>0.921241</td>\n",
       "      <td>0.696502</td>\n",
       "      <td>0.499855</td>\n",
       "      <td>0.401532</td>\n",
       "      <td>0.307891</td>\n",
       "      <td>0.270435</td>\n",
       "      <td>0.247024</td>\n",
       "      <td>0.232978</td>\n",
       "      <td>0.209568</td>\n",
       "      <td>...</td>\n",
       "      <td>0.598179</td>\n",
       "      <td>0.762051</td>\n",
       "      <td>0.949333</td>\n",
       "      <td>1.057020</td>\n",
       "      <td>1.234938</td>\n",
       "      <td>1.295805</td>\n",
       "      <td>1.239620</td>\n",
       "      <td>1.202164</td>\n",
       "      <td>1.155343</td>\n",
       "      <td>1.206846</td>\n",
       "    </tr>\n",
       "    <tr>\n",
       "      <th>...</th>\n",
       "      <td>...</td>\n",
       "      <td>...</td>\n",
       "      <td>...</td>\n",
       "      <td>...</td>\n",
       "      <td>...</td>\n",
       "      <td>...</td>\n",
       "      <td>...</td>\n",
       "      <td>...</td>\n",
       "      <td>...</td>\n",
       "      <td>...</td>\n",
       "      <td>...</td>\n",
       "      <td>...</td>\n",
       "      <td>...</td>\n",
       "      <td>...</td>\n",
       "      <td>...</td>\n",
       "      <td>...</td>\n",
       "      <td>...</td>\n",
       "      <td>...</td>\n",
       "      <td>...</td>\n",
       "      <td>...</td>\n",
       "      <td>...</td>\n",
       "    </tr>\n",
       "    <tr>\n",
       "      <th>196</th>\n",
       "      <td>0.017603</td>\n",
       "      <td>-0.179043</td>\n",
       "      <td>-0.207135</td>\n",
       "      <td>-0.193089</td>\n",
       "      <td>-0.263320</td>\n",
       "      <td>-0.314823</td>\n",
       "      <td>-0.417828</td>\n",
       "      <td>-0.469330</td>\n",
       "      <td>-0.502105</td>\n",
       "      <td>-0.539561</td>\n",
       "      <td>...</td>\n",
       "      <td>-0.605110</td>\n",
       "      <td>-0.464648</td>\n",
       "      <td>-0.239910</td>\n",
       "      <td>0.055060</td>\n",
       "      <td>0.396850</td>\n",
       "      <td>0.626271</td>\n",
       "      <td>0.776097</td>\n",
       "      <td>0.902512</td>\n",
       "      <td>0.804189</td>\n",
       "      <td>0.443671</td>\n",
       "    </tr>\n",
       "    <tr>\n",
       "      <th>197</th>\n",
       "      <td>1.234938</td>\n",
       "      <td>1.099159</td>\n",
       "      <td>0.935287</td>\n",
       "      <td>0.799507</td>\n",
       "      <td>0.752686</td>\n",
       "      <td>0.748004</td>\n",
       "      <td>0.724594</td>\n",
       "      <td>0.724594</td>\n",
       "      <td>0.701184</td>\n",
       "      <td>0.701184</td>\n",
       "      <td>...</td>\n",
       "      <td>1.089795</td>\n",
       "      <td>1.281759</td>\n",
       "      <td>1.436267</td>\n",
       "      <td>1.623549</td>\n",
       "      <td>1.717190</td>\n",
       "      <td>1.867016</td>\n",
       "      <td>2.040252</td>\n",
       "      <td>2.124529</td>\n",
       "      <td>2.152622</td>\n",
       "      <td>2.040252</td>\n",
       "    </tr>\n",
       "    <tr>\n",
       "      <th>198</th>\n",
       "      <td>0.209568</td>\n",
       "      <td>0.312573</td>\n",
       "      <td>0.335983</td>\n",
       "      <td>0.335983</td>\n",
       "      <td>0.321937</td>\n",
       "      <td>0.247024</td>\n",
       "      <td>0.228296</td>\n",
       "      <td>0.214250</td>\n",
       "      <td>0.232978</td>\n",
       "      <td>0.275117</td>\n",
       "      <td>...</td>\n",
       "      <td>0.719912</td>\n",
       "      <td>0.949333</td>\n",
       "      <td>1.127251</td>\n",
       "      <td>1.375400</td>\n",
       "      <td>1.637595</td>\n",
       "      <td>1.628231</td>\n",
       "      <td>1.562682</td>\n",
       "      <td>1.431585</td>\n",
       "      <td>1.333262</td>\n",
       "      <td>1.230256</td>\n",
       "    </tr>\n",
       "    <tr>\n",
       "      <th>199</th>\n",
       "      <td>-0.001125</td>\n",
       "      <td>0.012921</td>\n",
       "      <td>-0.052627</td>\n",
       "      <td>-0.282048</td>\n",
       "      <td>-0.394418</td>\n",
       "      <td>-0.483377</td>\n",
       "      <td>-0.558290</td>\n",
       "      <td>-0.633202</td>\n",
       "      <td>-0.684705</td>\n",
       "      <td>-0.722162</td>\n",
       "      <td>...</td>\n",
       "      <td>-0.427192</td>\n",
       "      <td>-0.164997</td>\n",
       "      <td>0.289163</td>\n",
       "      <td>0.527948</td>\n",
       "      <td>0.635635</td>\n",
       "      <td>0.930605</td>\n",
       "      <td>0.986789</td>\n",
       "      <td>1.024246</td>\n",
       "      <td>1.103841</td>\n",
       "      <td>0.888466</td>\n",
       "    </tr>\n",
       "    <tr>\n",
       "      <th>200</th>\n",
       "      <td>0.743322</td>\n",
       "      <td>0.663727</td>\n",
       "      <td>0.593497</td>\n",
       "      <td>0.462399</td>\n",
       "      <td>0.415578</td>\n",
       "      <td>0.424942</td>\n",
       "      <td>0.453035</td>\n",
       "      <td>0.443671</td>\n",
       "      <td>0.382804</td>\n",
       "      <td>0.321937</td>\n",
       "      <td>...</td>\n",
       "      <td>0.640317</td>\n",
       "      <td>0.588814</td>\n",
       "      <td>0.701184</td>\n",
       "      <td>0.822917</td>\n",
       "      <td>0.836963</td>\n",
       "      <td>0.836963</td>\n",
       "      <td>0.949333</td>\n",
       "      <td>0.963379</td>\n",
       "      <td>1.089795</td>\n",
       "      <td>0.860374</td>\n",
       "    </tr>\n",
       "  </tbody>\n",
       "</table>\n",
       "<p>201 rows × 23 columns</p>\n",
       "</div>"
      ],
      "text/plain": [
       "           0         1         2         3         4         5         6   \\\n",
       "0   -1.986317 -1.836491 -1.850537 -1.756896 -1.906722 -1.948861 -1.925450   \n",
       "1    0.401532  0.448353  0.485809  0.476445  0.499855  0.518584  0.541994   \n",
       "2   -1.195049 -1.199731 -1.265280 -1.251234 -1.255916 -1.293373 -1.293373   \n",
       "3   -1.616435 -1.602388 -1.635163 -1.653891 -1.761578 -1.799035 -1.799035   \n",
       "4    0.982107  0.921241  0.696502  0.499855  0.401532  0.307891  0.270435   \n",
       "..        ...       ...       ...       ...       ...       ...       ...   \n",
       "196  0.017603 -0.179043 -0.207135 -0.193089 -0.263320 -0.314823 -0.417828   \n",
       "197  1.234938  1.099159  0.935287  0.799507  0.752686  0.748004  0.724594   \n",
       "198  0.209568  0.312573  0.335983  0.335983  0.321937  0.247024  0.228296   \n",
       "199 -0.001125  0.012921 -0.052627 -0.282048 -0.394418 -0.483377 -0.558290   \n",
       "200  0.743322  0.663727  0.593497  0.462399  0.415578  0.424942  0.453035   \n",
       "\n",
       "           7         8         9   ...        13        14        15  \\\n",
       "0   -1.855219 -1.794353 -1.794353  ... -1.873948 -1.841173 -1.827127   \n",
       "1    0.527948  0.541994  0.546676  ...  0.607543  0.630953  0.410896   \n",
       "2   -1.340193 -1.382332 -1.391696  ... -1.424470 -1.330829 -1.363603   \n",
       "3   -1.799035 -1.850537 -1.883312  ... -1.948861 -1.911404 -1.958225   \n",
       "4    0.247024  0.232978  0.209568  ...  0.598179  0.762051  0.949333   \n",
       "..        ...       ...       ...  ...       ...       ...       ...   \n",
       "196 -0.469330 -0.502105 -0.539561  ... -0.605110 -0.464648 -0.239910   \n",
       "197  0.724594  0.701184  0.701184  ...  1.089795  1.281759  1.436267   \n",
       "198  0.214250  0.232978  0.275117  ...  0.719912  0.949333  1.127251   \n",
       "199 -0.633202 -0.684705 -0.722162  ... -0.427192 -0.164997  0.289163   \n",
       "200  0.443671  0.382804  0.321937  ...  0.640317  0.588814  0.701184   \n",
       "\n",
       "           16        17        18        19        20        21        22  \n",
       "0   -1.808399 -1.742850 -1.658573 -1.555568 -1.490019 -1.461927 -1.452563  \n",
       "1    0.663727  0.991471  1.038292  1.347308  1.389446  1.295805  1.075748  \n",
       "2   -1.419788 -1.424470 -1.316783 -1.326147 -1.059270 -1.031177 -1.293373  \n",
       "3   -1.770942 -1.387014 -1.054588 -0.829849 -0.956264 -0.829849 -1.457245  \n",
       "4    1.057020  1.234938  1.295805  1.239620  1.202164  1.155343  1.206846  \n",
       "..        ...       ...       ...       ...       ...       ...       ...  \n",
       "196  0.055060  0.396850  0.626271  0.776097  0.902512  0.804189  0.443671  \n",
       "197  1.623549  1.717190  1.867016  2.040252  2.124529  2.152622  2.040252  \n",
       "198  1.375400  1.637595  1.628231  1.562682  1.431585  1.333262  1.230256  \n",
       "199  0.527948  0.635635  0.930605  0.986789  1.024246  1.103841  0.888466  \n",
       "200  0.822917  0.836963  0.836963  0.949333  0.963379  1.089795  0.860374  \n",
       "\n",
       "[201 rows x 23 columns]"
      ]
     },
     "execution_count": 37,
     "metadata": {},
     "output_type": "execute_result"
    }
   ],
   "source": [
    "# The first 23 columns (from 0 to 22) are inputs\n",
    "\n",
    "train_inputs = train[:,:23]\n",
    "\n",
    "\n",
    "pd.DataFrame(train_inputs, columns=np.arange(0,23,1))"
   ]
  },
  {
   "cell_type": "markdown",
   "metadata": {},
   "source": [
    "## Add one more dimension to make it ready for RNNs"
   ]
  },
  {
   "attachments": {},
   "cell_type": "markdown",
   "metadata": {},
   "source": [
    "See here for more details: https://keras.io/layers/recurrent/, and https://shiva-verma.medium.com/understanding-input-and-output-shape-in-lstm-keras-c501ee95c65e\n"
   ]
  },
  {
   "cell_type": "code",
   "execution_count": 38,
   "metadata": {},
   "outputs": [
    {
     "data": {
      "text/plain": [
       "array([[-1.98631703e+00, -1.83649120e+00, -1.85053737e+00, ...,\n",
       "        -1.49001896e+00, -1.46192662e+00, -1.45256251e+00],\n",
       "       [ 4.01532160e-01,  4.48352732e-01,  4.85809190e-01, ...,\n",
       "         1.38944624e+00,  1.29580509e+00,  1.07574840e+00],\n",
       "       [-1.19504936e+00, -1.19973142e+00, -1.26528022e+00, ...,\n",
       "        -1.05926970e+00, -1.03117735e+00, -1.29337256e+00],\n",
       "       ...,\n",
       "       [ 2.09567813e-01,  3.12573072e-01,  3.35983359e-01, ...,\n",
       "         1.43158475e+00,  1.33326155e+00,  1.23025629e+00],\n",
       "       [-1.12476250e-03,  1.29214092e-02, -5.26273921e-02, ...,\n",
       "         1.02424577e+00,  1.10384075e+00,  8.88466112e-01],\n",
       "       [ 7.43322338e-01,  6.63727365e-01,  5.93496507e-01, ...,\n",
       "         9.63379028e-01,  1.08979457e+00,  8.60373769e-01]])"
      ]
     },
     "execution_count": 38,
     "metadata": {},
     "output_type": "execute_result"
    }
   ],
   "source": [
    "train_inputs"
   ]
  },
  {
   "cell_type": "code",
   "execution_count": 39,
   "metadata": {},
   "outputs": [
    {
     "data": {
      "text/plain": [
       "(201, 23)"
      ]
     },
     "execution_count": 39,
     "metadata": {},
     "output_type": "execute_result"
    }
   ],
   "source": [
    "train_inputs.shape "
   ]
  },
  {
   "cell_type": "code",
   "execution_count": 40,
   "metadata": {},
   "outputs": [
    {
     "data": {
      "text/plain": [
       "(201, 23, 1)"
      ]
     },
     "execution_count": 40,
     "metadata": {},
     "output_type": "execute_result"
    }
   ],
   "source": [
    "#Create an additional dimension for train\n",
    "\n",
    "train_x = train_inputs[:,:,np.newaxis]\n",
    "\n",
    "train_x.shape "
   ]
  },
  {
   "cell_type": "code",
   "execution_count": 41,
   "metadata": {},
   "outputs": [
    {
     "data": {
      "text/plain": [
       "array([[[-1.98631703e+00],\n",
       "        [-1.83649120e+00],\n",
       "        [-1.85053737e+00],\n",
       "        ...,\n",
       "        [-1.49001896e+00],\n",
       "        [-1.46192662e+00],\n",
       "        [-1.45256251e+00]],\n",
       "\n",
       "       [[ 4.01532160e-01],\n",
       "        [ 4.48352732e-01],\n",
       "        [ 4.85809190e-01],\n",
       "        ...,\n",
       "        [ 1.38944624e+00],\n",
       "        [ 1.29580509e+00],\n",
       "        [ 1.07574840e+00]],\n",
       "\n",
       "       [[-1.19504936e+00],\n",
       "        [-1.19973142e+00],\n",
       "        [-1.26528022e+00],\n",
       "        ...,\n",
       "        [-1.05926970e+00],\n",
       "        [-1.03117735e+00],\n",
       "        [-1.29337256e+00]],\n",
       "\n",
       "       ...,\n",
       "\n",
       "       [[ 2.09567813e-01],\n",
       "        [ 3.12573072e-01],\n",
       "        [ 3.35983359e-01],\n",
       "        ...,\n",
       "        [ 1.43158475e+00],\n",
       "        [ 1.33326155e+00],\n",
       "        [ 1.23025629e+00]],\n",
       "\n",
       "       [[-1.12476250e-03],\n",
       "        [ 1.29214092e-02],\n",
       "        [-5.26273921e-02],\n",
       "        ...,\n",
       "        [ 1.02424577e+00],\n",
       "        [ 1.10384075e+00],\n",
       "        [ 8.88466112e-01]],\n",
       "\n",
       "       [[ 7.43322338e-01],\n",
       "        [ 6.63727365e-01],\n",
       "        [ 5.93496507e-01],\n",
       "        ...,\n",
       "        [ 9.63379028e-01],\n",
       "        [ 1.08979457e+00],\n",
       "        [ 8.60373769e-01]]])"
      ]
     },
     "execution_count": 41,
     "metadata": {},
     "output_type": "execute_result"
    }
   ],
   "source": [
    "train_x"
   ]
  },
  {
   "cell_type": "markdown",
   "metadata": {},
   "source": [
    "## Set the target"
   ]
  },
  {
   "cell_type": "code",
   "execution_count": 42,
   "metadata": {},
   "outputs": [
    {
     "data": {
      "text/html": [
       "<div>\n",
       "<style scoped>\n",
       "    .dataframe tbody tr th:only-of-type {\n",
       "        vertical-align: middle;\n",
       "    }\n",
       "\n",
       "    .dataframe tbody tr th {\n",
       "        vertical-align: top;\n",
       "    }\n",
       "\n",
       "    .dataframe thead th {\n",
       "        text-align: right;\n",
       "    }\n",
       "</style>\n",
       "<table border=\"1\" class=\"dataframe\">\n",
       "  <thead>\n",
       "    <tr style=\"text-align: right;\">\n",
       "      <th></th>\n",
       "      <th>23</th>\n",
       "    </tr>\n",
       "  </thead>\n",
       "  <tbody>\n",
       "    <tr>\n",
       "      <th>0</th>\n",
       "      <td>-1.424470</td>\n",
       "    </tr>\n",
       "    <tr>\n",
       "      <th>1</th>\n",
       "      <td>1.019564</td>\n",
       "    </tr>\n",
       "    <tr>\n",
       "      <th>2</th>\n",
       "      <td>-1.485337</td>\n",
       "    </tr>\n",
       "    <tr>\n",
       "      <th>3</th>\n",
       "      <td>-1.962907</td>\n",
       "    </tr>\n",
       "    <tr>\n",
       "      <th>4</th>\n",
       "      <td>1.047656</td>\n",
       "    </tr>\n",
       "    <tr>\n",
       "      <th>...</th>\n",
       "      <td>...</td>\n",
       "    </tr>\n",
       "    <tr>\n",
       "      <th>196</th>\n",
       "      <td>0.181475</td>\n",
       "    </tr>\n",
       "    <tr>\n",
       "      <th>197</th>\n",
       "      <td>0.410896</td>\n",
       "    </tr>\n",
       "    <tr>\n",
       "      <th>198</th>\n",
       "      <td>0.982107</td>\n",
       "    </tr>\n",
       "    <tr>\n",
       "      <th>199</th>\n",
       "      <td>0.560722</td>\n",
       "    </tr>\n",
       "    <tr>\n",
       "      <th>200</th>\n",
       "      <td>0.719912</td>\n",
       "    </tr>\n",
       "  </tbody>\n",
       "</table>\n",
       "<p>201 rows × 1 columns</p>\n",
       "</div>"
      ],
      "text/plain": [
       "           23\n",
       "0   -1.424470\n",
       "1    1.019564\n",
       "2   -1.485337\n",
       "3   -1.962907\n",
       "4    1.047656\n",
       "..        ...\n",
       "196  0.181475\n",
       "197  0.410896\n",
       "198  0.982107\n",
       "199  0.560722\n",
       "200  0.719912\n",
       "\n",
       "[201 rows x 1 columns]"
      ]
     },
     "execution_count": 42,
     "metadata": {},
     "output_type": "execute_result"
    }
   ],
   "source": [
    "# The last column (23) is TARGET\n",
    "\n",
    "train_target = train[:,-1]\n",
    "\n",
    "\n",
    "pd.DataFrame(train_target, columns=['23'])"
   ]
  },
  {
   "cell_type": "markdown",
   "metadata": {},
   "source": [
    "## Repeat for TEST"
   ]
  },
  {
   "cell_type": "code",
   "execution_count": 43,
   "metadata": {},
   "outputs": [
    {
     "data": {
      "text/plain": [
       "(87, 24)"
      ]
     },
     "execution_count": 43,
     "metadata": {},
     "output_type": "execute_result"
    }
   ],
   "source": [
    "test.shape"
   ]
  },
  {
   "cell_type": "code",
   "execution_count": 44,
   "metadata": {},
   "outputs": [],
   "source": [
    "# The first 23 columns (from 0 to 22) are inputs\n",
    "\n",
    "test_inputs = test[:,:23]"
   ]
  },
  {
   "cell_type": "code",
   "execution_count": 45,
   "metadata": {},
   "outputs": [
    {
     "data": {
      "text/plain": [
       "(87, 23, 1)"
      ]
     },
     "execution_count": 45,
     "metadata": {},
     "output_type": "execute_result"
    }
   ],
   "source": [
    "#Create an additional dimension for test\n",
    "\n",
    "test_x = test_inputs[:,:,np.newaxis]\n",
    "\n",
    "test_x.shape "
   ]
  },
  {
   "cell_type": "code",
   "execution_count": 46,
   "metadata": {},
   "outputs": [
    {
     "data": {
      "text/html": [
       "<div>\n",
       "<style scoped>\n",
       "    .dataframe tbody tr th:only-of-type {\n",
       "        vertical-align: middle;\n",
       "    }\n",
       "\n",
       "    .dataframe tbody tr th {\n",
       "        vertical-align: top;\n",
       "    }\n",
       "\n",
       "    .dataframe thead th {\n",
       "        text-align: right;\n",
       "    }\n",
       "</style>\n",
       "<table border=\"1\" class=\"dataframe\">\n",
       "  <thead>\n",
       "    <tr style=\"text-align: right;\">\n",
       "      <th></th>\n",
       "      <th>23</th>\n",
       "    </tr>\n",
       "  </thead>\n",
       "  <tbody>\n",
       "    <tr>\n",
       "      <th>0</th>\n",
       "      <td>1.180939</td>\n",
       "    </tr>\n",
       "    <tr>\n",
       "      <th>1</th>\n",
       "      <td>0.059742</td>\n",
       "    </tr>\n",
       "    <tr>\n",
       "      <th>2</th>\n",
       "      <td>-1.003085</td>\n",
       "    </tr>\n",
       "    <tr>\n",
       "      <th>3</th>\n",
       "      <td>0.624086</td>\n",
       "    </tr>\n",
       "    <tr>\n",
       "      <th>4</th>\n",
       "      <td>-0.347597</td>\n",
       "    </tr>\n",
       "    <tr>\n",
       "      <th>...</th>\n",
       "      <td>...</td>\n",
       "    </tr>\n",
       "    <tr>\n",
       "      <th>82</th>\n",
       "      <td>-1.892676</td>\n",
       "    </tr>\n",
       "    <tr>\n",
       "      <th>83</th>\n",
       "      <td>1.145979</td>\n",
       "    </tr>\n",
       "    <tr>\n",
       "      <th>84</th>\n",
       "      <td>-0.033899</td>\n",
       "    </tr>\n",
       "    <tr>\n",
       "      <th>85</th>\n",
       "      <td>1.057020</td>\n",
       "    </tr>\n",
       "    <tr>\n",
       "      <th>86</th>\n",
       "      <td>0.390607</td>\n",
       "    </tr>\n",
       "  </tbody>\n",
       "</table>\n",
       "<p>87 rows × 1 columns</p>\n",
       "</div>"
      ],
      "text/plain": [
       "          23\n",
       "0   1.180939\n",
       "1   0.059742\n",
       "2  -1.003085\n",
       "3   0.624086\n",
       "4  -0.347597\n",
       "..       ...\n",
       "82 -1.892676\n",
       "83  1.145979\n",
       "84 -0.033899\n",
       "85  1.057020\n",
       "86  0.390607\n",
       "\n",
       "[87 rows x 1 columns]"
      ]
     },
     "execution_count": 46,
     "metadata": {},
     "output_type": "execute_result"
    }
   ],
   "source": [
    "# The last column (23) is TARGET\n",
    "\n",
    "test_target = test[:,-1]\n",
    "\n",
    "\n",
    "pd.DataFrame(test_target, columns=['23'])"
   ]
  },
  {
   "cell_type": "markdown",
   "metadata": {},
   "source": [
    "# A normal (cross-sectional) NN\n",
    "\n",
    "This model assumes that the data is NOT a time-series data set. It treats the data as cross-sectional and the columns being independent of each other."
   ]
  },
  {
   "cell_type": "code",
   "execution_count": 47,
   "metadata": {},
   "outputs": [
    {
     "name": "stderr",
     "output_type": "stream",
     "text": [
      "/Users/timsmith/miniconda3/envs/dsp/lib/python3.11/site-packages/keras/src/layers/reshaping/flatten.py:37: UserWarning: Do not pass an `input_shape`/`input_dim` argument to a layer. When using Sequential models, prefer using an `Input(shape)` object as the first layer in the model instead.\n",
      "  super().__init__(**kwargs)\n",
      "2024-04-09 07:30:43.848405: I metal_plugin/src/device/metal_device.cc:1154] Metal device set to: Apple M1 Pro\n",
      "2024-04-09 07:30:43.848428: I metal_plugin/src/device/metal_device.cc:296] systemMemory: 16.00 GB\n",
      "2024-04-09 07:30:43.848434: I metal_plugin/src/device/metal_device.cc:313] maxCacheSize: 5.33 GB\n",
      "2024-04-09 07:30:43.848452: I tensorflow/core/common_runtime/pluggable_device/pluggable_device_factory.cc:305] Could not identify NUMA node of platform GPU ID 0, defaulting to 0. Your kernel may not have been built with NUMA support.\n",
      "2024-04-09 07:30:43.848465: I tensorflow/core/common_runtime/pluggable_device/pluggable_device_factory.cc:271] Created TensorFlow device (/job:localhost/replica:0/task:0/device:GPU:0 with 0 MB memory) -> physical PluggableDevice (device: 0, name: METAL, pci bus id: <undefined>)\n"
     ]
    },
    {
     "name": "stdout",
     "output_type": "stream",
     "text": [
      "Epoch 1/5\n"
     ]
    },
    {
     "name": "stderr",
     "output_type": "stream",
     "text": [
      "2024-04-09 07:30:44.428972: I tensorflow/core/grappler/optimizers/custom_graph_optimizer_registry.cc:117] Plugin optimizer for device_type GPU is enabled.\n"
     ]
    },
    {
     "name": "stdout",
     "output_type": "stream",
     "text": [
      "\u001b[1m7/7\u001b[0m \u001b[32m━━━━━━━━━━━━━━━━━━━━\u001b[0m\u001b[37m\u001b[0m \u001b[1m1s\u001b[0m 24ms/step - loss: 0.7465\n",
      "Epoch 2/5\n",
      "\u001b[1m7/7\u001b[0m \u001b[32m━━━━━━━━━━━━━━━━━━━━\u001b[0m\u001b[37m\u001b[0m \u001b[1m0s\u001b[0m 10ms/step - loss: 0.3339\n",
      "Epoch 3/5\n",
      "\u001b[1m7/7\u001b[0m \u001b[32m━━━━━━━━━━━━━━━━━━━━\u001b[0m\u001b[37m\u001b[0m \u001b[1m0s\u001b[0m 8ms/step - loss: 0.2328 \n",
      "Epoch 4/5\n",
      "\u001b[1m7/7\u001b[0m \u001b[32m━━━━━━━━━━━━━━━━━━━━\u001b[0m\u001b[37m\u001b[0m \u001b[1m0s\u001b[0m 12ms/step - loss: 0.1573\n",
      "Epoch 5/5\n",
      "\u001b[1m7/7\u001b[0m \u001b[32m━━━━━━━━━━━━━━━━━━━━\u001b[0m\u001b[37m\u001b[0m \u001b[1m0s\u001b[0m 9ms/step - loss: 0.1179\n"
     ]
    }
   ],
   "source": [
    "model = keras.models.Sequential([\n",
    "    keras.layers.Flatten(input_shape=[23, 1]),\n",
    "    keras.layers.Dense(23, activation='relu'),\n",
    "    keras.layers.Dense(1, activation=None)\n",
    "    \n",
    "])\n",
    "\n",
    "model.compile(loss=\"mse\", optimizer='Adam')\n",
    "\n",
    "history = model.fit(train_x, train_target, epochs=epoch_num)"
   ]
  },
  {
   "cell_type": "markdown",
   "metadata": {},
   "source": [
    "### Predictions"
   ]
  },
  {
   "cell_type": "code",
   "execution_count": 48,
   "metadata": {},
   "outputs": [
    {
     "name": "stdout",
     "output_type": "stream",
     "text": [
      "\u001b[1m3/3\u001b[0m \u001b[32m━━━━━━━━━━━━━━━━━━━━\u001b[0m\u001b[37m\u001b[0m \u001b[1m0s\u001b[0m 21ms/step\n"
     ]
    }
   ],
   "source": [
    "#Predict:\n",
    "y_pred = model.predict(test_x)"
   ]
  },
  {
   "cell_type": "code",
   "execution_count": 49,
   "metadata": {},
   "outputs": [],
   "source": [
    "# Remember, these are standardized values. \n",
    "\n",
    "comparison = pd.DataFrame()\n",
    "\n",
    "comparison['actual'] = scaler.inverse_transform([test_target]).flatten()\n",
    "comparison['predicted'] = scaler.inverse_transform(y_pred).flatten()"
   ]
  },
  {
   "cell_type": "code",
   "execution_count": 50,
   "metadata": {},
   "outputs": [
    {
     "data": {
      "text/html": [
       "<div>\n",
       "<style scoped>\n",
       "    .dataframe tbody tr th:only-of-type {\n",
       "        vertical-align: middle;\n",
       "    }\n",
       "\n",
       "    .dataframe tbody tr th {\n",
       "        vertical-align: top;\n",
       "    }\n",
       "\n",
       "    .dataframe thead th {\n",
       "        text-align: right;\n",
       "    }\n",
       "</style>\n",
       "<table border=\"1\" class=\"dataframe\">\n",
       "  <thead>\n",
       "    <tr style=\"text-align: right;\">\n",
       "      <th></th>\n",
       "      <th>actual</th>\n",
       "      <th>predicted</th>\n",
       "    </tr>\n",
       "  </thead>\n",
       "  <tbody>\n",
       "    <tr>\n",
       "      <th>0</th>\n",
       "      <td>86.021</td>\n",
       "      <td>83.915245</td>\n",
       "    </tr>\n",
       "    <tr>\n",
       "      <th>1</th>\n",
       "      <td>75.245</td>\n",
       "      <td>75.834129</td>\n",
       "    </tr>\n",
       "    <tr>\n",
       "      <th>2</th>\n",
       "      <td>65.030</td>\n",
       "      <td>71.919403</td>\n",
       "    </tr>\n",
       "    <tr>\n",
       "      <th>3</th>\n",
       "      <td>80.669</td>\n",
       "      <td>83.106102</td>\n",
       "    </tr>\n",
       "    <tr>\n",
       "      <th>4</th>\n",
       "      <td>71.330</td>\n",
       "      <td>78.152061</td>\n",
       "    </tr>\n",
       "    <tr>\n",
       "      <th>...</th>\n",
       "      <td>...</td>\n",
       "      <td>...</td>\n",
       "    </tr>\n",
       "    <tr>\n",
       "      <th>82</th>\n",
       "      <td>56.480</td>\n",
       "      <td>76.081505</td>\n",
       "    </tr>\n",
       "    <tr>\n",
       "      <th>83</th>\n",
       "      <td>85.685</td>\n",
       "      <td>85.226166</td>\n",
       "    </tr>\n",
       "    <tr>\n",
       "      <th>84</th>\n",
       "      <td>74.345</td>\n",
       "      <td>76.045578</td>\n",
       "    </tr>\n",
       "    <tr>\n",
       "      <th>85</th>\n",
       "      <td>84.830</td>\n",
       "      <td>85.395248</td>\n",
       "    </tr>\n",
       "    <tr>\n",
       "      <th>86</th>\n",
       "      <td>78.425</td>\n",
       "      <td>81.538994</td>\n",
       "    </tr>\n",
       "  </tbody>\n",
       "</table>\n",
       "<p>87 rows × 2 columns</p>\n",
       "</div>"
      ],
      "text/plain": [
       "    actual  predicted\n",
       "0   86.021  83.915245\n",
       "1   75.245  75.834129\n",
       "2   65.030  71.919403\n",
       "3   80.669  83.106102\n",
       "4   71.330  78.152061\n",
       "..     ...        ...\n",
       "82  56.480  76.081505\n",
       "83  85.685  85.226166\n",
       "84  74.345  76.045578\n",
       "85  84.830  85.395248\n",
       "86  78.425  81.538994\n",
       "\n",
       "[87 rows x 2 columns]"
      ]
     },
     "execution_count": 50,
     "metadata": {},
     "output_type": "execute_result"
    }
   ],
   "source": [
    "comparison"
   ]
  },
  {
   "cell_type": "code",
   "execution_count": 51,
   "metadata": {},
   "outputs": [
    {
     "data": {
      "text/plain": [
       "22.148414581560083"
      ]
     },
     "execution_count": 51,
     "metadata": {},
     "output_type": "execute_result"
    }
   ],
   "source": [
    "mean_squared_error(comparison['actual'], comparison['predicted'])"
   ]
  },
  {
   "cell_type": "code",
   "execution_count": 52,
   "metadata": {},
   "outputs": [
    {
     "data": {
      "image/png": "[encoded data removed]",
      "text/plain": [
       "<Figure size 640x480 with 1 Axes>"
      ]
     },
     "metadata": {},
     "output_type": "display_data"
    }
   ],
   "source": [
    "plt.plot(comparison['actual'], label = 'actual')\n",
    "plt.plot(comparison['predicted'], label = 'predicted')\n",
    "\n",
    "plt.legend()\n",
    "\n",
    "plt.show()"
   ]
  },
  {
   "cell_type": "markdown",
   "metadata": {},
   "source": [
    "# Simple RNN\n",
    "\n",
    "Simplest recurrent neural network"
   ]
  },
  {
   "cell_type": "code",
   "execution_count": 53,
   "metadata": {},
   "outputs": [
    {
     "name": "stderr",
     "output_type": "stream",
     "text": [
      "/Users/timsmith/miniconda3/envs/dsp/lib/python3.11/site-packages/keras/src/layers/rnn/rnn.py:204: UserWarning: Do not pass an `input_shape`/`input_dim` argument to a layer. When using Sequential models, prefer using an `Input(shape)` object as the first layer in the model instead.\n",
      "  super().__init__(**kwargs)\n"
     ]
    }
   ],
   "source": [
    "model = keras.models.Sequential([\n",
    "    keras.layers.SimpleRNN(32, activation='relu', input_shape=[23, 1]),\n",
    "    keras.layers.Dense(1, activation=None)\n",
    "])"
   ]
  },
  {
   "cell_type": "code",
   "execution_count": 54,
   "metadata": {
    "scrolled": true
   },
   "outputs": [
    {
     "name": "stdout",
     "output_type": "stream",
     "text": [
      "Epoch 1/5\n",
      "\u001b[1m7/7\u001b[0m \u001b[32m━━━━━━━━━━━━━━━━━━━━\u001b[0m\u001b[37m\u001b[0m \u001b[1m3s\u001b[0m 271ms/step - loss: 1.1885\n",
      "Epoch 2/5\n",
      "\u001b[1m7/7\u001b[0m \u001b[32m━━━━━━━━━━━━━━━━━━━━\u001b[0m\u001b[37m\u001b[0m \u001b[1m2s\u001b[0m 250ms/step - loss: 0.9876\n",
      "Epoch 3/5\n",
      "\u001b[1m7/7\u001b[0m \u001b[32m━━━━━━━━━━━━━━━━━━━━\u001b[0m\u001b[37m\u001b[0m \u001b[1m2s\u001b[0m 267ms/step - loss: 0.8507\n",
      "Epoch 4/5\n",
      "\u001b[1m7/7\u001b[0m \u001b[32m━━━━━━━━━━━━━━━━━━━━\u001b[0m\u001b[37m\u001b[0m \u001b[1m2s\u001b[0m 255ms/step - loss: 0.7479\n",
      "Epoch 5/5\n",
      "\u001b[1m7/7\u001b[0m \u001b[32m━━━━━━━━━━━━━━━━━━━━\u001b[0m\u001b[37m\u001b[0m \u001b[1m2s\u001b[0m 252ms/step - loss: 0.6585\n"
     ]
    }
   ],
   "source": [
    "np.random.seed(42)\n",
    "tf.random.set_seed(42)\n",
    "\n",
    "model.compile(loss=\"mse\", optimizer='Adam')\n",
    "\n",
    "history = model.fit(train_x, train_target, epochs=epoch_num)"
   ]
  },
  {
   "cell_type": "markdown",
   "metadata": {},
   "source": [
    "### Predictions"
   ]
  },
  {
   "cell_type": "code",
   "execution_count": 55,
   "metadata": {},
   "outputs": [
    {
     "name": "stdout",
     "output_type": "stream",
     "text": [
      "\u001b[1m3/3\u001b[0m \u001b[32m━━━━━━━━━━━━━━━━━━━━\u001b[0m\u001b[37m\u001b[0m \u001b[1m0s\u001b[0m 119ms/step\n"
     ]
    }
   ],
   "source": [
    "#Predict:\n",
    "y_pred = model.predict(test_x)"
   ]
  },
  {
   "cell_type": "code",
   "execution_count": 56,
   "metadata": {},
   "outputs": [],
   "source": [
    "#Remember, these are standardized values. \n",
    "\n",
    "comparison = pd.DataFrame()\n",
    "\n",
    "comparison['actual'] = scaler.inverse_transform([test_target]).flatten()\n",
    "comparison['predicted'] = scaler.inverse_transform(y_pred).flatten()"
   ]
  },
  {
   "cell_type": "code",
   "execution_count": 57,
   "metadata": {},
   "outputs": [
    {
     "data": {
      "text/html": [
       "<div>\n",
       "<style scoped>\n",
       "    .dataframe tbody tr th:only-of-type {\n",
       "        vertical-align: middle;\n",
       "    }\n",
       "\n",
       "    .dataframe tbody tr th {\n",
       "        vertical-align: top;\n",
       "    }\n",
       "\n",
       "    .dataframe thead th {\n",
       "        text-align: right;\n",
       "    }\n",
       "</style>\n",
       "<table border=\"1\" class=\"dataframe\">\n",
       "  <thead>\n",
       "    <tr style=\"text-align: right;\">\n",
       "      <th></th>\n",
       "      <th>actual</th>\n",
       "      <th>predicted</th>\n",
       "    </tr>\n",
       "  </thead>\n",
       "  <tbody>\n",
       "    <tr>\n",
       "      <th>0</th>\n",
       "      <td>86.021</td>\n",
       "      <td>80.769104</td>\n",
       "    </tr>\n",
       "    <tr>\n",
       "      <th>1</th>\n",
       "      <td>75.245</td>\n",
       "      <td>76.220955</td>\n",
       "    </tr>\n",
       "    <tr>\n",
       "      <th>2</th>\n",
       "      <td>65.030</td>\n",
       "      <td>74.551300</td>\n",
       "    </tr>\n",
       "    <tr>\n",
       "      <th>3</th>\n",
       "      <td>80.669</td>\n",
       "      <td>80.229492</td>\n",
       "    </tr>\n",
       "    <tr>\n",
       "      <th>4</th>\n",
       "      <td>71.330</td>\n",
       "      <td>75.179207</td>\n",
       "    </tr>\n",
       "    <tr>\n",
       "      <th>...</th>\n",
       "      <td>...</td>\n",
       "      <td>...</td>\n",
       "    </tr>\n",
       "    <tr>\n",
       "      <th>82</th>\n",
       "      <td>56.480</td>\n",
       "      <td>76.151115</td>\n",
       "    </tr>\n",
       "    <tr>\n",
       "      <th>83</th>\n",
       "      <td>85.685</td>\n",
       "      <td>80.316132</td>\n",
       "    </tr>\n",
       "    <tr>\n",
       "      <th>84</th>\n",
       "      <td>74.345</td>\n",
       "      <td>76.672333</td>\n",
       "    </tr>\n",
       "    <tr>\n",
       "      <th>85</th>\n",
       "      <td>84.830</td>\n",
       "      <td>80.800354</td>\n",
       "    </tr>\n",
       "    <tr>\n",
       "      <th>86</th>\n",
       "      <td>78.425</td>\n",
       "      <td>76.670654</td>\n",
       "    </tr>\n",
       "  </tbody>\n",
       "</table>\n",
       "<p>87 rows × 2 columns</p>\n",
       "</div>"
      ],
      "text/plain": [
       "    actual  predicted\n",
       "0   86.021  80.769104\n",
       "1   75.245  76.220955\n",
       "2   65.030  74.551300\n",
       "3   80.669  80.229492\n",
       "4   71.330  75.179207\n",
       "..     ...        ...\n",
       "82  56.480  76.151115\n",
       "83  85.685  80.316132\n",
       "84  74.345  76.672333\n",
       "85  84.830  80.800354\n",
       "86  78.425  76.670654\n",
       "\n",
       "[87 rows x 2 columns]"
      ]
     },
     "execution_count": 57,
     "metadata": {},
     "output_type": "execute_result"
    }
   ],
   "source": [
    "comparison"
   ]
  },
  {
   "cell_type": "code",
   "execution_count": 58,
   "metadata": {},
   "outputs": [
    {
     "data": {
      "text/plain": [
       "49.83867603891561"
      ]
     },
     "execution_count": 58,
     "metadata": {},
     "output_type": "execute_result"
    }
   ],
   "source": [
    "mean_squared_error(comparison['actual'], comparison['predicted'])"
   ]
  },
  {
   "cell_type": "code",
   "execution_count": 59,
   "metadata": {},
   "outputs": [
    {
     "data": {
      "image/png": "[encoded data removed]",
      "text/plain": [
       "<Figure size 640x480 with 1 Axes>"
      ]
     },
     "metadata": {},
     "output_type": "display_data"
    }
   ],
   "source": [
    "plt.plot(comparison['actual'], label = 'actual')\n",
    "plt.plot(comparison['predicted'], label = 'predicted')\n",
    "\n",
    "plt.legend()\n",
    "\n",
    "plt.show()"
   ]
  },
  {
   "cell_type": "markdown",
   "metadata": {},
   "source": [
    "## Simple RNN with more layers\n",
    "\n",
    "**Be careful: when stacking RNN layers, you have to set \"return_sequences\" to True. This enables the layer to send a \"sequence\" of values to the next layer -- jut like how it uses a sequence of values for training. However, if the output of RNN is sent to a DENSE layer, then a single value should be sent. That's why there is no \"return sequences\" right before DENSE layers.**"
   ]
  },
  {
   "cell_type": "code",
   "execution_count": 60,
   "metadata": {},
   "outputs": [
    {
     "name": "stderr",
     "output_type": "stream",
     "text": [
      "/Users/timsmith/miniconda3/envs/dsp/lib/python3.11/site-packages/keras/src/layers/rnn/rnn.py:204: UserWarning: Do not pass an `input_shape`/`input_dim` argument to a layer. When using Sequential models, prefer using an `Input(shape)` object as the first layer in the model instead.\n",
      "  super().__init__(**kwargs)\n"
     ]
    }
   ],
   "source": [
    "model = keras.models.Sequential([\n",
    "    keras.layers.SimpleRNN(32, activation='relu', return_sequences=True, input_shape=[23, 1]),\n",
    "    keras.layers.SimpleRNN(32, activation='relu', return_sequences=False),\n",
    "    keras.layers.Dense(1, activation=None)\n",
    "])"
   ]
  },
  {
   "cell_type": "code",
   "execution_count": 61,
   "metadata": {
    "scrolled": true
   },
   "outputs": [
    {
     "name": "stdout",
     "output_type": "stream",
     "text": [
      "Epoch 1/5\n",
      "\u001b[1m7/7\u001b[0m \u001b[32m━━━━━━━━━━━━━━━━━━━━\u001b[0m\u001b[37m\u001b[0m \u001b[1m7s\u001b[0m 675ms/step - loss: 0.8615\n",
      "Epoch 2/5\n",
      "\u001b[1m7/7\u001b[0m \u001b[32m━━━━━━━━━━━━━━━━━━━━\u001b[0m\u001b[37m\u001b[0m \u001b[1m5s\u001b[0m 692ms/step - loss: 0.3967\n",
      "Epoch 3/5\n",
      "\u001b[1m7/7\u001b[0m \u001b[32m━━━━━━━━━━━━━━━━━━━━\u001b[0m\u001b[37m\u001b[0m \u001b[1m4s\u001b[0m 621ms/step - loss: 0.1550\n",
      "Epoch 4/5\n",
      "\u001b[1m7/7\u001b[0m \u001b[32m━━━━━━━━━━━━━━━━━━━━\u001b[0m\u001b[37m\u001b[0m \u001b[1m5s\u001b[0m 695ms/step - loss: 0.0933\n",
      "Epoch 5/5\n",
      "\u001b[1m7/7\u001b[0m \u001b[32m━━━━━━━━━━━━━━━━━━━━\u001b[0m\u001b[37m\u001b[0m \u001b[1m5s\u001b[0m 669ms/step - loss: 0.0709\n"
     ]
    }
   ],
   "source": [
    "np.random.seed(42)\n",
    "tf.random.set_seed(42)\n",
    "\n",
    "model.compile(loss=\"mse\", optimizer='Adam')\n",
    "\n",
    "history = model.fit(train_x, train_target, epochs=epoch_num)"
   ]
  },
  {
   "cell_type": "markdown",
   "metadata": {},
   "source": [
    "### Predictions"
   ]
  },
  {
   "cell_type": "code",
   "execution_count": 62,
   "metadata": {},
   "outputs": [
    {
     "name": "stdout",
     "output_type": "stream",
     "text": [
      "WARNING:tensorflow:5 out of the last 7 calls to <function TensorFlowTrainer.make_predict_function.<locals>.one_step_on_data_distributed at 0x354e9f4c0> triggered tf.function retracing. Tracing is expensive and the excessive number of tracings could be due to (1) creating @tf.function repeatedly in a loop, (2) passing tensors with different shapes, (3) passing Python objects instead of tensors. For (1), please define your @tf.function outside of the loop. For (2), @tf.function has reduce_retracing=True option that can avoid unnecessary retracing. For (3), please refer to https://www.tensorflow.org/guide/function#controlling_retracing and https://www.tensorflow.org/api_docs/python/tf/function for  more details.\n",
      "\u001b[1m2/3\u001b[0m \u001b[32m━━━━━━━━━━━━━\u001b[0m\u001b[37m━━━━━━━\u001b[0m \u001b[1m0s\u001b[0m 132ms/stepWARNING:tensorflow:6 out of the last 9 calls to <function TensorFlowTrainer.make_predict_function.<locals>.one_step_on_data_distributed at 0x354e9f4c0> triggered tf.function retracing. Tracing is expensive and the excessive number of tracings could be due to (1) creating @tf.function repeatedly in a loop, (2) passing tensors with different shapes, (3) passing Python objects instead of tensors. For (1), please define your @tf.function outside of the loop. For (2), @tf.function has reduce_retracing=True option that can avoid unnecessary retracing. For (3), please refer to https://www.tensorflow.org/guide/function#controlling_retracing and https://www.tensorflow.org/api_docs/python/tf/function for  more details.\n",
      "\u001b[1m3/3\u001b[0m \u001b[32m━━━━━━━━━━━━━━━━━━━━\u001b[0m\u001b[37m\u001b[0m \u001b[1m1s\u001b[0m 225ms/step\n"
     ]
    }
   ],
   "source": [
    "#Predict:\n",
    "y_pred = model.predict(test_x)\n"
   ]
  },
  {
   "cell_type": "code",
   "execution_count": 63,
   "metadata": {},
   "outputs": [],
   "source": [
    "#Remember, these are standardized values. \n",
    "\n",
    "comparison = pd.DataFrame()\n",
    "\n",
    "comparison['actual'] = scaler.inverse_transform([test_target]).flatten()\n",
    "comparison['predicted'] = scaler.inverse_transform(y_pred).flatten()"
   ]
  },
  {
   "cell_type": "code",
   "execution_count": 64,
   "metadata": {},
   "outputs": [
    {
     "data": {
      "text/html": [
       "<div>\n",
       "<style scoped>\n",
       "    .dataframe tbody tr th:only-of-type {\n",
       "        vertical-align: middle;\n",
       "    }\n",
       "\n",
       "    .dataframe tbody tr th {\n",
       "        vertical-align: top;\n",
       "    }\n",
       "\n",
       "    .dataframe thead th {\n",
       "        text-align: right;\n",
       "    }\n",
       "</style>\n",
       "<table border=\"1\" class=\"dataframe\">\n",
       "  <thead>\n",
       "    <tr style=\"text-align: right;\">\n",
       "      <th></th>\n",
       "      <th>actual</th>\n",
       "      <th>predicted</th>\n",
       "    </tr>\n",
       "  </thead>\n",
       "  <tbody>\n",
       "    <tr>\n",
       "      <th>0</th>\n",
       "      <td>86.021</td>\n",
       "      <td>83.467468</td>\n",
       "    </tr>\n",
       "    <tr>\n",
       "      <th>1</th>\n",
       "      <td>75.245</td>\n",
       "      <td>75.912086</td>\n",
       "    </tr>\n",
       "    <tr>\n",
       "      <th>2</th>\n",
       "      <td>65.030</td>\n",
       "      <td>70.674118</td>\n",
       "    </tr>\n",
       "    <tr>\n",
       "      <th>3</th>\n",
       "      <td>80.669</td>\n",
       "      <td>82.433907</td>\n",
       "    </tr>\n",
       "    <tr>\n",
       "      <th>4</th>\n",
       "      <td>71.330</td>\n",
       "      <td>74.155128</td>\n",
       "    </tr>\n",
       "    <tr>\n",
       "      <th>...</th>\n",
       "      <td>...</td>\n",
       "      <td>...</td>\n",
       "    </tr>\n",
       "    <tr>\n",
       "      <th>82</th>\n",
       "      <td>56.480</td>\n",
       "      <td>59.918369</td>\n",
       "    </tr>\n",
       "    <tr>\n",
       "      <th>83</th>\n",
       "      <td>85.685</td>\n",
       "      <td>83.932892</td>\n",
       "    </tr>\n",
       "    <tr>\n",
       "      <th>84</th>\n",
       "      <td>74.345</td>\n",
       "      <td>75.744240</td>\n",
       "    </tr>\n",
       "    <tr>\n",
       "      <th>85</th>\n",
       "      <td>84.830</td>\n",
       "      <td>83.924927</td>\n",
       "    </tr>\n",
       "    <tr>\n",
       "      <th>86</th>\n",
       "      <td>78.425</td>\n",
       "      <td>77.446617</td>\n",
       "    </tr>\n",
       "  </tbody>\n",
       "</table>\n",
       "<p>87 rows × 2 columns</p>\n",
       "</div>"
      ],
      "text/plain": [
       "    actual  predicted\n",
       "0   86.021  83.467468\n",
       "1   75.245  75.912086\n",
       "2   65.030  70.674118\n",
       "3   80.669  82.433907\n",
       "4   71.330  74.155128\n",
       "..     ...        ...\n",
       "82  56.480  59.918369\n",
       "83  85.685  83.932892\n",
       "84  74.345  75.744240\n",
       "85  84.830  83.924927\n",
       "86  78.425  77.446617\n",
       "\n",
       "[87 rows x 2 columns]"
      ]
     },
     "execution_count": 64,
     "metadata": {},
     "output_type": "execute_result"
    }
   ],
   "source": [
    "comparison"
   ]
  },
  {
   "cell_type": "code",
   "execution_count": 65,
   "metadata": {},
   "outputs": [
    {
     "data": {
      "text/plain": [
       "5.183264379163942"
      ]
     },
     "execution_count": 65,
     "metadata": {},
     "output_type": "execute_result"
    }
   ],
   "source": [
    "mean_squared_error(comparison['actual'], comparison['predicted'])"
   ]
  },
  {
   "cell_type": "code",
   "execution_count": 66,
   "metadata": {},
   "outputs": [
    {
     "data": {
      "image/png": "[encoded data removed]",
      "text/plain": [
       "<Figure size 640x480 with 1 Axes>"
      ]
     },
     "metadata": {},
     "output_type": "display_data"
    }
   ],
   "source": [
    "plt.plot(comparison['actual'], label = 'actual')\n",
    "plt.plot(comparison['predicted'], label = 'predicted')\n",
    "\n",
    "plt.legend()\n",
    "\n",
    "plt.show()"
   ]
  },
  {
   "cell_type": "markdown",
   "metadata": {},
   "source": [
    "# LSTM with one layer"
   ]
  },
  {
   "cell_type": "code",
   "execution_count": 67,
   "metadata": {
    "scrolled": true
   },
   "outputs": [
    {
     "name": "stderr",
     "output_type": "stream",
     "text": [
      "/Users/timsmith/miniconda3/envs/dsp/lib/python3.11/site-packages/keras/src/layers/rnn/rnn.py:204: UserWarning: Do not pass an `input_shape`/`input_dim` argument to a layer. When using Sequential models, prefer using an `Input(shape)` object as the first layer in the model instead.\n",
      "  super().__init__(**kwargs)\n"
     ]
    }
   ],
   "source": [
    "model = keras.models.Sequential([\n",
    "    keras.layers.LSTM(32, activation='relu', input_shape=[23, 1]),\n",
    "    keras.layers.Dense(1, activation=None)\n",
    "])"
   ]
  },
  {
   "cell_type": "code",
   "execution_count": 68,
   "metadata": {
    "scrolled": true
   },
   "outputs": [
    {
     "name": "stdout",
     "output_type": "stream",
     "text": [
      "Epoch 1/5\n",
      "\u001b[1m7/7\u001b[0m \u001b[32m━━━━━━━━━━━━━━━━━━━━\u001b[0m\u001b[37m\u001b[0m \u001b[1m5s\u001b[0m 440ms/step - loss: 1.2531\n",
      "Epoch 2/5\n",
      "\u001b[1m7/7\u001b[0m \u001b[32m━━━━━━━━━━━━━━━━━━━━\u001b[0m\u001b[37m\u001b[0m \u001b[1m3s\u001b[0m 487ms/step - loss: 1.0240\n",
      "Epoch 3/5\n",
      "\u001b[1m7/7\u001b[0m \u001b[32m━━━━━━━━━━━━━━━━━━━━\u001b[0m\u001b[37m\u001b[0m \u001b[1m3s\u001b[0m 479ms/step - loss: 0.8281\n",
      "Epoch 4/5\n",
      "\u001b[1m7/7\u001b[0m \u001b[32m━━━━━━━━━━━━━━━━━━━━\u001b[0m\u001b[37m\u001b[0m \u001b[1m3s\u001b[0m 481ms/step - loss: 0.6236\n",
      "Epoch 5/5\n",
      "\u001b[1m7/7\u001b[0m \u001b[32m━━━━━━━━━━━━━━━━━━━━\u001b[0m\u001b[37m\u001b[0m \u001b[1m3s\u001b[0m 467ms/step - loss: 0.5775\n"
     ]
    }
   ],
   "source": [
    "np.random.seed(42)\n",
    "tf.random.set_seed(42)\n",
    "\n",
    "model.compile(loss=\"mse\", optimizer='Adam')\n",
    "\n",
    "history = model.fit(train_x, train_target, epochs=epoch_num)"
   ]
  },
  {
   "cell_type": "markdown",
   "metadata": {},
   "source": [
    "### Predictions"
   ]
  },
  {
   "cell_type": "code",
   "execution_count": 69,
   "metadata": {},
   "outputs": [
    {
     "name": "stdout",
     "output_type": "stream",
     "text": [
      "\u001b[1m3/3\u001b[0m \u001b[32m━━━━━━━━━━━━━━━━━━━━\u001b[0m\u001b[37m\u001b[0m \u001b[1m1s\u001b[0m 154ms/step\n"
     ]
    }
   ],
   "source": [
    "#Predict:\n",
    "y_pred = model.predict(test_x)\n"
   ]
  },
  {
   "cell_type": "code",
   "execution_count": 70,
   "metadata": {},
   "outputs": [],
   "source": [
    "#Remember, these are standardized values. \n",
    "\n",
    "comparison = pd.DataFrame()\n",
    "\n",
    "comparison['actual'] = scaler.inverse_transform([test_target]).flatten()\n",
    "comparison['predicted'] = scaler.inverse_transform(y_pred).flatten()"
   ]
  },
  {
   "cell_type": "code",
   "execution_count": 71,
   "metadata": {},
   "outputs": [
    {
     "data": {
      "text/plain": [
       "77.44127969120099"
      ]
     },
     "execution_count": 71,
     "metadata": {},
     "output_type": "execute_result"
    }
   ],
   "source": [
    "mean_squared_error(comparison['actual'], comparison['predicted'])"
   ]
  },
  {
   "cell_type": "code",
   "execution_count": 72,
   "metadata": {},
   "outputs": [
    {
     "data": {
      "image/png": "[encoded data removed]",
      "text/plain": [
       "<Figure size 640x480 with 1 Axes>"
      ]
     },
     "metadata": {},
     "output_type": "display_data"
    }
   ],
   "source": [
    "plt.plot(comparison['actual'], label = 'actual')\n",
    "plt.plot(comparison['predicted'], label = 'predicted')\n",
    "\n",
    "plt.legend()\n",
    "\n",
    "plt.show()"
   ]
  },
  {
   "cell_type": "markdown",
   "metadata": {},
   "source": [
    "# LSTM with more layers"
   ]
  },
  {
   "cell_type": "code",
   "execution_count": 73,
   "metadata": {
    "scrolled": true
   },
   "outputs": [
    {
     "name": "stderr",
     "output_type": "stream",
     "text": [
      "/Users/timsmith/miniconda3/envs/dsp/lib/python3.11/site-packages/keras/src/layers/rnn/rnn.py:204: UserWarning: Do not pass an `input_shape`/`input_dim` argument to a layer. When using Sequential models, prefer using an `Input(shape)` object as the first layer in the model instead.\n",
      "  super().__init__(**kwargs)\n"
     ]
    }
   ],
   "source": [
    "model = keras.models.Sequential([\n",
    "    keras.layers.LSTM(32, activation='tanh', return_sequences=True, input_shape=[23, 1]),\n",
    "    keras.layers.LSTM(32, activation='tanh', return_sequences=False),\n",
    "    keras.layers.Dense(1, activation=None)\n",
    "])"
   ]
  },
  {
   "cell_type": "code",
   "execution_count": 74,
   "metadata": {
    "scrolled": true
   },
   "outputs": [
    {
     "name": "stdout",
     "output_type": "stream",
     "text": [
      "Epoch 1/5\n",
      "\u001b[1m7/7\u001b[0m \u001b[32m━━━━━━━━━━━━━━━━━━━━\u001b[0m\u001b[37m\u001b[0m \u001b[1m2s\u001b[0m 31ms/step - loss: 0.7669\n",
      "Epoch 2/5\n",
      "\u001b[1m7/7\u001b[0m \u001b[32m━━━━━━━━━━━━━━━━━━━━\u001b[0m\u001b[37m\u001b[0m \u001b[1m0s\u001b[0m 16ms/step - loss: 0.2524\n",
      "Epoch 3/5\n",
      "\u001b[1m7/7\u001b[0m \u001b[32m━━━━━━━━━━━━━━━━━━━━\u001b[0m\u001b[37m\u001b[0m \u001b[1m0s\u001b[0m 14ms/step - loss: 0.1259\n",
      "Epoch 4/5\n",
      "\u001b[1m7/7\u001b[0m \u001b[32m━━━━━━━━━━━━━━━━━━━━\u001b[0m\u001b[37m\u001b[0m \u001b[1m0s\u001b[0m 15ms/step - loss: 0.1136\n",
      "Epoch 5/5\n",
      "\u001b[1m7/7\u001b[0m \u001b[32m━━━━━━━━━━━━━━━━━━━━\u001b[0m\u001b[37m\u001b[0m \u001b[1m0s\u001b[0m 14ms/step - loss: 0.0880\n"
     ]
    }
   ],
   "source": [
    "np.random.seed(42)\n",
    "tf.random.set_seed(42)\n",
    "\n",
    "model.compile(loss=\"mse\", optimizer='Adam')\n",
    "\n",
    "history = model.fit(train_x, train_target, epochs=epoch_num)"
   ]
  },
  {
   "cell_type": "markdown",
   "metadata": {},
   "source": [
    "### Predictions"
   ]
  },
  {
   "cell_type": "code",
   "execution_count": 75,
   "metadata": {},
   "outputs": [
    {
     "name": "stdout",
     "output_type": "stream",
     "text": [
      "\u001b[1m3/3\u001b[0m \u001b[32m━━━━━━━━━━━━━━━━━━━━\u001b[0m\u001b[37m\u001b[0m \u001b[1m0s\u001b[0m 101ms/step\n"
     ]
    }
   ],
   "source": [
    "#Predict:\n",
    "y_pred = model.predict(test_x)"
   ]
  },
  {
   "cell_type": "code",
   "execution_count": 76,
   "metadata": {},
   "outputs": [],
   "source": [
    "#Remember, these are standardized values. \n",
    "\n",
    "comparison = pd.DataFrame()\n",
    "\n",
    "comparison['actual'] = scaler.inverse_transform([test_target]).flatten()\n",
    "comparison['predicted'] = scaler.inverse_transform(y_pred).flatten()"
   ]
  },
  {
   "cell_type": "code",
   "execution_count": 77,
   "metadata": {},
   "outputs": [
    {
     "data": {
      "text/plain": [
       "12.661517235157207"
      ]
     },
     "execution_count": 77,
     "metadata": {},
     "output_type": "execute_result"
    }
   ],
   "source": [
    "mean_squared_error(comparison['actual'], comparison['predicted'])"
   ]
  },
  {
   "cell_type": "code",
   "execution_count": 78,
   "metadata": {},
   "outputs": [
    {
     "data": {
      "image/png": "[encoded data removed]",
      "text/plain": [
       "<Figure size 640x480 with 1 Axes>"
      ]
     },
     "metadata": {},
     "output_type": "display_data"
    }
   ],
   "source": [
    "plt.plot(comparison['actual'], label = 'actual')\n",
    "plt.plot(comparison['predicted'], label = 'predicted')\n",
    "\n",
    "plt.legend()\n",
    "\n",
    "plt.show()"
   ]
  },
  {
   "cell_type": "markdown",
   "metadata": {},
   "source": [
    "# GRU (with more layers)"
   ]
  },
  {
   "cell_type": "code",
   "execution_count": 79,
   "metadata": {
    "scrolled": false
   },
   "outputs": [
    {
     "name": "stderr",
     "output_type": "stream",
     "text": [
      "/Users/timsmith/miniconda3/envs/dsp/lib/python3.11/site-packages/keras/src/layers/rnn/rnn.py:204: UserWarning: Do not pass an `input_shape`/`input_dim` argument to a layer. When using Sequential models, prefer using an `Input(shape)` object as the first layer in the model instead.\n",
      "  super().__init__(**kwargs)\n"
     ]
    }
   ],
   "source": [
    "model = keras.models.Sequential([\n",
    "    keras.layers.GRU(32, activation='relu', return_sequences=True, input_shape=[23, 1]),\n",
    "    keras.layers.GRU(32, activation='relu', return_sequences=False),\n",
    "    keras.layers.Dense(1, activation=None)\n",
    "])"
   ]
  },
  {
   "cell_type": "code",
   "execution_count": 80,
   "metadata": {
    "scrolled": true
   },
   "outputs": [
    {
     "name": "stdout",
     "output_type": "stream",
     "text": [
      "Epoch 1/5\n",
      "\u001b[1m7/7\u001b[0m \u001b[32m━━━━━━━━━━━━━━━━━━━━\u001b[0m\u001b[37m\u001b[0m \u001b[1m13s\u001b[0m 2s/step - loss: 0.8036\n",
      "Epoch 2/5\n",
      "\u001b[1m7/7\u001b[0m \u001b[32m━━━━━━━━━━━━━━━━━━━━\u001b[0m\u001b[37m\u001b[0m \u001b[1m11s\u001b[0m 2s/step - loss: 0.5600\n",
      "Epoch 3/5\n",
      "\u001b[1m7/7\u001b[0m \u001b[32m━━━━━━━━━━━━━━━━━━━━\u001b[0m\u001b[37m\u001b[0m \u001b[1m11s\u001b[0m 2s/step - loss: 0.4047\n",
      "Epoch 4/5\n",
      "\u001b[1m7/7\u001b[0m \u001b[32m━━━━━━━━━━━━━━━━━━━━\u001b[0m\u001b[37m\u001b[0m \u001b[1m11s\u001b[0m 2s/step - loss: 0.2556\n",
      "Epoch 5/5\n",
      "\u001b[1m7/7\u001b[0m \u001b[32m━━━━━━━━━━━━━━━━━━━━\u001b[0m\u001b[37m\u001b[0m \u001b[1m11s\u001b[0m 2s/step - loss: 0.1227\n"
     ]
    }
   ],
   "source": [
    "np.random.seed(42)\n",
    "tf.random.set_seed(42)\n",
    "\n",
    "model.compile(loss=\"mse\", optimizer='RMSprop')\n",
    "\n",
    "history = model.fit(train_x, train_target, epochs=epoch_num)"
   ]
  },
  {
   "cell_type": "markdown",
   "metadata": {},
   "source": [
    "### Predictions"
   ]
  },
  {
   "cell_type": "code",
   "execution_count": 81,
   "metadata": {},
   "outputs": [
    {
     "name": "stdout",
     "output_type": "stream",
     "text": [
      "\u001b[1m3/3\u001b[0m \u001b[32m━━━━━━━━━━━━━━━━━━━━\u001b[0m\u001b[37m\u001b[0m \u001b[1m1s\u001b[0m 358ms/step\n"
     ]
    }
   ],
   "source": [
    "#Predict:\n",
    "y_pred = model.predict(test_x)"
   ]
  },
  {
   "cell_type": "code",
   "execution_count": 82,
   "metadata": {},
   "outputs": [],
   "source": [
    "#Remember, these are standardized values. \n",
    "\n",
    "comparison = pd.DataFrame()\n",
    "\n",
    "comparison['actual'] = scaler.inverse_transform([test_target]).flatten()\n",
    "comparison['predicted'] = scaler.inverse_transform(y_pred).flatten()"
   ]
  },
  {
   "cell_type": "code",
   "execution_count": 83,
   "metadata": {},
   "outputs": [
    {
     "data": {
      "text/plain": [
       "5.907716083886514"
      ]
     },
     "execution_count": 83,
     "metadata": {},
     "output_type": "execute_result"
    }
   ],
   "source": [
    "mean_squared_error(comparison['actual'], comparison['predicted'])"
   ]
  },
  {
   "cell_type": "code",
   "execution_count": 84,
   "metadata": {},
   "outputs": [
    {
     "data": {
      "image/png": "[encoded data removed]",
      "text/plain": [
       "<Figure size 640x480 with 1 Axes>"
      ]
     },
     "metadata": {},
     "output_type": "display_data"
    }
   ],
   "source": [
    "plt.plot(comparison['actual'], label = 'actual')\n",
    "plt.plot(comparison['predicted'], label = 'predicted')\n",
    "\n",
    "plt.legend()\n",
    "\n",
    "plt.show()"
   ]
  },
  {
   "cell_type": "markdown",
   "metadata": {},
   "source": [
    "# Conv1D"
   ]
  },
  {
   "cell_type": "markdown",
   "metadata": {},
   "source": [
    "### Last Layer: GRU (you can change it to SimpleRNN or LSTM as well)"
   ]
  },
  {
   "cell_type": "code",
   "execution_count": 85,
   "metadata": {
    "scrolled": true
   },
   "outputs": [
    {
     "name": "stderr",
     "output_type": "stream",
     "text": [
      "/Users/timsmith/miniconda3/envs/dsp/lib/python3.11/site-packages/keras/src/layers/convolutional/base_conv.py:99: UserWarning: Do not pass an `input_shape`/`input_dim` argument to a layer. When using Sequential models, prefer using an `Input(shape)` object as the first layer in the model instead.\n",
      "  super().__init__(\n"
     ]
    }
   ],
   "source": [
    "model = keras.models.Sequential([\n",
    "    keras.layers.Conv1D(filters=20, kernel_size=3, strides=1, padding=\"valid\", input_shape=[23, 1]),\n",
    "    keras.layers.GRU(32, activation='relu', return_sequences=True),\n",
    "    keras.layers.GRU(32, activation='relu', return_sequences=False),\n",
    "    keras.layers.Dense(1, activation=None)\n",
    "])"
   ]
  },
  {
   "cell_type": "code",
   "execution_count": 86,
   "metadata": {
    "scrolled": true
   },
   "outputs": [
    {
     "name": "stdout",
     "output_type": "stream",
     "text": [
      "Epoch 1/5\n",
      "\u001b[1m7/7\u001b[0m \u001b[32m━━━━━━━━━━━━━━━━━━━━\u001b[0m\u001b[37m\u001b[0m \u001b[1m14s\u001b[0m 1s/step - loss: 0.9220\n",
      "Epoch 2/5\n",
      "\u001b[1m7/7\u001b[0m \u001b[32m━━━━━━━━━━━━━━━━━━━━\u001b[0m\u001b[37m\u001b[0m \u001b[1m10s\u001b[0m 1s/step - loss: 0.7516\n",
      "Epoch 3/5\n",
      "\u001b[1m7/7\u001b[0m \u001b[32m━━━━━━━━━━━━━━━━━━━━\u001b[0m\u001b[37m\u001b[0m \u001b[1m10s\u001b[0m 1s/step - loss: 0.6433\n",
      "Epoch 4/5\n",
      "\u001b[1m7/7\u001b[0m \u001b[32m━━━━━━━━━━━━━━━━━━━━\u001b[0m\u001b[37m\u001b[0m \u001b[1m10s\u001b[0m 1s/step - loss: 0.5135\n",
      "Epoch 5/5\n",
      "\u001b[1m7/7\u001b[0m \u001b[32m━━━━━━━━━━━━━━━━━━━━\u001b[0m\u001b[37m\u001b[0m \u001b[1m10s\u001b[0m 1s/step - loss: 0.3517\n"
     ]
    }
   ],
   "source": [
    "np.random.seed(42)\n",
    "tf.random.set_seed(42)\n",
    "\n",
    "model.compile(loss=\"mse\", optimizer='Adam')\n",
    "\n",
    "history = model.fit(train_x, train_target, epochs=epoch_num)"
   ]
  },
  {
   "cell_type": "markdown",
   "metadata": {},
   "source": [
    "### Predictions"
   ]
  },
  {
   "cell_type": "code",
   "execution_count": 87,
   "metadata": {},
   "outputs": [
    {
     "name": "stdout",
     "output_type": "stream",
     "text": [
      "\u001b[1m3/3\u001b[0m \u001b[32m━━━━━━━━━━━━━━━━━━━━\u001b[0m\u001b[37m\u001b[0m \u001b[1m1s\u001b[0m 325ms/step\n"
     ]
    }
   ],
   "source": [
    "#Predict:\n",
    "y_pred = model.predict(test_x)"
   ]
  },
  {
   "cell_type": "code",
   "execution_count": 88,
   "metadata": {},
   "outputs": [],
   "source": [
    "#Remember, these are standardized values. \n",
    "\n",
    "comparison = pd.DataFrame()\n",
    "\n",
    "comparison['actual'] = scaler.inverse_transform([test_target]).flatten()\n",
    "comparison['predicted'] = scaler.inverse_transform(y_pred).flatten()"
   ]
  },
  {
   "cell_type": "code",
   "execution_count": 89,
   "metadata": {},
   "outputs": [
    {
     "data": {
      "text/plain": [
       "18.93950135820779"
      ]
     },
     "execution_count": 89,
     "metadata": {},
     "output_type": "execute_result"
    }
   ],
   "source": [
    "mean_squared_error(comparison['actual'], comparison['predicted'])"
   ]
  },
  {
   "cell_type": "markdown",
   "metadata": {},
   "source": [
    "# Forecasting Several Steps Ahead"
   ]
  },
  {
   "cell_type": "markdown",
   "metadata": {},
   "source": [
    "## Now let's create an RNN that predicts 12 next values at once:"
   ]
  },
  {
   "cell_type": "code",
   "execution_count": 90,
   "metadata": {},
   "outputs": [
    {
     "data": {
      "text/html": [
       "<div>\n",
       "<style scoped>\n",
       "    .dataframe tbody tr th:only-of-type {\n",
       "        vertical-align: middle;\n",
       "    }\n",
       "\n",
       "    .dataframe tbody tr th {\n",
       "        vertical-align: top;\n",
       "    }\n",
       "\n",
       "    .dataframe thead th {\n",
       "        text-align: right;\n",
       "    }\n",
       "</style>\n",
       "<table border=\"1\" class=\"dataframe\">\n",
       "  <thead>\n",
       "    <tr style=\"text-align: right;\">\n",
       "      <th></th>\n",
       "      <th>0</th>\n",
       "      <th>1</th>\n",
       "      <th>2</th>\n",
       "      <th>3</th>\n",
       "      <th>4</th>\n",
       "      <th>5</th>\n",
       "      <th>6</th>\n",
       "      <th>7</th>\n",
       "      <th>8</th>\n",
       "      <th>9</th>\n",
       "      <th>10</th>\n",
       "      <th>11</th>\n",
       "    </tr>\n",
       "  </thead>\n",
       "  <tbody>\n",
       "    <tr>\n",
       "      <th>0</th>\n",
       "      <td>-1.986317</td>\n",
       "      <td>-1.836491</td>\n",
       "      <td>-1.850537</td>\n",
       "      <td>-1.756896</td>\n",
       "      <td>-1.906722</td>\n",
       "      <td>-1.948861</td>\n",
       "      <td>-1.925450</td>\n",
       "      <td>-1.855219</td>\n",
       "      <td>-1.794353</td>\n",
       "      <td>-1.794353</td>\n",
       "      <td>-1.761578</td>\n",
       "      <td>-1.770942</td>\n",
       "    </tr>\n",
       "    <tr>\n",
       "      <th>1</th>\n",
       "      <td>0.401532</td>\n",
       "      <td>0.448353</td>\n",
       "      <td>0.485809</td>\n",
       "      <td>0.476445</td>\n",
       "      <td>0.499855</td>\n",
       "      <td>0.518584</td>\n",
       "      <td>0.541994</td>\n",
       "      <td>0.527948</td>\n",
       "      <td>0.541994</td>\n",
       "      <td>0.546676</td>\n",
       "      <td>0.518584</td>\n",
       "      <td>0.574768</td>\n",
       "    </tr>\n",
       "    <tr>\n",
       "      <th>2</th>\n",
       "      <td>-1.195049</td>\n",
       "      <td>-1.199731</td>\n",
       "      <td>-1.265280</td>\n",
       "      <td>-1.251234</td>\n",
       "      <td>-1.255916</td>\n",
       "      <td>-1.293373</td>\n",
       "      <td>-1.293373</td>\n",
       "      <td>-1.340193</td>\n",
       "      <td>-1.382332</td>\n",
       "      <td>-1.391696</td>\n",
       "      <td>-1.401060</td>\n",
       "      <td>-1.424470</td>\n",
       "    </tr>\n",
       "    <tr>\n",
       "      <th>3</th>\n",
       "      <td>-1.616435</td>\n",
       "      <td>-1.602388</td>\n",
       "      <td>-1.635163</td>\n",
       "      <td>-1.653891</td>\n",
       "      <td>-1.761578</td>\n",
       "      <td>-1.799035</td>\n",
       "      <td>-1.799035</td>\n",
       "      <td>-1.799035</td>\n",
       "      <td>-1.850537</td>\n",
       "      <td>-1.883312</td>\n",
       "      <td>-1.939496</td>\n",
       "      <td>-1.972271</td>\n",
       "    </tr>\n",
       "    <tr>\n",
       "      <th>4</th>\n",
       "      <td>0.982107</td>\n",
       "      <td>0.921241</td>\n",
       "      <td>0.696502</td>\n",
       "      <td>0.499855</td>\n",
       "      <td>0.401532</td>\n",
       "      <td>0.307891</td>\n",
       "      <td>0.270435</td>\n",
       "      <td>0.247024</td>\n",
       "      <td>0.232978</td>\n",
       "      <td>0.209568</td>\n",
       "      <td>0.200204</td>\n",
       "      <td>0.167429</td>\n",
       "    </tr>\n",
       "    <tr>\n",
       "      <th>...</th>\n",
       "      <td>...</td>\n",
       "      <td>...</td>\n",
       "      <td>...</td>\n",
       "      <td>...</td>\n",
       "      <td>...</td>\n",
       "      <td>...</td>\n",
       "      <td>...</td>\n",
       "      <td>...</td>\n",
       "      <td>...</td>\n",
       "      <td>...</td>\n",
       "      <td>...</td>\n",
       "      <td>...</td>\n",
       "    </tr>\n",
       "    <tr>\n",
       "      <th>196</th>\n",
       "      <td>0.017603</td>\n",
       "      <td>-0.179043</td>\n",
       "      <td>-0.207135</td>\n",
       "      <td>-0.193089</td>\n",
       "      <td>-0.263320</td>\n",
       "      <td>-0.314823</td>\n",
       "      <td>-0.417828</td>\n",
       "      <td>-0.469330</td>\n",
       "      <td>-0.502105</td>\n",
       "      <td>-0.539561</td>\n",
       "      <td>-0.548925</td>\n",
       "      <td>-0.516151</td>\n",
       "    </tr>\n",
       "    <tr>\n",
       "      <th>197</th>\n",
       "      <td>1.234938</td>\n",
       "      <td>1.099159</td>\n",
       "      <td>0.935287</td>\n",
       "      <td>0.799507</td>\n",
       "      <td>0.752686</td>\n",
       "      <td>0.748004</td>\n",
       "      <td>0.724594</td>\n",
       "      <td>0.724594</td>\n",
       "      <td>0.701184</td>\n",
       "      <td>0.701184</td>\n",
       "      <td>0.691820</td>\n",
       "      <td>0.738640</td>\n",
       "    </tr>\n",
       "    <tr>\n",
       "      <th>198</th>\n",
       "      <td>0.209568</td>\n",
       "      <td>0.312573</td>\n",
       "      <td>0.335983</td>\n",
       "      <td>0.335983</td>\n",
       "      <td>0.321937</td>\n",
       "      <td>0.247024</td>\n",
       "      <td>0.228296</td>\n",
       "      <td>0.214250</td>\n",
       "      <td>0.232978</td>\n",
       "      <td>0.275117</td>\n",
       "      <td>0.284481</td>\n",
       "      <td>0.211128</td>\n",
       "    </tr>\n",
       "    <tr>\n",
       "      <th>199</th>\n",
       "      <td>-0.001125</td>\n",
       "      <td>0.012921</td>\n",
       "      <td>-0.052627</td>\n",
       "      <td>-0.282048</td>\n",
       "      <td>-0.394418</td>\n",
       "      <td>-0.483377</td>\n",
       "      <td>-0.558290</td>\n",
       "      <td>-0.633202</td>\n",
       "      <td>-0.684705</td>\n",
       "      <td>-0.722162</td>\n",
       "      <td>-0.754936</td>\n",
       "      <td>-0.797074</td>\n",
       "    </tr>\n",
       "    <tr>\n",
       "      <th>200</th>\n",
       "      <td>0.743322</td>\n",
       "      <td>0.663727</td>\n",
       "      <td>0.593497</td>\n",
       "      <td>0.462399</td>\n",
       "      <td>0.415578</td>\n",
       "      <td>0.424942</td>\n",
       "      <td>0.453035</td>\n",
       "      <td>0.443671</td>\n",
       "      <td>0.382804</td>\n",
       "      <td>0.321937</td>\n",
       "      <td>0.331301</td>\n",
       "      <td>0.429625</td>\n",
       "    </tr>\n",
       "  </tbody>\n",
       "</table>\n",
       "<p>201 rows × 12 columns</p>\n",
       "</div>"
      ],
      "text/plain": [
       "           0         1         2         3         4         5         6   \\\n",
       "0   -1.986317 -1.836491 -1.850537 -1.756896 -1.906722 -1.948861 -1.925450   \n",
       "1    0.401532  0.448353  0.485809  0.476445  0.499855  0.518584  0.541994   \n",
       "2   -1.195049 -1.199731 -1.265280 -1.251234 -1.255916 -1.293373 -1.293373   \n",
       "3   -1.616435 -1.602388 -1.635163 -1.653891 -1.761578 -1.799035 -1.799035   \n",
       "4    0.982107  0.921241  0.696502  0.499855  0.401532  0.307891  0.270435   \n",
       "..        ...       ...       ...       ...       ...       ...       ...   \n",
       "196  0.017603 -0.179043 -0.207135 -0.193089 -0.263320 -0.314823 -0.417828   \n",
       "197  1.234938  1.099159  0.935287  0.799507  0.752686  0.748004  0.724594   \n",
       "198  0.209568  0.312573  0.335983  0.335983  0.321937  0.247024  0.228296   \n",
       "199 -0.001125  0.012921 -0.052627 -0.282048 -0.394418 -0.483377 -0.558290   \n",
       "200  0.743322  0.663727  0.593497  0.462399  0.415578  0.424942  0.453035   \n",
       "\n",
       "           7         8         9         10        11  \n",
       "0   -1.855219 -1.794353 -1.794353 -1.761578 -1.770942  \n",
       "1    0.527948  0.541994  0.546676  0.518584  0.574768  \n",
       "2   -1.340193 -1.382332 -1.391696 -1.401060 -1.424470  \n",
       "3   -1.799035 -1.850537 -1.883312 -1.939496 -1.972271  \n",
       "4    0.247024  0.232978  0.209568  0.200204  0.167429  \n",
       "..        ...       ...       ...       ...       ...  \n",
       "196 -0.469330 -0.502105 -0.539561 -0.548925 -0.516151  \n",
       "197  0.724594  0.701184  0.701184  0.691820  0.738640  \n",
       "198  0.214250  0.232978  0.275117  0.284481  0.211128  \n",
       "199 -0.633202 -0.684705 -0.722162 -0.754936 -0.797074  \n",
       "200  0.443671  0.382804  0.321937  0.331301  0.429625  \n",
       "\n",
       "[201 rows x 12 columns]"
      ]
     },
     "execution_count": 90,
     "metadata": {},
     "output_type": "execute_result"
    }
   ],
   "source": [
    "# The first 12 columns (from 0 to 11) are inputs\n",
    "\n",
    "train_inputs = train[:,:12]\n",
    "\n",
    "pd.DataFrame(train_inputs, columns=np.arange(0,12,1))"
   ]
  },
  {
   "cell_type": "code",
   "execution_count": 91,
   "metadata": {},
   "outputs": [
    {
     "data": {
      "text/plain": [
       "(201, 12, 1)"
      ]
     },
     "execution_count": 91,
     "metadata": {},
     "output_type": "execute_result"
    }
   ],
   "source": [
    "#Create an additional dimension for train\n",
    "\n",
    "train_x = train_inputs.reshape(201,12,1)\n",
    "\n",
    "train_x.shape "
   ]
  },
  {
   "cell_type": "code",
   "execution_count": 92,
   "metadata": {},
   "outputs": [
    {
     "data": {
      "text/html": [
       "<div>\n",
       "<style scoped>\n",
       "    .dataframe tbody tr th:only-of-type {\n",
       "        vertical-align: middle;\n",
       "    }\n",
       "\n",
       "    .dataframe tbody tr th {\n",
       "        vertical-align: top;\n",
       "    }\n",
       "\n",
       "    .dataframe thead th {\n",
       "        text-align: right;\n",
       "    }\n",
       "</style>\n",
       "<table border=\"1\" class=\"dataframe\">\n",
       "  <thead>\n",
       "    <tr style=\"text-align: right;\">\n",
       "      <th></th>\n",
       "      <th>12</th>\n",
       "      <th>13</th>\n",
       "      <th>14</th>\n",
       "      <th>15</th>\n",
       "      <th>16</th>\n",
       "      <th>17</th>\n",
       "      <th>18</th>\n",
       "      <th>19</th>\n",
       "      <th>20</th>\n",
       "      <th>21</th>\n",
       "      <th>22</th>\n",
       "      <th>23</th>\n",
       "    </tr>\n",
       "  </thead>\n",
       "  <tbody>\n",
       "    <tr>\n",
       "      <th>0</th>\n",
       "      <td>-1.817763</td>\n",
       "      <td>-1.873948</td>\n",
       "      <td>-1.841173</td>\n",
       "      <td>-1.827127</td>\n",
       "      <td>-1.808399</td>\n",
       "      <td>-1.742850</td>\n",
       "      <td>-1.658573</td>\n",
       "      <td>-1.555568</td>\n",
       "      <td>-1.490019</td>\n",
       "      <td>-1.461927</td>\n",
       "      <td>-1.452563</td>\n",
       "      <td>-1.424470</td>\n",
       "    </tr>\n",
       "    <tr>\n",
       "      <th>1</th>\n",
       "      <td>0.790143</td>\n",
       "      <td>0.607543</td>\n",
       "      <td>0.630953</td>\n",
       "      <td>0.410896</td>\n",
       "      <td>0.663727</td>\n",
       "      <td>0.991471</td>\n",
       "      <td>1.038292</td>\n",
       "      <td>1.347308</td>\n",
       "      <td>1.389446</td>\n",
       "      <td>1.295805</td>\n",
       "      <td>1.075748</td>\n",
       "      <td>1.019564</td>\n",
       "    </tr>\n",
       "    <tr>\n",
       "      <th>2</th>\n",
       "      <td>-1.415106</td>\n",
       "      <td>-1.424470</td>\n",
       "      <td>-1.330829</td>\n",
       "      <td>-1.363603</td>\n",
       "      <td>-1.419788</td>\n",
       "      <td>-1.424470</td>\n",
       "      <td>-1.316783</td>\n",
       "      <td>-1.326147</td>\n",
       "      <td>-1.059270</td>\n",
       "      <td>-1.031177</td>\n",
       "      <td>-1.293373</td>\n",
       "      <td>-1.485337</td>\n",
       "    </tr>\n",
       "    <tr>\n",
       "      <th>3</th>\n",
       "      <td>-2.000363</td>\n",
       "      <td>-1.948861</td>\n",
       "      <td>-1.911404</td>\n",
       "      <td>-1.958225</td>\n",
       "      <td>-1.770942</td>\n",
       "      <td>-1.387014</td>\n",
       "      <td>-1.054588</td>\n",
       "      <td>-0.829849</td>\n",
       "      <td>-0.956264</td>\n",
       "      <td>-0.829849</td>\n",
       "      <td>-1.457245</td>\n",
       "      <td>-1.962907</td>\n",
       "    </tr>\n",
       "    <tr>\n",
       "      <th>4</th>\n",
       "      <td>0.415578</td>\n",
       "      <td>0.598179</td>\n",
       "      <td>0.762051</td>\n",
       "      <td>0.949333</td>\n",
       "      <td>1.057020</td>\n",
       "      <td>1.234938</td>\n",
       "      <td>1.295805</td>\n",
       "      <td>1.239620</td>\n",
       "      <td>1.202164</td>\n",
       "      <td>1.155343</td>\n",
       "      <td>1.206846</td>\n",
       "      <td>1.047656</td>\n",
       "    </tr>\n",
       "    <tr>\n",
       "      <th>...</th>\n",
       "      <td>...</td>\n",
       "      <td>...</td>\n",
       "      <td>...</td>\n",
       "      <td>...</td>\n",
       "      <td>...</td>\n",
       "      <td>...</td>\n",
       "      <td>...</td>\n",
       "      <td>...</td>\n",
       "      <td>...</td>\n",
       "      <td>...</td>\n",
       "      <td>...</td>\n",
       "      <td>...</td>\n",
       "    </tr>\n",
       "    <tr>\n",
       "      <th>196</th>\n",
       "      <td>-0.614474</td>\n",
       "      <td>-0.605110</td>\n",
       "      <td>-0.464648</td>\n",
       "      <td>-0.239910</td>\n",
       "      <td>0.055060</td>\n",
       "      <td>0.396850</td>\n",
       "      <td>0.626271</td>\n",
       "      <td>0.776097</td>\n",
       "      <td>0.902512</td>\n",
       "      <td>0.804189</td>\n",
       "      <td>0.443671</td>\n",
       "      <td>0.181475</td>\n",
       "    </tr>\n",
       "    <tr>\n",
       "      <th>197</th>\n",
       "      <td>0.935287</td>\n",
       "      <td>1.089795</td>\n",
       "      <td>1.281759</td>\n",
       "      <td>1.436267</td>\n",
       "      <td>1.623549</td>\n",
       "      <td>1.717190</td>\n",
       "      <td>1.867016</td>\n",
       "      <td>2.040252</td>\n",
       "      <td>2.124529</td>\n",
       "      <td>2.152622</td>\n",
       "      <td>2.040252</td>\n",
       "      <td>0.410896</td>\n",
       "    </tr>\n",
       "    <tr>\n",
       "      <th>198</th>\n",
       "      <td>0.401532</td>\n",
       "      <td>0.719912</td>\n",
       "      <td>0.949333</td>\n",
       "      <td>1.127251</td>\n",
       "      <td>1.375400</td>\n",
       "      <td>1.637595</td>\n",
       "      <td>1.628231</td>\n",
       "      <td>1.562682</td>\n",
       "      <td>1.431585</td>\n",
       "      <td>1.333262</td>\n",
       "      <td>1.230256</td>\n",
       "      <td>0.982107</td>\n",
       "    </tr>\n",
       "    <tr>\n",
       "      <th>199</th>\n",
       "      <td>-0.670659</td>\n",
       "      <td>-0.427192</td>\n",
       "      <td>-0.164997</td>\n",
       "      <td>0.289163</td>\n",
       "      <td>0.527948</td>\n",
       "      <td>0.635635</td>\n",
       "      <td>0.930605</td>\n",
       "      <td>0.986789</td>\n",
       "      <td>1.024246</td>\n",
       "      <td>1.103841</td>\n",
       "      <td>0.888466</td>\n",
       "      <td>0.560722</td>\n",
       "    </tr>\n",
       "    <tr>\n",
       "      <th>200</th>\n",
       "      <td>0.654363</td>\n",
       "      <td>0.640317</td>\n",
       "      <td>0.588814</td>\n",
       "      <td>0.701184</td>\n",
       "      <td>0.822917</td>\n",
       "      <td>0.836963</td>\n",
       "      <td>0.836963</td>\n",
       "      <td>0.949333</td>\n",
       "      <td>0.963379</td>\n",
       "      <td>1.089795</td>\n",
       "      <td>0.860374</td>\n",
       "      <td>0.719912</td>\n",
       "    </tr>\n",
       "  </tbody>\n",
       "</table>\n",
       "<p>201 rows × 12 columns</p>\n",
       "</div>"
      ],
      "text/plain": [
       "           12        13        14        15        16        17        18  \\\n",
       "0   -1.817763 -1.873948 -1.841173 -1.827127 -1.808399 -1.742850 -1.658573   \n",
       "1    0.790143  0.607543  0.630953  0.410896  0.663727  0.991471  1.038292   \n",
       "2   -1.415106 -1.424470 -1.330829 -1.363603 -1.419788 -1.424470 -1.316783   \n",
       "3   -2.000363 -1.948861 -1.911404 -1.958225 -1.770942 -1.387014 -1.054588   \n",
       "4    0.415578  0.598179  0.762051  0.949333  1.057020  1.234938  1.295805   \n",
       "..        ...       ...       ...       ...       ...       ...       ...   \n",
       "196 -0.614474 -0.605110 -0.464648 -0.239910  0.055060  0.396850  0.626271   \n",
       "197  0.935287  1.089795  1.281759  1.436267  1.623549  1.717190  1.867016   \n",
       "198  0.401532  0.719912  0.949333  1.127251  1.375400  1.637595  1.628231   \n",
       "199 -0.670659 -0.427192 -0.164997  0.289163  0.527948  0.635635  0.930605   \n",
       "200  0.654363  0.640317  0.588814  0.701184  0.822917  0.836963  0.836963   \n",
       "\n",
       "           19        20        21        22        23  \n",
       "0   -1.555568 -1.490019 -1.461927 -1.452563 -1.424470  \n",
       "1    1.347308  1.389446  1.295805  1.075748  1.019564  \n",
       "2   -1.326147 -1.059270 -1.031177 -1.293373 -1.485337  \n",
       "3   -0.829849 -0.956264 -0.829849 -1.457245 -1.962907  \n",
       "4    1.239620  1.202164  1.155343  1.206846  1.047656  \n",
       "..        ...       ...       ...       ...       ...  \n",
       "196  0.776097  0.902512  0.804189  0.443671  0.181475  \n",
       "197  2.040252  2.124529  2.152622  2.040252  0.410896  \n",
       "198  1.562682  1.431585  1.333262  1.230256  0.982107  \n",
       "199  0.986789  1.024246  1.103841  0.888466  0.560722  \n",
       "200  0.949333  0.963379  1.089795  0.860374  0.719912  \n",
       "\n",
       "[201 rows x 12 columns]"
      ]
     },
     "execution_count": 92,
     "metadata": {},
     "output_type": "execute_result"
    }
   ],
   "source": [
    "# The last 12 readings (from 12 to 23) are TARGET\n",
    "\n",
    "train_target = train[:,-12:]\n",
    "\n",
    "pd.DataFrame(train_target, columns=np.arange(12,24,1))"
   ]
  },
  {
   "cell_type": "markdown",
   "metadata": {},
   "source": [
    "## Repeat for TEST"
   ]
  },
  {
   "cell_type": "code",
   "execution_count": 93,
   "metadata": {},
   "outputs": [
    {
     "data": {
      "text/html": [
       "<div>\n",
       "<style scoped>\n",
       "    .dataframe tbody tr th:only-of-type {\n",
       "        vertical-align: middle;\n",
       "    }\n",
       "\n",
       "    .dataframe tbody tr th {\n",
       "        vertical-align: top;\n",
       "    }\n",
       "\n",
       "    .dataframe thead th {\n",
       "        text-align: right;\n",
       "    }\n",
       "</style>\n",
       "<table border=\"1\" class=\"dataframe\">\n",
       "  <thead>\n",
       "    <tr style=\"text-align: right;\">\n",
       "      <th></th>\n",
       "      <th>0</th>\n",
       "      <th>1</th>\n",
       "      <th>2</th>\n",
       "      <th>3</th>\n",
       "      <th>4</th>\n",
       "      <th>5</th>\n",
       "      <th>6</th>\n",
       "      <th>7</th>\n",
       "      <th>8</th>\n",
       "      <th>9</th>\n",
       "      <th>10</th>\n",
       "      <th>11</th>\n",
       "    </tr>\n",
       "  </thead>\n",
       "  <tbody>\n",
       "    <tr>\n",
       "      <th>0</th>\n",
       "      <td>1.023621</td>\n",
       "      <td>0.456468</td>\n",
       "      <td>0.432746</td>\n",
       "      <td>0.549173</td>\n",
       "      <td>0.520144</td>\n",
       "      <td>0.538248</td>\n",
       "      <td>0.608479</td>\n",
       "      <td>0.528260</td>\n",
       "      <td>0.441798</td>\n",
       "      <td>0.325371</td>\n",
       "      <td>0.270435</td>\n",
       "      <td>0.386550</td>\n",
       "    </tr>\n",
       "    <tr>\n",
       "      <th>1</th>\n",
       "      <td>0.125291</td>\n",
       "      <td>0.050378</td>\n",
       "      <td>-0.043263</td>\n",
       "      <td>0.017603</td>\n",
       "      <td>-0.090084</td>\n",
       "      <td>-0.174361</td>\n",
       "      <td>-0.235228</td>\n",
       "      <td>-0.193089</td>\n",
       "      <td>-0.272684</td>\n",
       "      <td>-0.385053</td>\n",
       "      <td>-0.403782</td>\n",
       "      <td>-0.389736</td>\n",
       "    </tr>\n",
       "    <tr>\n",
       "      <th>2</th>\n",
       "      <td>-0.445920</td>\n",
       "      <td>-0.497423</td>\n",
       "      <td>-0.516151</td>\n",
       "      <td>-0.511469</td>\n",
       "      <td>-0.544243</td>\n",
       "      <td>-0.614474</td>\n",
       "      <td>-0.637885</td>\n",
       "      <td>-0.609792</td>\n",
       "      <td>-0.619156</td>\n",
       "      <td>-0.651931</td>\n",
       "      <td>-0.605110</td>\n",
       "      <td>-0.708115</td>\n",
       "    </tr>\n",
       "    <tr>\n",
       "      <th>3</th>\n",
       "      <td>0.791704</td>\n",
       "      <td>0.651554</td>\n",
       "      <td>0.591936</td>\n",
       "      <td>0.510780</td>\n",
       "      <td>0.529196</td>\n",
       "      <td>0.490803</td>\n",
       "      <td>0.448353</td>\n",
       "      <td>0.331613</td>\n",
       "      <td>0.312885</td>\n",
       "      <td>0.323810</td>\n",
       "      <td>0.280111</td>\n",
       "      <td>0.374688</td>\n",
       "    </tr>\n",
       "    <tr>\n",
       "      <th>4</th>\n",
       "      <td>-0.403782</td>\n",
       "      <td>-0.417828</td>\n",
       "      <td>-0.455284</td>\n",
       "      <td>-0.544243</td>\n",
       "      <td>-0.619156</td>\n",
       "      <td>-0.656613</td>\n",
       "      <td>-0.698751</td>\n",
       "      <td>-0.759618</td>\n",
       "      <td>-0.815803</td>\n",
       "      <td>-0.867305</td>\n",
       "      <td>-0.909444</td>\n",
       "      <td>-0.923490</td>\n",
       "    </tr>\n",
       "    <tr>\n",
       "      <th>...</th>\n",
       "      <td>...</td>\n",
       "      <td>...</td>\n",
       "      <td>...</td>\n",
       "      <td>...</td>\n",
       "      <td>...</td>\n",
       "      <td>...</td>\n",
       "      <td>...</td>\n",
       "      <td>...</td>\n",
       "      <td>...</td>\n",
       "      <td>...</td>\n",
       "      <td>...</td>\n",
       "      <td>...</td>\n",
       "    </tr>\n",
       "    <tr>\n",
       "      <th>82</th>\n",
       "      <td>-0.047945</td>\n",
       "      <td>-0.076038</td>\n",
       "      <td>-0.108812</td>\n",
       "      <td>-0.155633</td>\n",
       "      <td>-0.174361</td>\n",
       "      <td>-0.146269</td>\n",
       "      <td>-0.090084</td>\n",
       "      <td>-0.076038</td>\n",
       "      <td>-0.450602</td>\n",
       "      <td>-0.750254</td>\n",
       "      <td>-0.839213</td>\n",
       "      <td>-0.974993</td>\n",
       "    </tr>\n",
       "    <tr>\n",
       "      <th>83</th>\n",
       "      <td>0.982107</td>\n",
       "      <td>0.907194</td>\n",
       "      <td>0.925923</td>\n",
       "      <td>0.701184</td>\n",
       "      <td>0.574768</td>\n",
       "      <td>0.513902</td>\n",
       "      <td>0.438989</td>\n",
       "      <td>0.406214</td>\n",
       "      <td>0.387486</td>\n",
       "      <td>0.387486</td>\n",
       "      <td>0.373440</td>\n",
       "      <td>0.392168</td>\n",
       "    </tr>\n",
       "    <tr>\n",
       "      <th>84</th>\n",
       "      <td>-0.202453</td>\n",
       "      <td>-0.272684</td>\n",
       "      <td>-0.347597</td>\n",
       "      <td>-0.342915</td>\n",
       "      <td>-0.445920</td>\n",
       "      <td>-0.534879</td>\n",
       "      <td>-0.600428</td>\n",
       "      <td>-0.633202</td>\n",
       "      <td>-0.628520</td>\n",
       "      <td>-0.670659</td>\n",
       "      <td>-0.689387</td>\n",
       "      <td>-0.708115</td>\n",
       "    </tr>\n",
       "    <tr>\n",
       "      <th>85</th>\n",
       "      <td>1.038292</td>\n",
       "      <td>0.982107</td>\n",
       "      <td>0.958697</td>\n",
       "      <td>0.916558</td>\n",
       "      <td>0.846328</td>\n",
       "      <td>0.841646</td>\n",
       "      <td>0.804189</td>\n",
       "      <td>0.752686</td>\n",
       "      <td>0.752686</td>\n",
       "      <td>0.724594</td>\n",
       "      <td>0.663727</td>\n",
       "      <td>0.743322</td>\n",
       "    </tr>\n",
       "    <tr>\n",
       "      <th>86</th>\n",
       "      <td>0.768293</td>\n",
       "      <td>0.689947</td>\n",
       "      <td>0.624398</td>\n",
       "      <td>0.571959</td>\n",
       "      <td>0.526387</td>\n",
       "      <td>0.453971</td>\n",
       "      <td>0.464584</td>\n",
       "      <td>0.412457</td>\n",
       "      <td>0.359394</td>\n",
       "      <td>0.273244</td>\n",
       "      <td>0.152135</td>\n",
       "      <td>0.148389</td>\n",
       "    </tr>\n",
       "  </tbody>\n",
       "</table>\n",
       "<p>87 rows × 12 columns</p>\n",
       "</div>"
      ],
      "text/plain": [
       "          0         1         2         3         4         5         6   \\\n",
       "0   1.023621  0.456468  0.432746  0.549173  0.520144  0.538248  0.608479   \n",
       "1   0.125291  0.050378 -0.043263  0.017603 -0.090084 -0.174361 -0.235228   \n",
       "2  -0.445920 -0.497423 -0.516151 -0.511469 -0.544243 -0.614474 -0.637885   \n",
       "3   0.791704  0.651554  0.591936  0.510780  0.529196  0.490803  0.448353   \n",
       "4  -0.403782 -0.417828 -0.455284 -0.544243 -0.619156 -0.656613 -0.698751   \n",
       "..       ...       ...       ...       ...       ...       ...       ...   \n",
       "82 -0.047945 -0.076038 -0.108812 -0.155633 -0.174361 -0.146269 -0.090084   \n",
       "83  0.982107  0.907194  0.925923  0.701184  0.574768  0.513902  0.438989   \n",
       "84 -0.202453 -0.272684 -0.347597 -0.342915 -0.445920 -0.534879 -0.600428   \n",
       "85  1.038292  0.982107  0.958697  0.916558  0.846328  0.841646  0.804189   \n",
       "86  0.768293  0.689947  0.624398  0.571959  0.526387  0.453971  0.464584   \n",
       "\n",
       "          7         8         9         10        11  \n",
       "0   0.528260  0.441798  0.325371  0.270435  0.386550  \n",
       "1  -0.193089 -0.272684 -0.385053 -0.403782 -0.389736  \n",
       "2  -0.609792 -0.619156 -0.651931 -0.605110 -0.708115  \n",
       "3   0.331613  0.312885  0.323810  0.280111  0.374688  \n",
       "4  -0.759618 -0.815803 -0.867305 -0.909444 -0.923490  \n",
       "..       ...       ...       ...       ...       ...  \n",
       "82 -0.076038 -0.450602 -0.750254 -0.839213 -0.974993  \n",
       "83  0.406214  0.387486  0.387486  0.373440  0.392168  \n",
       "84 -0.633202 -0.628520 -0.670659 -0.689387 -0.708115  \n",
       "85  0.752686  0.752686  0.724594  0.663727  0.743322  \n",
       "86  0.412457  0.359394  0.273244  0.152135  0.148389  \n",
       "\n",
       "[87 rows x 12 columns]"
      ]
     },
     "execution_count": 93,
     "metadata": {},
     "output_type": "execute_result"
    }
   ],
   "source": [
    "# The first 12 columns (from 0 to 11) are inputs\n",
    "\n",
    "test_inputs = test[:,:12]\n",
    "\n",
    "pd.DataFrame(test_inputs, columns=np.arange(0,12,1))"
   ]
  },
  {
   "cell_type": "code",
   "execution_count": 94,
   "metadata": {},
   "outputs": [
    {
     "data": {
      "text/plain": [
       "(87, 12, 1)"
      ]
     },
     "execution_count": 94,
     "metadata": {},
     "output_type": "execute_result"
    }
   ],
   "source": [
    "#Create an additional dimension for test\n",
    "\n",
    "test_x = test_inputs.reshape(87,12,1)\n",
    "\n",
    "test_x.shape "
   ]
  },
  {
   "cell_type": "code",
   "execution_count": 95,
   "metadata": {},
   "outputs": [
    {
     "data": {
      "text/html": [
       "<div>\n",
       "<style scoped>\n",
       "    .dataframe tbody tr th:only-of-type {\n",
       "        vertical-align: middle;\n",
       "    }\n",
       "\n",
       "    .dataframe tbody tr th {\n",
       "        vertical-align: top;\n",
       "    }\n",
       "\n",
       "    .dataframe thead th {\n",
       "        text-align: right;\n",
       "    }\n",
       "</style>\n",
       "<table border=\"1\" class=\"dataframe\">\n",
       "  <thead>\n",
       "    <tr style=\"text-align: right;\">\n",
       "      <th></th>\n",
       "      <th>12</th>\n",
       "      <th>13</th>\n",
       "      <th>14</th>\n",
       "      <th>15</th>\n",
       "      <th>16</th>\n",
       "      <th>17</th>\n",
       "      <th>18</th>\n",
       "      <th>19</th>\n",
       "      <th>20</th>\n",
       "      <th>21</th>\n",
       "      <th>22</th>\n",
       "      <th>23</th>\n",
       "    </tr>\n",
       "  </thead>\n",
       "  <tbody>\n",
       "    <tr>\n",
       "      <th>0</th>\n",
       "      <td>0.595369</td>\n",
       "      <td>0.772351</td>\n",
       "      <td>0.890963</td>\n",
       "      <td>0.959946</td>\n",
       "      <td>1.159089</td>\n",
       "      <td>1.296429</td>\n",
       "      <td>1.464983</td>\n",
       "      <td>1.477157</td>\n",
       "      <td>1.546139</td>\n",
       "      <td>1.497446</td>\n",
       "      <td>1.303296</td>\n",
       "      <td>1.180939</td>\n",
       "    </tr>\n",
       "    <tr>\n",
       "      <th>1</th>\n",
       "      <td>-0.385053</td>\n",
       "      <td>-0.202453</td>\n",
       "      <td>-0.052627</td>\n",
       "      <td>0.003557</td>\n",
       "      <td>0.073788</td>\n",
       "      <td>0.167429</td>\n",
       "      <td>0.209568</td>\n",
       "      <td>0.312573</td>\n",
       "      <td>0.345347</td>\n",
       "      <td>0.396850</td>\n",
       "      <td>0.242342</td>\n",
       "      <td>0.059742</td>\n",
       "    </tr>\n",
       "    <tr>\n",
       "      <th>2</th>\n",
       "      <td>-0.825167</td>\n",
       "      <td>-0.806439</td>\n",
       "      <td>-0.431874</td>\n",
       "      <td>-0.352279</td>\n",
       "      <td>-0.427192</td>\n",
       "      <td>-0.310141</td>\n",
       "      <td>-0.188407</td>\n",
       "      <td>0.031650</td>\n",
       "      <td>-0.033899</td>\n",
       "      <td>-0.108812</td>\n",
       "      <td>-0.436556</td>\n",
       "      <td>-1.003085</td>\n",
       "    </tr>\n",
       "    <tr>\n",
       "      <th>3</th>\n",
       "      <td>0.583820</td>\n",
       "      <td>0.839461</td>\n",
       "      <td>1.129124</td>\n",
       "      <td>1.293932</td>\n",
       "      <td>1.375400</td>\n",
       "      <td>1.511804</td>\n",
       "      <td>1.636659</td>\n",
       "      <td>1.641965</td>\n",
       "      <td>1.550862</td>\n",
       "      <td>1.386013</td>\n",
       "      <td>1.051090</td>\n",
       "      <td>0.624086</td>\n",
       "    </tr>\n",
       "    <tr>\n",
       "      <th>4</th>\n",
       "      <td>-0.909444</td>\n",
       "      <td>-1.007767</td>\n",
       "      <td>-0.960946</td>\n",
       "      <td>-0.698751</td>\n",
       "      <td>-0.314823</td>\n",
       "      <td>0.415578</td>\n",
       "      <td>0.560722</td>\n",
       "      <td>0.659045</td>\n",
       "      <td>0.340665</td>\n",
       "      <td>0.069106</td>\n",
       "      <td>-0.169679</td>\n",
       "      <td>-0.347597</td>\n",
       "    </tr>\n",
       "    <tr>\n",
       "      <th>...</th>\n",
       "      <td>...</td>\n",
       "      <td>...</td>\n",
       "      <td>...</td>\n",
       "      <td>...</td>\n",
       "      <td>...</td>\n",
       "      <td>...</td>\n",
       "      <td>...</td>\n",
       "      <td>...</td>\n",
       "      <td>...</td>\n",
       "      <td>...</td>\n",
       "      <td>...</td>\n",
       "      <td>...</td>\n",
       "    </tr>\n",
       "    <tr>\n",
       "      <th>82</th>\n",
       "      <td>-1.195049</td>\n",
       "      <td>-1.312101</td>\n",
       "      <td>-1.227824</td>\n",
       "      <td>-1.049906</td>\n",
       "      <td>-1.092044</td>\n",
       "      <td>-1.096726</td>\n",
       "      <td>-1.007767</td>\n",
       "      <td>-1.026495</td>\n",
       "      <td>-1.106090</td>\n",
       "      <td>-1.241870</td>\n",
       "      <td>-1.630481</td>\n",
       "      <td>-1.892676</td>\n",
       "    </tr>\n",
       "    <tr>\n",
       "      <th>83</th>\n",
       "      <td>0.626271</td>\n",
       "      <td>0.715230</td>\n",
       "      <td>0.916558</td>\n",
       "      <td>1.136615</td>\n",
       "      <td>1.469041</td>\n",
       "      <td>1.651641</td>\n",
       "      <td>1.796785</td>\n",
       "      <td>1.515862</td>\n",
       "      <td>1.450313</td>\n",
       "      <td>1.220892</td>\n",
       "      <td>1.384764</td>\n",
       "      <td>1.145979</td>\n",
       "    </tr>\n",
       "    <tr>\n",
       "      <th>84</th>\n",
       "      <td>-0.764300</td>\n",
       "      <td>-0.661295</td>\n",
       "      <td>-0.352279</td>\n",
       "      <td>0.026968</td>\n",
       "      <td>0.331301</td>\n",
       "      <td>0.509219</td>\n",
       "      <td>0.654363</td>\n",
       "      <td>0.630953</td>\n",
       "      <td>0.598179</td>\n",
       "      <td>0.457717</td>\n",
       "      <td>0.223614</td>\n",
       "      <td>-0.033899</td>\n",
       "    </tr>\n",
       "    <tr>\n",
       "      <th>85</th>\n",
       "      <td>0.265752</td>\n",
       "      <td>0.893148</td>\n",
       "      <td>1.267713</td>\n",
       "      <td>1.108523</td>\n",
       "      <td>1.314533</td>\n",
       "      <td>1.628231</td>\n",
       "      <td>1.548636</td>\n",
       "      <td>1.600139</td>\n",
       "      <td>1.454995</td>\n",
       "      <td>1.511180</td>\n",
       "      <td>1.277077</td>\n",
       "      <td>1.057020</td>\n",
       "    </tr>\n",
       "    <tr>\n",
       "      <th>86</th>\n",
       "      <td>0.182412</td>\n",
       "      <td>0.219556</td>\n",
       "      <td>0.229857</td>\n",
       "      <td>0.283232</td>\n",
       "      <td>0.426503</td>\n",
       "      <td>0.458029</td>\n",
       "      <td>0.474884</td>\n",
       "      <td>0.409960</td>\n",
       "      <td>0.395289</td>\n",
       "      <td>0.421509</td>\n",
       "      <td>0.435555</td>\n",
       "      <td>0.390607</td>\n",
       "    </tr>\n",
       "  </tbody>\n",
       "</table>\n",
       "<p>87 rows × 12 columns</p>\n",
       "</div>"
      ],
      "text/plain": [
       "          12        13        14        15        16        17        18  \\\n",
       "0   0.595369  0.772351  0.890963  0.959946  1.159089  1.296429  1.464983   \n",
       "1  -0.385053 -0.202453 -0.052627  0.003557  0.073788  0.167429  0.209568   \n",
       "2  -0.825167 -0.806439 -0.431874 -0.352279 -0.427192 -0.310141 -0.188407   \n",
       "3   0.583820  0.839461  1.129124  1.293932  1.375400  1.511804  1.636659   \n",
       "4  -0.909444 -1.007767 -0.960946 -0.698751 -0.314823  0.415578  0.560722   \n",
       "..       ...       ...       ...       ...       ...       ...       ...   \n",
       "82 -1.195049 -1.312101 -1.227824 -1.049906 -1.092044 -1.096726 -1.007767   \n",
       "83  0.626271  0.715230  0.916558  1.136615  1.469041  1.651641  1.796785   \n",
       "84 -0.764300 -0.661295 -0.352279  0.026968  0.331301  0.509219  0.654363   \n",
       "85  0.265752  0.893148  1.267713  1.108523  1.314533  1.628231  1.548636   \n",
       "86  0.182412  0.219556  0.229857  0.283232  0.426503  0.458029  0.474884   \n",
       "\n",
       "          19        20        21        22        23  \n",
       "0   1.477157  1.546139  1.497446  1.303296  1.180939  \n",
       "1   0.312573  0.345347  0.396850  0.242342  0.059742  \n",
       "2   0.031650 -0.033899 -0.108812 -0.436556 -1.003085  \n",
       "3   1.641965  1.550862  1.386013  1.051090  0.624086  \n",
       "4   0.659045  0.340665  0.069106 -0.169679 -0.347597  \n",
       "..       ...       ...       ...       ...       ...  \n",
       "82 -1.026495 -1.106090 -1.241870 -1.630481 -1.892676  \n",
       "83  1.515862  1.450313  1.220892  1.384764  1.145979  \n",
       "84  0.630953  0.598179  0.457717  0.223614 -0.033899  \n",
       "85  1.600139  1.454995  1.511180  1.277077  1.057020  \n",
       "86  0.409960  0.395289  0.421509  0.435555  0.390607  \n",
       "\n",
       "[87 rows x 12 columns]"
      ]
     },
     "execution_count": 95,
     "metadata": {},
     "output_type": "execute_result"
    }
   ],
   "source": [
    "# The last 12 columns are TARGET\n",
    "\n",
    "test_target = test[:,-12:]\n",
    "\n",
    "pd.DataFrame(test_target, columns=np.arange(12,24,1))"
   ]
  },
  {
   "cell_type": "markdown",
   "metadata": {},
   "source": [
    "# GRU"
   ]
  },
  {
   "cell_type": "code",
   "execution_count": 96,
   "metadata": {
    "scrolled": true
   },
   "outputs": [
    {
     "name": "stderr",
     "output_type": "stream",
     "text": [
      "/Users/timsmith/miniconda3/envs/dsp/lib/python3.11/site-packages/keras/src/layers/rnn/rnn.py:204: UserWarning: Do not pass an `input_shape`/`input_dim` argument to a layer. When using Sequential models, prefer using an `Input(shape)` object as the first layer in the model instead.\n",
      "  super().__init__(**kwargs)\n"
     ]
    }
   ],
   "source": [
    "model = keras.models.Sequential([\n",
    "    keras.layers.GRU(32, activation='relu', return_sequences=True, input_shape=[12, 1]),\n",
    "    keras.layers.GRU(32, activation='relu', return_sequences=False),\n",
    "    keras.layers.Dense(12, activation=None)\n",
    "])"
   ]
  },
  {
   "cell_type": "code",
   "execution_count": 97,
   "metadata": {
    "scrolled": true
   },
   "outputs": [
    {
     "name": "stdout",
     "output_type": "stream",
     "text": [
      "Epoch 1/5\n",
      "\u001b[1m7/7\u001b[0m \u001b[32m━━━━━━━━━━━━━━━━━━━━\u001b[0m\u001b[37m\u001b[0m \u001b[1m7s\u001b[0m 536ms/step - loss: 1.1441\n",
      "Epoch 2/5\n",
      "\u001b[1m7/7\u001b[0m \u001b[32m━━━━━━━━━━━━━━━━━━━━\u001b[0m\u001b[37m\u001b[0m \u001b[1m3s\u001b[0m 474ms/step - loss: 1.0978\n",
      "Epoch 3/5\n",
      "\u001b[1m7/7\u001b[0m \u001b[32m━━━━━━━━━━━━━━━━━━━━\u001b[0m\u001b[37m\u001b[0m \u001b[1m3s\u001b[0m 487ms/step - loss: 1.0587\n",
      "Epoch 4/5\n",
      "\u001b[1m7/7\u001b[0m \u001b[32m━━━━━━━━━━━━━━━━━━━━\u001b[0m\u001b[37m\u001b[0m \u001b[1m3s\u001b[0m 488ms/step - loss: 1.0147\n",
      "Epoch 5/5\n",
      "\u001b[1m7/7\u001b[0m \u001b[32m━━━━━━━━━━━━━━━━━━━━\u001b[0m\u001b[37m\u001b[0m \u001b[1m3s\u001b[0m 459ms/step - loss: 0.9574\n"
     ]
    }
   ],
   "source": [
    "np.random.seed(42)\n",
    "tf.random.set_seed(42)\n",
    "\n",
    "model.compile(loss=\"mse\", optimizer='Adam')\n",
    "\n",
    "history = model.fit(train_x, train_target, epochs=epoch_num)"
   ]
  },
  {
   "cell_type": "markdown",
   "metadata": {},
   "source": [
    "### Predictions"
   ]
  },
  {
   "cell_type": "code",
   "execution_count": 98,
   "metadata": {},
   "outputs": [
    {
     "name": "stdout",
     "output_type": "stream",
     "text": [
      "\u001b[1m3/3\u001b[0m \u001b[32m━━━━━━━━━━━━━━━━━━━━\u001b[0m\u001b[37m\u001b[0m \u001b[1m1s\u001b[0m 232ms/step\n"
     ]
    }
   ],
   "source": [
    "#Predict:\n",
    "y_pred = model.predict(test_x)"
   ]
  },
  {
   "cell_type": "code",
   "execution_count": 99,
   "metadata": {},
   "outputs": [],
   "source": [
    "#Remember, these are standardized values. \n",
    "\n",
    "actual = pd.DataFrame(scaler.inverse_transform(test_target))\n",
    "predicted = pd.DataFrame(scaler.inverse_transform(y_pred))"
   ]
  },
  {
   "cell_type": "code",
   "execution_count": 100,
   "metadata": {},
   "outputs": [
    {
     "data": {
      "text/html": [
       "<div>\n",
       "<style scoped>\n",
       "    .dataframe tbody tr th:only-of-type {\n",
       "        vertical-align: middle;\n",
       "    }\n",
       "\n",
       "    .dataframe tbody tr th {\n",
       "        vertical-align: top;\n",
       "    }\n",
       "\n",
       "    .dataframe thead th {\n",
       "        text-align: right;\n",
       "    }\n",
       "</style>\n",
       "<table border=\"1\" class=\"dataframe\">\n",
       "  <thead>\n",
       "    <tr style=\"text-align: right;\">\n",
       "      <th></th>\n",
       "      <th>0</th>\n",
       "      <th>1</th>\n",
       "      <th>2</th>\n",
       "      <th>3</th>\n",
       "      <th>4</th>\n",
       "      <th>5</th>\n",
       "      <th>6</th>\n",
       "      <th>7</th>\n",
       "      <th>8</th>\n",
       "      <th>9</th>\n",
       "      <th>10</th>\n",
       "      <th>11</th>\n",
       "    </tr>\n",
       "  </thead>\n",
       "  <tbody>\n",
       "    <tr>\n",
       "      <th>0</th>\n",
       "      <td>80.393</td>\n",
       "      <td>82.094</td>\n",
       "      <td>83.234</td>\n",
       "      <td>83.897</td>\n",
       "      <td>85.811</td>\n",
       "      <td>87.131</td>\n",
       "      <td>88.751</td>\n",
       "      <td>88.868</td>\n",
       "      <td>89.531000</td>\n",
       "      <td>89.063</td>\n",
       "      <td>87.197</td>\n",
       "      <td>86.021</td>\n",
       "    </tr>\n",
       "    <tr>\n",
       "      <th>1</th>\n",
       "      <td>70.970</td>\n",
       "      <td>72.725</td>\n",
       "      <td>74.165</td>\n",
       "      <td>74.705</td>\n",
       "      <td>75.380</td>\n",
       "      <td>76.280</td>\n",
       "      <td>76.685</td>\n",
       "      <td>77.675</td>\n",
       "      <td>77.990000</td>\n",
       "      <td>78.485</td>\n",
       "      <td>77.000</td>\n",
       "      <td>75.245</td>\n",
       "    </tr>\n",
       "    <tr>\n",
       "      <th>2</th>\n",
       "      <td>66.740</td>\n",
       "      <td>66.920</td>\n",
       "      <td>70.520</td>\n",
       "      <td>71.285</td>\n",
       "      <td>70.565</td>\n",
       "      <td>71.690</td>\n",
       "      <td>72.860</td>\n",
       "      <td>74.975</td>\n",
       "      <td>74.345000</td>\n",
       "      <td>73.625</td>\n",
       "      <td>70.475</td>\n",
       "      <td>65.030</td>\n",
       "    </tr>\n",
       "    <tr>\n",
       "      <th>3</th>\n",
       "      <td>80.282</td>\n",
       "      <td>82.739</td>\n",
       "      <td>85.523</td>\n",
       "      <td>87.107</td>\n",
       "      <td>87.890</td>\n",
       "      <td>89.201</td>\n",
       "      <td>90.401</td>\n",
       "      <td>90.452</td>\n",
       "      <td>89.576393</td>\n",
       "      <td>87.992</td>\n",
       "      <td>84.773</td>\n",
       "      <td>80.669</td>\n",
       "    </tr>\n",
       "    <tr>\n",
       "      <th>4</th>\n",
       "      <td>65.930</td>\n",
       "      <td>64.985</td>\n",
       "      <td>65.435</td>\n",
       "      <td>67.955</td>\n",
       "      <td>71.645</td>\n",
       "      <td>78.665</td>\n",
       "      <td>80.060</td>\n",
       "      <td>81.005</td>\n",
       "      <td>77.945000</td>\n",
       "      <td>75.335</td>\n",
       "      <td>73.040</td>\n",
       "      <td>71.330</td>\n",
       "    </tr>\n",
       "    <tr>\n",
       "      <th>...</th>\n",
       "      <td>...</td>\n",
       "      <td>...</td>\n",
       "      <td>...</td>\n",
       "      <td>...</td>\n",
       "      <td>...</td>\n",
       "      <td>...</td>\n",
       "      <td>...</td>\n",
       "      <td>...</td>\n",
       "      <td>...</td>\n",
       "      <td>...</td>\n",
       "      <td>...</td>\n",
       "      <td>...</td>\n",
       "    </tr>\n",
       "    <tr>\n",
       "      <th>82</th>\n",
       "      <td>63.185</td>\n",
       "      <td>62.060</td>\n",
       "      <td>62.870</td>\n",
       "      <td>64.580</td>\n",
       "      <td>64.175</td>\n",
       "      <td>64.130</td>\n",
       "      <td>64.985</td>\n",
       "      <td>64.805</td>\n",
       "      <td>64.040000</td>\n",
       "      <td>62.735</td>\n",
       "      <td>59.000</td>\n",
       "      <td>56.480</td>\n",
       "    </tr>\n",
       "    <tr>\n",
       "      <th>83</th>\n",
       "      <td>80.690</td>\n",
       "      <td>81.545</td>\n",
       "      <td>83.480</td>\n",
       "      <td>85.595</td>\n",
       "      <td>88.790</td>\n",
       "      <td>90.545</td>\n",
       "      <td>91.940</td>\n",
       "      <td>89.240</td>\n",
       "      <td>88.610000</td>\n",
       "      <td>86.405</td>\n",
       "      <td>87.980</td>\n",
       "      <td>85.685</td>\n",
       "    </tr>\n",
       "    <tr>\n",
       "      <th>84</th>\n",
       "      <td>67.325</td>\n",
       "      <td>68.315</td>\n",
       "      <td>71.285</td>\n",
       "      <td>74.930</td>\n",
       "      <td>77.855</td>\n",
       "      <td>79.565</td>\n",
       "      <td>80.960</td>\n",
       "      <td>80.735</td>\n",
       "      <td>80.420000</td>\n",
       "      <td>79.070</td>\n",
       "      <td>76.820</td>\n",
       "      <td>74.345</td>\n",
       "    </tr>\n",
       "    <tr>\n",
       "      <th>85</th>\n",
       "      <td>77.225</td>\n",
       "      <td>83.255</td>\n",
       "      <td>86.855</td>\n",
       "      <td>85.325</td>\n",
       "      <td>87.305</td>\n",
       "      <td>90.320</td>\n",
       "      <td>89.555</td>\n",
       "      <td>90.050</td>\n",
       "      <td>88.655000</td>\n",
       "      <td>89.195</td>\n",
       "      <td>86.945</td>\n",
       "      <td>84.830</td>\n",
       "    </tr>\n",
       "    <tr>\n",
       "      <th>86</th>\n",
       "      <td>76.424</td>\n",
       "      <td>76.781</td>\n",
       "      <td>76.880</td>\n",
       "      <td>77.393</td>\n",
       "      <td>78.770</td>\n",
       "      <td>79.073</td>\n",
       "      <td>79.235</td>\n",
       "      <td>78.611</td>\n",
       "      <td>78.470000</td>\n",
       "      <td>78.722</td>\n",
       "      <td>78.857</td>\n",
       "      <td>78.425</td>\n",
       "    </tr>\n",
       "  </tbody>\n",
       "</table>\n",
       "<p>87 rows × 12 columns</p>\n",
       "</div>"
      ],
      "text/plain": [
       "        0       1       2       3       4       5       6       7          8   \\\n",
       "0   80.393  82.094  83.234  83.897  85.811  87.131  88.751  88.868  89.531000   \n",
       "1   70.970  72.725  74.165  74.705  75.380  76.280  76.685  77.675  77.990000   \n",
       "2   66.740  66.920  70.520  71.285  70.565  71.690  72.860  74.975  74.345000   \n",
       "3   80.282  82.739  85.523  87.107  87.890  89.201  90.401  90.452  89.576393   \n",
       "4   65.930  64.985  65.435  67.955  71.645  78.665  80.060  81.005  77.945000   \n",
       "..     ...     ...     ...     ...     ...     ...     ...     ...        ...   \n",
       "82  63.185  62.060  62.870  64.580  64.175  64.130  64.985  64.805  64.040000   \n",
       "83  80.690  81.545  83.480  85.595  88.790  90.545  91.940  89.240  88.610000   \n",
       "84  67.325  68.315  71.285  74.930  77.855  79.565  80.960  80.735  80.420000   \n",
       "85  77.225  83.255  86.855  85.325  87.305  90.320  89.555  90.050  88.655000   \n",
       "86  76.424  76.781  76.880  77.393  78.770  79.073  79.235  78.611  78.470000   \n",
       "\n",
       "        9       10      11  \n",
       "0   89.063  87.197  86.021  \n",
       "1   78.485  77.000  75.245  \n",
       "2   73.625  70.475  65.030  \n",
       "3   87.992  84.773  80.669  \n",
       "4   75.335  73.040  71.330  \n",
       "..     ...     ...     ...  \n",
       "82  62.735  59.000  56.480  \n",
       "83  86.405  87.980  85.685  \n",
       "84  79.070  76.820  74.345  \n",
       "85  89.195  86.945  84.830  \n",
       "86  78.722  78.857  78.425  \n",
       "\n",
       "[87 rows x 12 columns]"
      ]
     },
     "execution_count": 100,
     "metadata": {},
     "output_type": "execute_result"
    }
   ],
   "source": [
    "actual"
   ]
  },
  {
   "cell_type": "code",
   "execution_count": 101,
   "metadata": {},
   "outputs": [
    {
     "data": {
      "text/html": [
       "<div>\n",
       "<style scoped>\n",
       "    .dataframe tbody tr th:only-of-type {\n",
       "        vertical-align: middle;\n",
       "    }\n",
       "\n",
       "    .dataframe tbody tr th {\n",
       "        vertical-align: top;\n",
       "    }\n",
       "\n",
       "    .dataframe thead th {\n",
       "        text-align: right;\n",
       "    }\n",
       "</style>\n",
       "<table border=\"1\" class=\"dataframe\">\n",
       "  <thead>\n",
       "    <tr style=\"text-align: right;\">\n",
       "      <th></th>\n",
       "      <th>0</th>\n",
       "      <th>1</th>\n",
       "      <th>2</th>\n",
       "      <th>3</th>\n",
       "      <th>4</th>\n",
       "      <th>5</th>\n",
       "      <th>6</th>\n",
       "      <th>7</th>\n",
       "      <th>8</th>\n",
       "      <th>9</th>\n",
       "      <th>10</th>\n",
       "      <th>11</th>\n",
       "    </tr>\n",
       "  </thead>\n",
       "  <tbody>\n",
       "    <tr>\n",
       "      <th>0</th>\n",
       "      <td>75.710274</td>\n",
       "      <td>76.159607</td>\n",
       "      <td>75.889503</td>\n",
       "      <td>76.173485</td>\n",
       "      <td>74.491684</td>\n",
       "      <td>74.442482</td>\n",
       "      <td>76.356964</td>\n",
       "      <td>76.361732</td>\n",
       "      <td>76.299683</td>\n",
       "      <td>77.409576</td>\n",
       "      <td>75.419708</td>\n",
       "      <td>77.005798</td>\n",
       "    </tr>\n",
       "    <tr>\n",
       "      <th>1</th>\n",
       "      <td>73.025398</td>\n",
       "      <td>73.948112</td>\n",
       "      <td>73.579193</td>\n",
       "      <td>75.142609</td>\n",
       "      <td>74.772263</td>\n",
       "      <td>75.695740</td>\n",
       "      <td>74.771301</td>\n",
       "      <td>74.884758</td>\n",
       "      <td>75.348892</td>\n",
       "      <td>75.261559</td>\n",
       "      <td>74.148224</td>\n",
       "      <td>75.608627</td>\n",
       "    </tr>\n",
       "    <tr>\n",
       "      <th>2</th>\n",
       "      <td>72.061836</td>\n",
       "      <td>73.643280</td>\n",
       "      <td>72.786995</td>\n",
       "      <td>74.916153</td>\n",
       "      <td>74.808380</td>\n",
       "      <td>75.914146</td>\n",
       "      <td>74.319107</td>\n",
       "      <td>74.430626</td>\n",
       "      <td>75.067566</td>\n",
       "      <td>74.989601</td>\n",
       "      <td>73.326004</td>\n",
       "      <td>75.468018</td>\n",
       "    </tr>\n",
       "    <tr>\n",
       "      <th>3</th>\n",
       "      <td>75.603302</td>\n",
       "      <td>76.022293</td>\n",
       "      <td>75.804817</td>\n",
       "      <td>76.094887</td>\n",
       "      <td>74.528267</td>\n",
       "      <td>74.488770</td>\n",
       "      <td>76.259109</td>\n",
       "      <td>76.263405</td>\n",
       "      <td>76.222855</td>\n",
       "      <td>77.234825</td>\n",
       "      <td>75.389908</td>\n",
       "      <td>76.862595</td>\n",
       "    </tr>\n",
       "    <tr>\n",
       "      <th>4</th>\n",
       "      <td>71.479134</td>\n",
       "      <td>73.488319</td>\n",
       "      <td>72.309883</td>\n",
       "      <td>74.831909</td>\n",
       "      <td>74.780487</td>\n",
       "      <td>76.029640</td>\n",
       "      <td>74.029396</td>\n",
       "      <td>74.143074</td>\n",
       "      <td>74.919838</td>\n",
       "      <td>74.866920</td>\n",
       "      <td>72.793411</td>\n",
       "      <td>75.389748</td>\n",
       "    </tr>\n",
       "    <tr>\n",
       "      <th>...</th>\n",
       "      <td>...</td>\n",
       "      <td>...</td>\n",
       "      <td>...</td>\n",
       "      <td>...</td>\n",
       "      <td>...</td>\n",
       "      <td>...</td>\n",
       "      <td>...</td>\n",
       "      <td>...</td>\n",
       "      <td>...</td>\n",
       "      <td>...</td>\n",
       "      <td>...</td>\n",
       "      <td>...</td>\n",
       "    </tr>\n",
       "    <tr>\n",
       "      <th>82</th>\n",
       "      <td>72.156029</td>\n",
       "      <td>73.719513</td>\n",
       "      <td>72.835388</td>\n",
       "      <td>74.997971</td>\n",
       "      <td>74.731590</td>\n",
       "      <td>75.878960</td>\n",
       "      <td>74.342766</td>\n",
       "      <td>74.434380</td>\n",
       "      <td>75.128151</td>\n",
       "      <td>75.062981</td>\n",
       "      <td>73.335808</td>\n",
       "      <td>75.460693</td>\n",
       "    </tr>\n",
       "    <tr>\n",
       "      <th>83</th>\n",
       "      <td>75.752594</td>\n",
       "      <td>76.221657</td>\n",
       "      <td>75.922379</td>\n",
       "      <td>76.189705</td>\n",
       "      <td>74.491486</td>\n",
       "      <td>74.412437</td>\n",
       "      <td>76.390038</td>\n",
       "      <td>76.391083</td>\n",
       "      <td>76.312370</td>\n",
       "      <td>77.477257</td>\n",
       "      <td>75.431549</td>\n",
       "      <td>77.045738</td>\n",
       "    </tr>\n",
       "    <tr>\n",
       "      <th>84</th>\n",
       "      <td>72.015129</td>\n",
       "      <td>73.631264</td>\n",
       "      <td>72.741776</td>\n",
       "      <td>74.907677</td>\n",
       "      <td>74.806061</td>\n",
       "      <td>75.923180</td>\n",
       "      <td>74.293282</td>\n",
       "      <td>74.398834</td>\n",
       "      <td>75.052490</td>\n",
       "      <td>74.976540</td>\n",
       "      <td>73.278160</td>\n",
       "      <td>75.452759</td>\n",
       "    </tr>\n",
       "    <tr>\n",
       "      <th>85</th>\n",
       "      <td>76.355865</td>\n",
       "      <td>76.999901</td>\n",
       "      <td>76.385094</td>\n",
       "      <td>76.680244</td>\n",
       "      <td>74.223328</td>\n",
       "      <td>74.172867</td>\n",
       "      <td>76.962563</td>\n",
       "      <td>76.986366</td>\n",
       "      <td>76.803223</td>\n",
       "      <td>78.439301</td>\n",
       "      <td>75.542992</td>\n",
       "      <td>77.886246</td>\n",
       "    </tr>\n",
       "    <tr>\n",
       "      <th>86</th>\n",
       "      <td>75.486946</td>\n",
       "      <td>75.841896</td>\n",
       "      <td>75.727425</td>\n",
       "      <td>76.083000</td>\n",
       "      <td>74.508736</td>\n",
       "      <td>74.581299</td>\n",
       "      <td>76.179092</td>\n",
       "      <td>76.197670</td>\n",
       "      <td>76.219551</td>\n",
       "      <td>77.085602</td>\n",
       "      <td>75.360512</td>\n",
       "      <td>76.803185</td>\n",
       "    </tr>\n",
       "  </tbody>\n",
       "</table>\n",
       "<p>87 rows × 12 columns</p>\n",
       "</div>"
      ],
      "text/plain": [
       "           0          1          2          3          4          5   \\\n",
       "0   75.710274  76.159607  75.889503  76.173485  74.491684  74.442482   \n",
       "1   73.025398  73.948112  73.579193  75.142609  74.772263  75.695740   \n",
       "2   72.061836  73.643280  72.786995  74.916153  74.808380  75.914146   \n",
       "3   75.603302  76.022293  75.804817  76.094887  74.528267  74.488770   \n",
       "4   71.479134  73.488319  72.309883  74.831909  74.780487  76.029640   \n",
       "..        ...        ...        ...        ...        ...        ...   \n",
       "82  72.156029  73.719513  72.835388  74.997971  74.731590  75.878960   \n",
       "83  75.752594  76.221657  75.922379  76.189705  74.491486  74.412437   \n",
       "84  72.015129  73.631264  72.741776  74.907677  74.806061  75.923180   \n",
       "85  76.355865  76.999901  76.385094  76.680244  74.223328  74.172867   \n",
       "86  75.486946  75.841896  75.727425  76.083000  74.508736  74.581299   \n",
       "\n",
       "           6          7          8          9          10         11  \n",
       "0   76.356964  76.361732  76.299683  77.409576  75.419708  77.005798  \n",
       "1   74.771301  74.884758  75.348892  75.261559  74.148224  75.608627  \n",
       "2   74.319107  74.430626  75.067566  74.989601  73.326004  75.468018  \n",
       "3   76.259109  76.263405  76.222855  77.234825  75.389908  76.862595  \n",
       "4   74.029396  74.143074  74.919838  74.866920  72.793411  75.389748  \n",
       "..        ...        ...        ...        ...        ...        ...  \n",
       "82  74.342766  74.434380  75.128151  75.062981  73.335808  75.460693  \n",
       "83  76.390038  76.391083  76.312370  77.477257  75.431549  77.045738  \n",
       "84  74.293282  74.398834  75.052490  74.976540  73.278160  75.452759  \n",
       "85  76.962563  76.986366  76.803223  78.439301  75.542992  77.886246  \n",
       "86  76.179092  76.197670  76.219551  77.085602  75.360512  76.803185  \n",
       "\n",
       "[87 rows x 12 columns]"
      ]
     },
     "execution_count": 101,
     "metadata": {},
     "output_type": "execute_result"
    }
   ],
   "source": [
    "predicted"
   ]
  },
  {
   "cell_type": "code",
   "execution_count": 102,
   "metadata": {},
   "outputs": [
    {
     "data": {
      "text/plain": [
       "78.06923496947906"
      ]
     },
     "execution_count": 102,
     "metadata": {},
     "output_type": "execute_result"
    }
   ],
   "source": [
    "mean_squared_error(actual, predicted)"
   ]
  },
  {
   "cell_type": "code",
   "execution_count": 103,
   "metadata": {},
   "outputs": [
    {
     "data": {
      "image/png": "[encoded data removed]",
      "text/plain": [
       "<Figure size 640x480 with 1 Axes>"
      ]
     },
     "metadata": {},
     "output_type": "display_data"
    }
   ],
   "source": [
    "# Plot a random row to see the accuracy of predictions\n",
    "\n",
    "random_row = np.random.randint(low=0, high=86)\n",
    "\n",
    "plt.plot(actual.iloc[random_row], label='actual')\n",
    "plt.plot(predicted.iloc[random_row], label='predicted')\n",
    "\n",
    "plt.legend()\n",
    "plt.show()"
   ]
  },
  {
   "cell_type": "markdown",
   "metadata": {},
   "source": [
    "# Sliding window\n",
    "\n",
    "Prior 18 hours predicts next 6 hours"
   ]
  },
  {
   "cell_type": "code",
   "execution_count": 104,
   "metadata": {},
   "outputs": [],
   "source": [
    "steps_for_prediction = 18\n",
    "steps_to_predict = 6\n",
    "\n",
    "#Be careful: sums to 24 hours"
   ]
  },
  {
   "cell_type": "code",
   "execution_count": 105,
   "metadata": {},
   "outputs": [
    {
     "data": {
      "text/plain": [
       "array([[-1.98631703e+00, -1.83649120e+00, -1.85053737e+00, ...,\n",
       "        -1.46192662e+00, -1.45256251e+00, -1.42447016e+00],\n",
       "       [ 4.01532160e-01,  4.48352732e-01,  4.85809190e-01, ...,\n",
       "         1.29580509e+00,  1.07574840e+00,  1.01956372e+00],\n",
       "       [-1.19504936e+00, -1.19973142e+00, -1.26528022e+00, ...,\n",
       "        -1.03117735e+00, -1.29337256e+00, -1.48533691e+00],\n",
       "       ...,\n",
       "       [ 2.09567813e-01,  3.12573072e-01,  3.35983359e-01, ...,\n",
       "         1.33326155e+00,  1.23025629e+00,  9.82107257e-01],\n",
       "       [-1.12476250e-03,  1.29214092e-02, -5.26273921e-02, ...,\n",
       "         1.10384075e+00,  8.88466112e-01,  5.60722106e-01],\n",
       "       [ 7.43322338e-01,  6.63727365e-01,  5.93496507e-01, ...,\n",
       "         1.08979457e+00,  8.60373769e-01,  7.19912052e-01]])"
      ]
     },
     "execution_count": 105,
     "metadata": {},
     "output_type": "execute_result"
    }
   ],
   "source": [
    "train"
   ]
  },
  {
   "cell_type": "code",
   "execution_count": 106,
   "metadata": {},
   "outputs": [
    {
     "data": {
      "text/plain": [
       "(4824,)"
      ]
     },
     "execution_count": 106,
     "metadata": {},
     "output_type": "execute_result"
    }
   ],
   "source": [
    "train.flatten().shape"
   ]
  },
  {
   "cell_type": "code",
   "execution_count": 107,
   "metadata": {},
   "outputs": [],
   "source": [
    "train_inputs_sw = []\n",
    "train_target_sw = []\n",
    "\n",
    "for i in range(0,4824-24):\n",
    "    input_row = train.flatten()[i:i+steps_for_prediction]\n",
    "    target_row = train.flatten()[i+steps_for_prediction:i+steps_for_prediction+steps_to_predict]\n",
    "    train_inputs_sw.append((input_row))\n",
    "    train_target_sw.append((target_row))"
   ]
  },
  {
   "cell_type": "code",
   "execution_count": 108,
   "metadata": {},
   "outputs": [],
   "source": [
    "train_inputs = np.vstack(train_inputs_sw)\n",
    "\n",
    "train_targets = np.vstack(train_target_sw)"
   ]
  },
  {
   "cell_type": "code",
   "execution_count": 109,
   "metadata": {},
   "outputs": [
    {
     "data": {
      "text/plain": [
       "(4800, 6)"
      ]
     },
     "execution_count": 109,
     "metadata": {},
     "output_type": "execute_result"
    }
   ],
   "source": [
    "train_targets.shape"
   ]
  },
  {
   "cell_type": "code",
   "execution_count": 110,
   "metadata": {},
   "outputs": [],
   "source": [
    "# Repeat for test\n",
    "\n",
    "test_inputs_sw = []\n",
    "test_target_sw = []\n",
    "\n",
    "for i in range(0,test.flatten().shape[0]-24):\n",
    "    input_row = test.flatten()[i:i+steps_for_prediction]\n",
    "    target_row = test.flatten()[i+steps_for_prediction:i+steps_for_prediction+steps_to_predict]\n",
    "    test_inputs_sw.append((input_row))\n",
    "    test_target_sw.append((target_row))\n",
    "    \n",
    "test_inputs = np.vstack(test_inputs_sw)\n",
    "\n",
    "test_targets = np.vstack(test_target_sw)"
   ]
  },
  {
   "cell_type": "markdown",
   "metadata": {},
   "source": [
    "# GRU"
   ]
  },
  {
   "cell_type": "code",
   "execution_count": 111,
   "metadata": {
    "scrolled": true
   },
   "outputs": [
    {
     "name": "stderr",
     "output_type": "stream",
     "text": [
      "/Users/timsmith/miniconda3/envs/dsp/lib/python3.11/site-packages/keras/src/layers/rnn/rnn.py:204: UserWarning: Do not pass an `input_shape`/`input_dim` argument to a layer. When using Sequential models, prefer using an `Input(shape)` object as the first layer in the model instead.\n",
      "  super().__init__(**kwargs)\n"
     ]
    }
   ],
   "source": [
    "model = keras.models.Sequential([\n",
    "    keras.layers.GRU(32, activation='relu', return_sequences=True, input_shape=[18, 1]),\n",
    "    keras.layers.GRU(32, activation='relu', return_sequences=False),\n",
    "    keras.layers.Dense(steps_to_predict, activation=None)\n",
    "])"
   ]
  },
  {
   "cell_type": "code",
   "execution_count": 112,
   "metadata": {
    "scrolled": true
   },
   "outputs": [
    {
     "name": "stdout",
     "output_type": "stream",
     "text": [
      "Epoch 1/5\n",
      "\u001b[1m150/150\u001b[0m \u001b[32m━━━━━━━━━━━━━━━━━━━━\u001b[0m\u001b[37m\u001b[0m \u001b[1m85s\u001b[0m 549ms/step - loss: 0.7335\n",
      "Epoch 2/5\n",
      "\u001b[1m150/150\u001b[0m \u001b[32m━━━━━━━━━━━━━━━━━━━━\u001b[0m\u001b[37m\u001b[0m \u001b[1m83s\u001b[0m 555ms/step - loss: 0.2851\n",
      "Epoch 3/5\n",
      "\u001b[1m150/150\u001b[0m \u001b[32m━━━━━━━━━━━━━━━━━━━━\u001b[0m\u001b[37m\u001b[0m \u001b[1m77s\u001b[0m 513ms/step - loss: 0.2646\n",
      "Epoch 4/5\n",
      "\u001b[1m150/150\u001b[0m \u001b[32m━━━━━━━━━━━━━━━━━━━━\u001b[0m\u001b[37m\u001b[0m \u001b[1m54s\u001b[0m 362ms/step - loss: 0.2550\n",
      "Epoch 5/5\n",
      "\u001b[1m150/150\u001b[0m \u001b[32m━━━━━━━━━━━━━━━━━━━━\u001b[0m\u001b[37m\u001b[0m \u001b[1m45s\u001b[0m 299ms/step - loss: 0.2476\n"
     ]
    }
   ],
   "source": [
    "np.random.seed(42)\n",
    "tf.random.set_seed(42)\n",
    "\n",
    "model.compile(loss=\"mse\", optimizer='Adam')\n",
    "\n",
    "history = model.fit(train_inputs, train_targets, epochs=epoch_num)"
   ]
  },
  {
   "cell_type": "markdown",
   "metadata": {},
   "source": [
    "### Predictions"
   ]
  },
  {
   "cell_type": "code",
   "execution_count": 113,
   "metadata": {},
   "outputs": [
    {
     "name": "stdout",
     "output_type": "stream",
     "text": [
      "\u001b[1m65/65\u001b[0m \u001b[32m━━━━━━━━━━━━━━━━━━━━\u001b[0m\u001b[37m\u001b[0m \u001b[1m4s\u001b[0m 57ms/step\n"
     ]
    }
   ],
   "source": [
    "#Predict:\n",
    "y_pred = model.predict(test_inputs)"
   ]
  },
  {
   "cell_type": "code",
   "execution_count": 114,
   "metadata": {},
   "outputs": [],
   "source": [
    "#Remember, these are standardized values. \n",
    "\n",
    "actual = pd.DataFrame(scaler.inverse_transform(test_targets))\n",
    "predicted = pd.DataFrame(scaler.inverse_transform(y_pred))"
   ]
  },
  {
   "cell_type": "code",
   "execution_count": 115,
   "metadata": {},
   "outputs": [
    {
     "data": {
      "text/html": [
       "<div>\n",
       "<style scoped>\n",
       "    .dataframe tbody tr th:only-of-type {\n",
       "        vertical-align: middle;\n",
       "    }\n",
       "\n",
       "    .dataframe tbody tr th {\n",
       "        vertical-align: top;\n",
       "    }\n",
       "\n",
       "    .dataframe thead th {\n",
       "        text-align: right;\n",
       "    }\n",
       "</style>\n",
       "<table border=\"1\" class=\"dataframe\">\n",
       "  <thead>\n",
       "    <tr style=\"text-align: right;\">\n",
       "      <th></th>\n",
       "      <th>0</th>\n",
       "      <th>1</th>\n",
       "      <th>2</th>\n",
       "      <th>3</th>\n",
       "      <th>4</th>\n",
       "      <th>5</th>\n",
       "    </tr>\n",
       "  </thead>\n",
       "  <tbody>\n",
       "    <tr>\n",
       "      <th>0</th>\n",
       "      <td>88.751</td>\n",
       "      <td>88.868</td>\n",
       "      <td>89.531</td>\n",
       "      <td>89.063</td>\n",
       "      <td>87.197</td>\n",
       "      <td>86.021</td>\n",
       "    </tr>\n",
       "    <tr>\n",
       "      <th>1</th>\n",
       "      <td>88.868</td>\n",
       "      <td>89.531</td>\n",
       "      <td>89.063</td>\n",
       "      <td>87.197</td>\n",
       "      <td>86.021</td>\n",
       "      <td>75.875</td>\n",
       "    </tr>\n",
       "    <tr>\n",
       "      <th>2</th>\n",
       "      <td>89.531</td>\n",
       "      <td>89.063</td>\n",
       "      <td>87.197</td>\n",
       "      <td>86.021</td>\n",
       "      <td>75.875</td>\n",
       "      <td>75.155</td>\n",
       "    </tr>\n",
       "    <tr>\n",
       "      <th>3</th>\n",
       "      <td>89.063</td>\n",
       "      <td>87.197</td>\n",
       "      <td>86.021</td>\n",
       "      <td>75.875</td>\n",
       "      <td>75.155</td>\n",
       "      <td>74.255</td>\n",
       "    </tr>\n",
       "    <tr>\n",
       "      <th>4</th>\n",
       "      <td>87.197</td>\n",
       "      <td>86.021</td>\n",
       "      <td>75.875</td>\n",
       "      <td>75.155</td>\n",
       "      <td>74.255</td>\n",
       "      <td>74.840</td>\n",
       "    </tr>\n",
       "    <tr>\n",
       "      <th>...</th>\n",
       "      <td>...</td>\n",
       "      <td>...</td>\n",
       "      <td>...</td>\n",
       "      <td>...</td>\n",
       "      <td>...</td>\n",
       "      <td>...</td>\n",
       "    </tr>\n",
       "    <tr>\n",
       "      <th>2059</th>\n",
       "      <td>76.781</td>\n",
       "      <td>76.880</td>\n",
       "      <td>77.393</td>\n",
       "      <td>78.770</td>\n",
       "      <td>79.073</td>\n",
       "      <td>79.235</td>\n",
       "    </tr>\n",
       "    <tr>\n",
       "      <th>2060</th>\n",
       "      <td>76.880</td>\n",
       "      <td>77.393</td>\n",
       "      <td>78.770</td>\n",
       "      <td>79.073</td>\n",
       "      <td>79.235</td>\n",
       "      <td>78.611</td>\n",
       "    </tr>\n",
       "    <tr>\n",
       "      <th>2061</th>\n",
       "      <td>77.393</td>\n",
       "      <td>78.770</td>\n",
       "      <td>79.073</td>\n",
       "      <td>79.235</td>\n",
       "      <td>78.611</td>\n",
       "      <td>78.470</td>\n",
       "    </tr>\n",
       "    <tr>\n",
       "      <th>2062</th>\n",
       "      <td>78.770</td>\n",
       "      <td>79.073</td>\n",
       "      <td>79.235</td>\n",
       "      <td>78.611</td>\n",
       "      <td>78.470</td>\n",
       "      <td>78.722</td>\n",
       "    </tr>\n",
       "    <tr>\n",
       "      <th>2063</th>\n",
       "      <td>79.073</td>\n",
       "      <td>79.235</td>\n",
       "      <td>78.611</td>\n",
       "      <td>78.470</td>\n",
       "      <td>78.722</td>\n",
       "      <td>78.857</td>\n",
       "    </tr>\n",
       "  </tbody>\n",
       "</table>\n",
       "<p>2064 rows × 6 columns</p>\n",
       "</div>"
      ],
      "text/plain": [
       "           0       1       2       3       4       5\n",
       "0     88.751  88.868  89.531  89.063  87.197  86.021\n",
       "1     88.868  89.531  89.063  87.197  86.021  75.875\n",
       "2     89.531  89.063  87.197  86.021  75.875  75.155\n",
       "3     89.063  87.197  86.021  75.875  75.155  74.255\n",
       "4     87.197  86.021  75.875  75.155  74.255  74.840\n",
       "...      ...     ...     ...     ...     ...     ...\n",
       "2059  76.781  76.880  77.393  78.770  79.073  79.235\n",
       "2060  76.880  77.393  78.770  79.073  79.235  78.611\n",
       "2061  77.393  78.770  79.073  79.235  78.611  78.470\n",
       "2062  78.770  79.073  79.235  78.611  78.470  78.722\n",
       "2063  79.073  79.235  78.611  78.470  78.722  78.857\n",
       "\n",
       "[2064 rows x 6 columns]"
      ]
     },
     "execution_count": 115,
     "metadata": {},
     "output_type": "execute_result"
    }
   ],
   "source": [
    "actual"
   ]
  },
  {
   "cell_type": "code",
   "execution_count": 116,
   "metadata": {},
   "outputs": [
    {
     "data": {
      "text/html": [
       "<div>\n",
       "<style scoped>\n",
       "    .dataframe tbody tr th:only-of-type {\n",
       "        vertical-align: middle;\n",
       "    }\n",
       "\n",
       "    .dataframe tbody tr th {\n",
       "        vertical-align: top;\n",
       "    }\n",
       "\n",
       "    .dataframe thead th {\n",
       "        text-align: right;\n",
       "    }\n",
       "</style>\n",
       "<table border=\"1\" class=\"dataframe\">\n",
       "  <thead>\n",
       "    <tr style=\"text-align: right;\">\n",
       "      <th></th>\n",
       "      <th>0</th>\n",
       "      <th>1</th>\n",
       "      <th>2</th>\n",
       "      <th>3</th>\n",
       "      <th>4</th>\n",
       "      <th>5</th>\n",
       "    </tr>\n",
       "  </thead>\n",
       "  <tbody>\n",
       "    <tr>\n",
       "      <th>0</th>\n",
       "      <td>87.054977</td>\n",
       "      <td>87.487541</td>\n",
       "      <td>85.834480</td>\n",
       "      <td>85.526680</td>\n",
       "      <td>84.404007</td>\n",
       "      <td>83.329414</td>\n",
       "    </tr>\n",
       "    <tr>\n",
       "      <th>1</th>\n",
       "      <td>88.089355</td>\n",
       "      <td>87.415459</td>\n",
       "      <td>84.871231</td>\n",
       "      <td>84.101242</td>\n",
       "      <td>82.409752</td>\n",
       "      <td>80.780205</td>\n",
       "    </tr>\n",
       "    <tr>\n",
       "      <th>2</th>\n",
       "      <td>87.591972</td>\n",
       "      <td>85.875031</td>\n",
       "      <td>83.330467</td>\n",
       "      <td>81.639549</td>\n",
       "      <td>79.749985</td>\n",
       "      <td>78.018005</td>\n",
       "    </tr>\n",
       "    <tr>\n",
       "      <th>3</th>\n",
       "      <td>87.657585</td>\n",
       "      <td>85.078636</td>\n",
       "      <td>82.162445</td>\n",
       "      <td>80.146370</td>\n",
       "      <td>78.001503</td>\n",
       "      <td>76.134148</td>\n",
       "    </tr>\n",
       "    <tr>\n",
       "      <th>4</th>\n",
       "      <td>86.442322</td>\n",
       "      <td>83.334702</td>\n",
       "      <td>80.434105</td>\n",
       "      <td>77.983383</td>\n",
       "      <td>75.658669</td>\n",
       "      <td>74.115738</td>\n",
       "    </tr>\n",
       "    <tr>\n",
       "      <th>...</th>\n",
       "      <td>...</td>\n",
       "      <td>...</td>\n",
       "      <td>...</td>\n",
       "      <td>...</td>\n",
       "      <td>...</td>\n",
       "      <td>...</td>\n",
       "    </tr>\n",
       "    <tr>\n",
       "      <th>2059</th>\n",
       "      <td>76.865219</td>\n",
       "      <td>78.937889</td>\n",
       "      <td>80.954544</td>\n",
       "      <td>82.301857</td>\n",
       "      <td>84.409531</td>\n",
       "      <td>85.125687</td>\n",
       "    </tr>\n",
       "    <tr>\n",
       "      <th>2060</th>\n",
       "      <td>77.326805</td>\n",
       "      <td>79.606239</td>\n",
       "      <td>81.456772</td>\n",
       "      <td>82.817108</td>\n",
       "      <td>84.677170</td>\n",
       "      <td>85.337708</td>\n",
       "    </tr>\n",
       "    <tr>\n",
       "      <th>2061</th>\n",
       "      <td>77.405602</td>\n",
       "      <td>79.738190</td>\n",
       "      <td>81.370369</td>\n",
       "      <td>82.691170</td>\n",
       "      <td>84.216827</td>\n",
       "      <td>84.952332</td>\n",
       "    </tr>\n",
       "    <tr>\n",
       "      <th>2062</th>\n",
       "      <td>77.916618</td>\n",
       "      <td>80.251701</td>\n",
       "      <td>81.486099</td>\n",
       "      <td>82.808311</td>\n",
       "      <td>83.912796</td>\n",
       "      <td>84.648819</td>\n",
       "    </tr>\n",
       "    <tr>\n",
       "      <th>2063</th>\n",
       "      <td>79.387184</td>\n",
       "      <td>81.782616</td>\n",
       "      <td>82.611473</td>\n",
       "      <td>83.948517</td>\n",
       "      <td>84.647949</td>\n",
       "      <td>85.253090</td>\n",
       "    </tr>\n",
       "  </tbody>\n",
       "</table>\n",
       "<p>2064 rows × 6 columns</p>\n",
       "</div>"
      ],
      "text/plain": [
       "              0          1          2          3          4          5\n",
       "0     87.054977  87.487541  85.834480  85.526680  84.404007  83.329414\n",
       "1     88.089355  87.415459  84.871231  84.101242  82.409752  80.780205\n",
       "2     87.591972  85.875031  83.330467  81.639549  79.749985  78.018005\n",
       "3     87.657585  85.078636  82.162445  80.146370  78.001503  76.134148\n",
       "4     86.442322  83.334702  80.434105  77.983383  75.658669  74.115738\n",
       "...         ...        ...        ...        ...        ...        ...\n",
       "2059  76.865219  78.937889  80.954544  82.301857  84.409531  85.125687\n",
       "2060  77.326805  79.606239  81.456772  82.817108  84.677170  85.337708\n",
       "2061  77.405602  79.738190  81.370369  82.691170  84.216827  84.952332\n",
       "2062  77.916618  80.251701  81.486099  82.808311  83.912796  84.648819\n",
       "2063  79.387184  81.782616  82.611473  83.948517  84.647949  85.253090\n",
       "\n",
       "[2064 rows x 6 columns]"
      ]
     },
     "execution_count": 116,
     "metadata": {},
     "output_type": "execute_result"
    }
   ],
   "source": [
    "predicted"
   ]
  },
  {
   "cell_type": "code",
   "execution_count": 117,
   "metadata": {},
   "outputs": [
    {
     "data": {
      "text/plain": [
       "24.017596273764052"
      ]
     },
     "execution_count": 117,
     "metadata": {},
     "output_type": "execute_result"
    }
   ],
   "source": [
    "mean_squared_error(actual, predicted)"
   ]
  },
  {
   "cell_type": "code",
   "execution_count": 118,
   "metadata": {},
   "outputs": [
    {
     "data": {
      "image/png": "[encoded data removed]",
      "text/plain": [
       "<Figure size 640x480 with 1 Axes>"
      ]
     },
     "metadata": {},
     "output_type": "display_data"
    }
   ],
   "source": [
    "# Plot a random row to see the accuracy of predictions\n",
    "\n",
    "random_row = np.random.randint(low=0, high=2063)\n",
    "\n",
    "plt.plot(actual.iloc[random_row], label='actual')\n",
    "plt.plot(predicted.iloc[random_row], label='predicted')\n",
    "\n",
    "plt.legend()\n",
    "plt.show()"
   ]
  },
  {
   "attachments": {},
   "cell_type": "markdown",
   "metadata": {},
   "source": [
    "## We could try using 6 steps to predict the next 6 steps (maybe 12 steps is too long)"
   ]
  },
  {
   "cell_type": "code",
   "execution_count": null,
   "metadata": {},
   "outputs": [],
   "source": []
  }
 ],
 "metadata": {
  "kernelspec": {
   "display_name": "Python 3 (ipykernel)",
   "language": "python",
   "name": "python3"
  },
  "language_info": {
   "codemirror_mode": {
    "name": "ipython",
    "version": 3
   },
   "file_extension": ".py",
   "mimetype": "text/x-python",
   "name": "python",
   "nbconvert_exporter": "python",
   "pygments_lexer": "ipython3",
   "version": "3.11.7"
  },
  "nav_menu": {},
  "toc": {
   "base_numbering": 1,
   "nav_menu": {},
   "number_sections": false,
   "sideBar": true,
   "skip_h1_title": false,
   "title_cell": "Table of Contents",
   "title_sidebar": "Contents",
   "toc_cell": false,
   "toc_position": {},
   "toc_section_display": "block",
   "toc_window_display": false
  },
  "varInspector": {
   "cols": {
    "lenName": 16,
    "lenType": 16,
    "lenVar": 40
   },
   "kernels_config": {
    "python": {
     "delete_cmd_postfix": "",
     "delete_cmd_prefix": "del ",
     "library": "var_list.py",
     "varRefreshCmd": "print(var_dic_list())"
    },
    "r": {
     "delete_cmd_postfix": ") ",
     "delete_cmd_prefix": "rm(",
     "library": "var_list.r",
     "varRefreshCmd": "cat(var_dic_list()) "
    }
   },
   "types_to_exclude": [
    "module",
    "function",
    "builtin_function_or_method",
    "instance",
    "_Feature"
   ],
   "window_display": false
  }
 },
 "nbformat": 4,
 "nbformat_minor": 1
}
