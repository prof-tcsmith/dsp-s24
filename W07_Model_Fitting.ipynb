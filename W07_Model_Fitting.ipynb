{
 "cells": [
  {
   "cell_type": "markdown",
   "id": "aedca5c2-ad2b-474b-ad96-a70eccdde355",
   "metadata": {},
   "source": [
    "### Step-1 : Importing Libraries"
   ]
  },
  {
   "cell_type": "code",
   "execution_count": 113,
   "id": "c527919d-c994-4c49-82ec-026ffcda46d7",
   "metadata": {
    "tags": []
   },
   "outputs": [],
   "source": [
    "import pandas as pd\n",
    "import numpy as np\n",
    "from sklearn.model_selection import train_test_split\n",
    "from sklearn import preprocessing\n",
    "from nltk.stem import WordNetLemmatizer\n",
    "from nltk import pos_tag, word_tokenize\n",
    "from sklearn.feature_extraction.text import TfidfVectorizer\n",
    "from sklearn.decomposition import TruncatedSVD\n",
    "from sklearn.metrics import accuracy_score,confusion_matrix,classification_report\n",
    "from sklearn.linear_model import LogisticRegression\n",
    "from sklearn.neighbors import KNeighborsClassifier\n",
    "from sklearn.svm import SVC\n",
    "from sklearn.tree import DecisionTreeClassifier\n",
    "from sklearn.ensemble import RandomForestClassifier, AdaBoostClassifier\n",
    "import xgboost as xgb\n",
    "from sklearn.model_selection import RandomizedSearchCV,GridSearchCV\n",
    "from scipy.stats import uniform\n",
    "import warnings\n",
    "warnings.filterwarnings('ignore')\n",
    "\n",
    "np.random_seed = 9012023"
   ]
  },
  {
   "cell_type": "markdown",
   "id": "919f1fa1-6dbf-44b3-a98a-bc9b30020ba6",
   "metadata": {},
   "source": [
    "### Step-2 : Loading Data"
   ]
  },
  {
   "cell_type": "code",
   "execution_count": 114,
   "id": "37c2ebfb-e3d6-4888-87fb-cb34842bdc77",
   "metadata": {
    "tags": []
   },
   "outputs": [],
   "source": [
    "data = pd.read_csv('data.csv')"
   ]
  },
  {
   "cell_type": "code",
   "execution_count": 115,
   "id": "43c7de61-fdcb-472a-a115-e64b7d943212",
   "metadata": {
    "tags": []
   },
   "outputs": [
    {
     "data": {
      "text/html": [
       "<div>\n",
       "<style scoped>\n",
       "    .dataframe tbody tr th:only-of-type {\n",
       "        vertical-align: middle;\n",
       "    }\n",
       "\n",
       "    .dataframe tbody tr th {\n",
       "        vertical-align: top;\n",
       "    }\n",
       "\n",
       "    .dataframe thead th {\n",
       "        text-align: right;\n",
       "    }\n",
       "</style>\n",
       "<table border=\"1\" class=\"dataframe\">\n",
       "  <thead>\n",
       "    <tr style=\"text-align: right;\">\n",
       "      <th></th>\n",
       "      <th>_unit_id</th>\n",
       "      <th>_golden</th>\n",
       "      <th>_canary</th>\n",
       "      <th>_unit_state</th>\n",
       "      <th>_trusted_judgments</th>\n",
       "      <th>_last_judgment_at</th>\n",
       "      <th>is_the_category_correct_for_this_tweet</th>\n",
       "      <th>is_the_category_correct_for_this_tweet:confidence</th>\n",
       "      <th>orig__canary</th>\n",
       "      <th>orig__last_judgment_at</th>\n",
       "      <th>orig__trusted_judgments</th>\n",
       "      <th>orig__unit_id</th>\n",
       "      <th>orig__unit_state</th>\n",
       "      <th>gold_answer</th>\n",
       "      <th>sentiment</th>\n",
       "      <th>tweet_id</th>\n",
       "      <th>tweet_text</th>\n",
       "      <th>what_emotion_does_the_author_express_specifically_about_the_weatherconfidence</th>\n",
       "    </tr>\n",
       "  </thead>\n",
       "  <tbody>\n",
       "    <tr>\n",
       "      <th>0</th>\n",
       "      <td>315120690</td>\n",
       "      <td>True</td>\n",
       "      <td>NaN</td>\n",
       "      <td>golden</td>\n",
       "      <td>98</td>\n",
       "      <td>NaN</td>\n",
       "      <td>Yes</td>\n",
       "      <td>1.0000</td>\n",
       "      <td>NaN</td>\n",
       "      <td>8/24/13 0:21</td>\n",
       "      <td>20</td>\n",
       "      <td>1</td>\n",
       "      <td>finalized</td>\n",
       "      <td>Yes</td>\n",
       "      <td>Positive</td>\n",
       "      <td>81990560</td>\n",
       "      <td>Grilling kabobs on the grill last night was am...</td>\n",
       "      <td>0.8439</td>\n",
       "    </tr>\n",
       "    <tr>\n",
       "      <th>1</th>\n",
       "      <td>315120691</td>\n",
       "      <td>True</td>\n",
       "      <td>NaN</td>\n",
       "      <td>golden</td>\n",
       "      <td>78</td>\n",
       "      <td>NaN</td>\n",
       "      <td>Yes</td>\n",
       "      <td>1.0000</td>\n",
       "      <td>NaN</td>\n",
       "      <td>8/24/13 0:49</td>\n",
       "      <td>20</td>\n",
       "      <td>1</td>\n",
       "      <td>finalized</td>\n",
       "      <td>Yes</td>\n",
       "      <td>Negative</td>\n",
       "      <td>84314377</td>\n",
       "      <td>The slowest day ever !! And the weather makes ...</td>\n",
       "      <td>0.6963</td>\n",
       "    </tr>\n",
       "    <tr>\n",
       "      <th>2</th>\n",
       "      <td>315120692</td>\n",
       "      <td>True</td>\n",
       "      <td>NaN</td>\n",
       "      <td>golden</td>\n",
       "      <td>62</td>\n",
       "      <td>NaN</td>\n",
       "      <td>Yes</td>\n",
       "      <td>1.0000</td>\n",
       "      <td>NaN</td>\n",
       "      <td>8/24/13 0:55</td>\n",
       "      <td>20</td>\n",
       "      <td>1</td>\n",
       "      <td>finalized</td>\n",
       "      <td>Yes</td>\n",
       "      <td>Neutral / author is just sharing information</td>\n",
       "      <td>82846118</td>\n",
       "      <td>Fire Weather Watch issued May 17 at 4:21PM CDT...</td>\n",
       "      <td>0.8802</td>\n",
       "    </tr>\n",
       "    <tr>\n",
       "      <th>3</th>\n",
       "      <td>315120693</td>\n",
       "      <td>True</td>\n",
       "      <td>NaN</td>\n",
       "      <td>golden</td>\n",
       "      <td>68</td>\n",
       "      <td>NaN</td>\n",
       "      <td>Yes</td>\n",
       "      <td>1.0000</td>\n",
       "      <td>NaN</td>\n",
       "      <td>8/24/13 0:48</td>\n",
       "      <td>20</td>\n",
       "      <td>1</td>\n",
       "      <td>finalized</td>\n",
       "      <td>Yes</td>\n",
       "      <td>Positive</td>\n",
       "      <td>82843785</td>\n",
       "      <td>Im going to lunch early today.   The weather i...</td>\n",
       "      <td>0.6897</td>\n",
       "    </tr>\n",
       "    <tr>\n",
       "      <th>4</th>\n",
       "      <td>315120694</td>\n",
       "      <td>True</td>\n",
       "      <td>NaN</td>\n",
       "      <td>golden</td>\n",
       "      <td>64</td>\n",
       "      <td>NaN</td>\n",
       "      <td>Yes</td>\n",
       "      <td>0.9239</td>\n",
       "      <td>NaN</td>\n",
       "      <td>8/24/13 1:19</td>\n",
       "      <td>20</td>\n",
       "      <td>1</td>\n",
       "      <td>finalized</td>\n",
       "      <td>Yes</td>\n",
       "      <td>Neutral / author is just sharing information</td>\n",
       "      <td>82840144</td>\n",
       "      <td>Weekend Weather Causes Delays In I-270 Bridge ...</td>\n",
       "      <td>0.6153</td>\n",
       "    </tr>\n",
       "  </tbody>\n",
       "</table>\n",
       "</div>"
      ],
      "text/plain": [
       "    _unit_id  _golden  _canary _unit_state  _trusted_judgments  \\\n",
       "0  315120690     True      NaN      golden                  98   \n",
       "1  315120691     True      NaN      golden                  78   \n",
       "2  315120692     True      NaN      golden                  62   \n",
       "3  315120693     True      NaN      golden                  68   \n",
       "4  315120694     True      NaN      golden                  64   \n",
       "\n",
       "  _last_judgment_at is_the_category_correct_for_this_tweet  \\\n",
       "0               NaN                                    Yes   \n",
       "1               NaN                                    Yes   \n",
       "2               NaN                                    Yes   \n",
       "3               NaN                                    Yes   \n",
       "4               NaN                                    Yes   \n",
       "\n",
       "   is_the_category_correct_for_this_tweet:confidence  orig__canary  \\\n",
       "0                                             1.0000           NaN   \n",
       "1                                             1.0000           NaN   \n",
       "2                                             1.0000           NaN   \n",
       "3                                             1.0000           NaN   \n",
       "4                                             0.9239           NaN   \n",
       "\n",
       "  orig__last_judgment_at  orig__trusted_judgments  orig__unit_id  \\\n",
       "0           8/24/13 0:21                       20              1   \n",
       "1           8/24/13 0:49                       20              1   \n",
       "2           8/24/13 0:55                       20              1   \n",
       "3           8/24/13 0:48                       20              1   \n",
       "4           8/24/13 1:19                       20              1   \n",
       "\n",
       "  orig__unit_state gold_answer                                     sentiment  \\\n",
       "0        finalized         Yes                                      Positive   \n",
       "1        finalized         Yes                                      Negative   \n",
       "2        finalized         Yes  Neutral / author is just sharing information   \n",
       "3        finalized         Yes                                      Positive   \n",
       "4        finalized         Yes  Neutral / author is just sharing information   \n",
       "\n",
       "   tweet_id                                         tweet_text  \\\n",
       "0  81990560  Grilling kabobs on the grill last night was am...   \n",
       "1  84314377  The slowest day ever !! And the weather makes ...   \n",
       "2  82846118  Fire Weather Watch issued May 17 at 4:21PM CDT...   \n",
       "3  82843785  Im going to lunch early today.   The weather i...   \n",
       "4  82840144  Weekend Weather Causes Delays In I-270 Bridge ...   \n",
       "\n",
       "   what_emotion_does_the_author_express_specifically_about_the_weatherconfidence  \n",
       "0                                             0.8439                              \n",
       "1                                             0.6963                              \n",
       "2                                             0.8802                              \n",
       "3                                             0.6897                              \n",
       "4                                             0.6153                              "
      ]
     },
     "execution_count": 115,
     "metadata": {},
     "output_type": "execute_result"
    }
   ],
   "source": [
    "data.head()"
   ]
  },
  {
   "cell_type": "markdown",
   "id": "9d0b5952-2f1e-480c-bcc3-6f1fb317e48b",
   "metadata": {},
   "source": [
    "### Step-3: Data Exploration"
   ]
  },
  {
   "cell_type": "code",
   "execution_count": 116,
   "id": "cccedb55-9466-418c-a343-12950819596f",
   "metadata": {
    "tags": []
   },
   "outputs": [],
   "source": [
    "# Assuming df is the existing DataFrame\n",
    "df = data.loc[:, ['sentiment', 'tweet_text']]"
   ]
  },
  {
   "cell_type": "code",
   "execution_count": 117,
   "id": "f8f9df16-9048-48a4-a870-4dd91cb1aee2",
   "metadata": {
    "tags": []
   },
   "outputs": [
    {
     "data": {
      "text/html": [
       "<div>\n",
       "<style scoped>\n",
       "    .dataframe tbody tr th:only-of-type {\n",
       "        vertical-align: middle;\n",
       "    }\n",
       "\n",
       "    .dataframe tbody tr th {\n",
       "        vertical-align: top;\n",
       "    }\n",
       "\n",
       "    .dataframe thead th {\n",
       "        text-align: right;\n",
       "    }\n",
       "</style>\n",
       "<table border=\"1\" class=\"dataframe\">\n",
       "  <thead>\n",
       "    <tr style=\"text-align: right;\">\n",
       "      <th></th>\n",
       "      <th>sentiment</th>\n",
       "      <th>tweet_text</th>\n",
       "    </tr>\n",
       "  </thead>\n",
       "  <tbody>\n",
       "    <tr>\n",
       "      <th>0</th>\n",
       "      <td>Positive</td>\n",
       "      <td>Grilling kabobs on the grill last night was am...</td>\n",
       "    </tr>\n",
       "    <tr>\n",
       "      <th>1</th>\n",
       "      <td>Negative</td>\n",
       "      <td>The slowest day ever !! And the weather makes ...</td>\n",
       "    </tr>\n",
       "    <tr>\n",
       "      <th>2</th>\n",
       "      <td>Neutral / author is just sharing information</td>\n",
       "      <td>Fire Weather Watch issued May 17 at 4:21PM CDT...</td>\n",
       "    </tr>\n",
       "    <tr>\n",
       "      <th>3</th>\n",
       "      <td>Positive</td>\n",
       "      <td>Im going to lunch early today.   The weather i...</td>\n",
       "    </tr>\n",
       "    <tr>\n",
       "      <th>4</th>\n",
       "      <td>Neutral / author is just sharing information</td>\n",
       "      <td>Weekend Weather Causes Delays In I-270 Bridge ...</td>\n",
       "    </tr>\n",
       "  </tbody>\n",
       "</table>\n",
       "</div>"
      ],
      "text/plain": [
       "                                      sentiment  \\\n",
       "0                                      Positive   \n",
       "1                                      Negative   \n",
       "2  Neutral / author is just sharing information   \n",
       "3                                      Positive   \n",
       "4  Neutral / author is just sharing information   \n",
       "\n",
       "                                          tweet_text  \n",
       "0  Grilling kabobs on the grill last night was am...  \n",
       "1  The slowest day ever !! And the weather makes ...  \n",
       "2  Fire Weather Watch issued May 17 at 4:21PM CDT...  \n",
       "3  Im going to lunch early today.   The weather i...  \n",
       "4  Weekend Weather Causes Delays In I-270 Bridge ...  "
      ]
     },
     "execution_count": 117,
     "metadata": {},
     "output_type": "execute_result"
    }
   ],
   "source": [
    "df.head()"
   ]
  },
  {
   "cell_type": "code",
   "execution_count": 118,
   "id": "226fd4a9-13e8-420b-b828-32c02f1bbc02",
   "metadata": {
    "tags": []
   },
   "outputs": [
    {
     "data": {
      "text/plain": [
       "sentiment\n",
       "Negative                                        271\n",
       "Neutral / author is just sharing information    261\n",
       "Tweet not related to weather condition          235\n",
       "Positive                                        231\n",
       "I can't tell                                      2\n",
       "Name: count, dtype: int64"
      ]
     },
     "execution_count": 118,
     "metadata": {},
     "output_type": "execute_result"
    }
   ],
   "source": [
    "df['sentiment'].value_counts()"
   ]
  },
  {
   "cell_type": "code",
   "execution_count": 119,
   "id": "648f94b9-83f9-4321-bc6b-385eadc17417",
   "metadata": {
    "tags": []
   },
   "outputs": [],
   "source": [
    "df = df[(df['sentiment'] != \"I can't tell\") & (df['sentiment'] != 'Tweet not related to weather condition')]"
   ]
  },
  {
   "cell_type": "code",
   "execution_count": 120,
   "id": "30521c58-bb0c-4df4-9b66-78bbc8414e40",
   "metadata": {
    "tags": []
   },
   "outputs": [
    {
     "data": {
      "text/plain": [
       "sentiment\n",
       "Negative                                        271\n",
       "Neutral / author is just sharing information    261\n",
       "Positive                                        231\n",
       "Name: count, dtype: int64"
      ]
     },
     "execution_count": 120,
     "metadata": {},
     "output_type": "execute_result"
    }
   ],
   "source": [
    "df['sentiment'].value_counts()"
   ]
  },
  {
   "cell_type": "code",
   "execution_count": 121,
   "id": "e2cf24ea-17db-4f0a-8d7c-1c2090466ff2",
   "metadata": {
    "tags": []
   },
   "outputs": [],
   "source": [
    "df['sentiment'] = df['sentiment'].replace('Neutral / author is just sharing information', 'Neutral')"
   ]
  },
  {
   "cell_type": "code",
   "execution_count": 122,
   "id": "8377a80d-48fd-4846-ba9a-2d5ce5162270",
   "metadata": {
    "tags": []
   },
   "outputs": [
    {
     "data": {
      "text/plain": [
       "sentiment\n",
       "Negative    271\n",
       "Neutral     261\n",
       "Positive    231\n",
       "Name: count, dtype: int64"
      ]
     },
     "execution_count": 122,
     "metadata": {},
     "output_type": "execute_result"
    }
   ],
   "source": [
    "df['sentiment'].value_counts()"
   ]
  },
  {
   "cell_type": "code",
   "execution_count": 123,
   "id": "ac8b31e2-7445-4525-ab4b-0d89352ff3c6",
   "metadata": {
    "tags": []
   },
   "outputs": [
    {
     "data": {
      "text/html": [
       "<div>\n",
       "<style scoped>\n",
       "    .dataframe tbody tr th:only-of-type {\n",
       "        vertical-align: middle;\n",
       "    }\n",
       "\n",
       "    .dataframe tbody tr th {\n",
       "        vertical-align: top;\n",
       "    }\n",
       "\n",
       "    .dataframe thead th {\n",
       "        text-align: right;\n",
       "    }\n",
       "</style>\n",
       "<table border=\"1\" class=\"dataframe\">\n",
       "  <thead>\n",
       "    <tr style=\"text-align: right;\">\n",
       "      <th></th>\n",
       "      <th>sentiment</th>\n",
       "      <th>tweet_text</th>\n",
       "    </tr>\n",
       "  </thead>\n",
       "  <tbody>\n",
       "    <tr>\n",
       "      <th>0</th>\n",
       "      <td>Positive</td>\n",
       "      <td>Grilling kabobs on the grill last night was am...</td>\n",
       "    </tr>\n",
       "    <tr>\n",
       "      <th>1</th>\n",
       "      <td>Negative</td>\n",
       "      <td>The slowest day ever !! And the weather makes ...</td>\n",
       "    </tr>\n",
       "    <tr>\n",
       "      <th>2</th>\n",
       "      <td>Neutral</td>\n",
       "      <td>Fire Weather Watch issued May 17 at 4:21PM CDT...</td>\n",
       "    </tr>\n",
       "    <tr>\n",
       "      <th>3</th>\n",
       "      <td>Positive</td>\n",
       "      <td>Im going to lunch early today.   The weather i...</td>\n",
       "    </tr>\n",
       "    <tr>\n",
       "      <th>4</th>\n",
       "      <td>Neutral</td>\n",
       "      <td>Weekend Weather Causes Delays In I-270 Bridge ...</td>\n",
       "    </tr>\n",
       "  </tbody>\n",
       "</table>\n",
       "</div>"
      ],
      "text/plain": [
       "  sentiment                                         tweet_text\n",
       "0  Positive  Grilling kabobs on the grill last night was am...\n",
       "1  Negative  The slowest day ever !! And the weather makes ...\n",
       "2   Neutral  Fire Weather Watch issued May 17 at 4:21PM CDT...\n",
       "3  Positive  Im going to lunch early today.   The weather i...\n",
       "4   Neutral  Weekend Weather Causes Delays In I-270 Bridge ..."
      ]
     },
     "execution_count": 123,
     "metadata": {},
     "output_type": "execute_result"
    }
   ],
   "source": [
    "df.head()"
   ]
  },
  {
   "cell_type": "code",
   "execution_count": 124,
   "id": "5d20c813-ead8-41ab-895c-e43d057d5ad6",
   "metadata": {
    "tags": []
   },
   "outputs": [
    {
     "data": {
      "text/plain": [
       "tweet_text    0\n",
       "dtype: int64"
      ]
     },
     "execution_count": 124,
     "metadata": {},
     "output_type": "execute_result"
    }
   ],
   "source": [
    "df[['tweet_text']].isna().sum()"
   ]
  },
  {
   "cell_type": "code",
   "execution_count": 125,
   "id": "5996f392-99bb-41ce-a5c0-5d45e4cd1708",
   "metadata": {
    "tags": []
   },
   "outputs": [],
   "source": [
    "X = df['tweet_text']"
   ]
  },
  {
   "cell_type": "code",
   "execution_count": 126,
   "id": "e0c549fb-538f-4cc6-8012-b31b9cfca0d9",
   "metadata": {
    "tags": []
   },
   "outputs": [
    {
     "data": {
      "text/plain": [
       "array(['Positive', 'Negative', 'Neutral'], dtype=object)"
      ]
     },
     "execution_count": 126,
     "metadata": {},
     "output_type": "execute_result"
    }
   ],
   "source": [
    "y = df['sentiment']\n",
    "y.unique()"
   ]
  },
  {
   "cell_type": "markdown",
   "id": "899fd57f-85f8-41b3-9fa3-74de4bf8021c",
   "metadata": {},
   "source": [
    "#### Encoding Categorical Labels with LabelEncoder"
   ]
  },
  {
   "cell_type": "code",
   "execution_count": 127,
   "id": "7773f678-62b1-4b12-8ce9-b506ee99b9a0",
   "metadata": {
    "tags": []
   },
   "outputs": [
    {
     "name": "stdout",
     "output_type": "stream",
     "text": [
      "['Negative' 'Neutral' 'Positive']\n"
     ]
    }
   ],
   "source": [
    "labelencoder = preprocessing.LabelEncoder()\n",
    "labelencoder.fit(y)\n",
    "print(labelencoder.classes_)\n",
    "y = labelencoder.transform(y)"
   ]
  },
  {
   "cell_type": "code",
   "execution_count": 128,
   "id": "a8441e5c-843b-4861-ace3-99833086e1e2",
   "metadata": {
    "tags": []
   },
   "outputs": [
    {
     "data": {
      "text/plain": [
       "array([2, 0, 1, 2, 1, 2, 1, 0, 0, 2, 0, 0, 1, 0, 1, 2, 0, 0, 1, 0, 0, 2,\n",
       "       1, 1, 0, 1, 2, 0, 1, 2, 1, 1, 2, 1, 1, 2, 0, 2, 0, 0, 1, 2, 1, 0,\n",
       "       0, 1, 1, 1, 2, 2, 2, 2, 0, 2, 0, 0, 2, 2, 0, 0, 0, 1, 0, 0, 1, 2,\n",
       "       0, 2, 1, 2, 0, 2, 2, 0, 0, 2, 0, 1, 2, 0, 1, 0, 0, 1, 1, 1, 2, 1,\n",
       "       1, 2, 1, 0, 2, 0, 0, 0, 0, 0, 2, 2, 1, 0, 1, 1, 0, 2, 0, 2, 2, 2,\n",
       "       0, 1, 1, 1, 0, 1, 1, 2, 2, 2, 2, 0, 1, 0, 0, 2, 1, 0, 1, 0, 0, 1,\n",
       "       0, 1, 0, 1, 1, 1, 0, 0, 2, 1, 0, 0, 0, 0, 2, 0, 1, 2, 1, 2, 2, 0,\n",
       "       0, 2, 1, 0, 0, 1, 0, 0, 0, 1, 1, 1, 2, 2, 2, 1, 1, 2, 0, 1, 1, 1,\n",
       "       0, 0, 2, 0, 1, 2, 2, 0, 1, 0, 2, 1, 0, 1, 2, 0, 2, 0, 0, 1, 0, 0,\n",
       "       1, 0, 1, 0, 1, 1, 0, 1, 0, 0, 0, 0, 2, 1, 0, 1, 1, 2, 2, 1, 2, 2,\n",
       "       2, 0, 2, 2, 0, 2, 0, 0, 2, 0, 1, 0, 1, 0, 2, 2, 2, 0, 1, 2, 1, 1,\n",
       "       2, 1, 2, 2, 1, 1, 2, 2, 0, 2, 2, 0, 1, 2, 1, 1, 2, 1, 1, 0, 1, 1,\n",
       "       2, 2, 1, 0, 0, 1, 0, 0, 1, 0, 1, 2, 2, 2, 2, 2, 1, 0, 0, 0, 1, 1,\n",
       "       2, 1, 0, 1, 2, 2, 1, 0, 1, 1, 2, 1, 1, 2, 2, 1, 1, 2, 2, 0, 1, 2,\n",
       "       0, 0, 2, 2, 1, 1, 1, 0, 1, 1, 0, 1, 1, 2, 0, 0, 1, 0, 0, 2, 1, 1,\n",
       "       0, 2, 0, 0, 0, 1, 2, 0, 2, 1, 0, 1, 2, 0, 2, 2, 1, 1, 0, 0, 0, 2,\n",
       "       2, 0, 0, 1, 0, 1, 1, 2, 2, 0, 1, 1, 1, 2, 1, 2, 2, 1, 1, 2, 0, 0,\n",
       "       2, 1, 0, 2, 2, 2, 2, 1, 2, 0, 0, 0, 2, 1, 0, 2, 0, 2, 0, 2, 0, 1,\n",
       "       2, 0, 0, 1, 2, 1, 0, 2, 2, 2, 1, 0, 0, 0, 0, 2, 1, 1, 0, 0, 1, 0,\n",
       "       1, 0, 0, 0, 1, 0, 2, 0, 0, 2, 1, 1, 1, 1, 0, 2, 1, 2, 2, 2, 0, 0,\n",
       "       2, 0, 0, 2, 1, 2, 0, 1, 2, 2, 2, 0, 1, 1, 2, 1, 1, 0, 0, 2, 0, 1,\n",
       "       2, 1, 0, 2, 0, 2, 0, 2, 2, 0, 0, 0, 0, 1, 1, 2, 0, 1, 2, 2, 0, 2,\n",
       "       1, 0, 2, 0, 1, 1, 1, 1, 2, 0, 1, 1, 1, 0, 0, 0, 0, 0, 1, 1, 2, 0,\n",
       "       2, 1, 2, 1, 0, 2, 2, 2, 0, 0, 2, 0, 1, 1, 2, 0, 2, 1, 2, 0, 1, 2,\n",
       "       1, 2, 2, 1, 2, 0, 2, 1, 1, 2, 1, 2, 0, 0, 0, 0, 0, 0, 1, 2, 1, 1,\n",
       "       1, 0, 0, 2, 0, 1, 1, 1, 2, 0, 2, 0, 0, 1, 0, 2, 0, 0, 2, 0, 1, 1,\n",
       "       1, 0, 0, 2, 1, 1, 1, 1, 1, 0, 1, 1, 1, 1, 1, 2, 2, 1, 2, 1, 1, 2,\n",
       "       1, 1, 0, 1, 1, 1, 0, 0, 2, 1, 1, 1, 0, 2, 0, 2, 2, 1, 1, 1, 1, 2,\n",
       "       1, 0, 2, 0, 1, 0, 2, 0, 0, 2, 2, 2, 0, 0, 1, 1, 2, 2, 1, 1, 1, 2,\n",
       "       2, 0, 1, 0, 0, 0, 2, 0, 0, 2, 0, 1, 0, 0, 2, 0, 1, 2, 2, 2, 1, 0,\n",
       "       2, 0, 1, 2, 2, 1, 1, 0, 0, 1, 2, 1, 2, 2, 0, 1, 0, 0, 0, 0, 0, 1,\n",
       "       2, 0, 0, 2, 0, 1, 2, 1, 2, 1, 1, 1, 1, 1, 0, 1, 0, 1, 1, 1, 2, 1,\n",
       "       0, 0, 0, 0, 1, 0, 1, 1, 1, 1, 1, 1, 0, 0, 2, 0, 1, 2, 2, 0, 2, 0,\n",
       "       0, 2, 0, 1, 0, 2, 2, 0, 2, 1, 2, 2, 2, 0, 0, 1, 1, 2, 2, 0, 2, 0,\n",
       "       1, 2, 2, 1, 2, 1, 1, 1, 0, 0, 0, 0, 2, 0, 0])"
      ]
     },
     "execution_count": 128,
     "metadata": {},
     "output_type": "execute_result"
    }
   ],
   "source": [
    "y"
   ]
  },
  {
   "cell_type": "markdown",
   "id": "adbbaeba-1659-4d98-9b63-7a2f2fb13340",
   "metadata": {},
   "source": [
    "### Splitting the data"
   ]
  },
  {
   "cell_type": "code",
   "execution_count": 129,
   "id": "33c6dff5-52cc-4a7c-9e4b-b03a5a48e941",
   "metadata": {
    "tags": []
   },
   "outputs": [
    {
     "name": "stdout",
     "output_type": "stream",
     "text": [
      "Training   :  (572, 2)\n",
      "Validation :  (191, 2)\n"
     ]
    }
   ],
   "source": [
    "train_data, valid_data = train_test_split(df, test_size=0.25, random_state=9012023, stratify = y)\n",
    "print('Training   : ', train_data.shape)\n",
    "print('Validation : ', valid_data.shape)"
   ]
  },
  {
   "cell_type": "code",
   "execution_count": 130,
   "id": "af2ca8f7-1e98-48b7-ac31-3309cfcc3da5",
   "metadata": {
    "tags": []
   },
   "outputs": [
    {
     "data": {
      "text/html": [
       "<div>\n",
       "<style scoped>\n",
       "    .dataframe tbody tr th:only-of-type {\n",
       "        vertical-align: middle;\n",
       "    }\n",
       "\n",
       "    .dataframe tbody tr th {\n",
       "        vertical-align: top;\n",
       "    }\n",
       "\n",
       "    .dataframe thead th {\n",
       "        text-align: right;\n",
       "    }\n",
       "</style>\n",
       "<table border=\"1\" class=\"dataframe\">\n",
       "  <thead>\n",
       "    <tr style=\"text-align: right;\">\n",
       "      <th></th>\n",
       "      <th>sentiment</th>\n",
       "      <th>tweet_text</th>\n",
       "    </tr>\n",
       "  </thead>\n",
       "  <tbody>\n",
       "    <tr>\n",
       "      <th>897</th>\n",
       "      <td>Negative</td>\n",
       "      <td>Idk y she got all this COLD air blowing out on...</td>\n",
       "    </tr>\n",
       "    <tr>\n",
       "      <th>918</th>\n",
       "      <td>Neutral</td>\n",
       "      <td>New event. Severe Thunderstorm Warning from 5/...</td>\n",
       "    </tr>\n",
       "    <tr>\n",
       "      <th>1</th>\n",
       "      <td>Negative</td>\n",
       "      <td>The slowest day ever !! And the weather makes ...</td>\n",
       "    </tr>\n",
       "    <tr>\n",
       "      <th>503</th>\n",
       "      <td>Positive</td>\n",
       "      <td>Tomorrows 82 degrees ? thats what im fuckin ta...</td>\n",
       "    </tr>\n",
       "    <tr>\n",
       "      <th>229</th>\n",
       "      <td>Positive</td>\n",
       "      <td>Headed to Maker Faire this weekend.  Weather's...</td>\n",
       "    </tr>\n",
       "  </tbody>\n",
       "</table>\n",
       "</div>"
      ],
      "text/plain": [
       "    sentiment                                         tweet_text\n",
       "897  Negative  Idk y she got all this COLD air blowing out on...\n",
       "918   Neutral  New event. Severe Thunderstorm Warning from 5/...\n",
       "1    Negative  The slowest day ever !! And the weather makes ...\n",
       "503  Positive  Tomorrows 82 degrees ? thats what im fuckin ta...\n",
       "229  Positive  Headed to Maker Faire this weekend.  Weather's..."
      ]
     },
     "execution_count": 130,
     "metadata": {},
     "output_type": "execute_result"
    }
   ],
   "source": [
    "train_data.head()"
   ]
  },
  {
   "cell_type": "markdown",
   "id": "a7df6107-9959-4b4e-8651-2c02b5358be7",
   "metadata": {},
   "source": [
    "### WordNet Lemmatization"
   ]
  },
  {
   "cell_type": "code",
   "execution_count": 131,
   "id": "19b0bb85-4a37-44e1-9bd9-ad90aab5a354",
   "metadata": {
    "tags": []
   },
   "outputs": [],
   "source": [
    "# Initialize the WordNet Lemmatizer\n",
    "wnl = WordNetLemmatizer()"
   ]
  },
  {
   "cell_type": "code",
   "execution_count": 132,
   "id": "cff57fde-4ef1-4475-837a-d7f4b8a3b46e",
   "metadata": {
    "tags": []
   },
   "outputs": [],
   "source": [
    "# Function to perform lemmatization on tweet_text\n",
    "def lemmatize_tweet_text(text):\n",
    "    lemmatized_text = \"\"\n",
    "    for word, tag in pos_tag(word_tokenize(text)):\n",
    "        wntag = tag[0].lower()\n",
    "        wntag = wntag if wntag in ['a', 'r', 'n', 'v'] else None\n",
    "        if not wntag:\n",
    "            lemma = word\n",
    "        else:\n",
    "            lemma = wnl.lemmatize(word, wntag)\n",
    "        lemmatized_text += lemma + \" \"\n",
    "    return lemmatized_text.strip()"
   ]
  },
  {
   "cell_type": "code",
   "execution_count": 133,
   "id": "b9871d7c-594b-4558-a922-c71450e7862a",
   "metadata": {
    "tags": []
   },
   "outputs": [],
   "source": [
    "train_data['tweet_text'] = train_data['tweet_text'].apply(lemmatize_tweet_text)"
   ]
  },
  {
   "cell_type": "code",
   "execution_count": 134,
   "id": "3a3f0474-4b9e-46a2-8fe1-5169eb193fd7",
   "metadata": {
    "tags": []
   },
   "outputs": [
    {
     "data": {
      "text/html": [
       "<div>\n",
       "<style scoped>\n",
       "    .dataframe tbody tr th:only-of-type {\n",
       "        vertical-align: middle;\n",
       "    }\n",
       "\n",
       "    .dataframe tbody tr th {\n",
       "        vertical-align: top;\n",
       "    }\n",
       "\n",
       "    .dataframe thead th {\n",
       "        text-align: right;\n",
       "    }\n",
       "</style>\n",
       "<table border=\"1\" class=\"dataframe\">\n",
       "  <thead>\n",
       "    <tr style=\"text-align: right;\">\n",
       "      <th></th>\n",
       "      <th>sentiment</th>\n",
       "      <th>tweet_text</th>\n",
       "    </tr>\n",
       "  </thead>\n",
       "  <tbody>\n",
       "    <tr>\n",
       "      <th>897</th>\n",
       "      <td>Negative</td>\n",
       "      <td>Idk y she get all this COLD air blow out on th...</td>\n",
       "    </tr>\n",
       "    <tr>\n",
       "      <th>918</th>\n",
       "      <td>Neutral</td>\n",
       "      <td>New event . Severe Thunderstorm Warning from 5...</td>\n",
       "    </tr>\n",
       "    <tr>\n",
       "      <th>1</th>\n",
       "      <td>Negative</td>\n",
       "      <td>The slowest day ever ! ! And the weather make ...</td>\n",
       "    </tr>\n",
       "    <tr>\n",
       "      <th>503</th>\n",
       "      <td>Positive</td>\n",
       "      <td>Tomorrows 82 degree ? thats what im fuckin tal...</td>\n",
       "    </tr>\n",
       "    <tr>\n",
       "      <th>229</th>\n",
       "      <td>Positive</td>\n",
       "      <td>Headed to Maker Faire this weekend . Weather '...</td>\n",
       "    </tr>\n",
       "  </tbody>\n",
       "</table>\n",
       "</div>"
      ],
      "text/plain": [
       "    sentiment                                         tweet_text\n",
       "897  Negative  Idk y she get all this COLD air blow out on th...\n",
       "918   Neutral  New event . Severe Thunderstorm Warning from 5...\n",
       "1    Negative  The slowest day ever ! ! And the weather make ...\n",
       "503  Positive  Tomorrows 82 degree ? thats what im fuckin tal...\n",
       "229  Positive  Headed to Maker Faire this weekend . Weather '..."
      ]
     },
     "execution_count": 134,
     "metadata": {},
     "output_type": "execute_result"
    }
   ],
   "source": [
    "train_data.head()"
   ]
  },
  {
   "cell_type": "code",
   "execution_count": 135,
   "id": "736e2f7a-2450-4b83-840a-765643693b7a",
   "metadata": {
    "tags": []
   },
   "outputs": [],
   "source": [
    "valid_data['tweet_text'] = valid_data['tweet_text'].apply(lemmatize_tweet_text)"
   ]
  },
  {
   "cell_type": "code",
   "execution_count": 136,
   "id": "ccbf82b4-859e-4ca5-866b-85ced548a2c7",
   "metadata": {
    "tags": []
   },
   "outputs": [
    {
     "data": {
      "text/html": [
       "<div>\n",
       "<style scoped>\n",
       "    .dataframe tbody tr th:only-of-type {\n",
       "        vertical-align: middle;\n",
       "    }\n",
       "\n",
       "    .dataframe tbody tr th {\n",
       "        vertical-align: top;\n",
       "    }\n",
       "\n",
       "    .dataframe thead th {\n",
       "        text-align: right;\n",
       "    }\n",
       "</style>\n",
       "<table border=\"1\" class=\"dataframe\">\n",
       "  <thead>\n",
       "    <tr style=\"text-align: right;\">\n",
       "      <th></th>\n",
       "      <th>sentiment</th>\n",
       "      <th>tweet_text</th>\n",
       "    </tr>\n",
       "  </thead>\n",
       "  <tbody>\n",
       "    <tr>\n",
       "      <th>392</th>\n",
       "      <td>Neutral</td>\n",
       "      <td>It 's windy here too . RT @ mention : Rustling...</td>\n",
       "    </tr>\n",
       "    <tr>\n",
       "      <th>156</th>\n",
       "      <td>Negative</td>\n",
       "      <td>Just a head up to everyone , weather be crazy ...</td>\n",
       "    </tr>\n",
       "    <tr>\n",
       "      <th>302</th>\n",
       "      <td>Positive</td>\n",
       "      <td>Call me crazy , but I be enjoy the cool weathe...</td>\n",
       "    </tr>\n",
       "    <tr>\n",
       "      <th>733</th>\n",
       "      <td>Neutral</td>\n",
       "      <td>New : : Tsunami warn EAS TSW on tv and weather...</td>\n",
       "    </tr>\n",
       "    <tr>\n",
       "      <th>750</th>\n",
       "      <td>Negative</td>\n",
       "      <td>My gosh ! Its too hot outside ... { link }</td>\n",
       "    </tr>\n",
       "  </tbody>\n",
       "</table>\n",
       "</div>"
      ],
      "text/plain": [
       "    sentiment                                         tweet_text\n",
       "392   Neutral  It 's windy here too . RT @ mention : Rustling...\n",
       "156  Negative  Just a head up to everyone , weather be crazy ...\n",
       "302  Positive  Call me crazy , but I be enjoy the cool weathe...\n",
       "733   Neutral  New : : Tsunami warn EAS TSW on tv and weather...\n",
       "750  Negative         My gosh ! Its too hot outside ... { link }"
      ]
     },
     "execution_count": 136,
     "metadata": {},
     "output_type": "execute_result"
    }
   ],
   "source": [
    "valid_data.head()"
   ]
  },
  {
   "cell_type": "markdown",
   "id": "c83b89a4-8ae7-47b2-97c5-e57fad41b9df",
   "metadata": {},
   "source": [
    "### Data Preparation"
   ]
  },
  {
   "cell_type": "code",
   "execution_count": 137,
   "id": "7fea1f29-c05a-48d3-8588-c365faac6a1b",
   "metadata": {
    "tags": []
   },
   "outputs": [],
   "source": [
    "X_train = train_data['tweet_text']\n",
    "y_train = train_data['sentiment']\n",
    "X_test = valid_data['tweet_text']\n",
    "y_test = valid_data['sentiment']"
   ]
  },
  {
   "cell_type": "code",
   "execution_count": 138,
   "id": "b299bd78-3893-42f4-94a2-5105a25cd133",
   "metadata": {
    "tags": []
   },
   "outputs": [],
   "source": [
    "# the use of the TfidfVectorizer from scikit-learn to transform a collection of text documents into a matrix of TF-IDF features.\n",
    "\n",
    "tfidf_vect = TfidfVectorizer(stop_words='english', lowercase=True, token_pattern=\"[^\\W\\d_]+\")\n",
    "\n",
    "X_train = tfidf_vect.fit_transform(X_train)"
   ]
  },
  {
   "cell_type": "code",
   "execution_count": 139,
   "id": "ec715976-6f0c-4d1b-97fe-38d3b0d55f31",
   "metadata": {
    "tags": []
   },
   "outputs": [],
   "source": [
    "X_test = tfidf_vect.transform(X_test)"
   ]
  },
  {
   "cell_type": "code",
   "execution_count": 140,
   "id": "e7b45f4e-2d5a-4cdf-9d1d-10f79b406ef1",
   "metadata": {
    "tags": []
   },
   "outputs": [
    {
     "data": {
      "text/plain": [
       "((572, 1683), (191, 1683))"
      ]
     },
     "execution_count": 140,
     "metadata": {},
     "output_type": "execute_result"
    }
   ],
   "source": [
    "X_train.shape, X_test.shape"
   ]
  },
  {
   "cell_type": "code",
   "execution_count": 141,
   "id": "ca0d8b64-2e32-4182-b82f-917e152cdd52",
   "metadata": {
    "tags": []
   },
   "outputs": [
    {
     "data": {
      "text/plain": [
       "<572x1683 sparse matrix of type '<class 'numpy.float64'>'\n",
       "\twith 4801 stored elements in Compressed Sparse Row format>"
      ]
     },
     "execution_count": 141,
     "metadata": {},
     "output_type": "execute_result"
    }
   ],
   "source": [
    "## These data sets are \"sparse matrix\". We can't see them unless we convert using toarray()\n",
    "X_train"
   ]
  },
  {
   "cell_type": "code",
   "execution_count": 142,
   "id": "6dea20a8-a242-4780-b2d1-40af412fffd5",
   "metadata": {
    "tags": []
   },
   "outputs": [
    {
     "data": {
      "text/html": [
       "<div>\n",
       "<style scoped>\n",
       "    .dataframe tbody tr th:only-of-type {\n",
       "        vertical-align: middle;\n",
       "    }\n",
       "\n",
       "    .dataframe tbody tr th {\n",
       "        vertical-align: top;\n",
       "    }\n",
       "\n",
       "    .dataframe thead th {\n",
       "        text-align: right;\n",
       "    }\n",
       "</style>\n",
       "<table border=\"1\" class=\"dataframe\">\n",
       "  <thead>\n",
       "    <tr style=\"text-align: right;\">\n",
       "      <th></th>\n",
       "      <th>aback</th>\n",
       "      <th>abc</th>\n",
       "      <th>ability</th>\n",
       "      <th>able</th>\n",
       "      <th>absolutely</th>\n",
       "      <th>abt</th>\n",
       "      <th>ac</th>\n",
       "      <th>according</th>\n",
       "      <th>accumulation</th>\n",
       "      <th>active</th>\n",
       "      <th>...</th>\n",
       "      <th>yoohoo</th>\n",
       "      <th>york</th>\n",
       "      <th>yourheart</th>\n",
       "      <th>yu</th>\n",
       "      <th>yup</th>\n",
       "      <th>yw</th>\n",
       "      <th>z</th>\n",
       "      <th>zebra</th>\n",
       "      <th>zebraprint</th>\n",
       "      <th>zoo</th>\n",
       "    </tr>\n",
       "  </thead>\n",
       "  <tbody>\n",
       "    <tr>\n",
       "      <th>0</th>\n",
       "      <td>0.0</td>\n",
       "      <td>0.0</td>\n",
       "      <td>0.0</td>\n",
       "      <td>0.0</td>\n",
       "      <td>0.0</td>\n",
       "      <td>0.000000</td>\n",
       "      <td>0.0</td>\n",
       "      <td>0.0</td>\n",
       "      <td>0.0</td>\n",
       "      <td>0.0</td>\n",
       "      <td>...</td>\n",
       "      <td>0.0</td>\n",
       "      <td>0.0</td>\n",
       "      <td>0.0</td>\n",
       "      <td>0.0</td>\n",
       "      <td>0.0</td>\n",
       "      <td>0.0</td>\n",
       "      <td>0.0</td>\n",
       "      <td>0.0</td>\n",
       "      <td>0.0</td>\n",
       "      <td>0.0</td>\n",
       "    </tr>\n",
       "    <tr>\n",
       "      <th>1</th>\n",
       "      <td>0.0</td>\n",
       "      <td>0.0</td>\n",
       "      <td>0.0</td>\n",
       "      <td>0.0</td>\n",
       "      <td>0.0</td>\n",
       "      <td>0.000000</td>\n",
       "      <td>0.0</td>\n",
       "      <td>0.0</td>\n",
       "      <td>0.0</td>\n",
       "      <td>0.0</td>\n",
       "      <td>...</td>\n",
       "      <td>0.0</td>\n",
       "      <td>0.0</td>\n",
       "      <td>0.0</td>\n",
       "      <td>0.0</td>\n",
       "      <td>0.0</td>\n",
       "      <td>0.0</td>\n",
       "      <td>0.0</td>\n",
       "      <td>0.0</td>\n",
       "      <td>0.0</td>\n",
       "      <td>0.0</td>\n",
       "    </tr>\n",
       "    <tr>\n",
       "      <th>2</th>\n",
       "      <td>0.0</td>\n",
       "      <td>0.0</td>\n",
       "      <td>0.0</td>\n",
       "      <td>0.0</td>\n",
       "      <td>0.0</td>\n",
       "      <td>0.000000</td>\n",
       "      <td>0.0</td>\n",
       "      <td>0.0</td>\n",
       "      <td>0.0</td>\n",
       "      <td>0.0</td>\n",
       "      <td>...</td>\n",
       "      <td>0.0</td>\n",
       "      <td>0.0</td>\n",
       "      <td>0.0</td>\n",
       "      <td>0.0</td>\n",
       "      <td>0.0</td>\n",
       "      <td>0.0</td>\n",
       "      <td>0.0</td>\n",
       "      <td>0.0</td>\n",
       "      <td>0.0</td>\n",
       "      <td>0.0</td>\n",
       "    </tr>\n",
       "    <tr>\n",
       "      <th>3</th>\n",
       "      <td>0.0</td>\n",
       "      <td>0.0</td>\n",
       "      <td>0.0</td>\n",
       "      <td>0.0</td>\n",
       "      <td>0.0</td>\n",
       "      <td>0.422475</td>\n",
       "      <td>0.0</td>\n",
       "      <td>0.0</td>\n",
       "      <td>0.0</td>\n",
       "      <td>0.0</td>\n",
       "      <td>...</td>\n",
       "      <td>0.0</td>\n",
       "      <td>0.0</td>\n",
       "      <td>0.0</td>\n",
       "      <td>0.0</td>\n",
       "      <td>0.0</td>\n",
       "      <td>0.0</td>\n",
       "      <td>0.0</td>\n",
       "      <td>0.0</td>\n",
       "      <td>0.0</td>\n",
       "      <td>0.0</td>\n",
       "    </tr>\n",
       "    <tr>\n",
       "      <th>4</th>\n",
       "      <td>0.0</td>\n",
       "      <td>0.0</td>\n",
       "      <td>0.0</td>\n",
       "      <td>0.0</td>\n",
       "      <td>0.0</td>\n",
       "      <td>0.000000</td>\n",
       "      <td>0.0</td>\n",
       "      <td>0.0</td>\n",
       "      <td>0.0</td>\n",
       "      <td>0.0</td>\n",
       "      <td>...</td>\n",
       "      <td>0.0</td>\n",
       "      <td>0.0</td>\n",
       "      <td>0.0</td>\n",
       "      <td>0.0</td>\n",
       "      <td>0.0</td>\n",
       "      <td>0.0</td>\n",
       "      <td>0.0</td>\n",
       "      <td>0.0</td>\n",
       "      <td>0.0</td>\n",
       "      <td>0.0</td>\n",
       "    </tr>\n",
       "  </tbody>\n",
       "</table>\n",
       "<p>5 rows × 1683 columns</p>\n",
       "</div>"
      ],
      "text/plain": [
       "   aback  abc  ability  able  absolutely       abt   ac  according  \\\n",
       "0    0.0  0.0      0.0   0.0         0.0  0.000000  0.0        0.0   \n",
       "1    0.0  0.0      0.0   0.0         0.0  0.000000  0.0        0.0   \n",
       "2    0.0  0.0      0.0   0.0         0.0  0.000000  0.0        0.0   \n",
       "3    0.0  0.0      0.0   0.0         0.0  0.422475  0.0        0.0   \n",
       "4    0.0  0.0      0.0   0.0         0.0  0.000000  0.0        0.0   \n",
       "\n",
       "   accumulation  active  ...  yoohoo  york  yourheart   yu  yup   yw    z  \\\n",
       "0           0.0     0.0  ...     0.0   0.0        0.0  0.0  0.0  0.0  0.0   \n",
       "1           0.0     0.0  ...     0.0   0.0        0.0  0.0  0.0  0.0  0.0   \n",
       "2           0.0     0.0  ...     0.0   0.0        0.0  0.0  0.0  0.0  0.0   \n",
       "3           0.0     0.0  ...     0.0   0.0        0.0  0.0  0.0  0.0  0.0   \n",
       "4           0.0     0.0  ...     0.0   0.0        0.0  0.0  0.0  0.0  0.0   \n",
       "\n",
       "   zebra  zebraprint  zoo  \n",
       "0    0.0         0.0  0.0  \n",
       "1    0.0         0.0  0.0  \n",
       "2    0.0         0.0  0.0  \n",
       "3    0.0         0.0  0.0  \n",
       "4    0.0         0.0  0.0  \n",
       "\n",
       "[5 rows x 1683 columns]"
      ]
     },
     "execution_count": 142,
     "metadata": {},
     "output_type": "execute_result"
    }
   ],
   "source": [
    "df_X_train = pd.DataFrame(X_train.toarray(), columns=tfidf_vect.get_feature_names_out())\n",
    "df_X_train.head()"
   ]
  },
  {
   "cell_type": "code",
   "execution_count": 143,
   "id": "a6362f22-5d3f-474d-93e9-bdacd2d7bd9f",
   "metadata": {
    "tags": []
   },
   "outputs": [
    {
     "data": {
      "text/html": [
       "<div>\n",
       "<style scoped>\n",
       "    .dataframe tbody tr th:only-of-type {\n",
       "        vertical-align: middle;\n",
       "    }\n",
       "\n",
       "    .dataframe tbody tr th {\n",
       "        vertical-align: top;\n",
       "    }\n",
       "\n",
       "    .dataframe thead th {\n",
       "        text-align: right;\n",
       "    }\n",
       "</style>\n",
       "<table border=\"1\" class=\"dataframe\">\n",
       "  <thead>\n",
       "    <tr style=\"text-align: right;\">\n",
       "      <th></th>\n",
       "      <th>aback</th>\n",
       "      <th>abc</th>\n",
       "      <th>ability</th>\n",
       "      <th>able</th>\n",
       "      <th>absolutely</th>\n",
       "      <th>abt</th>\n",
       "      <th>ac</th>\n",
       "      <th>according</th>\n",
       "      <th>accumulation</th>\n",
       "      <th>active</th>\n",
       "      <th>...</th>\n",
       "      <th>yoohoo</th>\n",
       "      <th>york</th>\n",
       "      <th>yourheart</th>\n",
       "      <th>yu</th>\n",
       "      <th>yup</th>\n",
       "      <th>yw</th>\n",
       "      <th>z</th>\n",
       "      <th>zebra</th>\n",
       "      <th>zebraprint</th>\n",
       "      <th>zoo</th>\n",
       "    </tr>\n",
       "  </thead>\n",
       "  <tbody>\n",
       "    <tr>\n",
       "      <th>0</th>\n",
       "      <td>0.0</td>\n",
       "      <td>0.0</td>\n",
       "      <td>0.0</td>\n",
       "      <td>0.0</td>\n",
       "      <td>0.0</td>\n",
       "      <td>0.000000</td>\n",
       "      <td>0.0</td>\n",
       "      <td>0.0</td>\n",
       "      <td>0.0</td>\n",
       "      <td>0.0</td>\n",
       "      <td>...</td>\n",
       "      <td>0.0</td>\n",
       "      <td>0.0</td>\n",
       "      <td>0.0</td>\n",
       "      <td>0.0</td>\n",
       "      <td>0.0</td>\n",
       "      <td>0.0</td>\n",
       "      <td>0.0</td>\n",
       "      <td>0.0</td>\n",
       "      <td>0.0</td>\n",
       "      <td>0.0</td>\n",
       "    </tr>\n",
       "    <tr>\n",
       "      <th>1</th>\n",
       "      <td>0.0</td>\n",
       "      <td>0.0</td>\n",
       "      <td>0.0</td>\n",
       "      <td>0.0</td>\n",
       "      <td>0.0</td>\n",
       "      <td>0.000000</td>\n",
       "      <td>0.0</td>\n",
       "      <td>0.0</td>\n",
       "      <td>0.0</td>\n",
       "      <td>0.0</td>\n",
       "      <td>...</td>\n",
       "      <td>0.0</td>\n",
       "      <td>0.0</td>\n",
       "      <td>0.0</td>\n",
       "      <td>0.0</td>\n",
       "      <td>0.0</td>\n",
       "      <td>0.0</td>\n",
       "      <td>0.0</td>\n",
       "      <td>0.0</td>\n",
       "      <td>0.0</td>\n",
       "      <td>0.0</td>\n",
       "    </tr>\n",
       "    <tr>\n",
       "      <th>2</th>\n",
       "      <td>0.0</td>\n",
       "      <td>0.0</td>\n",
       "      <td>0.0</td>\n",
       "      <td>0.0</td>\n",
       "      <td>0.0</td>\n",
       "      <td>0.000000</td>\n",
       "      <td>0.0</td>\n",
       "      <td>0.0</td>\n",
       "      <td>0.0</td>\n",
       "      <td>0.0</td>\n",
       "      <td>...</td>\n",
       "      <td>0.0</td>\n",
       "      <td>0.0</td>\n",
       "      <td>0.0</td>\n",
       "      <td>0.0</td>\n",
       "      <td>0.0</td>\n",
       "      <td>0.0</td>\n",
       "      <td>0.0</td>\n",
       "      <td>0.0</td>\n",
       "      <td>0.0</td>\n",
       "      <td>0.0</td>\n",
       "    </tr>\n",
       "    <tr>\n",
       "      <th>3</th>\n",
       "      <td>0.0</td>\n",
       "      <td>0.0</td>\n",
       "      <td>0.0</td>\n",
       "      <td>0.0</td>\n",
       "      <td>0.0</td>\n",
       "      <td>0.422475</td>\n",
       "      <td>0.0</td>\n",
       "      <td>0.0</td>\n",
       "      <td>0.0</td>\n",
       "      <td>0.0</td>\n",
       "      <td>...</td>\n",
       "      <td>0.0</td>\n",
       "      <td>0.0</td>\n",
       "      <td>0.0</td>\n",
       "      <td>0.0</td>\n",
       "      <td>0.0</td>\n",
       "      <td>0.0</td>\n",
       "      <td>0.0</td>\n",
       "      <td>0.0</td>\n",
       "      <td>0.0</td>\n",
       "      <td>0.0</td>\n",
       "    </tr>\n",
       "    <tr>\n",
       "      <th>4</th>\n",
       "      <td>0.0</td>\n",
       "      <td>0.0</td>\n",
       "      <td>0.0</td>\n",
       "      <td>0.0</td>\n",
       "      <td>0.0</td>\n",
       "      <td>0.000000</td>\n",
       "      <td>0.0</td>\n",
       "      <td>0.0</td>\n",
       "      <td>0.0</td>\n",
       "      <td>0.0</td>\n",
       "      <td>...</td>\n",
       "      <td>0.0</td>\n",
       "      <td>0.0</td>\n",
       "      <td>0.0</td>\n",
       "      <td>0.0</td>\n",
       "      <td>0.0</td>\n",
       "      <td>0.0</td>\n",
       "      <td>0.0</td>\n",
       "      <td>0.0</td>\n",
       "      <td>0.0</td>\n",
       "      <td>0.0</td>\n",
       "    </tr>\n",
       "  </tbody>\n",
       "</table>\n",
       "<p>5 rows × 1683 columns</p>\n",
       "</div>"
      ],
      "text/plain": [
       "   aback  abc  ability  able  absolutely       abt   ac  according  \\\n",
       "0    0.0  0.0      0.0   0.0         0.0  0.000000  0.0        0.0   \n",
       "1    0.0  0.0      0.0   0.0         0.0  0.000000  0.0        0.0   \n",
       "2    0.0  0.0      0.0   0.0         0.0  0.000000  0.0        0.0   \n",
       "3    0.0  0.0      0.0   0.0         0.0  0.422475  0.0        0.0   \n",
       "4    0.0  0.0      0.0   0.0         0.0  0.000000  0.0        0.0   \n",
       "\n",
       "   accumulation  active  ...  yoohoo  york  yourheart   yu  yup   yw    z  \\\n",
       "0           0.0     0.0  ...     0.0   0.0        0.0  0.0  0.0  0.0  0.0   \n",
       "1           0.0     0.0  ...     0.0   0.0        0.0  0.0  0.0  0.0  0.0   \n",
       "2           0.0     0.0  ...     0.0   0.0        0.0  0.0  0.0  0.0  0.0   \n",
       "3           0.0     0.0  ...     0.0   0.0        0.0  0.0  0.0  0.0  0.0   \n",
       "4           0.0     0.0  ...     0.0   0.0        0.0  0.0  0.0  0.0  0.0   \n",
       "\n",
       "   zebra  zebraprint  zoo  \n",
       "0    0.0         0.0  0.0  \n",
       "1    0.0         0.0  0.0  \n",
       "2    0.0         0.0  0.0  \n",
       "3    0.0         0.0  0.0  \n",
       "4    0.0         0.0  0.0  \n",
       "\n",
       "[5 rows x 1683 columns]"
      ]
     },
     "execution_count": 143,
     "metadata": {},
     "output_type": "execute_result"
    }
   ],
   "source": [
    "df_X_test = pd.DataFrame(X_train.toarray(), columns=tfidf_vect.get_feature_names_out())\n",
    "df_X_test.head()"
   ]
  },
  {
   "cell_type": "markdown",
   "id": "93e0e904-493e-4d5f-9258-678bd3a342fe",
   "metadata": {},
   "source": [
    "### Latent Semantic Analysis (Singular Value Decomposition)\n",
    "\n",
    "#### Apply SVD for dimension reduction\n",
    "\n",
    "Let's apply SVD to reduce the dimensionality of our data. "
   ]
  },
  {
   "cell_type": "code",
   "execution_count": 144,
   "id": "1c4c86f9-36eb-4ad9-86aa-cb2075bb339d",
   "metadata": {
    "tags": []
   },
   "outputs": [],
   "source": [
    "svd = TruncatedSVD(n_components=50, n_iter=10) #n_components is the number of topics, which should be less than the number of features\n",
    "\n",
    "X_train= svd.fit_transform(X_train)\n",
    "X_test = svd.transform(X_test)"
   ]
  },
  {
   "cell_type": "code",
   "execution_count": 145,
   "id": "18ed43de-da6d-4b7e-ba29-e8a05cc413f7",
   "metadata": {
    "tags": []
   },
   "outputs": [
    {
     "data": {
      "text/plain": [
       "((572, 50), (191, 50))"
      ]
     },
     "execution_count": 145,
     "metadata": {},
     "output_type": "execute_result"
    }
   ],
   "source": [
    "X_train.shape, X_test.shape"
   ]
  },
  {
   "cell_type": "markdown",
   "id": "ad0c37c6-0f2a-48f3-a0fd-7770c2f31b59",
   "metadata": {},
   "source": [
    "## Model Fitting"
   ]
  },
  {
   "cell_type": "markdown",
   "id": "96e02d22-6d9d-4245-8d6a-12eaa05b3819",
   "metadata": {},
   "source": [
    "### Logistic Regresion"
   ]
  },
  {
   "cell_type": "code",
   "execution_count": 146,
   "id": "9d0a74f8-5393-4747-af72-b8dad4177343",
   "metadata": {
    "tags": []
   },
   "outputs": [],
   "source": [
    "lr_model = LogisticRegression()\n",
    "_ = lr_model.fit(X_train, y_train)\n",
    "lr_confusion_matrix = confusion_matrix(y_test, lr_model.predict(X_test))"
   ]
  },
  {
   "cell_type": "markdown",
   "id": "b904cbba-560e-46c0-8648-d59dd9022889",
   "metadata": {},
   "source": [
    "### Evaluating Model Performance"
   ]
  },
  {
   "cell_type": "code",
   "execution_count": 147,
   "id": "c105cdc8-00d5-489a-ae03-a0417f7eb368",
   "metadata": {
    "tags": []
   },
   "outputs": [
    {
     "name": "stdout",
     "output_type": "stream",
     "text": [
      "Train acc: 0.7430\n"
     ]
    }
   ],
   "source": [
    "y_pred_train = lr_model.predict(X_train)\n",
    "lr_train_acc = accuracy_score(y_train, lr_model.predict(X_train))\n",
    "print(f\"Train acc: {accuracy_score(y_train, y_pred_train):.4f}\")"
   ]
  },
  {
   "cell_type": "code",
   "execution_count": 148,
   "id": "f27f9e08-e811-4025-972d-a0aa72b25e71",
   "metadata": {
    "tags": []
   },
   "outputs": [
    {
     "name": "stdout",
     "output_type": "stream",
     "text": [
      "Test acc: 0.6702\n"
     ]
    }
   ],
   "source": [
    "y_pred_test = lr_model.predict(X_test)\n",
    "lr_test_acc = accuracy_score(y_test, lr_model.predict(X_test))\n",
    "print(f\"Test acc: {accuracy_score(y_test, y_pred_test):.4f}\")"
   ]
  },
  {
   "cell_type": "code",
   "execution_count": 149,
   "id": "1d418e0c-8045-4028-8471-4ad9319dc62a",
   "metadata": {
    "tags": []
   },
   "outputs": [
    {
     "data": {
      "text/plain": [
       "array([[40, 14, 14],\n",
       "       [ 8, 50,  7],\n",
       "       [14,  6, 38]])"
      ]
     },
     "execution_count": 149,
     "metadata": {},
     "output_type": "execute_result"
    }
   ],
   "source": [
    "confusion_matrix(y_test, y_pred_test)"
   ]
  },
  {
   "cell_type": "code",
   "execution_count": 150,
   "id": "b931d070-5888-4228-af0e-e55af98bb351",
   "metadata": {
    "tags": []
   },
   "outputs": [
    {
     "name": "stdout",
     "output_type": "stream",
     "text": [
      "              precision    recall  f1-score   support\n",
      "\n",
      "    Negative       0.65      0.59      0.62        68\n",
      "     Neutral       0.71      0.77      0.74        65\n",
      "    Positive       0.64      0.66      0.65        58\n",
      "\n",
      "    accuracy                           0.67       191\n",
      "   macro avg       0.67      0.67      0.67       191\n",
      "weighted avg       0.67      0.67      0.67       191\n",
      "\n"
     ]
    }
   ],
   "source": [
    "report = classification_report(y_test, y_pred_test)\n",
    "print(report)"
   ]
  },
  {
   "cell_type": "markdown",
   "id": "1de1ec02-d145-461f-bcfe-028a69fb3841",
   "metadata": {},
   "source": [
    "### Hyperparameter Tuning"
   ]
  },
  {
   "cell_type": "markdown",
   "id": "9fd7c592-aab3-41aa-a50e-7ff4fcc70dd2",
   "metadata": {},
   "source": [
    "#### Randomised Search"
   ]
  },
  {
   "cell_type": "code",
   "execution_count": 151,
   "id": "fd342ab5-47ef-4ea9-9c1b-7e8f8056ef2e",
   "metadata": {
    "tags": []
   },
   "outputs": [
    {
     "name": "stdout",
     "output_type": "stream",
     "text": [
      "Best Parameters: {'C': 9.182658859666537, 'penalty': 'l1', 'solver': 'saga'}\n",
      "Best Score (Accuracy): 0.7063157894736841\n"
     ]
    }
   ],
   "source": [
    "param_dist = {\n",
    "    'C': uniform(0.1, 10),             \n",
    "    'penalty': ['l1', 'l2'],           \n",
    "    'solver': ['liblinear', 'saga']\n",
    "}\n",
    "\n",
    "# Initialize logistic regression model\n",
    "log_reg = LogisticRegression()\n",
    "\n",
    "# Initialize RandomizedSearchCV\n",
    "random_search = RandomizedSearchCV(\n",
    "    estimator=log_reg,\n",
    "    param_distributions=param_dist,\n",
    "    n_iter=100,  # Number of iterations\n",
    "    scoring='accuracy',  # Evaluation metric\n",
    "    cv=5,  # Cross-validation folds\n",
    "    random_state=42\n",
    ")\n",
    "\n",
    "# Perform random search\n",
    "random_search.fit(X_train, y_train)\n",
    "\n",
    "# Get best parameters and best score\n",
    "best_params = random_search.best_params_\n",
    "best_score = random_search.best_score_\n",
    "\n",
    "print(\"Best Parameters:\", best_params)\n",
    "print(\"Best Score (Accuracy):\", best_score)"
   ]
  },
  {
   "cell_type": "code",
   "execution_count": 152,
   "id": "ffc62366-24ef-4d98-a4fb-1dd45ce41b8c",
   "metadata": {
    "tags": []
   },
   "outputs": [
    {
     "name": "stdout",
     "output_type": "stream",
     "text": [
      "Test acc: 0.6387\n"
     ]
    }
   ],
   "source": [
    "y_pred_test = random_search.predict(X_test)\n",
    "lr_rs_test_acc = accuracy_score(y_test, random_search.predict(X_test))\n",
    "print(f\"Test acc: {accuracy_score(y_test, y_pred_test):.4f}\")"
   ]
  },
  {
   "cell_type": "code",
   "execution_count": 153,
   "id": "f4c10e6b-906c-4348-b921-0ba7c3df1c3f",
   "metadata": {
    "tags": []
   },
   "outputs": [
    {
     "name": "stdout",
     "output_type": "stream",
     "text": [
      "Best Parameters (Grid Search): {'C': 7.8, 'penalty': 'l1', 'solver': 'saga'}\n",
      "Best Score (Accuracy) (Grid Search): 0.7028070175438595\n"
     ]
    }
   ],
   "source": [
    "param_grid = {\n",
    "    'C': [7,7.2,7.4,7.6,7.8],\n",
    "    'penalty': [best_params['penalty']],\n",
    "    'solver': [best_params['solver']]\n",
    "}\n",
    "\n",
    "# Initialize logistic regression model\n",
    "log_reg = LogisticRegression()\n",
    "\n",
    "# Initialize GridSearchCV\n",
    "grid_search = GridSearchCV(\n",
    "    estimator=log_reg,\n",
    "    param_grid=param_grid,\n",
    "    scoring='accuracy',\n",
    "    cv=5\n",
    ")\n",
    "\n",
    "# Perform grid search\n",
    "grid_search.fit(X_train, y_train)\n",
    "\n",
    "# Get best parameters and best score\n",
    "best_params_grid = grid_search.best_params_\n",
    "best_score_grid = grid_search.best_score_\n",
    "\n",
    "print(\"Best Parameters (Grid Search):\", best_params_grid)\n",
    "print(\"Best Score (Accuracy) (Grid Search):\", best_score_grid)"
   ]
  },
  {
   "cell_type": "code",
   "execution_count": 154,
   "id": "1449ba87-31f1-4a16-973d-5ff8c8173a1e",
   "metadata": {
    "tags": []
   },
   "outputs": [
    {
     "name": "stdout",
     "output_type": "stream",
     "text": [
      "Test acc: 0.6545\n"
     ]
    }
   ],
   "source": [
    "y_pred_test = grid_search.predict(X_test)\n",
    "lr_gs_test_acc = accuracy_score(y_test, grid_search.predict(X_test))\n",
    "print(f\"Test acc: {accuracy_score(y_test, y_pred_test):.4f}\")"
   ]
  },
  {
   "cell_type": "markdown",
   "id": "119876c9-ce95-41c4-8511-de5cbcfc283a",
   "metadata": {},
   "source": [
    "### KNN Model"
   ]
  },
  {
   "cell_type": "code",
   "execution_count": 155,
   "id": "d4b940f6-0fee-4c9c-b018-bd6dded1d6e5",
   "metadata": {
    "tags": []
   },
   "outputs": [],
   "source": [
    "knn_model = KNeighborsClassifier()\n",
    "_ = knn_model.fit(X_train, y_train)"
   ]
  },
  {
   "cell_type": "markdown",
   "id": "bb91165e-750a-4db0-ae8f-3f993fdf39f2",
   "metadata": {},
   "source": [
    "### Evaluating Model Performance"
   ]
  },
  {
   "cell_type": "code",
   "execution_count": 156,
   "id": "1a5d7886-f553-4a26-a6a9-14aaf2c6e785",
   "metadata": {
    "tags": []
   },
   "outputs": [
    {
     "name": "stdout",
     "output_type": "stream",
     "text": [
      "Train acc: 0.7220\n"
     ]
    }
   ],
   "source": [
    "y_pred_train = knn_model.predict(X_train)\n",
    "knn_train_acc = accuracy_score(y_train, knn_model.predict(X_train))\n",
    "print(f\"Train acc: {accuracy_score(y_train, y_pred_train):.4f}\")"
   ]
  },
  {
   "cell_type": "code",
   "execution_count": 157,
   "id": "b50d0eb6-3eb2-4dea-ab09-42fb05cf7696",
   "metadata": {},
   "outputs": [
    {
     "name": "stdout",
     "output_type": "stream",
     "text": [
      "Test acc: 0.5654\n"
     ]
    }
   ],
   "source": [
    "y_pred_test = knn_model.predict(X_test)\n",
    "knn_test_acc = accuracy_score(y_test, knn_model.predict(X_test))\n",
    "print(f\"Test acc: {accuracy_score(y_test, y_pred_test):.4f}\")"
   ]
  },
  {
   "cell_type": "code",
   "execution_count": 158,
   "id": "9c3f4a9f-ef1d-4ba8-8430-84a86d2850b9",
   "metadata": {},
   "outputs": [
    {
     "data": {
      "text/plain": [
       "array([[39, 22,  7],\n",
       "       [13, 49,  3],\n",
       "       [27, 11, 20]])"
      ]
     },
     "execution_count": 158,
     "metadata": {},
     "output_type": "execute_result"
    }
   ],
   "source": [
    "confusion_matrix(y_test, y_pred_test)"
   ]
  },
  {
   "cell_type": "code",
   "execution_count": 159,
   "id": "7fbbe0d6-3100-41f4-bcfd-5a7011ae9d96",
   "metadata": {},
   "outputs": [
    {
     "name": "stdout",
     "output_type": "stream",
     "text": [
      "              precision    recall  f1-score   support\n",
      "\n",
      "    Negative       0.49      0.57      0.53        68\n",
      "     Neutral       0.60      0.75      0.67        65\n",
      "    Positive       0.67      0.34      0.45        58\n",
      "\n",
      "    accuracy                           0.57       191\n",
      "   macro avg       0.59      0.56      0.55       191\n",
      "weighted avg       0.58      0.57      0.55       191\n",
      "\n"
     ]
    }
   ],
   "source": [
    "report = classification_report(y_test, y_pred_test)\n",
    "print(report)"
   ]
  },
  {
   "cell_type": "markdown",
   "id": "4ee8d592-5ec1-45ca-9fd9-45a6bf4b776a",
   "metadata": {},
   "source": [
    "### Hyperparameter Tuning"
   ]
  },
  {
   "cell_type": "markdown",
   "id": "3633875c-8e26-4683-a1c0-71a9817ed582",
   "metadata": {},
   "source": [
    "#### Randomised Search"
   ]
  },
  {
   "cell_type": "code",
   "execution_count": 160,
   "id": "97c73cdd-df1e-4ec0-905e-f5dee450a35b",
   "metadata": {
    "tags": []
   },
   "outputs": [
    {
     "name": "stdout",
     "output_type": "stream",
     "text": [
      "Best Parameters (Random Search): {'weights': 'distance', 'p': 1, 'n_neighbors': 35, 'metric': 'euclidean', 'leaf_size': 22, 'algorithm': 'auto'}\n",
      "Best Score (Accuracy) (Random Search): 0.6118993135011441\n"
     ]
    }
   ],
   "source": [
    "from random import randint;\n",
    "\n",
    "param_dist = {\n",
    "    'n_neighbors': [randint(10,50)],      # Number of neighbors\n",
    "    'weights': ['uniform', 'distance'],   # Weight function\n",
    "    'algorithm': ['auto', 'ball_tree', 'kd_tree', 'brute'],  # Algorithm for computing nearest neighbors\n",
    "    'leaf_size': [randint(10, 50)],         # Leaf size for tree-based algorithms\n",
    "    'p': [1, 2],                          # Power parameter for Minkowski distance\n",
    "    'metric': ['euclidean', 'manhattan']  # Distance metric\n",
    "}\n",
    "\n",
    "# Initialize KNN model\n",
    "knn = KNeighborsClassifier()\n",
    "\n",
    "# Initialize RandomizedSearchCV\n",
    "random_search = RandomizedSearchCV(\n",
    "    estimator=knn,\n",
    "    param_distributions=param_dist,\n",
    "    n_iter=100,                         # Number of iterations\n",
    "    scoring='accuracy',                 # Evaluation metric\n",
    "    cv=5,                               # Cross-validation folds\n",
    "    random_state=42\n",
    ")\n",
    "\n",
    "# Perform random grid search\n",
    "random_search.fit(X_train, y_train)\n",
    "\n",
    "# Get best parameters and best score\n",
    "best_params_random = random_search.best_params_\n",
    "best_score_random = random_search.best_score_\n",
    "\n",
    "print(\"Best Parameters (Random Search):\", best_params_random)\n",
    "print(\"Best Score (Accuracy) (Random Search):\", best_score_random)"
   ]
  },
  {
   "cell_type": "code",
   "execution_count": 161,
   "id": "044bc481-d6d4-4825-842c-dd288c5170ab",
   "metadata": {
    "tags": []
   },
   "outputs": [
    {
     "name": "stdout",
     "output_type": "stream",
     "text": [
      "Test acc: 0.5497\n"
     ]
    }
   ],
   "source": [
    "y_pred_test = random_search.predict(X_test)\n",
    "lr_rs_test_acc = accuracy_score(y_test, random_search.predict(X_test))\n",
    "print(f\"Test acc: {accuracy_score(y_test, y_pred_test):.4f}\")"
   ]
  },
  {
   "cell_type": "markdown",
   "id": "371b8b85-2a03-4085-99ff-ab05651f1780",
   "metadata": {},
   "source": [
    "#### Grid Search"
   ]
  },
  {
   "cell_type": "code",
   "execution_count": 162,
   "id": "db28a8db-97ad-4000-88eb-e8c1359b60d4",
   "metadata": {
    "tags": []
   },
   "outputs": [
    {
     "name": "stdout",
     "output_type": "stream",
     "text": [
      "Best Parameters (Grid Search): {'algorithm': 'brute', 'leaf_size': 19, 'metric': 'manhattan', 'n_neighbors': 18, 'p': 1, 'weights': 'distance'}\n",
      "Best Score (Accuracy) (Grid Search): 0.6241037376048817\n"
     ]
    }
   ],
   "source": [
    "# Define grid search parameters based on best parameters from random search\n",
    "param_grid = {\n",
    "    'n_neighbors': [17, 18, 19],           # Number of neighbors\n",
    "    'weights': ['uniform', 'distance'],    # Weight function\n",
    "    'algorithm': ['brute'],                 # Algorithm for computing nearest neighbors\n",
    "    'leaf_size': [19,20,21],                      # Leaf size for tree-based algorithms\n",
    "    'p': [1],                               # Power parameter for Minkowski distance\n",
    "    'metric': ['manhattan']                 # Distance metric\n",
    "}\n",
    "\n",
    "# Initialize KNN model\n",
    "knn = KNeighborsClassifier()\n",
    "\n",
    "# Initialize GridSearchCV\n",
    "grid_search = GridSearchCV(\n",
    "    estimator=knn,\n",
    "    param_grid=param_grid,\n",
    "    scoring='accuracy',    # Evaluation metric\n",
    "    cv=5                   # Cross-validation folds\n",
    ")\n",
    "\n",
    "# Perform grid search\n",
    "grid_search.fit(X_train, y_train)\n",
    "\n",
    "# Get best parameters and best score\n",
    "best_params_grid = grid_search.best_params_\n",
    "best_score_grid = grid_search.best_score_\n",
    "\n",
    "print(\"Best Parameters (Grid Search):\", best_params_grid)\n",
    "print(\"Best Score (Accuracy) (Grid Search):\", best_score_grid)"
   ]
  },
  {
   "cell_type": "code",
   "execution_count": 163,
   "id": "abc0ce98-a210-4685-b197-0b01e2b15be8",
   "metadata": {
    "tags": []
   },
   "outputs": [
    {
     "name": "stdout",
     "output_type": "stream",
     "text": [
      "Test acc: 0.5654\n"
     ]
    }
   ],
   "source": [
    "y_pred_test = grid_search.predict(X_test)\n",
    "knn_test_acc = accuracy_score(y_test, grid_search.predict(X_test))\n",
    "print(f\"Test acc: {accuracy_score(y_test, y_pred_test):.4f}\")"
   ]
  },
  {
   "cell_type": "markdown",
   "id": "7cde61b9-826f-47b4-bbc4-8dba7ab47dc3",
   "metadata": {},
   "source": [
    "### Support Vector Classifier"
   ]
  },
  {
   "cell_type": "code",
   "execution_count": 164,
   "id": "9d58551f-64a9-4ecb-b6ac-b7d7f9eb7c0b",
   "metadata": {
    "tags": []
   },
   "outputs": [],
   "source": [
    "svm_model = SVC()\n",
    "_ = svm_model.fit(X_train, y_train)"
   ]
  },
  {
   "cell_type": "markdown",
   "id": "8686fbb6-f184-4ecd-9b34-dd4e40870d39",
   "metadata": {},
   "source": [
    "### Evaluating Model Performance"
   ]
  },
  {
   "cell_type": "code",
   "execution_count": 165,
   "id": "b2fd5666-599b-4746-92c7-956704084aca",
   "metadata": {
    "tags": []
   },
   "outputs": [
    {
     "name": "stdout",
     "output_type": "stream",
     "text": [
      "Train acc: 0.8514\n"
     ]
    }
   ],
   "source": [
    "y_pred_train = svm_model.predict(X_train)\n",
    "svm_train_acc = accuracy_score(y_train, svm_model.predict(X_train))\n",
    "print(f\"Train acc: {accuracy_score(y_train, y_pred_train):.4f}\")"
   ]
  },
  {
   "cell_type": "code",
   "execution_count": 166,
   "id": "6c64c341-73a1-4c67-ac5f-d291c2434875",
   "metadata": {
    "tags": []
   },
   "outputs": [
    {
     "name": "stdout",
     "output_type": "stream",
     "text": [
      "Test acc: 0.6702\n"
     ]
    }
   ],
   "source": [
    "y_pred_test = svm_model.predict(X_test)\n",
    "svm_test_acc = accuracy_score(y_test, svm_model.predict(X_test))\n",
    "print(f\"Test acc: {accuracy_score(y_test, y_pred_test):.4f}\")"
   ]
  },
  {
   "cell_type": "code",
   "execution_count": 167,
   "id": "f7bfa4a2-1bb3-41c1-89f1-d70277d3df59",
   "metadata": {
    "tags": []
   },
   "outputs": [
    {
     "data": {
      "text/plain": [
       "array([[42, 15, 11],\n",
       "       [11, 48,  6],\n",
       "       [15,  5, 38]])"
      ]
     },
     "execution_count": 167,
     "metadata": {},
     "output_type": "execute_result"
    }
   ],
   "source": [
    "confusion_matrix(y_test, y_pred_test)"
   ]
  },
  {
   "cell_type": "code",
   "execution_count": 168,
   "id": "82df7320-2f05-4801-a51a-7e0539909568",
   "metadata": {
    "tags": []
   },
   "outputs": [
    {
     "name": "stdout",
     "output_type": "stream",
     "text": [
      "              precision    recall  f1-score   support\n",
      "\n",
      "    Negative       0.62      0.62      0.62        68\n",
      "     Neutral       0.71      0.74      0.72        65\n",
      "    Positive       0.69      0.66      0.67        58\n",
      "\n",
      "    accuracy                           0.67       191\n",
      "   macro avg       0.67      0.67      0.67       191\n",
      "weighted avg       0.67      0.67      0.67       191\n",
      "\n"
     ]
    }
   ],
   "source": [
    "report = classification_report(y_test, y_pred_test)\n",
    "print(report)"
   ]
  },
  {
   "cell_type": "markdown",
   "id": "cadffdfd-a269-472b-bbea-e240b17ceeed",
   "metadata": {},
   "source": [
    "### Hyperparameter Tuning"
   ]
  },
  {
   "cell_type": "markdown",
   "id": "69a88843-4086-4c14-bc2c-3791e5b2533c",
   "metadata": {},
   "source": [
    "#### Randomised Search"
   ]
  },
  {
   "cell_type": "code",
   "execution_count": 169,
   "id": "5ca9493f-c8a0-455a-891f-85c60a547fab",
   "metadata": {
    "tags": []
   },
   "outputs": [
    {
     "name": "stdout",
     "output_type": "stream",
     "text": [
      "Best Parameters (Random Search): {'C': 0.616817211686077, 'coef0': 0.531354631568148, 'degree': 6, 'gamma': 'scale', 'kernel': 'rbf'}\n",
      "Best Score (Accuracy) (Random Search): 0.7028222730739893\n"
     ]
    }
   ],
   "source": [
    "param_dist = {\n",
    "    'C': uniform(0.1, 10),                 # Regularization parameter\n",
    "    'kernel': ['linear', 'poly', 'rbf'],   # Kernel type\n",
    "    'degree': [randint(2, 6)],                # Degree of polynomial kernel\n",
    "    'gamma': ['scale', 'auto'],            # Kernel coefficient\n",
    "    'coef0': uniform(0, 1),                 # Independent term in polynomial and sigmoid kernels\n",
    "}\n",
    "\n",
    "# Initialize SVC model\n",
    "svc = SVC()\n",
    "\n",
    "# Initialize RandomizedSearchCV\n",
    "random_search = RandomizedSearchCV(\n",
    "    estimator=svc,\n",
    "    param_distributions=param_dist,\n",
    "    n_iter=100,                           # Number of iterations\n",
    "    scoring='accuracy',                   # Evaluation metric\n",
    "    cv=5,                                 # Cross-validation folds\n",
    "    random_state=42\n",
    ")\n",
    "\n",
    "# Perform random grid search\n",
    "random_search.fit(X_train, y_train)\n",
    "\n",
    "# Get best parameters and best score\n",
    "best_params_random = random_search.best_params_\n",
    "best_score_random = random_search.best_score_\n",
    "\n",
    "print(\"Best Parameters (Random Search):\", best_params_random)\n",
    "print(\"Best Score (Accuracy) (Random Search):\", best_score_random)"
   ]
  },
  {
   "cell_type": "code",
   "execution_count": 170,
   "id": "510a70ba-50e7-4d42-9f75-ced5e93cd5cb",
   "metadata": {
    "tags": []
   },
   "outputs": [
    {
     "name": "stdout",
     "output_type": "stream",
     "text": [
      "Test acc: 0.6806\n"
     ]
    }
   ],
   "source": [
    "y_pred_test = random_search.predict(X_test)\n",
    "svm_rs_test_acc = accuracy_score(y_test, random_search.predict(X_test))\n",
    "print(f\"Test acc: {accuracy_score(y_test, y_pred_test):.4f}\")"
   ]
  },
  {
   "cell_type": "code",
   "execution_count": 171,
   "id": "0291e81c-f432-48e6-b73d-42606bd6161b",
   "metadata": {
    "tags": []
   },
   "outputs": [
    {
     "name": "stdout",
     "output_type": "stream",
     "text": [
      "Best Parameters (Grid Search): {'C': 1.3, 'coef0': 0.2, 'degree': 1, 'gamma': 'scale', 'kernel': 'rbf'}\n",
      "Best Score (Accuracy) (Grid Search): 0.6957894736842105\n"
     ]
    }
   ],
   "source": [
    "# Define grid search parameters based on best parameters from random search\n",
    "param_grid = {\n",
    "    'C': [1.0,1.1,1.2,1.3,1.4],                   # Regularization parameter\n",
    "    'kernel': ['rbf','poly'],                      # Kernel type\n",
    "    'degree': [1, 2, 3],                    # Degree of polynomial kernel\n",
    "    'gamma': ['scale', 'auto'],             # Kernel coefficient\n",
    "    'coef0': [0.2,0.3,0.4,0.5,0.6]                # Independent term in polynomial and sigmoid kernels\n",
    "}\n",
    "\n",
    "# Initialize SVC model\n",
    "svc = SVC()\n",
    "\n",
    "# Initialize GridSearchCV\n",
    "grid_search = GridSearchCV(\n",
    "    estimator=svc,\n",
    "    param_grid=param_grid,\n",
    "    scoring='accuracy',    # Evaluation metric\n",
    "    cv=5                   # Cross-validation folds\n",
    ")\n",
    "\n",
    "# Perform grid search\n",
    "grid_search.fit(X_train, y_train)\n",
    "\n",
    "# Get best parameters and best score\n",
    "best_params_grid = grid_search.best_params_\n",
    "best_score_grid = grid_search.best_score_\n",
    "\n",
    "print(\"Best Parameters (Grid Search):\", best_params_grid)\n",
    "print(\"Best Score (Accuracy) (Grid Search):\", best_score_grid)"
   ]
  },
  {
   "cell_type": "code",
   "execution_count": 172,
   "id": "300cf2b7-e887-4199-b3ce-0ef91bfcbd4c",
   "metadata": {
    "tags": []
   },
   "outputs": [
    {
     "name": "stdout",
     "output_type": "stream",
     "text": [
      "Test acc: 0.6649\n"
     ]
    }
   ],
   "source": [
    "y_pred_test = grid_search.predict(X_test)\n",
    "svm_gs_test_acc = accuracy_score(y_test, grid_search.predict(X_test))\n",
    "print(f\"Test acc: {accuracy_score(y_test, y_pred_test):.4f}\")"
   ]
  },
  {
   "cell_type": "markdown",
   "id": "89c46acd-574b-448f-95ea-7e4f16447133",
   "metadata": {},
   "source": [
    "### Decision Tree"
   ]
  },
  {
   "cell_type": "code",
   "execution_count": 173,
   "id": "ee2ab246-9f09-4cbe-a5cd-738b25897186",
   "metadata": {
    "tags": []
   },
   "outputs": [],
   "source": [
    "dt_model = DecisionTreeClassifier()\n",
    "_ = dt_model.fit(X_train, y_train)"
   ]
  },
  {
   "cell_type": "markdown",
   "id": "a68fc41e-db54-4c13-84bf-bc0ede46d936",
   "metadata": {},
   "source": [
    "### Evaluating Model Performance"
   ]
  },
  {
   "cell_type": "code",
   "execution_count": 174,
   "id": "bf417397-97a6-4596-a366-22cebd4103bd",
   "metadata": {
    "tags": []
   },
   "outputs": [
    {
     "name": "stdout",
     "output_type": "stream",
     "text": [
      "Train acc: 0.9983\n"
     ]
    }
   ],
   "source": [
    "y_pred_train = dt_model.predict(X_train)\n",
    "dt_train_acc = accuracy_score(y_train, dt_model.predict(X_train))\n",
    "print(f\"Train acc: {accuracy_score(y_train, y_pred_train):.4f}\")"
   ]
  },
  {
   "cell_type": "code",
   "execution_count": 175,
   "id": "218d84d5-6850-4fd0-9f9a-582c788db0b1",
   "metadata": {
    "tags": []
   },
   "outputs": [
    {
     "name": "stdout",
     "output_type": "stream",
     "text": [
      "Test acc: 0.5497\n"
     ]
    }
   ],
   "source": [
    "y_pred_test = dt_model.predict(X_test)\n",
    "dt_test_acc = accuracy_score(y_test, dt_model.predict(X_test))\n",
    "print(f\"Test acc: {accuracy_score(y_test, y_pred_test):.4f}\")"
   ]
  },
  {
   "cell_type": "code",
   "execution_count": 176,
   "id": "95655303-8da3-40cf-8879-c30c4dee0a94",
   "metadata": {
    "tags": []
   },
   "outputs": [
    {
     "data": {
      "text/plain": [
       "array([[31, 18, 19],\n",
       "       [10, 44, 11],\n",
       "       [12, 16, 30]])"
      ]
     },
     "execution_count": 176,
     "metadata": {},
     "output_type": "execute_result"
    }
   ],
   "source": [
    "confusion_matrix(y_test, y_pred_test)"
   ]
  },
  {
   "cell_type": "code",
   "execution_count": 177,
   "id": "7192fafa-42a1-420d-aa65-a9e41710f488",
   "metadata": {
    "tags": []
   },
   "outputs": [
    {
     "name": "stdout",
     "output_type": "stream",
     "text": [
      "              precision    recall  f1-score   support\n",
      "\n",
      "    Negative       0.58      0.46      0.51        68\n",
      "     Neutral       0.56      0.68      0.62        65\n",
      "    Positive       0.50      0.52      0.51        58\n",
      "\n",
      "    accuracy                           0.55       191\n",
      "   macro avg       0.55      0.55      0.55       191\n",
      "weighted avg       0.55      0.55      0.55       191\n",
      "\n"
     ]
    }
   ],
   "source": [
    "report = classification_report(y_test, y_pred_test)\n",
    "print(report)"
   ]
  },
  {
   "cell_type": "markdown",
   "id": "2b64b13c-bcdf-404e-bb7e-0fd348553e0c",
   "metadata": {},
   "source": [
    "### Hyperparameter Tuning"
   ]
  },
  {
   "cell_type": "markdown",
   "id": "2e75a882-060b-4a5d-b03f-6d4c2aefc05a",
   "metadata": {},
   "source": [
    "#### Randomised Search"
   ]
  },
  {
   "cell_type": "code",
   "execution_count": 178,
   "id": "1b4b4418-5371-4efc-a607-6e8735d148da",
   "metadata": {
    "tags": []
   },
   "outputs": [
    {
     "name": "stdout",
     "output_type": "stream",
     "text": [
      "Best Parameters (Random Search): {'splitter': 'best', 'min_samples_split': 16, 'min_samples_leaf': 8, 'max_leaf_nodes': 38, 'max_features': None, 'max_depth': 20, 'criterion': 'gini'}\n",
      "Best Score (Accuracy) (Random Search): 0.5804729214340199\n"
     ]
    }
   ],
   "source": [
    "# Define hyperparameter distributions for random search\n",
    "param_dist = {\n",
    "    'criterion': ['gini', 'entropy'],               # Split criterion\n",
    "    'splitter': ['best', 'random'],                 # Strategy for splitting nodes\n",
    "    'max_depth': [randint(2, 20)],                     # Maximum depth of the tree\n",
    "    'min_samples_split': [randint(2, 20)],             # Minimum number of samples required to split a node\n",
    "    'min_samples_leaf': [randint(1, 10)],              # Minimum number of samples required at each leaf node\n",
    "    'max_features': ['auto', 'sqrt', 'log2', None], # Number of features to consider for best split\n",
    "    'max_leaf_nodes': [randint(2, 50)],                # Maximum number of leaf nodes\n",
    "}\n",
    "\n",
    "# Initialize Decision Tree classifier\n",
    "dt_classifier = DecisionTreeClassifier()\n",
    "\n",
    "# Initialize RandomizedSearchCV\n",
    "random_search = RandomizedSearchCV(\n",
    "    estimator=dt_classifier,\n",
    "    param_distributions=param_dist,\n",
    "    n_iter=100,             # Number of iterations\n",
    "    scoring='accuracy',     # Evaluation metric\n",
    "    cv=5,                   # Cross-validation folds\n",
    "    random_state=42\n",
    ")\n",
    "\n",
    "# Perform random grid search\n",
    "random_search.fit(X_train, y_train)\n",
    "\n",
    "# Get best parameters and best score\n",
    "best_params_random = random_search.best_params_\n",
    "best_score_random = random_search.best_score_\n",
    "\n",
    "print(\"Best Parameters (Random Search):\", best_params_random)\n",
    "print(\"Best Score (Accuracy) (Random Search):\", best_score_random)"
   ]
  },
  {
   "cell_type": "code",
   "execution_count": 179,
   "id": "3f54e492-3f5c-479b-af0b-6dc7ba2f0a66",
   "metadata": {
    "tags": []
   },
   "outputs": [
    {
     "name": "stdout",
     "output_type": "stream",
     "text": [
      "Test acc: 0.5812\n"
     ]
    }
   ],
   "source": [
    "y_pred_test = random_search.predict(X_test)\n",
    "dt_rs_test_acc = accuracy_score(y_test, random_search.predict(X_test))\n",
    "print(f\"Test acc: {accuracy_score(y_test, y_pred_test):.4f}\")"
   ]
  },
  {
   "cell_type": "code",
   "execution_count": 180,
   "id": "778ede01-b051-484b-b660-cf6c73f714e1",
   "metadata": {
    "tags": []
   },
   "outputs": [
    {
     "name": "stdout",
     "output_type": "stream",
     "text": [
      "Best Parameters (Grid Search): {'criterion': 'entropy', 'max_depth': 10, 'max_features': None, 'max_leaf_nodes': 14, 'min_samples_leaf': 2, 'min_samples_split': 7, 'splitter': 'best'}\n",
      "Best Score (Accuracy) (Grid Search): 0.5996491228070175\n"
     ]
    }
   ],
   "source": [
    "# Define grid search parameters around the best parameters\n",
    "param_grid = {\n",
    "    'criterion': ['entropy'],\n",
    "    'splitter': ['best'],\n",
    "    'max_depth': [10, 11, 12],\n",
    "    'min_samples_split': [7, 8, 9],\n",
    "    'min_samples_leaf': [2, 3, 4],\n",
    "    'max_features': [None],\n",
    "    'max_leaf_nodes': [13, 14, 15]\n",
    "}\n",
    "\n",
    "# Initialize Decision Tree classifier\n",
    "dt_classifier = DecisionTreeClassifier()\n",
    "\n",
    "# Initialize GridSearchCV\n",
    "grid_search = GridSearchCV(\n",
    "    estimator=dt_classifier,\n",
    "    param_grid=param_grid,\n",
    "    scoring='accuracy',    # Evaluation metric\n",
    "    cv=5                   # Cross-validation folds\n",
    ")\n",
    "\n",
    "# Perform grid search\n",
    "grid_search.fit(X_train, y_train)\n",
    "\n",
    "# Get best parameters and best score\n",
    "best_params_grid = grid_search.best_params_\n",
    "best_score_grid = grid_search.best_score_\n",
    "\n",
    "print(\"Best Parameters (Grid Search):\", best_params_grid)\n",
    "print(\"Best Score (Accuracy) (Grid Search):\", best_score_grid)"
   ]
  },
  {
   "cell_type": "code",
   "execution_count": 181,
   "id": "3114bce7-92f3-4567-9919-c18b1437f51a",
   "metadata": {
    "tags": []
   },
   "outputs": [
    {
     "name": "stdout",
     "output_type": "stream",
     "text": [
      "Test acc: 0.6440\n"
     ]
    }
   ],
   "source": [
    "y_pred_test = grid_search.predict(X_test)\n",
    "dt_gs_test_acc = accuracy_score(y_test, grid_search.predict(X_test))\n",
    "print(f\"Test acc: {accuracy_score(y_test, y_pred_test):.4f}\")"
   ]
  },
  {
   "cell_type": "markdown",
   "id": "26eed893-bab4-49fa-9c7d-8916b9686dcc",
   "metadata": {},
   "source": [
    "### Random Forest"
   ]
  },
  {
   "cell_type": "code",
   "execution_count": 182,
   "id": "3c72d67c-afd7-4add-90f8-0a9357bd1628",
   "metadata": {
    "tags": []
   },
   "outputs": [],
   "source": [
    "rnd_clf = RandomForestClassifier(n_jobs = -1) \n",
    "_ = rnd_clf.fit(X_train, y_train)"
   ]
  },
  {
   "cell_type": "markdown",
   "id": "51456d27-c5f4-476b-a928-c0145e1741d7",
   "metadata": {},
   "source": [
    "### Evaluating Model Performance"
   ]
  },
  {
   "cell_type": "code",
   "execution_count": 183,
   "id": "16c73e7f-f898-4f7c-96e8-8468a9ad73da",
   "metadata": {
    "tags": []
   },
   "outputs": [
    {
     "name": "stdout",
     "output_type": "stream",
     "text": [
      "Train acc: 0.9983\n"
     ]
    }
   ],
   "source": [
    "y_pred_train = rnd_clf.predict(X_train)\n",
    "acc = accuracy_score(y_train, y_pred_train)\n",
    "print(f\"Train acc: {accuracy_score(y_train, y_pred_train):.4f}\")"
   ]
  },
  {
   "cell_type": "code",
   "execution_count": 184,
   "id": "b9c276f6-9b1e-4cfe-9c28-5d1ae783e028",
   "metadata": {
    "tags": []
   },
   "outputs": [
    {
     "name": "stdout",
     "output_type": "stream",
     "text": [
      "Test acc: 0.6126\n"
     ]
    }
   ],
   "source": [
    "y_pred_test = rnd_clf.predict(X_test)\n",
    "acc = accuracy_score(y_test, y_pred_test)\n",
    "print(f\"Test acc: {accuracy_score(y_test, y_pred_test):.4f}\")"
   ]
  },
  {
   "cell_type": "code",
   "execution_count": 185,
   "id": "16ad571e-b769-4b86-95cc-b8e6b4084445",
   "metadata": {
    "tags": []
   },
   "outputs": [
    {
     "data": {
      "text/plain": [
       "array([[39, 15, 14],\n",
       "       [11, 49,  5],\n",
       "       [18, 11, 29]])"
      ]
     },
     "execution_count": 185,
     "metadata": {},
     "output_type": "execute_result"
    }
   ],
   "source": [
    "confusion_matrix(y_test, y_pred_test)"
   ]
  },
  {
   "cell_type": "code",
   "execution_count": 186,
   "id": "45f60b50-0450-43db-99fd-e74ec54a6c45",
   "metadata": {},
   "outputs": [
    {
     "name": "stdout",
     "output_type": "stream",
     "text": [
      "              precision    recall  f1-score   support\n",
      "\n",
      "    Negative       0.57      0.57      0.57        68\n",
      "     Neutral       0.65      0.75      0.70        65\n",
      "    Positive       0.60      0.50      0.55        58\n",
      "\n",
      "    accuracy                           0.61       191\n",
      "   macro avg       0.61      0.61      0.61       191\n",
      "weighted avg       0.61      0.61      0.61       191\n",
      "\n"
     ]
    }
   ],
   "source": [
    "report = classification_report(y_test, y_pred_test)\n",
    "print(report)"
   ]
  },
  {
   "cell_type": "markdown",
   "id": "9903f130-d765-4311-bf43-5970d44b2031",
   "metadata": {},
   "source": [
    "### Hyperparameter Tuning"
   ]
  },
  {
   "cell_type": "markdown",
   "id": "fbdcaa0a-8101-46b5-8c44-7744d292aa2d",
   "metadata": {},
   "source": [
    "#### Randomised Search"
   ]
  },
  {
   "cell_type": "code",
   "execution_count": 187,
   "id": "b3fb6bb4-1f47-459a-9041-330ff5453a29",
   "metadata": {
    "tags": []
   },
   "outputs": [
    {
     "name": "stdout",
     "output_type": "stream",
     "text": [
      "Best Parameters (Random Search): {'min_samples_split': 8, 'min_samples_leaf': 1, 'max_features': 'sqrt', 'max_depth': 30, 'bootstrap': False}\n",
      "Best Score (Accuracy) (Random Search): 0.7010221205186881\n"
     ]
    }
   ],
   "source": [
    "# Define hyperparameter distributions for random search\n",
    "param_dist = {\n",
    "    'max_features': ['auto', 'sqrt', 'log2'],      # Number of features to consider at every split\n",
    "    'max_depth': [None, 10, 20, 30, 40, 50],       # Maximum depth of the trees\n",
    "    'min_samples_split': [randint(2, 10)],            # Minimum number of samples required to split a node\n",
    "    'min_samples_leaf': [randint(1, 10)],             # Minimum number of samples required at each leaf node\n",
    "    'bootstrap': [True, False]                      # Bootstrap samples when building trees\n",
    "}\n",
    "\n",
    "# Initialize Random Forest Classifier\n",
    "rf_classifier = RandomForestClassifier()\n",
    "\n",
    "# Initialize RandomizedSearchCV\n",
    "random_search = RandomizedSearchCV(\n",
    "    estimator=rf_classifier,\n",
    "    param_distributions=param_dist,\n",
    "    n_iter=100,                           # Number of iterations\n",
    "    scoring='accuracy',                   # Evaluation metric\n",
    "    cv=5,                                 # Cross-validation folds\n",
    "    random_state=42\n",
    ")\n",
    "\n",
    "# Perform random search\n",
    "random_search.fit(X_train, y_train)\n",
    "\n",
    "# Get best parameters and best score\n",
    "best_params_random = random_search.best_params_\n",
    "best_score_random = random_search.best_score_\n",
    "\n",
    "print(\"Best Parameters (Random Search):\", best_params_random)\n",
    "print(\"Best Score (Accuracy) (Random Search):\", best_score_random)\n"
   ]
  },
  {
   "cell_type": "code",
   "execution_count": 188,
   "id": "d5077b30-ac5d-4411-a75a-73e1c9b90ce6",
   "metadata": {
    "tags": []
   },
   "outputs": [
    {
     "name": "stdout",
     "output_type": "stream",
     "text": [
      "Test acc: 0.6492\n"
     ]
    }
   ],
   "source": [
    "y_pred_test = random_search.predict(X_test)\n",
    "rm_rs_test_acc = accuracy_score(y_test, random_search.predict(X_test))\n",
    "print(f\"Test acc: {accuracy_score(y_test, y_pred_test):.4f}\")"
   ]
  },
  {
   "cell_type": "code",
   "execution_count": 189,
   "id": "f2bce51c-758b-419d-8cb8-6e703689a2cd",
   "metadata": {
    "tags": []
   },
   "outputs": [
    {
     "name": "stdout",
     "output_type": "stream",
     "text": [
      "Best Parameters (Grid Search): {'bootstrap': False, 'max_depth': 45, 'max_features': 'sqrt', 'min_samples_leaf': 2, 'min_samples_split': 8}\n",
      "Best Score (Accuracy) (Grid Search): 0.7010526315789474\n"
     ]
    }
   ],
   "source": [
    "# Define grid search parameters around the best parameters\n",
    "param_grid = {\n",
    "    'bootstrap': [False],                    # Bootstrap samples when building trees\n",
    "    'max_depth': [30, 35, 40, 45, 50],       # Maximum depth of the trees\n",
    "    'max_features': ['sqrt'],                # Number of features to consider at every split\n",
    "    'min_samples_leaf': [2, 3, 4],           # Minimum number of samples required at each leaf node\n",
    "    'min_samples_split': [7, 8, 9]           # Minimum number of samples required to split a node\n",
    "}\n",
    "\n",
    "# Initialize Random Forest Classifier\n",
    "rf_classifier = RandomForestClassifier()\n",
    "\n",
    "# Initialize GridSearchCV\n",
    "grid_search = GridSearchCV(\n",
    "    estimator=rf_classifier,\n",
    "    param_grid=param_grid,\n",
    "    scoring='accuracy',    # Evaluation metric\n",
    "    cv=5                   # Cross-validation folds\n",
    ")\n",
    "\n",
    "# Perform grid search\n",
    "grid_search.fit(X_train, y_train)\n",
    "\n",
    "# Get best parameters and best score\n",
    "best_params_grid = grid_search.best_params_\n",
    "best_score_grid = grid_search.best_score_\n",
    "\n",
    "print(\"Best Parameters (Grid Search):\", best_params_grid)\n",
    "print(\"Best Score (Accuracy) (Grid Search):\", best_score_grid)"
   ]
  },
  {
   "cell_type": "code",
   "execution_count": 190,
   "id": "fafbdd00-e357-479b-b969-b1558f1926c8",
   "metadata": {
    "tags": []
   },
   "outputs": [
    {
     "name": "stdout",
     "output_type": "stream",
     "text": [
      "Test acc: 0.6126\n"
     ]
    }
   ],
   "source": [
    "y_pred_test = grid_search.predict(X_test)\n",
    "rm_gs_test_acc = accuracy_score(y_test, grid_search.predict(X_test))\n",
    "print(f\"Test acc: {accuracy_score(y_test, y_pred_test):.4f}\")"
   ]
  },
  {
   "cell_type": "markdown",
   "id": "36f06b5d-e5ea-407e-8207-3bc95e708609",
   "metadata": {},
   "source": [
    "### AdaBoost Model Training"
   ]
  },
  {
   "cell_type": "code",
   "execution_count": 191,
   "id": "6b02b7de-6672-400f-9b59-6fe2b3e3d8cd",
   "metadata": {
    "tags": []
   },
   "outputs": [],
   "source": [
    "adaboost_model = AdaBoostClassifier()\n",
    "_ = adaboost_model.fit(X_train, y_train)"
   ]
  },
  {
   "cell_type": "code",
   "execution_count": 192,
   "id": "574b5ccb-aef8-4203-b04a-837c3cf1a111",
   "metadata": {
    "tags": []
   },
   "outputs": [
    {
     "name": "stdout",
     "output_type": "stream",
     "text": [
      "Train acc: 0.7850\n"
     ]
    }
   ],
   "source": [
    "y_pred_train = adaboost_model.predict(X_train)\n",
    "ada_acc = accuracy_score(y_train, y_pred_train)\n",
    "print(f\"Train acc: {accuracy_score(y_train, y_pred_train):.4f}\")"
   ]
  },
  {
   "cell_type": "code",
   "execution_count": 193,
   "id": "2e845058-8a6d-4485-94d5-86406a9cb5ef",
   "metadata": {
    "tags": []
   },
   "outputs": [
    {
     "name": "stdout",
     "output_type": "stream",
     "text": [
      "Test acc: 0.6073\n"
     ]
    }
   ],
   "source": [
    "y_pred_test = adaboost_model.predict(X_test)\n",
    "ada_acc = accuracy_score(y_test, y_pred_test)\n",
    "print(f\"Test acc: {accuracy_score(y_test, y_pred_test):.4f}\")"
   ]
  },
  {
   "cell_type": "code",
   "execution_count": 194,
   "id": "31941ac3-34ab-4289-afba-f4198a33d90d",
   "metadata": {
    "tags": []
   },
   "outputs": [
    {
     "data": {
      "text/plain": [
       "array([[37, 18, 13],\n",
       "       [10, 50,  5],\n",
       "       [21,  8, 29]])"
      ]
     },
     "execution_count": 194,
     "metadata": {},
     "output_type": "execute_result"
    }
   ],
   "source": [
    "confusion_matrix(y_test, y_pred_test)"
   ]
  },
  {
   "cell_type": "code",
   "execution_count": 195,
   "id": "4cc4ddec-eee5-4212-99a2-f9770dd185ba",
   "metadata": {
    "tags": []
   },
   "outputs": [
    {
     "name": "stdout",
     "output_type": "stream",
     "text": [
      "              precision    recall  f1-score   support\n",
      "\n",
      "    Negative       0.54      0.54      0.54        68\n",
      "     Neutral       0.66      0.77      0.71        65\n",
      "    Positive       0.62      0.50      0.55        58\n",
      "\n",
      "    accuracy                           0.61       191\n",
      "   macro avg       0.61      0.60      0.60       191\n",
      "weighted avg       0.60      0.61      0.60       191\n",
      "\n"
     ]
    }
   ],
   "source": [
    "report = classification_report(y_test, y_pred_test)\n",
    "print(report)"
   ]
  },
  {
   "cell_type": "markdown",
   "id": "c53b7b64-a48b-481b-97cc-4dbf97ce9438",
   "metadata": {},
   "source": [
    "### Hyperparameter Tuning"
   ]
  },
  {
   "cell_type": "markdown",
   "id": "54b48e12-e9a0-463c-bad0-f2a369825c34",
   "metadata": {},
   "source": [
    "#### Randomised Search"
   ]
  },
  {
   "cell_type": "code",
   "execution_count": 196,
   "id": "38220657-6b73-4ef3-bd84-b155fa9de590",
   "metadata": {
    "tags": []
   },
   "outputs": [
    {
     "name": "stdout",
     "output_type": "stream",
     "text": [
      "Best Parameters (Random Search): {'algorithm': 'SAMME', 'learning_rate': 0.9287375091519293}\n",
      "Best Score (Accuracy) (Random Search): 0.6608237986270022\n"
     ]
    }
   ],
   "source": [
    "# Define hyperparameter distributions for random search\n",
    "param_dist = {\n",
    "    'learning_rate': uniform(0.1, 1.0),      # Learning rate shrinks the contribution of each classifier\n",
    "    'algorithm': ['SAMME', 'SAMME.R']         # Algorithm to use for boosting\n",
    "}\n",
    "\n",
    "# Initialize AdaBoost Classifier\n",
    "ada_classifier = AdaBoostClassifier()\n",
    "\n",
    "# Initialize RandomizedSearchCV\n",
    "random_search = RandomizedSearchCV(\n",
    "    estimator=ada_classifier,\n",
    "    param_distributions=param_dist,\n",
    "    n_iter=100,                           # Number of iterations\n",
    "    scoring='accuracy',                   # Evaluation metric\n",
    "    cv=5,                                 # Cross-validation folds\n",
    "    random_state=42\n",
    ")\n",
    "\n",
    "# Perform random search\n",
    "random_search.fit(X_train, y_train)\n",
    "\n",
    "# Get best parameters and best score\n",
    "best_params_random = random_search.best_params_\n",
    "best_score_random = random_search.best_score_\n",
    "\n",
    "print(\"Best Parameters (Random Search):\", best_params_random)\n",
    "print(\"Best Score (Accuracy) (Random Search):\", best_score_random)"
   ]
  },
  {
   "cell_type": "code",
   "execution_count": 197,
   "id": "b40c6f1c-48bd-4550-9483-79460723f51e",
   "metadata": {
    "tags": []
   },
   "outputs": [
    {
     "name": "stdout",
     "output_type": "stream",
     "text": [
      "Test acc: 0.6335\n"
     ]
    }
   ],
   "source": [
    "y_pred_test = random_search.predict(X_test)\n",
    "ada_rs_acc = accuracy_score(y_test, y_pred_test)\n",
    "print(f\"Test acc: {accuracy_score(y_test, y_pred_test):.4f}\")"
   ]
  },
  {
   "cell_type": "markdown",
   "id": "c676cc12-893a-49df-89a1-cd59cdc1033d",
   "metadata": {},
   "source": [
    "#### Grid Search"
   ]
  },
  {
   "cell_type": "code",
   "execution_count": 198,
   "id": "5daad347-ac99-43b8-aed2-b4818302e275",
   "metadata": {
    "tags": []
   },
   "outputs": [
    {
     "name": "stdout",
     "output_type": "stream",
     "text": [
      "Best Parameters (Grid Search): {'algorithm': 'SAMME', 'learning_rate': 0.75}\n",
      "Best Score (Accuracy) (Grid Search): 0.6433104500381388\n"
     ]
    }
   ],
   "source": [
    "# Define grid search parameters around the best parameters\n",
    "param_grid = {\n",
    "    'algorithm': ['SAMME'],                  # Algorithm to use for boosting\n",
    "    'learning_rate': [0.7, 0.75, 0.8, 0.85],  # Learning rate shrinks the contribution of each classifier\n",
    "}\n",
    "\n",
    "# Initialize AdaBoost Classifier\n",
    "ada_classifier = AdaBoostClassifier()\n",
    "\n",
    "# Initialize GridSearchCV\n",
    "grid_search = GridSearchCV(\n",
    "    estimator=ada_classifier,\n",
    "    param_grid=param_grid,\n",
    "    scoring='accuracy',    # Evaluation metric\n",
    "    cv=5                   # Cross-validation folds\n",
    ")\n",
    "\n",
    "# Perform grid search\n",
    "grid_search.fit(X_train, y_train)\n",
    "\n",
    "# Get best parameters and best score\n",
    "best_params_grid = grid_search.best_params_\n",
    "best_score_grid = grid_search.best_score_\n",
    "\n",
    "print(\"Best Parameters (Grid Search):\", best_params_grid)\n",
    "print(\"Best Score (Accuracy) (Grid Search):\", best_score_grid)"
   ]
  },
  {
   "cell_type": "code",
   "execution_count": 199,
   "id": "6723cf52-59e4-401d-a7f9-afcc36ae6157",
   "metadata": {
    "tags": []
   },
   "outputs": [
    {
     "name": "stdout",
     "output_type": "stream",
     "text": [
      "Test acc: 0.6230\n"
     ]
    }
   ],
   "source": [
    "y_pred_test = grid_search.predict(X_test)\n",
    "ada_gs_acc = accuracy_score(y_test, y_pred_test)\n",
    "print(f\"Test acc: {accuracy_score(y_test, y_pred_test):.4f}\")"
   ]
  },
  {
   "cell_type": "markdown",
   "id": "834d09c5-3fc5-49b6-8050-f5c8ac705429",
   "metadata": {},
   "source": [
    "### XG Boost"
   ]
  },
  {
   "cell_type": "code",
   "execution_count": 200,
   "id": "a79a6ec5-f492-4453-a108-be4f571fe443",
   "metadata": {
    "tags": []
   },
   "outputs": [
    {
     "ename": "ValueError",
     "evalue": "Invalid classes inferred from unique values of `y`.  Expected: [0 1 2], got ['Negative' 'Neutral' 'Positive']",
     "output_type": "error",
     "traceback": [
      "\u001b[0;31m---------------------------------------------------------------------------\u001b[0m",
      "\u001b[0;31mValueError\u001b[0m                                Traceback (most recent call last)",
      "Cell \u001b[0;32mIn[200], line 2\u001b[0m\n\u001b[1;32m      1\u001b[0m xgb_model \u001b[38;5;241m=\u001b[39m xgb\u001b[38;5;241m.\u001b[39mXGBClassifier()\n\u001b[0;32m----> 2\u001b[0m _ \u001b[38;5;241m=\u001b[39m xgb_model\u001b[38;5;241m.\u001b[39mfit(X_train, y_train)\n",
      "File \u001b[0;32m~/miniconda3/envs/dsp/lib/python3.11/site-packages/xgboost/core.py:620\u001b[0m, in \u001b[0;36mrequire_keyword_args.<locals>.throw_if.<locals>.inner_f\u001b[0;34m(*args, **kwargs)\u001b[0m\n\u001b[1;32m    618\u001b[0m \u001b[38;5;28;01mfor\u001b[39;00m k, arg \u001b[38;5;129;01min\u001b[39;00m \u001b[38;5;28mzip\u001b[39m(sig\u001b[38;5;241m.\u001b[39mparameters, args):\n\u001b[1;32m    619\u001b[0m     kwargs[k] \u001b[38;5;241m=\u001b[39m arg\n\u001b[0;32m--> 620\u001b[0m \u001b[38;5;28;01mreturn\u001b[39;00m func(\u001b[38;5;241m*\u001b[39m\u001b[38;5;241m*\u001b[39mkwargs)\n",
      "File \u001b[0;32m~/miniconda3/envs/dsp/lib/python3.11/site-packages/xgboost/sklearn.py:1440\u001b[0m, in \u001b[0;36mXGBClassifier.fit\u001b[0;34m(self, X, y, sample_weight, base_margin, eval_set, eval_metric, early_stopping_rounds, verbose, xgb_model, sample_weight_eval_set, base_margin_eval_set, feature_weights, callbacks)\u001b[0m\n\u001b[1;32m   1435\u001b[0m     expected_classes \u001b[38;5;241m=\u001b[39m np\u001b[38;5;241m.\u001b[39marange(\u001b[38;5;28mself\u001b[39m\u001b[38;5;241m.\u001b[39mn_classes_)\n\u001b[1;32m   1436\u001b[0m \u001b[38;5;28;01mif\u001b[39;00m (\n\u001b[1;32m   1437\u001b[0m     \u001b[38;5;28mself\u001b[39m\u001b[38;5;241m.\u001b[39mclasses_\u001b[38;5;241m.\u001b[39mshape \u001b[38;5;241m!=\u001b[39m expected_classes\u001b[38;5;241m.\u001b[39mshape\n\u001b[1;32m   1438\u001b[0m     \u001b[38;5;129;01mor\u001b[39;00m \u001b[38;5;129;01mnot\u001b[39;00m (\u001b[38;5;28mself\u001b[39m\u001b[38;5;241m.\u001b[39mclasses_ \u001b[38;5;241m==\u001b[39m expected_classes)\u001b[38;5;241m.\u001b[39mall()\n\u001b[1;32m   1439\u001b[0m ):\n\u001b[0;32m-> 1440\u001b[0m     \u001b[38;5;28;01mraise\u001b[39;00m \u001b[38;5;167;01mValueError\u001b[39;00m(\n\u001b[1;32m   1441\u001b[0m         \u001b[38;5;124mf\u001b[39m\u001b[38;5;124m\"\u001b[39m\u001b[38;5;124mInvalid classes inferred from unique values of `y`.  \u001b[39m\u001b[38;5;124m\"\u001b[39m\n\u001b[1;32m   1442\u001b[0m         \u001b[38;5;124mf\u001b[39m\u001b[38;5;124m\"\u001b[39m\u001b[38;5;124mExpected: \u001b[39m\u001b[38;5;132;01m{\u001b[39;00mexpected_classes\u001b[38;5;132;01m}\u001b[39;00m\u001b[38;5;124m, got \u001b[39m\u001b[38;5;132;01m{\u001b[39;00m\u001b[38;5;28mself\u001b[39m\u001b[38;5;241m.\u001b[39mclasses_\u001b[38;5;132;01m}\u001b[39;00m\u001b[38;5;124m\"\u001b[39m\n\u001b[1;32m   1443\u001b[0m     )\n\u001b[1;32m   1445\u001b[0m params \u001b[38;5;241m=\u001b[39m \u001b[38;5;28mself\u001b[39m\u001b[38;5;241m.\u001b[39mget_xgb_params()\n\u001b[1;32m   1447\u001b[0m \u001b[38;5;28;01mif\u001b[39;00m \u001b[38;5;28mcallable\u001b[39m(\u001b[38;5;28mself\u001b[39m\u001b[38;5;241m.\u001b[39mobjective):\n",
      "\u001b[0;31mValueError\u001b[0m: Invalid classes inferred from unique values of `y`.  Expected: [0 1 2], got ['Negative' 'Neutral' 'Positive']"
     ]
    }
   ],
   "source": [
    "xgb_model = xgb.XGBClassifier()\n",
    "_ = xgb_model.fit(X_train, y_train)"
   ]
  },
  {
   "cell_type": "code",
   "execution_count": null,
   "id": "9af6dbf7-565b-42c3-8468-bbf791aef175",
   "metadata": {},
   "outputs": [
    {
     "name": "stdout",
     "output_type": "stream",
     "text": [
      "Train acc: 0.9983\n"
     ]
    }
   ],
   "source": [
    "y_pred_train = xgb_model.predict(X_train)\n",
    "xg_acc = accuracy_score(y_train, y_pred_train)\n",
    "print(f\"Train acc: {accuracy_score(y_train, y_pred_train):.4f}\")"
   ]
  },
  {
   "cell_type": "code",
   "execution_count": null,
   "id": "d4870ceb-6f3b-4e70-8bcd-0e0d657eca7f",
   "metadata": {
    "tags": []
   },
   "outputs": [
    {
     "name": "stdout",
     "output_type": "stream",
     "text": [
      "Test acc: 0.6335\n"
     ]
    }
   ],
   "source": [
    "y_pred_test = xgb_model.predict(X_test)\n",
    "xg_acc = accuracy_score(y_test, y_pred_test)\n",
    "print(f\"Test acc: {accuracy_score(y_test, y_pred_test):.4f}\")"
   ]
  },
  {
   "cell_type": "code",
   "execution_count": null,
   "id": "6c35aba1-2d6b-4139-9d07-6c084d5d7bb9",
   "metadata": {
    "tags": []
   },
   "outputs": [
    {
     "data": {
      "text/plain": [
       "array([[39, 16, 13],\n",
       "       [10, 47,  8],\n",
       "       [14,  9, 35]], dtype=int64)"
      ]
     },
     "execution_count": 71,
     "metadata": {},
     "output_type": "execute_result"
    }
   ],
   "source": [
    "confusion_matrix(y_test, y_pred_test)"
   ]
  },
  {
   "cell_type": "code",
   "execution_count": null,
   "id": "ecf2509a-7dde-490c-93c6-01d13cd45b2f",
   "metadata": {
    "tags": []
   },
   "outputs": [
    {
     "name": "stdout",
     "output_type": "stream",
     "text": [
      "              precision    recall  f1-score   support\n",
      "\n",
      "    Negative       0.62      0.57      0.60        68\n",
      "     Neutral       0.65      0.72      0.69        65\n",
      "    Positive       0.62      0.60      0.61        58\n",
      "\n",
      "    accuracy                           0.63       191\n",
      "   macro avg       0.63      0.63      0.63       191\n",
      "weighted avg       0.63      0.63      0.63       191\n",
      "\n"
     ]
    }
   ],
   "source": [
    "report = classification_report(y_test, y_pred_test)\n",
    "print(report)"
   ]
  }
 ],
 "metadata": {
  "kernelspec": {
   "display_name": "Python 3 (ipykernel)",
   "language": "python",
   "name": "python3"
  },
  "language_info": {
   "codemirror_mode": {
    "name": "ipython",
    "version": 3
   },
   "file_extension": ".py",
   "mimetype": "text/x-python",
   "name": "python",
   "nbconvert_exporter": "python",
   "pygments_lexer": "ipython3",
   "version": "3.11.7"
  }
 },
 "nbformat": 4,
 "nbformat_minor": 5
}
